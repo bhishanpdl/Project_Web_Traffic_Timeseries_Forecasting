{
 "cells": [
  {
   "cell_type": "markdown",
   "metadata": {
    "tags": [
     "papermill-error-cell-tag"
    ]
   },
   "source": [
    "<span style=\"color:red; font-family:Helvetica Neue, Helvetica, Arial, sans-serif; font-size:2em;\">An Exception was encountered at '<a href=\"#papermill-error-cell\">In [24]</a>'.</span>"
   ]
  },
  {
   "cell_type": "markdown",
   "metadata": {
    "papermill": {
     "duration": 0.020667,
     "end_time": "2020-10-17T18:39:58.504122",
     "exception": false,
     "start_time": "2020-10-17T18:39:58.483455",
     "status": "completed"
    },
    "tags": [],
    "toc": true
   },
   "source": [
    "<h1>Table of Contents<span class=\"tocSkip\"></span></h1>\n",
    "<div class=\"toc\"><ul class=\"toc-item\"><li><span><a href=\"#Data-Description\" data-toc-modified-id=\"Data-Description-1\"><span class=\"toc-item-num\">1&nbsp;&nbsp;</span>Data Description</a></span></li><li><span><a href=\"#Introduction-to-RNN-and-LSTM\" data-toc-modified-id=\"Introduction-to-RNN-and-LSTM-2\"><span class=\"toc-item-num\">2&nbsp;&nbsp;</span>Introduction to RNN and LSTM</a></span></li><li><span><a href=\"#Load-the-libraries\" data-toc-modified-id=\"Load-the-libraries-3\"><span class=\"toc-item-num\">3&nbsp;&nbsp;</span>Load the libraries</a></span></li><li><span><a href=\"#Useful-Functions\" data-toc-modified-id=\"Useful-Functions-4\"><span class=\"toc-item-num\">4&nbsp;&nbsp;</span>Useful Functions</a></span></li><li><span><a href=\"#Load-the-data\" data-toc-modified-id=\"Load-the-data-5\"><span class=\"toc-item-num\">5&nbsp;&nbsp;</span>Load the data</a></span></li><li><span><a href=\"#Modelling-Functions\" data-toc-modified-id=\"Modelling-Functions-6\"><span class=\"toc-item-num\">6&nbsp;&nbsp;</span>Modelling Functions</a></span></li><li><span><a href=\"#Modelling\" data-toc-modified-id=\"Modelling-7\"><span class=\"toc-item-num\">7&nbsp;&nbsp;</span>Modelling</a></span><ul class=\"toc-item\"><li><span><a href=\"#SMAPE-predictions\" data-toc-modified-id=\"SMAPE-predictions-7.1\"><span class=\"toc-item-num\">7.1&nbsp;&nbsp;</span>SMAPE predictions</a></span></li></ul></li></ul></div>"
   ]
  },
  {
   "cell_type": "markdown",
   "metadata": {
    "papermill": {
     "duration": 0.014136,
     "end_time": "2020-10-17T18:39:58.531804",
     "exception": false,
     "start_time": "2020-10-17T18:39:58.517668",
     "status": "completed"
    },
    "tags": []
   },
   "source": [
    "# Data Description\n",
    "\n",
    "Reference: https://www.kaggle.com/c/web-traffic-time-series-forecasting/data\n",
    "\n",
    "```\n",
    "Original data: train_1.csv\n",
    "-----------------------------\n",
    "rows = 145,063\n",
    "columns = 551\n",
    "first column = Page\n",
    "date columns = 2015-07-01, 2015-07-02, ..., 2016-12-31 (550 columns)\n",
    "file size: 284.6 MB\n",
    "\n",
    "```"
   ]
  },
  {
   "cell_type": "markdown",
   "metadata": {
    "papermill": {
     "duration": 0.01362,
     "end_time": "2020-10-17T18:39:58.558675",
     "exception": false,
     "start_time": "2020-10-17T18:39:58.545055",
     "status": "completed"
    },
    "tags": []
   },
   "source": [
    "# Introduction to RNN and LSTM\n",
    "References: \n",
    "- https://www.kaggle.com/thebrownviking20/intro-to-recurrent-neural-networks-lstm-gru\n",
    "- https://www.youtube.com/watch?v=UNmqTiOnRfg&t=3s\n",
    "- https://medium.com/deep-math-machine-learning-ai/chapter-10-1-deepnlp-lstm-long-short-term-memory-networks-with-math-21477f8e4235\n",
    "- https://machinelearningmastery.com/how-to-develop-lstm-models-for-time-series-forecasting/\n",
    "- https://machinelearningmastery.com/time-series-prediction-lstm-recurrent-neural-networks-python-keras/\n",
    "**Recurrent Neural Networks** \n",
    "\n",
    "In a recurrent neural network we store the output activations from one or more of the layers of the network. Often these are hidden later activations. Then, the next time we feed an input example to the network, we include the previously-stored outputs as additional inputs. You can think of the additional inputs as being concatenated to the end of the “normal” inputs to the previous layer. For example, if a hidden layer had 10 regular input nodes and 128 hidden nodes in the layer, then it would actually have 138 total inputs (assuming you are feeding the layer’s outputs into itself à la Elman) rather than into another layer). Of course, the very first time you try to compute the output of the network you’ll need to fill in those extra 128 inputs with 0s or something.\n",
    "\n",
    "![](../images/rnn.png)\n",
    "\n",
    "Now, even though RNNs are quite powerful, they suffer from Vanishing gradient problem which hinders them from using long term information, like they are good for storing memory 3-4 instances of past iterations but larger number of instances don't provide good results so we don't just use regular RNNs. Instead, we use a better variation of RNNs: Long Short Term Networks(LSTM).\n",
    "\n",
    "**What is Vanishing Gradient problem?**  \n",
    "Vanishing gradient problem is a difficulty found in training artificial neural networks with gradient-based learning methods and backpropagation. In such methods, each of the neural network's weights receives an update proportional to the partial derivative of the error function with respect to the current weight in each iteration of training. The problem is that in some cases, the gradient will be vanishingly small, effectively preventing the weight from changing its value. In the worst case, this may completely stop the neural network from further training. As one example of the problem cause, traditional activation functions such as the hyperbolic tangent function have gradients in the range (0, 1), and backpropagation computes gradients by the chain rule. This has the effect of multiplying n of these small numbers to compute gradients of the \"front\" layers in an n-layer network, meaning that the gradient (error signal) decreases exponentially with n while the front layers train very slowly.\n",
    "\n",
    "![](../images/vanishing_gradient.png)\n",
    "\n",
    "**Long Short Term Memory(LSTM)**  \n",
    "Long short-term memory (LSTM) units (or blocks) are a building unit for layers of a recurrent neural network (RNN). A RNN composed of LSTM units is often called an LSTM network. A common LSTM unit is composed of a cell, an input gate, an output gate and a forget gate. The cell is responsible for \"remembering\" values over arbitrary time intervals; hence the word \"memory\" in LSTM. Each of the three gates can be thought of as a \"conventional\" artificial neuron, as in a multi-layer (or feedforward) neural network: that is, they compute an activation (using an activation function) of a weighted sum. Intuitively, they can be thought as regulators of the flow of values that goes through the connections of the LSTM; hence the denotation \"gate\". There are connections between these gates and the cell.\n",
    "\n",
    "The expression long short-term refers to the fact that LSTM is a model for the short-term memory which can last for a long period of time. An LSTM is well-suited to classify, process and predict time series given time lags of unknown size and duration between important events. LSTMs were developed to deal with the exploding and vanishing gradient problem when training traditional RNNs.\n",
    "\n",
    "![](../images/lstm.png)\n",
    "\n",
    "\n",
    "**Components of LSTMs**  \n",
    "So the LSTM cell contains the following components\n",
    "\n",
    "- Forget Gate “f” ( a neural network with sigmoid)\n",
    "- Candidate layer “C\"(a NN with Tanh)\n",
    "- Input Gate “I” ( a NN with sigmoid )\n",
    "- Output Gate “O”( a NN with sigmoid)\n",
    "- Hidden state “H” ( a vector )\n",
    "- Memory state “C” ( a vector)\n",
    "\n",
    "- Inputs to the LSTM cell at any step are Xt (current input) , Ht-1 (previous hidden state ) and Ct-1 (previous memory state).\n",
    "\n",
    "- Outputs from the LSTM cell are Ht (current hidden state ) and Ct (current memory state)\n",
    "\n",
    "**Working of gates in LSTMs**  \n",
    "First, LSTM cell takes the previous memory state Ct-1 and does element wise multiplication with forget gate (f) to decide if present memory state Ct. If forget gate value is 0 then previous memory state is completely forgotten else f forget gate value is 1 then previous memory state is completely passed to the cell ( Remember f gate gives values between 0 and 1 ).\n",
    "\n",
    "Ct = Ct-1 * ft\n",
    "\n",
    "Calculating the new memory state:\n",
    "\n",
    "Ct = Ct + (It * C`t)\n",
    "\n",
    "Now, we calculate the output:\n",
    "\n",
    "Ht = tanh(Ct)"
   ]
  },
  {
   "cell_type": "markdown",
   "metadata": {
    "papermill": {
     "duration": 0.013698,
     "end_time": "2020-10-17T18:39:58.585614",
     "exception": false,
     "start_time": "2020-10-17T18:39:58.571916",
     "status": "completed"
    },
    "tags": []
   },
   "source": [
    "# Load the libraries"
   ]
  },
  {
   "cell_type": "code",
   "execution_count": 1,
   "metadata": {
    "ExecuteTime": {
     "end_time": "2020-10-14T19:16:41.216712Z",
     "start_time": "2020-10-14T19:16:41.133152Z"
    },
    "execution": {
     "iopub.execute_input": "2020-10-17T18:39:58.644260Z",
     "iopub.status.busy": "2020-10-17T18:39:58.643454Z",
     "iopub.status.idle": "2020-10-17T18:40:01.719980Z",
     "shell.execute_reply": "2020-10-17T18:40:01.720415Z"
    },
    "papermill": {
     "duration": 3.12139,
     "end_time": "2020-10-17T18:40:01.720688",
     "exception": false,
     "start_time": "2020-10-17T18:39:58.599298",
     "status": "completed"
    },
    "tags": []
   },
   "outputs": [
    {
     "data": {
      "text/html": [
       "        <script type=\"text/javascript\">\n",
       "        window.PlotlyConfig = {MathJaxConfig: 'local'};\n",
       "        if (window.MathJax) {MathJax.Hub.Config({SVG: {font: \"STIX-Web\"}});}\n",
       "        if (typeof require !== 'undefined') {\n",
       "        require.undef(\"plotly\");\n",
       "        requirejs.config({\n",
       "            paths: {\n",
       "                'plotly': ['https://cdn.plot.ly/plotly-latest.min']\n",
       "            }\n",
       "        });\n",
       "        require(['plotly'], function(Plotly) {\n",
       "            window._Plotly = Plotly;\n",
       "        });\n",
       "        }\n",
       "        </script>\n",
       "        "
      ]
     },
     "metadata": {},
     "output_type": "display_data"
    },
    {
     "name": "stdout",
     "output_type": "stream",
     "text": [
      "Bhishan Poudel 2020-10-17 \n",
      "\n",
      "CPython 3.7.7\n",
      "IPython 7.13.0\n",
      "\n",
      "compiler   : Clang 4.0.1 (tags/RELEASE_401/final)\n",
      "system     : Darwin\n",
      "release    : 19.6.0\n",
      "machine    : x86_64\n",
      "processor  : i386\n",
      "CPU cores  : 4\n",
      "interpreter: 64bit\n",
      "\n",
      "tensorflow 2.3.0\n",
      "numpy      1.19.1\n",
      "matplotlib 3.2.1\n",
      "keras      2.4.3\n",
      "seaborn    0.10.1\n",
      "IPython    7.13.0\n",
      "watermark  2.0.2\n",
      "pandas     1.1.1\n",
      "\n"
     ]
    }
   ],
   "source": [
    "import numpy as np\n",
    "import pandas as pd\n",
    "import seaborn as sns\n",
    "sns.set(color_codes=True)\n",
    "\n",
    "import matplotlib\n",
    "import matplotlib.pyplot as plt\n",
    "%matplotlib inline\n",
    "%config InlineBackend.figure_format = 'retina'\n",
    "sns.set(context='notebook', style='whitegrid', rc={'figure.figsize': (12,8)})\n",
    "plt.style.use('fivethirtyeight') # better than sns styles.\n",
    "matplotlib.rcParams['figure.figsize'] = 12,8\n",
    "\n",
    "import os\n",
    "import time\n",
    "\n",
    "# random state\n",
    "SEED=100\n",
    "np.random.seed(SEED)\n",
    "\n",
    "# Jupyter notebook settings for pandas\n",
    "#pd.set_option('display.float_format', '{:,.2g}'.format) # numbers sep by comma\n",
    "from pandas.api.types import CategoricalDtype\n",
    "np.set_printoptions(precision=3)\n",
    "pd.set_option('display.max_columns', 100)\n",
    "pd.set_option('display.max_rows', 100) # None for all the rows\n",
    "pd.set_option('display.max_colwidth', 200)\n",
    "\n",
    "import IPython\n",
    "from IPython.display import display, HTML, Image, Markdown\n",
    "\n",
    "from sklearn.preprocessing import MinMaxScaler\n",
    "from sklearn.metrics import mean_squared_error\n",
    "from sklearn.model_selection import train_test_split\n",
    "\n",
    "import tensorflow\n",
    "import keras\n",
    "from keras import optimizers\n",
    "from keras.optimizers import SGD\n",
    "from keras.models import Model, Sequential\n",
    "from keras.layers import Dense, LSTM, Dropout, GRU, Bidirectional\n",
    "from keras.layers.convolutional import Conv1D, MaxPooling1D\n",
    "from keras.layers import RepeatVector, TimeDistributed, Flatten\n",
    "from keras.utils import plot_model\n",
    "\n",
    "\n",
    "import plotly.graph_objs as go\n",
    "from plotly.offline import init_notebook_mode, iplot\n",
    "init_notebook_mode(connected=True)\n",
    "\n",
    "# versions\n",
    "import watermark\n",
    "%load_ext watermark\n",
    "%watermark -a \"Bhishan Poudel\" -d -v -m\n",
    "print()\n",
    "%watermark -iv"
   ]
  },
  {
   "cell_type": "code",
   "execution_count": 2,
   "metadata": {
    "ExecuteTime": {
     "end_time": "2020-10-14T19:16:41.224967Z",
     "start_time": "2020-10-14T19:16:41.219924Z"
    },
    "execution": {
     "iopub.execute_input": "2020-10-17T18:40:01.754203Z",
     "iopub.status.busy": "2020-10-17T18:40:01.753556Z",
     "iopub.status.idle": "2020-10-17T18:40:01.997790Z",
     "shell.execute_reply": "2020-10-17T18:40:01.998145Z"
    },
    "papermill": {
     "duration": 0.262935,
     "end_time": "2020-10-17T18:40:01.998314",
     "exception": false,
     "start_time": "2020-10-17T18:40:01.735379",
     "status": "completed"
    },
    "tags": []
   },
   "outputs": [],
   "source": [
    "import sys\n",
    "sys.path.append('../models')\n",
    "\n",
    "from util_prophet import get_smape"
   ]
  },
  {
   "cell_type": "code",
   "execution_count": 3,
   "metadata": {
    "ExecuteTime": {
     "end_time": "2020-10-14T19:16:41.238702Z",
     "start_time": "2020-10-14T19:16:41.232108Z"
    },
    "execution": {
     "iopub.execute_input": "2020-10-17T18:40:02.034284Z",
     "iopub.status.busy": "2020-10-17T18:40:02.033225Z",
     "iopub.status.idle": "2020-10-17T18:40:02.038762Z",
     "shell.execute_reply": "2020-10-17T18:40:02.039581Z"
    },
    "papermill": {
     "duration": 0.027362,
     "end_time": "2020-10-17T18:40:02.040545",
     "exception": false,
     "start_time": "2020-10-17T18:40:02.013183",
     "status": "completed"
    },
    "tags": []
   },
   "outputs": [
    {
     "data": {
      "application/javascript": [
       "IPython.OutputArea.auto_scroll_threshold = 9999;\n"
      ],
      "text/plain": [
       "<IPython.core.display.Javascript object>"
      ]
     },
     "metadata": {},
     "output_type": "display_data"
    }
   ],
   "source": [
    "%%javascript\n",
    "IPython.OutputArea.auto_scroll_threshold = 9999;"
   ]
  },
  {
   "cell_type": "markdown",
   "metadata": {
    "papermill": {
     "duration": 0.015132,
     "end_time": "2020-10-17T18:40:02.074752",
     "exception": false,
     "start_time": "2020-10-17T18:40:02.059620",
     "status": "completed"
    },
    "tags": []
   },
   "source": [
    "# Useful Functions"
   ]
  },
  {
   "cell_type": "code",
   "execution_count": 4,
   "metadata": {
    "ExecuteTime": {
     "end_time": "2020-10-14T19:16:41.252428Z",
     "start_time": "2020-10-14T19:16:41.242423Z"
    },
    "execution": {
     "iopub.execute_input": "2020-10-17T18:40:02.118025Z",
     "iopub.status.busy": "2020-10-17T18:40:02.117158Z",
     "iopub.status.idle": "2020-10-17T18:40:02.119387Z",
     "shell.execute_reply": "2020-10-17T18:40:02.119752Z"
    },
    "papermill": {
     "duration": 0.029651,
     "end_time": "2020-10-17T18:40:02.119919",
     "exception": false,
     "start_time": "2020-10-17T18:40:02.090268",
     "status": "completed"
    },
    "tags": []
   },
   "outputs": [],
   "source": [
    "def show_method_attributes(obj, ncols=7,start=None, inside=None):\n",
    "    \"\"\" Show all the attributes of a given method.\n",
    "    Example:\n",
    "    ========\n",
    "    show_method_attributes(list)\n",
    "     \"\"\"\n",
    "    lst = [elem for elem in dir(obj) if elem[0]!='_' ]\n",
    "    lst = [elem for elem in lst \n",
    "           if elem not in 'os np pd sys time psycopg2'.split() ]\n",
    "\n",
    "    if isinstance(start,str):\n",
    "        lst = [elem for elem in lst if elem.startswith(start)]\n",
    "        \n",
    "    if isinstance(start,tuple) or isinstance(start,list):\n",
    "        lst = [elem for elem in lst for start_elem in start\n",
    "               if elem.startswith(start_elem)]\n",
    "        \n",
    "    if isinstance(inside,str):\n",
    "        lst = [elem for elem in lst if inside in elem]\n",
    "        \n",
    "    if isinstance(inside,tuple) or isinstance(inside,list):\n",
    "        lst = [elem for elem in lst for inside_elem in inside\n",
    "               if inside_elem in elem]\n",
    "\n",
    "    return pd.DataFrame(np.array_split(lst,ncols)).T.fillna('')\n",
    "\n",
    "def set_seed(seed):\n",
    "    import os\n",
    "    import random\n",
    "    import numpy as np\n",
    "    import tensorflow as tf\n",
    "    \n",
    "    os.environ['PYTHONHASHSEED']=str(seed)\n",
    "    tf.random.set_seed(seed)\n",
    "    np.random.seed(seed)\n",
    "    random.seed(seed)"
   ]
  },
  {
   "cell_type": "code",
   "execution_count": 5,
   "metadata": {
    "ExecuteTime": {
     "end_time": "2020-10-14T19:16:41.292817Z",
     "start_time": "2020-10-14T19:16:41.255245Z"
    },
    "execution": {
     "iopub.execute_input": "2020-10-17T18:40:02.166309Z",
     "iopub.status.busy": "2020-10-17T18:40:02.165461Z",
     "iopub.status.idle": "2020-10-17T18:40:02.167648Z",
     "shell.execute_reply": "2020-10-17T18:40:02.168094Z"
    },
    "papermill": {
     "duration": 0.03224,
     "end_time": "2020-10-17T18:40:02.168261",
     "exception": false,
     "start_time": "2020-10-17T18:40:02.136021",
     "status": "completed"
    },
    "tags": []
   },
   "outputs": [],
   "source": [
    "def get_mape(y_true, y_pred):\n",
    "    \"Mean Absolute Percentage Error\"\n",
    "    return np.mean(np.abs((y_true - y_pred) / y_true)) * 100\n",
    "\n",
    "def get_smape(y_true, y_pred):\n",
    "    \"\"\"Symmetric Mean Absolute Percentage Error\n",
    "    \n",
    "    SMAPE = 200 * mean  abs(A-F)             A = actual\n",
    "                        ----------------     F = forecast\n",
    "                        abs(A) + abs(F)\n",
    "                        \n",
    "    This ranges from 0 to 200 with 0 is best and 200 is worst.\n",
    "    \"\"\"\n",
    "    denom = (np.abs(y_true) + np.abs(y_pred))\n",
    "    ratio = np.abs(y_true - y_pred) / denom\n",
    "    ratio[denom == 0] = 0.0\n",
    "    return 200 * np.mean(ratio)\n",
    "\n",
    "def timeseries_evaluation(model_name, desc, ytest, ypreds, df_eval=None,\n",
    "                          show=False,sort_col='SMAPE'):\n",
    "    from statsmodels.tsa.stattools import acf\n",
    "\n",
    "    if df_eval is None:\n",
    "        df_eval = pd.DataFrame({'Model': [],\n",
    "                                'Description':[],\n",
    "                                'MAPE': [],\n",
    "                                'SMAPE': [],\n",
    "                                'RMSE': [],\n",
    "                                'ME': [],\n",
    "                                'MAE': [],\n",
    "                                'MPE': [],\n",
    "                                'CORR': [],\n",
    "                                'MINMAX': [],\n",
    "                                'ACF1': [],\n",
    "                                })\n",
    "\n",
    "    mape = get_mape(ytest,ypreds)   # MAPE\n",
    "    smape = get_smape(ytest,ypreds) # SMAPE\n",
    "    rmse = np.mean((ytest - ypreds)**2)**.5  # RMSE\n",
    "\n",
    "    me = np.mean(ytest - ypreds)             # ME\n",
    "    mae = np.mean(np.abs(ytest - ypreds))    # MAE\n",
    "    mpe = np.mean((ytest - ypreds)/ytest)    # MPE\n",
    "\n",
    "    corr = np.corrcoef(ytest, ypreds)[0, 1]  # corr\n",
    "\n",
    "    mins = np.amin(np.hstack([ytest[:, None],\n",
    "                              ypreds[:, None]]), axis=1)\n",
    "    maxs = np.amax(np.hstack([ytest[:, None],\n",
    "                              ypreds[:, None]]), axis=1)\n",
    "    minmax = 1 - np.mean(mins/maxs)             # minmax\n",
    "\n",
    "    acf1 = acf(ytest-ypreds, fft=False)[1]    # ACF1 (autocorrelation function)\n",
    "\n",
    "    row = [model_name, desc, mape, smape,rmse, me,mae,mpe,corr,minmax,acf1]\n",
    "\n",
    "    df_eval.loc[len(df_eval)] = row\n",
    "    df_eval = df_eval.drop_duplicates(['Model','Description'])\n",
    "    \n",
    "    asc, cmap = True, 'Greens_r'\n",
    "    \n",
    "    if sort_col == 'RMSE':\n",
    "        asc = False\n",
    "        cmap = 'Greens'\n",
    "\n",
    "    if sort_col == 'SMAPE':\n",
    "        asc = True\n",
    "        cmap = 'Greens_r'\n",
    "\n",
    "    df_eval = df_eval.sort_values(sort_col,ascending=asc)\n",
    "    df_eval = df_eval.reset_index(drop=True)\n",
    "\n",
    "    if show:\n",
    "        df_eval_style = (df_eval.style\n",
    "                         .format({'MAPE': \"{:,.0f}\",\n",
    "                                  'SMAPE': \"{:,.4f}\",\n",
    "                                  'RMSE': \"{:,.0f}\",\n",
    "                                  'ME': \"{:,.0f}\",\n",
    "                                  'MAE': \"{:,.0f}\",\n",
    "                                  'MPE': \"{:,.0f}\",\n",
    "                                  'CORR': \"{:,.4f}\",\n",
    "                                  'MINMAX': \"{:,.4f}\",\n",
    "                                  'ACF1': \"{:,.4f}\"\n",
    "                                 })\n",
    "                         .background_gradient(subset=[sort_col],cmap=cmap)\n",
    "                        )\n",
    "        display(df_eval_style)\n",
    "    return df_eval\n",
    "\n",
    "df_eval = None"
   ]
  },
  {
   "cell_type": "markdown",
   "metadata": {
    "papermill": {
     "duration": 0.015641,
     "end_time": "2020-10-17T18:40:02.200337",
     "exception": false,
     "start_time": "2020-10-17T18:40:02.184696",
     "status": "completed"
    },
    "tags": []
   },
   "source": [
    "# Load the data"
   ]
  },
  {
   "cell_type": "code",
   "execution_count": 6,
   "metadata": {
    "ExecuteTime": {
     "end_time": "2020-10-14T19:16:50.616872Z",
     "start_time": "2020-10-14T19:16:41.315924Z"
    },
    "execution": {
     "iopub.execute_input": "2020-10-17T18:40:02.236113Z",
     "iopub.status.busy": "2020-10-17T18:40:02.235307Z",
     "iopub.status.idle": "2020-10-17T18:40:10.769625Z",
     "shell.execute_reply": "2020-10-17T18:40:10.769204Z"
    },
    "papermill": {
     "duration": 8.554757,
     "end_time": "2020-10-17T18:40:10.769777",
     "exception": false,
     "start_time": "2020-10-17T18:40:02.215020",
     "status": "completed"
    },
    "tags": []
   },
   "outputs": [
    {
     "name": "stdout",
     "output_type": "stream",
     "text": [
      "(366, 1)\n",
      "CPU times: user 7.63 s, sys: 745 ms, total: 8.37 s\n",
      "Wall time: 8.53 s\n"
     ]
    },
    {
     "data": {
      "text/html": [
       "<div>\n",
       "<style scoped>\n",
       "    .dataframe tbody tr th:only-of-type {\n",
       "        vertical-align: middle;\n",
       "    }\n",
       "\n",
       "    .dataframe tbody tr th {\n",
       "        vertical-align: top;\n",
       "    }\n",
       "\n",
       "    .dataframe thead th {\n",
       "        text-align: right;\n",
       "    }\n",
       "</style>\n",
       "<table border=\"1\" class=\"dataframe\">\n",
       "  <thead>\n",
       "    <tr style=\"text-align: right;\">\n",
       "      <th></th>\n",
       "      <th>visits</th>\n",
       "    </tr>\n",
       "    <tr>\n",
       "      <th>date</th>\n",
       "      <th></th>\n",
       "    </tr>\n",
       "  </thead>\n",
       "  <tbody>\n",
       "    <tr>\n",
       "      <th>2016-01-01</th>\n",
       "      <td>20947.0</td>\n",
       "    </tr>\n",
       "    <tr>\n",
       "      <th>2016-01-02</th>\n",
       "      <td>19466.0</td>\n",
       "    </tr>\n",
       "    <tr>\n",
       "      <th>2016-01-03</th>\n",
       "      <td>8587.0</td>\n",
       "    </tr>\n",
       "    <tr>\n",
       "      <th>2016-01-04</th>\n",
       "      <td>7386.0</td>\n",
       "    </tr>\n",
       "    <tr>\n",
       "      <th>2016-01-05</th>\n",
       "      <td>7719.0</td>\n",
       "    </tr>\n",
       "  </tbody>\n",
       "</table>\n",
       "</div>"
      ],
      "text/plain": [
       "             visits\n",
       "date               \n",
       "2016-01-01  20947.0\n",
       "2016-01-02  19466.0\n",
       "2016-01-03   8587.0\n",
       "2016-01-04   7386.0\n",
       "2016-01-05   7719.0"
      ]
     },
     "execution_count": 6,
     "metadata": {},
     "output_type": "execute_result"
    }
   ],
   "source": [
    "%%time\n",
    "\n",
    "df = pd.read_csv('../data/train_1.csv.zip',compression='zip')\n",
    "cond = df['Page'] == \"Prince_(musician)_en.wikipedia.org_all-access_all-agents\"\n",
    "df = df.loc[cond]\n",
    "\n",
    "df = df.filter(regex=\"Page|2016\")\n",
    "df = df.melt(id_vars=['Page'],var_name='date',value_name='visits').drop('Page',axis=1)\n",
    "df['date'] = pd.to_datetime(df['date'])\n",
    "df = df.set_index('date')\n",
    "\n",
    "print(df.shape)\n",
    "df.head()"
   ]
  },
  {
   "cell_type": "code",
   "execution_count": 7,
   "metadata": {
    "ExecuteTime": {
     "end_time": "2020-10-14T19:16:50.630643Z",
     "start_time": "2020-10-14T19:16:50.620442Z"
    },
    "execution": {
     "iopub.execute_input": "2020-10-17T18:40:10.808174Z",
     "iopub.status.busy": "2020-10-17T18:40:10.807435Z",
     "iopub.status.idle": "2020-10-17T18:40:10.810882Z",
     "shell.execute_reply": "2020-10-17T18:40:10.810476Z"
    },
    "papermill": {
     "duration": 0.025921,
     "end_time": "2020-10-17T18:40:10.811025",
     "exception": false,
     "start_time": "2020-10-17T18:40:10.785104",
     "status": "completed"
    },
    "tags": []
   },
   "outputs": [
    {
     "data": {
      "text/plain": [
       "date\n",
       "2016-01-01    20947.0\n",
       "2016-01-02    19466.0\n",
       "2016-01-03     8587.0\n",
       "2016-01-04     7386.0\n",
       "2016-01-05     7719.0\n",
       "Name: visits, dtype: float32"
      ]
     },
     "execution_count": 7,
     "metadata": {},
     "output_type": "execute_result"
    }
   ],
   "source": [
    "ts = df['visits'].astype(np.float32)\n",
    "\n",
    "ts.index = pd.to_datetime(ts.index,format='%Y-%m-%d')\n",
    "ts.head()"
   ]
  },
  {
   "cell_type": "code",
   "execution_count": 8,
   "metadata": {
    "ExecuteTime": {
     "end_time": "2020-10-14T19:16:51.312288Z",
     "start_time": "2020-10-14T19:16:50.634883Z"
    },
    "execution": {
     "iopub.execute_input": "2020-10-17T18:40:10.846334Z",
     "iopub.status.busy": "2020-10-17T18:40:10.845721Z",
     "iopub.status.idle": "2020-10-17T18:40:11.378239Z",
     "shell.execute_reply": "2020-10-17T18:40:11.378590Z"
    },
    "papermill": {
     "duration": 0.551382,
     "end_time": "2020-10-17T18:40:11.378759",
     "exception": false,
     "start_time": "2020-10-17T18:40:10.827377",
     "status": "completed"
    },
    "tags": []
   },
   "outputs": [
    {
     "data": {
      "text/plain": [
       "<matplotlib.axes._subplots.AxesSubplot at 0x7fb52832ee50>"
      ]
     },
     "execution_count": 8,
     "metadata": {},
     "output_type": "execute_result"
    },
    {
     "data": {
      "image/png": "[encoded data removed]",
      "text/plain": [
       "<Figure size 864x576 with 1 Axes>"
      ]
     },
     "metadata": {
      "image/png": {
       "height": 538,
       "width": 781
      }
     },
     "output_type": "display_data"
    }
   ],
   "source": [
    "ts.plot()"
   ]
  },
  {
   "cell_type": "code",
   "execution_count": 9,
   "metadata": {
    "ExecuteTime": {
     "end_time": "2020-10-14T19:16:51.370557Z",
     "start_time": "2020-10-14T19:16:51.316455Z"
    },
    "execution": {
     "iopub.execute_input": "2020-10-17T18:40:11.421014Z",
     "iopub.status.busy": "2020-10-17T18:40:11.420219Z",
     "iopub.status.idle": "2020-10-17T18:40:12.018306Z",
     "shell.execute_reply": "2020-10-17T18:40:12.019218Z"
    },
    "papermill": {
     "duration": 0.621237,
     "end_time": "2020-10-17T18:40:12.019510",
     "exception": false,
     "start_time": "2020-10-17T18:40:11.398273",
     "status": "completed"
    },
    "tags": []
   },
   "outputs": [
    {
     "data": {
      "application/vnd.plotly.v1+json": {
       "config": {
        "linkText": "Export to plot.ly",
        "plotlyServerURL": "https://plot.ly",
        "showLink": false
       },
       "data": [
        {
         "type": "scatter",
         "x": [
          "2016-01-01T00:00:00",
          "2016-01-02T00:00:00",
          "2016-01-03T00:00:00",
          "2016-01-04T00:00:00",
          "2016-01-05T00:00:00",
          "2016-01-06T00:00:00",
          "2016-01-07T00:00:00",
          "2016-01-08T00:00:00",
          "2016-01-09T00:00:00",
          "2016-01-10T00:00:00",
          "2016-01-11T00:00:00",
          "2016-01-12T00:00:00",
          "2016-01-13T00:00:00",
          "2016-01-14T00:00:00",
          "2016-01-15T00:00:00",
          "2016-01-16T00:00:00",
          "2016-01-17T00:00:00",
          "2016-01-18T00:00:00",
          "2016-01-19T00:00:00",
          "2016-01-20T00:00:00",
          "2016-01-21T00:00:00",
          "2016-01-22T00:00:00",
          "2016-01-23T00:00:00",
          "2016-01-24T00:00:00",
          "2016-01-25T00:00:00",
          "2016-01-26T00:00:00",
          "2016-01-27T00:00:00",
          "2016-01-28T00:00:00",
          "2016-01-29T00:00:00",
          "2016-01-30T00:00:00",
          "2016-01-31T00:00:00",
          "2016-02-01T00:00:00",
          "2016-02-02T00:00:00",
          "2016-02-03T00:00:00",
          "2016-02-04T00:00:00",
          "2016-02-05T00:00:00",
          "2016-02-06T00:00:00",
          "2016-02-07T00:00:00",
          "2016-02-08T00:00:00",
          "2016-02-09T00:00:00",
          "2016-02-10T00:00:00",
          "2016-02-11T00:00:00",
          "2016-02-12T00:00:00",
          "2016-02-13T00:00:00",
          "2016-02-14T00:00:00",
          "2016-02-15T00:00:00",
          "2016-02-16T00:00:00",
          "2016-02-17T00:00:00",
          "2016-02-18T00:00:00",
          "2016-02-19T00:00:00",
          "2016-02-20T00:00:00",
          "2016-02-21T00:00:00",
          "2016-02-22T00:00:00",
          "2016-02-23T00:00:00",
          "2016-02-24T00:00:00",
          "2016-02-25T00:00:00",
          "2016-02-26T00:00:00",
          "2016-02-27T00:00:00",
          "2016-02-28T00:00:00",
          "2016-02-29T00:00:00",
          "2016-03-01T00:00:00",
          "2016-03-02T00:00:00",
          "2016-03-03T00:00:00",
          "2016-03-04T00:00:00",
          "2016-03-05T00:00:00",
          "2016-03-06T00:00:00",
          "2016-03-07T00:00:00",
          "2016-03-08T00:00:00",
          "2016-03-09T00:00:00",
          "2016-03-10T00:00:00",
          "2016-03-11T00:00:00",
          "2016-03-12T00:00:00",
          "2016-03-13T00:00:00",
          "2016-03-14T00:00:00",
          "2016-03-15T00:00:00",
          "2016-03-16T00:00:00",
          "2016-03-17T00:00:00",
          "2016-03-18T00:00:00",
          "2016-03-19T00:00:00",
          "2016-03-20T00:00:00",
          "2016-03-21T00:00:00",
          "2016-03-22T00:00:00",
          "2016-03-23T00:00:00",
          "2016-03-24T00:00:00",
          "2016-03-25T00:00:00",
          "2016-03-26T00:00:00",
          "2016-03-27T00:00:00",
          "2016-03-28T00:00:00",
          "2016-03-29T00:00:00",
          "2016-03-30T00:00:00",
          "2016-03-31T00:00:00",
          "2016-04-01T00:00:00",
          "2016-04-02T00:00:00",
          "2016-04-03T00:00:00",
          "2016-04-04T00:00:00",
          "2016-04-05T00:00:00",
          "2016-04-06T00:00:00",
          "2016-04-07T00:00:00",
          "2016-04-08T00:00:00",
          "2016-04-09T00:00:00",
          "2016-04-10T00:00:00",
          "2016-04-11T00:00:00",
          "2016-04-12T00:00:00",
          "2016-04-13T00:00:00",
          "2016-04-14T00:00:00",
          "2016-04-15T00:00:00",
          "2016-04-16T00:00:00",
          "2016-04-17T00:00:00",
          "2016-04-18T00:00:00",
          "2016-04-19T00:00:00",
          "2016-04-20T00:00:00",
          "2016-04-21T00:00:00",
          "2016-04-22T00:00:00",
          "2016-04-23T00:00:00",
          "2016-04-24T00:00:00",
          "2016-04-25T00:00:00",
          "2016-04-26T00:00:00",
          "2016-04-27T00:00:00",
          "2016-04-28T00:00:00",
          "2016-04-29T00:00:00",
          "2016-04-30T00:00:00",
          "2016-05-01T00:00:00",
          "2016-05-02T00:00:00",
          "2016-05-03T00:00:00",
          "2016-05-04T00:00:00",
          "2016-05-05T00:00:00",
          "2016-05-06T00:00:00",
          "2016-05-07T00:00:00",
          "2016-05-08T00:00:00",
          "2016-05-09T00:00:00",
          "2016-05-10T00:00:00",
          "2016-05-11T00:00:00",
          "2016-05-12T00:00:00",
          "2016-05-13T00:00:00",
          "2016-05-14T00:00:00",
          "2016-05-15T00:00:00",
          "2016-05-16T00:00:00",
          "2016-05-17T00:00:00",
          "2016-05-18T00:00:00",
          "2016-05-19T00:00:00",
          "2016-05-20T00:00:00",
          "2016-05-21T00:00:00",
          "2016-05-22T00:00:00",
          "2016-05-23T00:00:00",
          "2016-05-24T00:00:00",
          "2016-05-25T00:00:00",
          "2016-05-26T00:00:00",
          "2016-05-27T00:00:00",
          "2016-05-28T00:00:00",
          "2016-05-29T00:00:00",
          "2016-05-30T00:00:00",
          "2016-05-31T00:00:00",
          "2016-06-01T00:00:00",
          "2016-06-02T00:00:00",
          "2016-06-03T00:00:00",
          "2016-06-04T00:00:00",
          "2016-06-05T00:00:00",
          "2016-06-06T00:00:00",
          "2016-06-07T00:00:00",
          "2016-06-08T00:00:00",
          "2016-06-09T00:00:00",
          "2016-06-10T00:00:00",
          "2016-06-11T00:00:00",
          "2016-06-12T00:00:00",
          "2016-06-13T00:00:00",
          "2016-06-14T00:00:00",
          "2016-06-15T00:00:00",
          "2016-06-16T00:00:00",
          "2016-06-17T00:00:00",
          "2016-06-18T00:00:00",
          "2016-06-19T00:00:00",
          "2016-06-20T00:00:00",
          "2016-06-21T00:00:00",
          "2016-06-22T00:00:00",
          "2016-06-23T00:00:00",
          "2016-06-24T00:00:00",
          "2016-06-25T00:00:00",
          "2016-06-26T00:00:00",
          "2016-06-27T00:00:00",
          "2016-06-28T00:00:00",
          "2016-06-29T00:00:00",
          "2016-06-30T00:00:00",
          "2016-07-01T00:00:00",
          "2016-07-02T00:00:00",
          "2016-07-03T00:00:00",
          "2016-07-04T00:00:00",
          "2016-07-05T00:00:00",
          "2016-07-06T00:00:00",
          "2016-07-07T00:00:00",
          "2016-07-08T00:00:00",
          "2016-07-09T00:00:00",
          "2016-07-10T00:00:00",
          "2016-07-11T00:00:00",
          "2016-07-12T00:00:00",
          "2016-07-13T00:00:00",
          "2016-07-14T00:00:00",
          "2016-07-15T00:00:00",
          "2016-07-16T00:00:00",
          "2016-07-17T00:00:00",
          "2016-07-18T00:00:00",
          "2016-07-19T00:00:00",
          "2016-07-20T00:00:00",
          "2016-07-21T00:00:00",
          "2016-07-22T00:00:00",
          "2016-07-23T00:00:00",
          "2016-07-24T00:00:00",
          "2016-07-25T00:00:00",
          "2016-07-26T00:00:00",
          "2016-07-27T00:00:00",
          "2016-07-28T00:00:00",
          "2016-07-29T00:00:00",
          "2016-07-30T00:00:00",
          "2016-07-31T00:00:00",
          "2016-08-01T00:00:00",
          "2016-08-02T00:00:00",
          "2016-08-03T00:00:00",
          "2016-08-04T00:00:00",
          "2016-08-05T00:00:00",
          "2016-08-06T00:00:00",
          "2016-08-07T00:00:00",
          "2016-08-08T00:00:00",
          "2016-08-09T00:00:00",
          "2016-08-10T00:00:00",
          "2016-08-11T00:00:00",
          "2016-08-12T00:00:00",
          "2016-08-13T00:00:00",
          "2016-08-14T00:00:00",
          "2016-08-15T00:00:00",
          "2016-08-16T00:00:00",
          "2016-08-17T00:00:00",
          "2016-08-18T00:00:00",
          "2016-08-19T00:00:00",
          "2016-08-20T00:00:00",
          "2016-08-21T00:00:00",
          "2016-08-22T00:00:00",
          "2016-08-23T00:00:00",
          "2016-08-24T00:00:00",
          "2016-08-25T00:00:00",
          "2016-08-26T00:00:00",
          "2016-08-27T00:00:00",
          "2016-08-28T00:00:00",
          "2016-08-29T00:00:00",
          "2016-08-30T00:00:00",
          "2016-08-31T00:00:00",
          "2016-09-01T00:00:00",
          "2016-09-02T00:00:00",
          "2016-09-03T00:00:00",
          "2016-09-04T00:00:00",
          "2016-09-05T00:00:00",
          "2016-09-06T00:00:00",
          "2016-09-07T00:00:00",
          "2016-09-08T00:00:00",
          "2016-09-09T00:00:00",
          "2016-09-10T00:00:00",
          "2016-09-11T00:00:00",
          "2016-09-12T00:00:00",
          "2016-09-13T00:00:00",
          "2016-09-14T00:00:00",
          "2016-09-15T00:00:00",
          "2016-09-16T00:00:00",
          "2016-09-17T00:00:00",
          "2016-09-18T00:00:00",
          "2016-09-19T00:00:00",
          "2016-09-20T00:00:00",
          "2016-09-21T00:00:00",
          "2016-09-22T00:00:00",
          "2016-09-23T00:00:00",
          "2016-09-24T00:00:00",
          "2016-09-25T00:00:00",
          "2016-09-26T00:00:00",
          "2016-09-27T00:00:00",
          "2016-09-28T00:00:00",
          "2016-09-29T00:00:00",
          "2016-09-30T00:00:00",
          "2016-10-01T00:00:00",
          "2016-10-02T00:00:00",
          "2016-10-03T00:00:00",
          "2016-10-04T00:00:00",
          "2016-10-05T00:00:00",
          "2016-10-06T00:00:00",
          "2016-10-07T00:00:00",
          "2016-10-08T00:00:00",
          "2016-10-09T00:00:00",
          "2016-10-10T00:00:00",
          "2016-10-11T00:00:00",
          "2016-10-12T00:00:00",
          "2016-10-13T00:00:00",
          "2016-10-14T00:00:00",
          "2016-10-15T00:00:00",
          "2016-10-16T00:00:00",
          "2016-10-17T00:00:00",
          "2016-10-18T00:00:00",
          "2016-10-19T00:00:00",
          "2016-10-20T00:00:00",
          "2016-10-21T00:00:00",
          "2016-10-22T00:00:00",
          "2016-10-23T00:00:00",
          "2016-10-24T00:00:00",
          "2016-10-25T00:00:00",
          "2016-10-26T00:00:00",
          "2016-10-27T00:00:00",
          "2016-10-28T00:00:00",
          "2016-10-29T00:00:00",
          "2016-10-30T00:00:00",
          "2016-10-31T00:00:00",
          "2016-11-01T00:00:00",
          "2016-11-02T00:00:00",
          "2016-11-03T00:00:00",
          "2016-11-04T00:00:00",
          "2016-11-05T00:00:00",
          "2016-11-06T00:00:00",
          "2016-11-07T00:00:00",
          "2016-11-08T00:00:00",
          "2016-11-09T00:00:00",
          "2016-11-10T00:00:00",
          "2016-11-11T00:00:00",
          "2016-11-12T00:00:00",
          "2016-11-13T00:00:00",
          "2016-11-14T00:00:00",
          "2016-11-15T00:00:00",
          "2016-11-16T00:00:00",
          "2016-11-17T00:00:00",
          "2016-11-18T00:00:00",
          "2016-11-19T00:00:00",
          "2016-11-20T00:00:00",
          "2016-11-21T00:00:00",
          "2016-11-22T00:00:00",
          "2016-11-23T00:00:00",
          "2016-11-24T00:00:00",
          "2016-11-25T00:00:00",
          "2016-11-26T00:00:00",
          "2016-11-27T00:00:00",
          "2016-11-28T00:00:00",
          "2016-11-29T00:00:00",
          "2016-11-30T00:00:00",
          "2016-12-01T00:00:00",
          "2016-12-02T00:00:00",
          "2016-12-03T00:00:00",
          "2016-12-04T00:00:00",
          "2016-12-05T00:00:00",
          "2016-12-06T00:00:00",
          "2016-12-07T00:00:00",
          "2016-12-08T00:00:00",
          "2016-12-09T00:00:00",
          "2016-12-10T00:00:00",
          "2016-12-11T00:00:00",
          "2016-12-12T00:00:00",
          "2016-12-13T00:00:00",
          "2016-12-14T00:00:00",
          "2016-12-15T00:00:00",
          "2016-12-16T00:00:00",
          "2016-12-17T00:00:00",
          "2016-12-18T00:00:00",
          "2016-12-19T00:00:00",
          "2016-12-20T00:00:00",
          "2016-12-21T00:00:00",
          "2016-12-22T00:00:00",
          "2016-12-23T00:00:00",
          "2016-12-24T00:00:00",
          "2016-12-25T00:00:00",
          "2016-12-26T00:00:00",
          "2016-12-27T00:00:00",
          "2016-12-28T00:00:00",
          "2016-12-29T00:00:00",
          "2016-12-30T00:00:00",
          "2016-12-31T00:00:00"
         ],
         "y": [
          20947.0,
          19466.0,
          8587.0,
          7386.0,
          7719.0,
          7156.0,
          7713.0,
          8658.0,
          9137.0,
          8855.0,
          9034.0,
          8435.0,
          7047.0,
          7607.0,
          7878.0,
          9328.0,
          9060.0,
          7918.0,
          7317.0,
          7078.0,
          7416.0,
          10868.0,
          9382.0,
          10249.0,
          7718.0,
          7469.0,
          7279.0,
          7483.0,
          7804.0,
          8111.0,
          8241.0,
          8075.0,
          7255.0,
          7421.0,
          7542.0,
          11329.0,
          35763.0,
          12451.0,
          12890.0,
          10050.0,
          9330.0,
          9535.0,
          11704.0,
          9491.0,
          8522.0,
          8145.0,
          42915.0,
          27180.0,
          24578.0,
          17874.0,
          14381.0,
          18357.0,
          11835.0,
          10425.0,
          12977.0,
          14168.0,
          10461.0,
          8953.0,
          9905.0,
          8531.0,
          8889.0,
          7749.0,
          7953.0,
          25453.0,
          15615.0,
          12651.0,
          9092.0,
          7657.0,
          7864.0,
          7986.0,
          9236.0,
          7904.0,
          10072.0,
          11748.0,
          9016.0,
          7142.0,
          7326.0,
          7334.0,
          15005.0,
          15680.0,
          11512.0,
          9502.0,
          8885.0,
          11865.0,
          8834.0,
          10689.0,
          9685.0,
          7636.0,
          6959.0,
          7655.0,
          7546.0,
          7135.0,
          11617.0,
          11326.0,
          9564.0,
          9530.0,
          8921.0,
          7511.0,
          7502.0,
          8226.0,
          7807.0,
          8982.0,
          8105.0,
          6634.0,
          6743.0,
          20390.0,
          44025.0,
          14142.0,
          10651.0,
          10688.0,
          7982.0,
          5816910.0,
          5474449.0,
          2067069.0,
          1419882.0,
          853381.0,
          557974.0,
          402390.0,
          330985.0,
          238633.0,
          204607.0,
          183592.0,
          153543.0,
          120617.0,
          106082.0,
          98250.0,
          80195.0,
          74317.0,
          72180.0,
          66809.0,
          66219.0,
          67435.0,
          53118.0,
          47064.0,
          43666.0,
          64833.0,
          44086.0,
          37550.0,
          33057.0,
          31505.0,
          31033.0,
          29457.0,
          32119.0,
          58303.0,
          31886.0,
          27964.0,
          26797.0,
          24436.0,
          24194.0,
          24683.0,
          24106.0,
          22101.0,
          20469.0,
          44299.0,
          45616.0,
          35278.0,
          27550.0,
          26378.0,
          56425.0,
          47209.0,
          25364.0,
          18571.0,
          17658.0,
          17149.0,
          15965.0,
          14489.0,
          13981.0,
          14026.0,
          20303.0,
          15941.0,
          14140.0,
          14036.0,
          13256.0,
          15881.0,
          13876.0,
          11426.0,
          12892.0,
          14935.0,
          32401.0,
          17056.0,
          13221.0,
          11774.0,
          13725.0,
          12490.0,
          12931.0,
          12079.0,
          12317.0,
          10885.0,
          10806.0,
          10142.0,
          10236.0,
          10248.0,
          10562.0,
          9162.0,
          9125.0,
          8831.0,
          8686.0,
          8781.0,
          9802.0,
          8930.0,
          8273.0,
          8141.0,
          7856.0,
          8122.0,
          8366.0,
          8365.0,
          8155.0,
          7840.0,
          8636.0,
          8722.0,
          9712.0,
          12136.0,
          9669.0,
          8894.0,
          8452.0,
          8112.0,
          7882.0,
          8077.0,
          7470.0,
          8081.0,
          7828.0,
          7414.0,
          7295.0,
          7573.0,
          7175.0,
          7103.0,
          7612.0,
          7690.0,
          7548.0,
          7273.0,
          8154.0,
          7450.0,
          7548.0,
          8602.0,
          10824.0,
          9355.0,
          8829.0,
          10292.0,
          9527.0,
          8649.0,
          9035.0,
          10118.0,
          9331.0,
          8122.0,
          8250.0,
          8817.0,
          9890.0,
          8511.0,
          8533.0,
          8015.0,
          7308.0,
          7620.0,
          7462.0,
          7822.0,
          8066.0,
          7394.0,
          7399.0,
          8577.0,
          8230.0,
          8019.0,
          8078.0,
          7846.0,
          11882.0,
          8434.0,
          7722.0,
          7782.0,
          7696.0,
          7758.0,
          8337.0,
          7674.0,
          6899.0,
          7104.0,
          7446.0,
          7783.0,
          7330.0,
          7847.0,
          8247.0,
          7742.0,
          13292.0,
          10715.0,
          9028.0,
          8511.0,
          8437.0,
          7472.0,
          7751.0,
          8242.0,
          9753.0,
          9669.0,
          8680.0,
          8404.0,
          8377.0,
          7819.0,
          7989.0,
          7981.0,
          10534.0,
          9490.0,
          10793.0,
          9149.0,
          8715.0,
          8573.0,
          10194.0,
          8359.0,
          8135.0,
          8631.0,
          8655.0,
          8317.0,
          8432.0,
          8178.0,
          10661.0,
          8672.0,
          9616.0,
          8445.0,
          7832.0,
          7201.0,
          7435.0,
          9198.0,
          8474.0,
          10774.0,
          9190.0,
          8220.0,
          8744.0,
          10619.0,
          12532.0,
          10791.0,
          9323.0,
          22885.0,
          10711.0,
          9349.0,
          9880.0,
          10420.0,
          11213.0,
          16069.0,
          11077.0,
          11055.0,
          9930.0,
          10507.0,
          10964.0,
          10104.0,
          10321.0,
          10005.0,
          9909.0,
          10521.0,
          11002.0,
          11153.0,
          13712.0,
          15153.0,
          10304.0,
          10504.0,
          12701.0,
          14971.0,
          12159.0,
          10778.0,
          11292.0,
          10883.0,
          9788.0,
          9856.0,
          13222.0,
          11297.0,
          15963.0,
          17002.0,
          49774.0,
          34560.0,
          31090.0,
          22827.0,
          19956.0,
          31446.0
         ]
        }
       ],
       "layout": {
        "template": {
         "data": {
          "bar": [
           {
            "error_x": {
             "color": "#2a3f5f"
            },
            "error_y": {
             "color": "#2a3f5f"
            },
            "marker": {
             "line": {
              "color": "#E5ECF6",
              "width": 0.5
             }
            },
            "type": "bar"
           }
          ],
          "barpolar": [
           {
            "marker": {
             "line": {
              "color": "#E5ECF6",
              "width": 0.5
             }
            },
            "type": "barpolar"
           }
          ],
          "carpet": [
           {
            "aaxis": {
             "endlinecolor": "#2a3f5f",
             "gridcolor": "white",
             "linecolor": "white",
             "minorgridcolor": "white",
             "startlinecolor": "#2a3f5f"
            },
            "baxis": {
             "endlinecolor": "#2a3f5f",
             "gridcolor": "white",
             "linecolor": "white",
             "minorgridcolor": "white",
             "startlinecolor": "#2a3f5f"
            },
            "type": "carpet"
           }
          ],
          "choropleth": [
           {
            "colorbar": {
             "outlinewidth": 0,
             "ticks": ""
            },
            "type": "choropleth"
           }
          ],
          "contour": [
           {
            "colorbar": {
             "outlinewidth": 0,
             "ticks": ""
            },
            "colorscale": [
             [
              0.0,
              "#0d0887"
             ],
             [
              0.1111111111111111,
              "#46039f"
             ],
             [
              0.2222222222222222,
              "#7201a8"
             ],
             [
              0.3333333333333333,
              "#9c179e"
             ],
             [
              0.4444444444444444,
              "#bd3786"
             ],
             [
              0.5555555555555556,
              "#d8576b"
             ],
             [
              0.6666666666666666,
              "#ed7953"
             ],
             [
              0.7777777777777778,
              "#fb9f3a"
             ],
             [
              0.8888888888888888,
              "#fdca26"
             ],
             [
              1.0,
              "#f0f921"
             ]
            ],
            "type": "contour"
           }
          ],
          "contourcarpet": [
           {
            "colorbar": {
             "outlinewidth": 0,
             "ticks": ""
            },
            "type": "contourcarpet"
           }
          ],
          "heatmap": [
           {
            "colorbar": {
             "outlinewidth": 0,
             "ticks": ""
            },
            "colorscale": [
             [
              0.0,
              "#0d0887"
             ],
             [
              0.1111111111111111,
              "#46039f"
             ],
             [
              0.2222222222222222,
              "#7201a8"
             ],
             [
              0.3333333333333333,
              "#9c179e"
             ],
             [
              0.4444444444444444,
              "#bd3786"
             ],
             [
              0.5555555555555556,
              "#d8576b"
             ],
             [
              0.6666666666666666,
              "#ed7953"
             ],
             [
              0.7777777777777778,
              "#fb9f3a"
             ],
             [
              0.8888888888888888,
              "#fdca26"
             ],
             [
              1.0,
              "#f0f921"
             ]
            ],
            "type": "heatmap"
           }
          ],
          "heatmapgl": [
           {
            "colorbar": {
             "outlinewidth": 0,
             "ticks": ""
            },
            "colorscale": [
             [
              0.0,
              "#0d0887"
             ],
             [
              0.1111111111111111,
              "#46039f"
             ],
             [
              0.2222222222222222,
              "#7201a8"
             ],
             [
              0.3333333333333333,
              "#9c179e"
             ],
             [
              0.4444444444444444,
              "#bd3786"
             ],
             [
              0.5555555555555556,
              "#d8576b"
             ],
             [
              0.6666666666666666,
              "#ed7953"
             ],
             [
              0.7777777777777778,
              "#fb9f3a"
             ],
             [
              0.8888888888888888,
              "#fdca26"
             ],
             [
              1.0,
              "#f0f921"
             ]
            ],
            "type": "heatmapgl"
           }
          ],
          "histogram": [
           {
            "marker": {
             "colorbar": {
              "outlinewidth": 0,
              "ticks": ""
             }
            },
            "type": "histogram"
           }
          ],
          "histogram2d": [
           {
            "colorbar": {
             "outlinewidth": 0,
             "ticks": ""
            },
            "colorscale": [
             [
              0.0,
              "#0d0887"
             ],
             [
              0.1111111111111111,
              "#46039f"
             ],
             [
              0.2222222222222222,
              "#7201a8"
             ],
             [
              0.3333333333333333,
              "#9c179e"
             ],
             [
              0.4444444444444444,
              "#bd3786"
             ],
             [
              0.5555555555555556,
              "#d8576b"
             ],
             [
              0.6666666666666666,
              "#ed7953"
             ],
             [
              0.7777777777777778,
              "#fb9f3a"
             ],
             [
              0.8888888888888888,
              "#fdca26"
             ],
             [
              1.0,
              "#f0f921"
             ]
            ],
            "type": "histogram2d"
           }
          ],
          "histogram2dcontour": [
           {
            "colorbar": {
             "outlinewidth": 0,
             "ticks": ""
            },
            "colorscale": [
             [
              0.0,
              "#0d0887"
             ],
             [
              0.1111111111111111,
              "#46039f"
             ],
             [
              0.2222222222222222,
              "#7201a8"
             ],
             [
              0.3333333333333333,
              "#9c179e"
             ],
             [
              0.4444444444444444,
              "#bd3786"
             ],
             [
              0.5555555555555556,
              "#d8576b"
             ],
             [
              0.6666666666666666,
              "#ed7953"
             ],
             [
              0.7777777777777778,
              "#fb9f3a"
             ],
             [
              0.8888888888888888,
              "#fdca26"
             ],
             [
              1.0,
              "#f0f921"
             ]
            ],
            "type": "histogram2dcontour"
           }
          ],
          "mesh3d": [
           {
            "colorbar": {
             "outlinewidth": 0,
             "ticks": ""
            },
            "type": "mesh3d"
           }
          ],
          "parcoords": [
           {
            "line": {
             "colorbar": {
              "outlinewidth": 0,
              "ticks": ""
             }
            },
            "type": "parcoords"
           }
          ],
          "pie": [
           {
            "automargin": true,
            "type": "pie"
           }
          ],
          "scatter": [
           {
            "marker": {
             "colorbar": {
              "outlinewidth": 0,
              "ticks": ""
             }
            },
            "type": "scatter"
           }
          ],
          "scatter3d": [
           {
            "line": {
             "colorbar": {
              "outlinewidth": 0,
              "ticks": ""
             }
            },
            "marker": {
             "colorbar": {
              "outlinewidth": 0,
              "ticks": ""
             }
            },
            "type": "scatter3d"
           }
          ],
          "scattercarpet": [
           {
            "marker": {
             "colorbar": {
              "outlinewidth": 0,
              "ticks": ""
             }
            },
            "type": "scattercarpet"
           }
          ],
          "scattergeo": [
           {
            "marker": {
             "colorbar": {
              "outlinewidth": 0,
              "ticks": ""
             }
            },
            "type": "scattergeo"
           }
          ],
          "scattergl": [
           {
            "marker": {
             "colorbar": {
              "outlinewidth": 0,
              "ticks": ""
             }
            },
            "type": "scattergl"
           }
          ],
          "scattermapbox": [
           {
            "marker": {
             "colorbar": {
              "outlinewidth": 0,
              "ticks": ""
             }
            },
            "type": "scattermapbox"
           }
          ],
          "scatterpolar": [
           {
            "marker": {
             "colorbar": {
              "outlinewidth": 0,
              "ticks": ""
             }
            },
            "type": "scatterpolar"
           }
          ],
          "scatterpolargl": [
           {
            "marker": {
             "colorbar": {
              "outlinewidth": 0,
              "ticks": ""
             }
            },
            "type": "scatterpolargl"
           }
          ],
          "scatterternary": [
           {
            "marker": {
             "colorbar": {
              "outlinewidth": 0,
              "ticks": ""
             }
            },
            "type": "scatterternary"
           }
          ],
          "surface": [
           {
            "colorbar": {
             "outlinewidth": 0,
             "ticks": ""
            },
            "colorscale": [
             [
              0.0,
              "#0d0887"
             ],
             [
              0.1111111111111111,
              "#46039f"
             ],
             [
              0.2222222222222222,
              "#7201a8"
             ],
             [
              0.3333333333333333,
              "#9c179e"
             ],
             [
              0.4444444444444444,
              "#bd3786"
             ],
             [
              0.5555555555555556,
              "#d8576b"
             ],
             [
              0.6666666666666666,
              "#ed7953"
             ],
             [
              0.7777777777777778,
              "#fb9f3a"
             ],
             [
              0.8888888888888888,
              "#fdca26"
             ],
             [
              1.0,
              "#f0f921"
             ]
            ],
            "type": "surface"
           }
          ],
          "table": [
           {
            "cells": {
             "fill": {
              "color": "#EBF0F8"
             },
             "line": {
              "color": "white"
             }
            },
            "header": {
             "fill": {
              "color": "#C8D4E3"
             },
             "line": {
              "color": "white"
             }
            },
            "type": "table"
           }
          ]
         },
         "layout": {
          "annotationdefaults": {
           "arrowcolor": "#2a3f5f",
           "arrowhead": 0,
           "arrowwidth": 1
          },
          "coloraxis": {
           "colorbar": {
            "outlinewidth": 0,
            "ticks": ""
           }
          },
          "colorscale": {
           "diverging": [
            [
             0,
             "#8e0152"
            ],
            [
             0.1,
             "#c51b7d"
            ],
            [
             0.2,
             "#de77ae"
            ],
            [
             0.3,
             "#f1b6da"
            ],
            [
             0.4,
             "#fde0ef"
            ],
            [
             0.5,
             "#f7f7f7"
            ],
            [
             0.6,
             "#e6f5d0"
            ],
            [
             0.7,
             "#b8e186"
            ],
            [
             0.8,
             "#7fbc41"
            ],
            [
             0.9,
             "#4d9221"
            ],
            [
             1,
             "#276419"
            ]
           ],
           "sequential": [
            [
             0.0,
             "#0d0887"
            ],
            [
             0.1111111111111111,
             "#46039f"
            ],
            [
             0.2222222222222222,
             "#7201a8"
            ],
            [
             0.3333333333333333,
             "#9c179e"
            ],
            [
             0.4444444444444444,
             "#bd3786"
            ],
            [
             0.5555555555555556,
             "#d8576b"
            ],
            [
             0.6666666666666666,
             "#ed7953"
            ],
            [
             0.7777777777777778,
             "#fb9f3a"
            ],
            [
             0.8888888888888888,
             "#fdca26"
            ],
            [
             1.0,
             "#f0f921"
            ]
           ],
           "sequentialminus": [
            [
             0.0,
             "#0d0887"
            ],
            [
             0.1111111111111111,
             "#46039f"
            ],
            [
             0.2222222222222222,
             "#7201a8"
            ],
            [
             0.3333333333333333,
             "#9c179e"
            ],
            [
             0.4444444444444444,
             "#bd3786"
            ],
            [
             0.5555555555555556,
             "#d8576b"
            ],
            [
             0.6666666666666666,
             "#ed7953"
            ],
            [
             0.7777777777777778,
             "#fb9f3a"
            ],
            [
             0.8888888888888888,
             "#fdca26"
            ],
            [
             1.0,
             "#f0f921"
            ]
           ]
          },
          "colorway": [
           "#636efa",
           "#EF553B",
           "#00cc96",
           "#ab63fa",
           "#FFA15A",
           "#19d3f3",
           "#FF6692",
           "#B6E880",
           "#FF97FF",
           "#FECB52"
          ],
          "font": {
           "color": "#2a3f5f"
          },
          "geo": {
           "bgcolor": "white",
           "lakecolor": "white",
           "landcolor": "#E5ECF6",
           "showlakes": true,
           "showland": true,
           "subunitcolor": "white"
          },
          "hoverlabel": {
           "align": "left"
          },
          "hovermode": "closest",
          "mapbox": {
           "style": "light"
          },
          "paper_bgcolor": "white",
          "plot_bgcolor": "#E5ECF6",
          "polar": {
           "angularaxis": {
            "gridcolor": "white",
            "linecolor": "white",
            "ticks": ""
           },
           "bgcolor": "#E5ECF6",
           "radialaxis": {
            "gridcolor": "white",
            "linecolor": "white",
            "ticks": ""
           }
          },
          "scene": {
           "xaxis": {
            "backgroundcolor": "#E5ECF6",
            "gridcolor": "white",
            "gridwidth": 2,
            "linecolor": "white",
            "showbackground": true,
            "ticks": "",
            "zerolinecolor": "white"
           },
           "yaxis": {
            "backgroundcolor": "#E5ECF6",
            "gridcolor": "white",
            "gridwidth": 2,
            "linecolor": "white",
            "showbackground": true,
            "ticks": "",
            "zerolinecolor": "white"
           },
           "zaxis": {
            "backgroundcolor": "#E5ECF6",
            "gridcolor": "white",
            "gridwidth": 2,
            "linecolor": "white",
            "showbackground": true,
            "ticks": "",
            "zerolinecolor": "white"
           }
          },
          "shapedefaults": {
           "line": {
            "color": "#2a3f5f"
           }
          },
          "ternary": {
           "aaxis": {
            "gridcolor": "white",
            "linecolor": "white",
            "ticks": ""
           },
           "baxis": {
            "gridcolor": "white",
            "linecolor": "white",
            "ticks": ""
           },
           "bgcolor": "#E5ECF6",
           "caxis": {
            "gridcolor": "white",
            "linecolor": "white",
            "ticks": ""
           }
          },
          "title": {
           "x": 0.05
          },
          "xaxis": {
           "automargin": true,
           "gridcolor": "white",
           "linecolor": "white",
           "ticks": "",
           "title": {
            "standoff": 15
           },
           "zerolinecolor": "white",
           "zerolinewidth": 2
          },
          "yaxis": {
           "automargin": true,
           "gridcolor": "white",
           "linecolor": "white",
           "ticks": "",
           "title": {
            "standoff": 15
           },
           "zerolinecolor": "white",
           "zerolinewidth": 2
          }
         }
        }
       }
      },
      "text/html": [
       "<div>\n",
       "        \n",
       "        \n",
       "            <div id=\"b71064e1-c538-4ffd-a1e7-e5b99cbadf65\" class=\"plotly-graph-div\" style=\"height:525px; width:100%;\"></div>\n",
       "            <script type=\"text/javascript\">\n",
       "                require([\"plotly\"], function(Plotly) {\n",
       "                    window.PLOTLYENV=window.PLOTLYENV || {};\n",
       "                    \n",
       "                if (document.getElementById(\"b71064e1-c538-4ffd-a1e7-e5b99cbadf65\")) {\n",
       "                    Plotly.newPlot(\n",
       "                        'b71064e1-c538-4ffd-a1e7-e5b99cbadf65',\n",
       "                        [{\"type\": \"scatter\", \"x\": [\"2016-01-01T00:00:00\", \"2016-01-02T00:00:00\", \"2016-01-03T00:00:00\", \"2016-01-04T00:00:00\", \"2016-01-05T00:00:00\", \"2016-01-06T00:00:00\", \"2016-01-07T00:00:00\", \"2016-01-08T00:00:00\", \"2016-01-09T00:00:00\", \"2016-01-10T00:00:00\", \"2016-01-11T00:00:00\", \"2016-01-12T00:00:00\", \"2016-01-13T00:00:00\", \"2016-01-14T00:00:00\", \"2016-01-15T00:00:00\", \"2016-01-16T00:00:00\", \"2016-01-17T00:00:00\", \"2016-01-18T00:00:00\", \"2016-01-19T00:00:00\", \"2016-01-20T00:00:00\", \"2016-01-21T00:00:00\", \"2016-01-22T00:00:00\", \"2016-01-23T00:00:00\", \"2016-01-24T00:00:00\", \"2016-01-25T00:00:00\", \"2016-01-26T00:00:00\", \"2016-01-27T00:00:00\", \"2016-01-28T00:00:00\", \"2016-01-29T00:00:00\", \"2016-01-30T00:00:00\", \"2016-01-31T00:00:00\", \"2016-02-01T00:00:00\", \"2016-02-02T00:00:00\", \"2016-02-03T00:00:00\", \"2016-02-04T00:00:00\", \"2016-02-05T00:00:00\", \"2016-02-06T00:00:00\", \"2016-02-07T00:00:00\", \"2016-02-08T00:00:00\", \"2016-02-09T00:00:00\", \"2016-02-10T00:00:00\", \"2016-02-11T00:00:00\", \"2016-02-12T00:00:00\", \"2016-02-13T00:00:00\", \"2016-02-14T00:00:00\", \"2016-02-15T00:00:00\", \"2016-02-16T00:00:00\", \"2016-02-17T00:00:00\", \"2016-02-18T00:00:00\", \"2016-02-19T00:00:00\", \"2016-02-20T00:00:00\", \"2016-02-21T00:00:00\", \"2016-02-22T00:00:00\", \"2016-02-23T00:00:00\", \"2016-02-24T00:00:00\", \"2016-02-25T00:00:00\", \"2016-02-26T00:00:00\", \"2016-02-27T00:00:00\", \"2016-02-28T00:00:00\", \"2016-02-29T00:00:00\", \"2016-03-01T00:00:00\", \"2016-03-02T00:00:00\", \"2016-03-03T00:00:00\", \"2016-03-04T00:00:00\", \"2016-03-05T00:00:00\", \"2016-03-06T00:00:00\", \"2016-03-07T00:00:00\", \"2016-03-08T00:00:00\", \"2016-03-09T00:00:00\", \"2016-03-10T00:00:00\", \"2016-03-11T00:00:00\", \"2016-03-12T00:00:00\", \"2016-03-13T00:00:00\", \"2016-03-14T00:00:00\", \"2016-03-15T00:00:00\", \"2016-03-16T00:00:00\", \"2016-03-17T00:00:00\", \"2016-03-18T00:00:00\", \"2016-03-19T00:00:00\", \"2016-03-20T00:00:00\", \"2016-03-21T00:00:00\", \"2016-03-22T00:00:00\", \"2016-03-23T00:00:00\", \"2016-03-24T00:00:00\", \"2016-03-25T00:00:00\", \"2016-03-26T00:00:00\", \"2016-03-27T00:00:00\", \"2016-03-28T00:00:00\", \"2016-03-29T00:00:00\", \"2016-03-30T00:00:00\", \"2016-03-31T00:00:00\", \"2016-04-01T00:00:00\", \"2016-04-02T00:00:00\", \"2016-04-03T00:00:00\", \"2016-04-04T00:00:00\", \"2016-04-05T00:00:00\", \"2016-04-06T00:00:00\", \"2016-04-07T00:00:00\", \"2016-04-08T00:00:00\", \"2016-04-09T00:00:00\", \"2016-04-10T00:00:00\", \"2016-04-11T00:00:00\", \"2016-04-12T00:00:00\", \"2016-04-13T00:00:00\", \"2016-04-14T00:00:00\", \"2016-04-15T00:00:00\", \"2016-04-16T00:00:00\", \"2016-04-17T00:00:00\", \"2016-04-18T00:00:00\", \"2016-04-19T00:00:00\", \"2016-04-20T00:00:00\", \"2016-04-21T00:00:00\", \"2016-04-22T00:00:00\", \"2016-04-23T00:00:00\", \"2016-04-24T00:00:00\", \"2016-04-25T00:00:00\", \"2016-04-26T00:00:00\", \"2016-04-27T00:00:00\", \"2016-04-28T00:00:00\", \"2016-04-29T00:00:00\", \"2016-04-30T00:00:00\", \"2016-05-01T00:00:00\", \"2016-05-02T00:00:00\", \"2016-05-03T00:00:00\", \"2016-05-04T00:00:00\", \"2016-05-05T00:00:00\", \"2016-05-06T00:00:00\", \"2016-05-07T00:00:00\", \"2016-05-08T00:00:00\", \"2016-05-09T00:00:00\", \"2016-05-10T00:00:00\", \"2016-05-11T00:00:00\", \"2016-05-12T00:00:00\", \"2016-05-13T00:00:00\", \"2016-05-14T00:00:00\", \"2016-05-15T00:00:00\", \"2016-05-16T00:00:00\", \"2016-05-17T00:00:00\", \"2016-05-18T00:00:00\", \"2016-05-19T00:00:00\", \"2016-05-20T00:00:00\", \"2016-05-21T00:00:00\", \"2016-05-22T00:00:00\", \"2016-05-23T00:00:00\", \"2016-05-24T00:00:00\", \"2016-05-25T00:00:00\", \"2016-05-26T00:00:00\", \"2016-05-27T00:00:00\", \"2016-05-28T00:00:00\", \"2016-05-29T00:00:00\", \"2016-05-30T00:00:00\", \"2016-05-31T00:00:00\", \"2016-06-01T00:00:00\", \"2016-06-02T00:00:00\", \"2016-06-03T00:00:00\", \"2016-06-04T00:00:00\", \"2016-06-05T00:00:00\", \"2016-06-06T00:00:00\", \"2016-06-07T00:00:00\", \"2016-06-08T00:00:00\", \"2016-06-09T00:00:00\", \"2016-06-10T00:00:00\", \"2016-06-11T00:00:00\", \"2016-06-12T00:00:00\", \"2016-06-13T00:00:00\", \"2016-06-14T00:00:00\", \"2016-06-15T00:00:00\", \"2016-06-16T00:00:00\", \"2016-06-17T00:00:00\", \"2016-06-18T00:00:00\", \"2016-06-19T00:00:00\", \"2016-06-20T00:00:00\", \"2016-06-21T00:00:00\", \"2016-06-22T00:00:00\", \"2016-06-23T00:00:00\", \"2016-06-24T00:00:00\", \"2016-06-25T00:00:00\", \"2016-06-26T00:00:00\", \"2016-06-27T00:00:00\", \"2016-06-28T00:00:00\", \"2016-06-29T00:00:00\", \"2016-06-30T00:00:00\", \"2016-07-01T00:00:00\", \"2016-07-02T00:00:00\", \"2016-07-03T00:00:00\", \"2016-07-04T00:00:00\", \"2016-07-05T00:00:00\", \"2016-07-06T00:00:00\", \"2016-07-07T00:00:00\", \"2016-07-08T00:00:00\", \"2016-07-09T00:00:00\", \"2016-07-10T00:00:00\", \"2016-07-11T00:00:00\", \"2016-07-12T00:00:00\", \"2016-07-13T00:00:00\", \"2016-07-14T00:00:00\", \"2016-07-15T00:00:00\", \"2016-07-16T00:00:00\", \"2016-07-17T00:00:00\", \"2016-07-18T00:00:00\", \"2016-07-19T00:00:00\", \"2016-07-20T00:00:00\", \"2016-07-21T00:00:00\", \"2016-07-22T00:00:00\", \"2016-07-23T00:00:00\", \"2016-07-24T00:00:00\", \"2016-07-25T00:00:00\", \"2016-07-26T00:00:00\", \"2016-07-27T00:00:00\", \"2016-07-28T00:00:00\", \"2016-07-29T00:00:00\", \"2016-07-30T00:00:00\", \"2016-07-31T00:00:00\", \"2016-08-01T00:00:00\", \"2016-08-02T00:00:00\", \"2016-08-03T00:00:00\", \"2016-08-04T00:00:00\", \"2016-08-05T00:00:00\", \"2016-08-06T00:00:00\", \"2016-08-07T00:00:00\", \"2016-08-08T00:00:00\", \"2016-08-09T00:00:00\", \"2016-08-10T00:00:00\", \"2016-08-11T00:00:00\", \"2016-08-12T00:00:00\", \"2016-08-13T00:00:00\", \"2016-08-14T00:00:00\", \"2016-08-15T00:00:00\", \"2016-08-16T00:00:00\", \"2016-08-17T00:00:00\", \"2016-08-18T00:00:00\", \"2016-08-19T00:00:00\", \"2016-08-20T00:00:00\", \"2016-08-21T00:00:00\", \"2016-08-22T00:00:00\", \"2016-08-23T00:00:00\", \"2016-08-24T00:00:00\", \"2016-08-25T00:00:00\", \"2016-08-26T00:00:00\", \"2016-08-27T00:00:00\", \"2016-08-28T00:00:00\", \"2016-08-29T00:00:00\", \"2016-08-30T00:00:00\", \"2016-08-31T00:00:00\", \"2016-09-01T00:00:00\", \"2016-09-02T00:00:00\", \"2016-09-03T00:00:00\", \"2016-09-04T00:00:00\", \"2016-09-05T00:00:00\", \"2016-09-06T00:00:00\", \"2016-09-07T00:00:00\", \"2016-09-08T00:00:00\", \"2016-09-09T00:00:00\", \"2016-09-10T00:00:00\", \"2016-09-11T00:00:00\", \"2016-09-12T00:00:00\", \"2016-09-13T00:00:00\", \"2016-09-14T00:00:00\", \"2016-09-15T00:00:00\", \"2016-09-16T00:00:00\", \"2016-09-17T00:00:00\", \"2016-09-18T00:00:00\", \"2016-09-19T00:00:00\", \"2016-09-20T00:00:00\", \"2016-09-21T00:00:00\", \"2016-09-22T00:00:00\", \"2016-09-23T00:00:00\", \"2016-09-24T00:00:00\", \"2016-09-25T00:00:00\", \"2016-09-26T00:00:00\", \"2016-09-27T00:00:00\", \"2016-09-28T00:00:00\", \"2016-09-29T00:00:00\", \"2016-09-30T00:00:00\", \"2016-10-01T00:00:00\", \"2016-10-02T00:00:00\", \"2016-10-03T00:00:00\", \"2016-10-04T00:00:00\", \"2016-10-05T00:00:00\", \"2016-10-06T00:00:00\", \"2016-10-07T00:00:00\", \"2016-10-08T00:00:00\", \"2016-10-09T00:00:00\", \"2016-10-10T00:00:00\", \"2016-10-11T00:00:00\", \"2016-10-12T00:00:00\", \"2016-10-13T00:00:00\", \"2016-10-14T00:00:00\", \"2016-10-15T00:00:00\", \"2016-10-16T00:00:00\", \"2016-10-17T00:00:00\", \"2016-10-18T00:00:00\", \"2016-10-19T00:00:00\", \"2016-10-20T00:00:00\", \"2016-10-21T00:00:00\", \"2016-10-22T00:00:00\", \"2016-10-23T00:00:00\", \"2016-10-24T00:00:00\", \"2016-10-25T00:00:00\", \"2016-10-26T00:00:00\", \"2016-10-27T00:00:00\", \"2016-10-28T00:00:00\", \"2016-10-29T00:00:00\", \"2016-10-30T00:00:00\", \"2016-10-31T00:00:00\", \"2016-11-01T00:00:00\", \"2016-11-02T00:00:00\", \"2016-11-03T00:00:00\", \"2016-11-04T00:00:00\", \"2016-11-05T00:00:00\", \"2016-11-06T00:00:00\", \"2016-11-07T00:00:00\", \"2016-11-08T00:00:00\", \"2016-11-09T00:00:00\", \"2016-11-10T00:00:00\", \"2016-11-11T00:00:00\", \"2016-11-12T00:00:00\", \"2016-11-13T00:00:00\", \"2016-11-14T00:00:00\", \"2016-11-15T00:00:00\", \"2016-11-16T00:00:00\", \"2016-11-17T00:00:00\", \"2016-11-18T00:00:00\", \"2016-11-19T00:00:00\", \"2016-11-20T00:00:00\", \"2016-11-21T00:00:00\", \"2016-11-22T00:00:00\", \"2016-11-23T00:00:00\", \"2016-11-24T00:00:00\", \"2016-11-25T00:00:00\", \"2016-11-26T00:00:00\", \"2016-11-27T00:00:00\", \"2016-11-28T00:00:00\", \"2016-11-29T00:00:00\", \"2016-11-30T00:00:00\", \"2016-12-01T00:00:00\", \"2016-12-02T00:00:00\", \"2016-12-03T00:00:00\", \"2016-12-04T00:00:00\", \"2016-12-05T00:00:00\", \"2016-12-06T00:00:00\", \"2016-12-07T00:00:00\", \"2016-12-08T00:00:00\", \"2016-12-09T00:00:00\", \"2016-12-10T00:00:00\", \"2016-12-11T00:00:00\", \"2016-12-12T00:00:00\", \"2016-12-13T00:00:00\", \"2016-12-14T00:00:00\", \"2016-12-15T00:00:00\", \"2016-12-16T00:00:00\", \"2016-12-17T00:00:00\", \"2016-12-18T00:00:00\", \"2016-12-19T00:00:00\", \"2016-12-20T00:00:00\", \"2016-12-21T00:00:00\", \"2016-12-22T00:00:00\", \"2016-12-23T00:00:00\", \"2016-12-24T00:00:00\", \"2016-12-25T00:00:00\", \"2016-12-26T00:00:00\", \"2016-12-27T00:00:00\", \"2016-12-28T00:00:00\", \"2016-12-29T00:00:00\", \"2016-12-30T00:00:00\", \"2016-12-31T00:00:00\"], \"y\": [20947.0, 19466.0, 8587.0, 7386.0, 7719.0, 7156.0, 7713.0, 8658.0, 9137.0, 8855.0, 9034.0, 8435.0, 7047.0, 7607.0, 7878.0, 9328.0, 9060.0, 7918.0, 7317.0, 7078.0, 7416.0, 10868.0, 9382.0, 10249.0, 7718.0, 7469.0, 7279.0, 7483.0, 7804.0, 8111.0, 8241.0, 8075.0, 7255.0, 7421.0, 7542.0, 11329.0, 35763.0, 12451.0, 12890.0, 10050.0, 9330.0, 9535.0, 11704.0, 9491.0, 8522.0, 8145.0, 42915.0, 27180.0, 24578.0, 17874.0, 14381.0, 18357.0, 11835.0, 10425.0, 12977.0, 14168.0, 10461.0, 8953.0, 9905.0, 8531.0, 8889.0, 7749.0, 7953.0, 25453.0, 15615.0, 12651.0, 9092.0, 7657.0, 7864.0, 7986.0, 9236.0, 7904.0, 10072.0, 11748.0, 9016.0, 7142.0, 7326.0, 7334.0, 15005.0, 15680.0, 11512.0, 9502.0, 8885.0, 11865.0, 8834.0, 10689.0, 9685.0, 7636.0, 6959.0, 7655.0, 7546.0, 7135.0, 11617.0, 11326.0, 9564.0, 9530.0, 8921.0, 7511.0, 7502.0, 8226.0, 7807.0, 8982.0, 8105.0, 6634.0, 6743.0, 20390.0, 44025.0, 14142.0, 10651.0, 10688.0, 7982.0, 5816910.0, 5474449.0, 2067069.0, 1419882.0, 853381.0, 557974.0, 402390.0, 330985.0, 238633.0, 204607.0, 183592.0, 153543.0, 120617.0, 106082.0, 98250.0, 80195.0, 74317.0, 72180.0, 66809.0, 66219.0, 67435.0, 53118.0, 47064.0, 43666.0, 64833.0, 44086.0, 37550.0, 33057.0, 31505.0, 31033.0, 29457.0, 32119.0, 58303.0, 31886.0, 27964.0, 26797.0, 24436.0, 24194.0, 24683.0, 24106.0, 22101.0, 20469.0, 44299.0, 45616.0, 35278.0, 27550.0, 26378.0, 56425.0, 47209.0, 25364.0, 18571.0, 17658.0, 17149.0, 15965.0, 14489.0, 13981.0, 14026.0, 20303.0, 15941.0, 14140.0, 14036.0, 13256.0, 15881.0, 13876.0, 11426.0, 12892.0, 14935.0, 32401.0, 17056.0, 13221.0, 11774.0, 13725.0, 12490.0, 12931.0, 12079.0, 12317.0, 10885.0, 10806.0, 10142.0, 10236.0, 10248.0, 10562.0, 9162.0, 9125.0, 8831.0, 8686.0, 8781.0, 9802.0, 8930.0, 8273.0, 8141.0, 7856.0, 8122.0, 8366.0, 8365.0, 8155.0, 7840.0, 8636.0, 8722.0, 9712.0, 12136.0, 9669.0, 8894.0, 8452.0, 8112.0, 7882.0, 8077.0, 7470.0, 8081.0, 7828.0, 7414.0, 7295.0, 7573.0, 7175.0, 7103.0, 7612.0, 7690.0, 7548.0, 7273.0, 8154.0, 7450.0, 7548.0, 8602.0, 10824.0, 9355.0, 8829.0, 10292.0, 9527.0, 8649.0, 9035.0, 10118.0, 9331.0, 8122.0, 8250.0, 8817.0, 9890.0, 8511.0, 8533.0, 8015.0, 7308.0, 7620.0, 7462.0, 7822.0, 8066.0, 7394.0, 7399.0, 8577.0, 8230.0, 8019.0, 8078.0, 7846.0, 11882.0, 8434.0, 7722.0, 7782.0, 7696.0, 7758.0, 8337.0, 7674.0, 6899.0, 7104.0, 7446.0, 7783.0, 7330.0, 7847.0, 8247.0, 7742.0, 13292.0, 10715.0, 9028.0, 8511.0, 8437.0, 7472.0, 7751.0, 8242.0, 9753.0, 9669.0, 8680.0, 8404.0, 8377.0, 7819.0, 7989.0, 7981.0, 10534.0, 9490.0, 10793.0, 9149.0, 8715.0, 8573.0, 10194.0, 8359.0, 8135.0, 8631.0, 8655.0, 8317.0, 8432.0, 8178.0, 10661.0, 8672.0, 9616.0, 8445.0, 7832.0, 7201.0, 7435.0, 9198.0, 8474.0, 10774.0, 9190.0, 8220.0, 8744.0, 10619.0, 12532.0, 10791.0, 9323.0, 22885.0, 10711.0, 9349.0, 9880.0, 10420.0, 11213.0, 16069.0, 11077.0, 11055.0, 9930.0, 10507.0, 10964.0, 10104.0, 10321.0, 10005.0, 9909.0, 10521.0, 11002.0, 11153.0, 13712.0, 15153.0, 10304.0, 10504.0, 12701.0, 14971.0, 12159.0, 10778.0, 11292.0, 10883.0, 9788.0, 9856.0, 13222.0, 11297.0, 15963.0, 17002.0, 49774.0, 34560.0, 31090.0, 22827.0, 19956.0, 31446.0]}],\n",
       "                        {\"template\": {\"data\": {\"bar\": [{\"error_x\": {\"color\": \"#2a3f5f\"}, \"error_y\": {\"color\": \"#2a3f5f\"}, \"marker\": {\"line\": {\"color\": \"#E5ECF6\", \"width\": 0.5}}, \"type\": \"bar\"}], \"barpolar\": [{\"marker\": {\"line\": {\"color\": \"#E5ECF6\", \"width\": 0.5}}, \"type\": \"barpolar\"}], \"carpet\": [{\"aaxis\": {\"endlinecolor\": \"#2a3f5f\", \"gridcolor\": \"white\", \"linecolor\": \"white\", \"minorgridcolor\": \"white\", \"startlinecolor\": \"#2a3f5f\"}, \"baxis\": {\"endlinecolor\": \"#2a3f5f\", \"gridcolor\": \"white\", \"linecolor\": \"white\", \"minorgridcolor\": \"white\", \"startlinecolor\": \"#2a3f5f\"}, \"type\": \"carpet\"}], \"choropleth\": [{\"colorbar\": {\"outlinewidth\": 0, \"ticks\": \"\"}, \"type\": \"choropleth\"}], \"contour\": [{\"colorbar\": {\"outlinewidth\": 0, \"ticks\": \"\"}, \"colorscale\": [[0.0, \"#0d0887\"], [0.1111111111111111, \"#46039f\"], [0.2222222222222222, \"#7201a8\"], [0.3333333333333333, \"#9c179e\"], [0.4444444444444444, \"#bd3786\"], [0.5555555555555556, \"#d8576b\"], [0.6666666666666666, \"#ed7953\"], [0.7777777777777778, \"#fb9f3a\"], [0.8888888888888888, \"#fdca26\"], [1.0, \"#f0f921\"]], \"type\": \"contour\"}], \"contourcarpet\": [{\"colorbar\": {\"outlinewidth\": 0, \"ticks\": \"\"}, \"type\": \"contourcarpet\"}], \"heatmap\": [{\"colorbar\": {\"outlinewidth\": 0, \"ticks\": \"\"}, \"colorscale\": [[0.0, \"#0d0887\"], [0.1111111111111111, \"#46039f\"], [0.2222222222222222, \"#7201a8\"], [0.3333333333333333, \"#9c179e\"], [0.4444444444444444, \"#bd3786\"], [0.5555555555555556, \"#d8576b\"], [0.6666666666666666, \"#ed7953\"], [0.7777777777777778, \"#fb9f3a\"], [0.8888888888888888, \"#fdca26\"], [1.0, \"#f0f921\"]], \"type\": \"heatmap\"}], \"heatmapgl\": [{\"colorbar\": {\"outlinewidth\": 0, \"ticks\": \"\"}, \"colorscale\": [[0.0, \"#0d0887\"], [0.1111111111111111, \"#46039f\"], [0.2222222222222222, \"#7201a8\"], [0.3333333333333333, \"#9c179e\"], [0.4444444444444444, \"#bd3786\"], [0.5555555555555556, \"#d8576b\"], [0.6666666666666666, \"#ed7953\"], [0.7777777777777778, \"#fb9f3a\"], [0.8888888888888888, \"#fdca26\"], [1.0, \"#f0f921\"]], \"type\": \"heatmapgl\"}], \"histogram\": [{\"marker\": {\"colorbar\": {\"outlinewidth\": 0, \"ticks\": \"\"}}, \"type\": \"histogram\"}], \"histogram2d\": [{\"colorbar\": {\"outlinewidth\": 0, \"ticks\": \"\"}, \"colorscale\": [[0.0, \"#0d0887\"], [0.1111111111111111, \"#46039f\"], [0.2222222222222222, \"#7201a8\"], [0.3333333333333333, \"#9c179e\"], [0.4444444444444444, \"#bd3786\"], [0.5555555555555556, \"#d8576b\"], [0.6666666666666666, \"#ed7953\"], [0.7777777777777778, \"#fb9f3a\"], [0.8888888888888888, \"#fdca26\"], [1.0, \"#f0f921\"]], \"type\": \"histogram2d\"}], \"histogram2dcontour\": [{\"colorbar\": {\"outlinewidth\": 0, \"ticks\": \"\"}, \"colorscale\": [[0.0, \"#0d0887\"], [0.1111111111111111, \"#46039f\"], [0.2222222222222222, \"#7201a8\"], [0.3333333333333333, \"#9c179e\"], [0.4444444444444444, \"#bd3786\"], [0.5555555555555556, \"#d8576b\"], [0.6666666666666666, \"#ed7953\"], [0.7777777777777778, \"#fb9f3a\"], [0.8888888888888888, \"#fdca26\"], [1.0, \"#f0f921\"]], \"type\": \"histogram2dcontour\"}], \"mesh3d\": [{\"colorbar\": {\"outlinewidth\": 0, \"ticks\": \"\"}, \"type\": \"mesh3d\"}], \"parcoords\": [{\"line\": {\"colorbar\": {\"outlinewidth\": 0, \"ticks\": \"\"}}, \"type\": \"parcoords\"}], \"pie\": [{\"automargin\": true, \"type\": \"pie\"}], \"scatter\": [{\"marker\": {\"colorbar\": {\"outlinewidth\": 0, \"ticks\": \"\"}}, \"type\": \"scatter\"}], \"scatter3d\": [{\"line\": {\"colorbar\": {\"outlinewidth\": 0, \"ticks\": \"\"}}, \"marker\": {\"colorbar\": {\"outlinewidth\": 0, \"ticks\": \"\"}}, \"type\": \"scatter3d\"}], \"scattercarpet\": [{\"marker\": {\"colorbar\": {\"outlinewidth\": 0, \"ticks\": \"\"}}, \"type\": \"scattercarpet\"}], \"scattergeo\": [{\"marker\": {\"colorbar\": {\"outlinewidth\": 0, \"ticks\": \"\"}}, \"type\": \"scattergeo\"}], \"scattergl\": [{\"marker\": {\"colorbar\": {\"outlinewidth\": 0, \"ticks\": \"\"}}, \"type\": \"scattergl\"}], \"scattermapbox\": [{\"marker\": {\"colorbar\": {\"outlinewidth\": 0, \"ticks\": \"\"}}, \"type\": \"scattermapbox\"}], \"scatterpolar\": [{\"marker\": {\"colorbar\": {\"outlinewidth\": 0, \"ticks\": \"\"}}, \"type\": \"scatterpolar\"}], \"scatterpolargl\": [{\"marker\": {\"colorbar\": {\"outlinewidth\": 0, \"ticks\": \"\"}}, \"type\": \"scatterpolargl\"}], \"scatterternary\": [{\"marker\": {\"colorbar\": {\"outlinewidth\": 0, \"ticks\": \"\"}}, \"type\": \"scatterternary\"}], \"surface\": [{\"colorbar\": {\"outlinewidth\": 0, \"ticks\": \"\"}, \"colorscale\": [[0.0, \"#0d0887\"], [0.1111111111111111, \"#46039f\"], [0.2222222222222222, \"#7201a8\"], [0.3333333333333333, \"#9c179e\"], [0.4444444444444444, \"#bd3786\"], [0.5555555555555556, \"#d8576b\"], [0.6666666666666666, \"#ed7953\"], [0.7777777777777778, \"#fb9f3a\"], [0.8888888888888888, \"#fdca26\"], [1.0, \"#f0f921\"]], \"type\": \"surface\"}], \"table\": [{\"cells\": {\"fill\": {\"color\": \"#EBF0F8\"}, \"line\": {\"color\": \"white\"}}, \"header\": {\"fill\": {\"color\": \"#C8D4E3\"}, \"line\": {\"color\": \"white\"}}, \"type\": \"table\"}]}, \"layout\": {\"annotationdefaults\": {\"arrowcolor\": \"#2a3f5f\", \"arrowhead\": 0, \"arrowwidth\": 1}, \"coloraxis\": {\"colorbar\": {\"outlinewidth\": 0, \"ticks\": \"\"}}, \"colorscale\": {\"diverging\": [[0, \"#8e0152\"], [0.1, \"#c51b7d\"], [0.2, \"#de77ae\"], [0.3, \"#f1b6da\"], [0.4, \"#fde0ef\"], [0.5, \"#f7f7f7\"], [0.6, \"#e6f5d0\"], [0.7, \"#b8e186\"], [0.8, \"#7fbc41\"], [0.9, \"#4d9221\"], [1, \"#276419\"]], \"sequential\": [[0.0, \"#0d0887\"], [0.1111111111111111, \"#46039f\"], [0.2222222222222222, \"#7201a8\"], [0.3333333333333333, \"#9c179e\"], [0.4444444444444444, \"#bd3786\"], [0.5555555555555556, \"#d8576b\"], [0.6666666666666666, \"#ed7953\"], [0.7777777777777778, \"#fb9f3a\"], [0.8888888888888888, \"#fdca26\"], [1.0, \"#f0f921\"]], \"sequentialminus\": [[0.0, \"#0d0887\"], [0.1111111111111111, \"#46039f\"], [0.2222222222222222, \"#7201a8\"], [0.3333333333333333, \"#9c179e\"], [0.4444444444444444, \"#bd3786\"], [0.5555555555555556, \"#d8576b\"], [0.6666666666666666, \"#ed7953\"], [0.7777777777777778, \"#fb9f3a\"], [0.8888888888888888, \"#fdca26\"], [1.0, \"#f0f921\"]]}, \"colorway\": [\"#636efa\", \"#EF553B\", \"#00cc96\", \"#ab63fa\", \"#FFA15A\", \"#19d3f3\", \"#FF6692\", \"#B6E880\", \"#FF97FF\", \"#FECB52\"], \"font\": {\"color\": \"#2a3f5f\"}, \"geo\": {\"bgcolor\": \"white\", \"lakecolor\": \"white\", \"landcolor\": \"#E5ECF6\", \"showlakes\": true, \"showland\": true, \"subunitcolor\": \"white\"}, \"hoverlabel\": {\"align\": \"left\"}, \"hovermode\": \"closest\", \"mapbox\": {\"style\": \"light\"}, \"paper_bgcolor\": \"white\", \"plot_bgcolor\": \"#E5ECF6\", \"polar\": {\"angularaxis\": {\"gridcolor\": \"white\", \"linecolor\": \"white\", \"ticks\": \"\"}, \"bgcolor\": \"#E5ECF6\", \"radialaxis\": {\"gridcolor\": \"white\", \"linecolor\": \"white\", \"ticks\": \"\"}}, \"scene\": {\"xaxis\": {\"backgroundcolor\": \"#E5ECF6\", \"gridcolor\": \"white\", \"gridwidth\": 2, \"linecolor\": \"white\", \"showbackground\": true, \"ticks\": \"\", \"zerolinecolor\": \"white\"}, \"yaxis\": {\"backgroundcolor\": \"#E5ECF6\", \"gridcolor\": \"white\", \"gridwidth\": 2, \"linecolor\": \"white\", \"showbackground\": true, \"ticks\": \"\", \"zerolinecolor\": \"white\"}, \"zaxis\": {\"backgroundcolor\": \"#E5ECF6\", \"gridcolor\": \"white\", \"gridwidth\": 2, \"linecolor\": \"white\", \"showbackground\": true, \"ticks\": \"\", \"zerolinecolor\": \"white\"}}, \"shapedefaults\": {\"line\": {\"color\": \"#2a3f5f\"}}, \"ternary\": {\"aaxis\": {\"gridcolor\": \"white\", \"linecolor\": \"white\", \"ticks\": \"\"}, \"baxis\": {\"gridcolor\": \"white\", \"linecolor\": \"white\", \"ticks\": \"\"}, \"bgcolor\": \"#E5ECF6\", \"caxis\": {\"gridcolor\": \"white\", \"linecolor\": \"white\", \"ticks\": \"\"}}, \"title\": {\"x\": 0.05}, \"xaxis\": {\"automargin\": true, \"gridcolor\": \"white\", \"linecolor\": \"white\", \"ticks\": \"\", \"title\": {\"standoff\": 15}, \"zerolinecolor\": \"white\", \"zerolinewidth\": 2}, \"yaxis\": {\"automargin\": true, \"gridcolor\": \"white\", \"linecolor\": \"white\", \"ticks\": \"\", \"title\": {\"standoff\": 15}, \"zerolinecolor\": \"white\", \"zerolinewidth\": 2}}}},\n",
       "                        {\"responsive\": true}\n",
       "                    ).then(function(){\n",
       "                            \n",
       "var gd = document.getElementById('b71064e1-c538-4ffd-a1e7-e5b99cbadf65');\n",
       "var x = new MutationObserver(function (mutations, observer) {{\n",
       "        var display = window.getComputedStyle(gd).display;\n",
       "        if (!display || display === 'none') {{\n",
       "            console.log([gd, 'removed!']);\n",
       "            Plotly.purge(gd);\n",
       "            observer.disconnect();\n",
       "        }}\n",
       "}});\n",
       "\n",
       "// Listen for the removal of the full notebook cells\n",
       "var notebookContainer = gd.closest('#notebook-container');\n",
       "if (notebookContainer) {{\n",
       "    x.observe(notebookContainer, {childList: true});\n",
       "}}\n",
       "\n",
       "// Listen for the clearing of the current output cell\n",
       "var outputEl = gd.closest('.output');\n",
       "if (outputEl) {{\n",
       "    x.observe(outputEl, {childList: true});\n",
       "}}\n",
       "\n",
       "                        })\n",
       "                };\n",
       "                });\n",
       "            </script>\n",
       "        </div>"
      ]
     },
     "metadata": {},
     "output_type": "display_data"
    }
   ],
   "source": [
    "iplot([{'x': ts.index,'y': ts.to_numpy()} ])"
   ]
  },
  {
   "cell_type": "markdown",
   "metadata": {
    "ExecuteTime": {
     "end_time": "2019-11-13T04:56:54.936505Z",
     "start_time": "2019-11-13T04:56:54.912473Z"
    },
    "papermill": {
     "duration": 0.021794,
     "end_time": "2020-10-17T18:40:12.065738",
     "exception": false,
     "start_time": "2020-10-17T18:40:12.043944",
     "status": "completed"
    },
    "tags": []
   },
   "source": [
    "# Modelling Functions"
   ]
  },
  {
   "cell_type": "code",
   "execution_count": 10,
   "metadata": {
    "ExecuteTime": {
     "end_time": "2020-10-14T19:16:51.387698Z",
     "start_time": "2020-10-14T19:16:51.374090Z"
    },
    "execution": {
     "iopub.execute_input": "2020-10-17T18:40:12.117251Z",
     "iopub.status.busy": "2020-10-17T18:40:12.116540Z",
     "iopub.status.idle": "2020-10-17T18:40:12.118429Z",
     "shell.execute_reply": "2020-10-17T18:40:12.118881Z"
    },
    "papermill": {
     "duration": 0.031864,
     "end_time": "2020-10-17T18:40:12.119040",
     "exception": false,
     "start_time": "2020-10-17T18:40:12.087176",
     "status": "completed"
    },
    "tags": []
   },
   "outputs": [],
   "source": [
    "def create_Xlags_y(x, lags=1):\n",
    "    \"\"\"Create Xlag and y array from 1d timeseries x.\n",
    "\n",
    "    Parameters\n",
    "    ----------\n",
    "    x : 1d numpy array, shape = (n,1)\n",
    "    lag : integer\n",
    "\n",
    "    Returns\n",
    "    --------\n",
    "    Xlag -- numpy array with columns = lag\n",
    "    y    -- 1d array (values after lag from x)\n",
    "\n",
    "    Example\n",
    "    -------\n",
    "    x = np.arange(6).reshape(-1,1)\n",
    "    lag = 2\n",
    "    y = np.array([2,3,4]) # two values 0 and 1 are excluded due to lag\n",
    "\n",
    "    Xlag = numpy array with 2 columns\n",
    "            np.array([[0, 1],\n",
    "                      [1, 2],\n",
    "                      [2, 3]])\n",
    "\n",
    "    \"\"\"\n",
    "    lst_Xlags, lst_y = [], []\n",
    "    for i in range(len(x)-lags-1):\n",
    "        a = x[i:(i+lags), 0]\n",
    "        lst_Xlags.append(a)\n",
    "        lst_y.append(x[i + lags, 0])\n",
    "\n",
    "    Xlags = np.array(lst_Xlags)\n",
    "    y = np.array(lst_y)\n",
    "    return Xlags, y\n",
    "\n",
    "def train_test_split_with_lags(x,train_size=0.8,lags=1):\n",
    "    \"\"\"Train-test split for time series with lags.\n",
    "    If x is x_scaled then Xtrain and ytrain will also be scaled.\n",
    "\n",
    "    Returns\n",
    "    -------\n",
    "    Xtrain,ytrain,Xtest,ytest\n",
    "\n",
    "    \"\"\"\n",
    "    # split into train and test sets\n",
    "    num = int(len(x) * train_size)\n",
    "\n",
    "    train = x[0:num, :]\n",
    "    test  = x[num:len(x), :]\n",
    "\n",
    "    # reshape into X=t and Y=t+1\n",
    "    Xtrain, ytrain = create_Xlags_y(train, lags)\n",
    "    Xtest, ytest   = create_Xlags_y(test , lags)\n",
    "\n",
    "    return Xtrain,ytrain,Xtest,ytest"
   ]
  },
  {
   "cell_type": "code",
   "execution_count": 11,
   "metadata": {
    "ExecuteTime": {
     "end_time": "2020-10-14T19:16:51.397892Z",
     "start_time": "2020-10-14T19:16:51.390043Z"
    },
    "execution": {
     "iopub.execute_input": "2020-10-17T18:40:12.169042Z",
     "iopub.status.busy": "2020-10-17T18:40:12.168296Z",
     "iopub.status.idle": "2020-10-17T18:40:12.170180Z",
     "shell.execute_reply": "2020-10-17T18:40:12.170577Z"
    },
    "papermill": {
     "duration": 0.029979,
     "end_time": "2020-10-17T18:40:12.170734",
     "exception": false,
     "start_time": "2020-10-17T18:40:12.140755",
     "status": "completed"
    },
    "tags": []
   },
   "outputs": [],
   "source": [
    "def model_lstm(Xtrain,ytrain,units=4,epochs=1,batch_size=1,dropout=0.2,lags=1):\n",
    "    \n",
    "    # parameters\n",
    "    loss='mean_squared_error'\n",
    "    optimizer='rmsprop'\n",
    "    adam = optimizers.Adam(lr=0.01)\n",
    "    input_shape= (1, lags)\n",
    "    \n",
    "    # model\n",
    "    model = Sequential()\n",
    "    model.add(LSTM(units=units, return_sequences=True, input_shape=input_shape))\n",
    "    model.add(Dropout(dropout))\n",
    "\n",
    "    # # Second LSTM layer\n",
    "    # model.add(LSTM(units=units, return_sequences=True))\n",
    "    # model.add(Dropout(dropout))\n",
    "\n",
    "    # # Third LSTM layer\n",
    "    # model.add(LSTM(units=units, return_sequences=True))\n",
    "    # model.add(Dropout(dropout))\n",
    "\n",
    "    # 2nd last layer\n",
    "    model.add(LSTM(units=units))\n",
    "    model.add(Dropout(dropout))\n",
    "\n",
    "    # The output layer\n",
    "    model.add(Dense(units=1))\n",
    "\n",
    "    # Compiling the model\n",
    "    model.compile(loss=loss, optimizer=optimizer)\n",
    "\n",
    "    # Fitting to the training set\n",
    "    model.fit(Xtrain,ytrain,epochs=epochs,batch_size=batch_size,\n",
    "              shuffle=False,verbose=0,use_multiprocessing=True)\n",
    "    return model"
   ]
  },
  {
   "cell_type": "code",
   "execution_count": 12,
   "metadata": {
    "ExecuteTime": {
     "end_time": "2020-10-14T19:16:51.407494Z",
     "start_time": "2020-10-14T19:16:51.400769Z"
    },
    "execution": {
     "iopub.execute_input": "2020-10-17T18:40:12.221997Z",
     "iopub.status.busy": "2020-10-17T18:40:12.221064Z",
     "iopub.status.idle": "2020-10-17T18:40:12.222994Z",
     "shell.execute_reply": "2020-10-17T18:40:12.223406Z"
    },
    "papermill": {
     "duration": 0.030626,
     "end_time": "2020-10-17T18:40:12.223562",
     "exception": false,
     "start_time": "2020-10-17T18:40:12.192936",
     "status": "completed"
    },
    "tags": []
   },
   "outputs": [],
   "source": [
    "def model_gru(Xtrain,ytrain,units=4,epochs=1,lags=1):\n",
    "\n",
    "    batch_size=1\n",
    "    dropout=0.2\n",
    "    lr = 0.01\n",
    "    decay = 1e-7\n",
    "    momentum = 0.9\n",
    "    nesterov = False\n",
    "\n",
    "    units=10\n",
    "    activation='tanh' \n",
    "    \n",
    "    input_shape=(1, lags)\n",
    "\n",
    "    # The GRU architecture\n",
    "    model = Sequential()\n",
    "\n",
    "    # First GRU layer with Dropout regularisation\n",
    "    model.add(GRU(units=units, return_sequences=True,\n",
    "                         input_shape=input_shape, activation=activation,))\n",
    "    model.add(Dropout(dropout))\n",
    "\n",
    "#     # Second GRU layer\n",
    "#     model.add(GRU(units=units, return_sequences=True,\n",
    "#                          input_shape=input_shape, activation=activation))\n",
    "#     model.add(Dropout(dropout))\n",
    "\n",
    "#     # Third GRU layer\n",
    "#     model.add(GRU(units=units, return_sequences=True,\n",
    "#                     input_shape=input_shape, activation=activation))\n",
    "#     model.add(Dropout(dropout))\n",
    "\n",
    "    # 2nd last layer\n",
    "    model.add(GRU(units=units, activation=activation))\n",
    "    model.add(Dropout(dropout))\n",
    "\n",
    "    # The output layer\n",
    "    model.add(Dense(units=1))\n",
    "\n",
    "    # Compiling the RNN\n",
    "    model.compile(optimizer=SGD(lr=lr, decay=decay, momentum=momentum,\n",
    "                                nesterov=nesterov),loss='mean_squared_error')\n",
    "\n",
    "    # Fitting to the training set\n",
    "    model.fit(Xtrain,ytrain,epochs=epochs,\n",
    "                     batch_size=batch_size,shuffle=False,verbose=0)\n",
    "    return model"
   ]
  },
  {
   "cell_type": "code",
   "execution_count": 13,
   "metadata": {
    "ExecuteTime": {
     "end_time": "2020-10-14T19:16:51.422244Z",
     "start_time": "2020-10-14T19:16:51.411735Z"
    },
    "execution": {
     "iopub.execute_input": "2020-10-17T18:40:12.274130Z",
     "iopub.status.busy": "2020-10-17T18:40:12.273042Z",
     "iopub.status.idle": "2020-10-17T18:40:12.274792Z",
     "shell.execute_reply": "2020-10-17T18:40:12.275180Z"
    },
    "papermill": {
     "duration": 0.030212,
     "end_time": "2020-10-17T18:40:12.275335",
     "exception": false,
     "start_time": "2020-10-17T18:40:12.245123",
     "status": "completed"
    },
    "tags": []
   },
   "outputs": [],
   "source": [
    "def predict(model,scaler=None):\n",
    "    # make predictions\n",
    "    ypreds_train = model.predict(Xtrain)\n",
    "    ypreds_test = model.predict(Xtest)\n",
    "\n",
    "    # invert predictions\n",
    "    if scaler is not None:\n",
    "        ypreds_train = scaler.inverse_transform(ypreds_train)\n",
    "        ypreds_test = scaler.inverse_transform(ypreds_test)\n",
    "\n",
    "    return ypreds_train, ypreds_test\n",
    "\n",
    "def prediction_plot(x,lags,ypreds_train,ypreds_test):    \n",
    "    # shift train predictions for plotting\n",
    "    ypred_train_plot = np.empty_like(x)\n",
    "    ypred_train_plot[:, :] = np.nan\n",
    "    ypred_train_plot[lag:len(ypreds_train)+lags, :] = ypreds_train\n",
    "\n",
    "    # shift test predictions for plotting\n",
    "    ypreds_test_plot = np.empty_like(x)\n",
    "    ypreds_test_plot[:, :] = np.nan\n",
    "    ypreds_test_plot[len(ypreds_train)+(lags*2) +\n",
    "                    1:len(x)-1, :] = ypreds_test\n",
    "\n",
    "    # plot baseline and predictions\n",
    "    plt.plot(x, label='data')\n",
    "    plt.plot(ypred_train_plot, label='ypreds train')\n",
    "    plt.plot(ypreds_test_plot, label='ypreds test')\n",
    "    plt.legend()\n",
    "    plt.show()"
   ]
  },
  {
   "cell_type": "markdown",
   "metadata": {
    "papermill": {
     "duration": 0.021537,
     "end_time": "2020-10-17T18:40:12.318921",
     "exception": false,
     "start_time": "2020-10-17T18:40:12.297384",
     "status": "completed"
    },
    "tags": []
   },
   "source": [
    "# Modelling"
   ]
  },
  {
   "cell_type": "markdown",
   "metadata": {
    "papermill": {
     "duration": 0.021934,
     "end_time": "2020-10-17T18:40:12.363334",
     "exception": false,
     "start_time": "2020-10-17T18:40:12.341400",
     "status": "completed"
    },
    "tags": []
   },
   "source": [
    "## LSTM Without Scaling"
   ]
  },
  {
   "cell_type": "code",
   "execution_count": 14,
   "metadata": {
    "execution": {
     "iopub.execute_input": "2020-10-17T18:40:12.411857Z",
     "iopub.status.busy": "2020-10-17T18:40:12.411158Z",
     "iopub.status.idle": "2020-10-17T18:40:54.400903Z",
     "shell.execute_reply": "2020-10-17T18:40:54.401477Z"
    },
    "papermill": {
     "duration": 42.017318,
     "end_time": "2020-10-17T18:40:54.401665",
     "exception": false,
     "start_time": "2020-10-17T18:40:12.384347",
     "status": "completed"
    },
    "tags": []
   },
   "outputs": [
    {
     "name": "stdout",
     "output_type": "stream",
     "text": [
      "CPU times: user 59.7 s, sys: 5.11 s, total: 1min 4s\n",
      "Wall time: 42 s\n"
     ]
    }
   ],
   "source": [
    "%%time\n",
    "# parameters\n",
    "set_seed(SEED)\n",
    "lags = 2 # try different values 1 to 7.\n",
    "units = 4\n",
    "epochs = 100\n",
    "\n",
    "# timeseries data\n",
    "x = ts.to_numpy().reshape(-1,1)\n",
    "x = x.astype('float32')  \n",
    "\n",
    "# train test split\n",
    "Xtrain,ytrain,Xtest,ytest = train_test_split_with_lags(x,lags=lags)\n",
    "\n",
    "\n",
    "# reshape input to be [samples, time steps, features]\n",
    "Xtrain = np.reshape(Xtrain, (Xtrain.shape[0], 1, Xtrain.shape[1]))\n",
    "Xtest  = np.reshape(Xtest , (Xtest.shape[0] , 1, Xtest.shape[1]))\n",
    "\n",
    "# fit the model\n",
    "model = model_lstm(Xtrain,ytrain,units=units,epochs=epochs,lags=lags)   \n",
    "\n",
    "# preds\n",
    "ypreds_train, ypreds_test = predict(model,scaler=None)\n",
    "\n",
    "\n",
    "model_name = 'lstm'\n",
    "desc = 'lags=2'\n",
    "df_eval = timeseries_evaluation(model_name, desc, ytest.flatten(),\n",
    "                                ypreds_test.flatten(),\n",
    "                                df_eval=df_eval)"
   ]
  },
  {
   "cell_type": "markdown",
   "metadata": {
    "papermill": {
     "duration": 0.03078,
     "end_time": "2020-10-17T18:40:54.467111",
     "exception": false,
     "start_time": "2020-10-17T18:40:54.436331",
     "status": "completed"
    },
    "tags": []
   },
   "source": [
    "## LSTM with min-max scaling"
   ]
  },
  {
   "cell_type": "code",
   "execution_count": 15,
   "metadata": {
    "ExecuteTime": {
     "end_time": "2020-10-14T19:18:08.130259Z",
     "start_time": "2020-10-14T19:17:28.592309Z"
    },
    "execution": {
     "iopub.execute_input": "2020-10-17T18:40:54.542832Z",
     "iopub.status.busy": "2020-10-17T18:40:54.541596Z",
     "iopub.status.idle": "2020-10-17T18:41:37.079219Z",
     "shell.execute_reply": "2020-10-17T18:41:37.077930Z"
    },
    "papermill": {
     "duration": 42.585273,
     "end_time": "2020-10-17T18:41:37.079403",
     "exception": false,
     "start_time": "2020-10-17T18:40:54.494130",
     "status": "completed"
    },
    "tags": []
   },
   "outputs": [
    {
     "name": "stdout",
     "output_type": "stream",
     "text": [
      "Before reshape Xtest shape: (71, 2)\n",
      "Before reshape ytest shape: (71,)\n",
      "After  reshape Xtest shape: (71, 1, 2)\n",
      "After  reshape ytest shape: (71,)\n"
     ]
    },
    {
     "name": "stdout",
     "output_type": "stream",
     "text": [
      "               ypreds shape: (71, 1)\n"
     ]
    },
    {
     "data": {
      "text/html": [
       "<style  type=\"text/css\" >\n",
       "#T_633d0942_10a8_11eb_8edb_acde48001122row0_col3{\n",
       "            background-color:  #00441b;\n",
       "            color:  #f1f1f1;\n",
       "        }#T_633d0942_10a8_11eb_8edb_acde48001122row1_col3{\n",
       "            background-color:  #f7fcf5;\n",
       "            color:  #000000;\n",
       "        }</style><table id=\"T_633d0942_10a8_11eb_8edb_acde48001122\" ><thead>    <tr>        <th class=\"blank level0\" ></th>        <th class=\"col_heading level0 col0\" >Model</th>        <th class=\"col_heading level0 col1\" >Description</th>        <th class=\"col_heading level0 col2\" >MAPE</th>        <th class=\"col_heading level0 col3\" >SMAPE</th>        <th class=\"col_heading level0 col4\" >RMSE</th>        <th class=\"col_heading level0 col5\" >ME</th>        <th class=\"col_heading level0 col6\" >MAE</th>        <th class=\"col_heading level0 col7\" >MPE</th>        <th class=\"col_heading level0 col8\" >CORR</th>        <th class=\"col_heading level0 col9\" >MINMAX</th>        <th class=\"col_heading level0 col10\" >ACF1</th>    </tr></thead><tbody>\n",
       "                <tr>\n",
       "                        <th id=\"T_633d0942_10a8_11eb_8edb_acde48001122level0_row0\" class=\"row_heading level0 row0\" >0</th>\n",
       "                        <td id=\"T_633d0942_10a8_11eb_8edb_acde48001122row0_col0\" class=\"data row0 col0\" >lstm</td>\n",
       "                        <td id=\"T_633d0942_10a8_11eb_8edb_acde48001122row0_col1\" class=\"data row0 col1\" >minmax-scaling,lags=2</td>\n",
       "                        <td id=\"T_633d0942_10a8_11eb_8edb_acde48001122row0_col2\" class=\"data row0 col2\" >25</td>\n",
       "                        <td id=\"T_633d0942_10a8_11eb_8edb_acde48001122row0_col3\" class=\"data row0 col3\" >24.6649</td>\n",
       "                        <td id=\"T_633d0942_10a8_11eb_8edb_acde48001122row0_col4\" class=\"data row0 col4\" >6,524</td>\n",
       "                        <td id=\"T_633d0942_10a8_11eb_8edb_acde48001122row0_col5\" class=\"data row0 col5\" >353</td>\n",
       "                        <td id=\"T_633d0942_10a8_11eb_8edb_acde48001122row0_col6\" class=\"data row0 col6\" >3,482</td>\n",
       "                        <td id=\"T_633d0942_10a8_11eb_8edb_acde48001122row0_col7\" class=\"data row0 col7\" >-0</td>\n",
       "                        <td id=\"T_633d0942_10a8_11eb_8edb_acde48001122row0_col8\" class=\"data row0 col8\" >0.6507</td>\n",
       "                        <td id=\"T_633d0942_10a8_11eb_8edb_acde48001122row0_col9\" class=\"data row0 col9\" >0.2056</td>\n",
       "                        <td id=\"T_633d0942_10a8_11eb_8edb_acde48001122row0_col10\" class=\"data row0 col10\" >0.6702</td>\n",
       "            </tr>\n",
       "            <tr>\n",
       "                        <th id=\"T_633d0942_10a8_11eb_8edb_acde48001122level0_row1\" class=\"row_heading level0 row1\" >1</th>\n",
       "                        <td id=\"T_633d0942_10a8_11eb_8edb_acde48001122row1_col0\" class=\"data row1 col0\" >lstm</td>\n",
       "                        <td id=\"T_633d0942_10a8_11eb_8edb_acde48001122row1_col1\" class=\"data row1 col1\" >lags=2</td>\n",
       "                        <td id=\"T_633d0942_10a8_11eb_8edb_acde48001122row1_col2\" class=\"data row1 col2\" >99</td>\n",
       "                        <td id=\"T_633d0942_10a8_11eb_8edb_acde48001122row1_col3\" class=\"data row1 col3\" >197.2470</td>\n",
       "                        <td id=\"T_633d0942_10a8_11eb_8edb_acde48001122row1_col4\" class=\"data row1 col4\" >13,684</td>\n",
       "                        <td id=\"T_633d0942_10a8_11eb_8edb_acde48001122row1_col5\" class=\"data row1 col5\" >12,021</td>\n",
       "                        <td id=\"T_633d0942_10a8_11eb_8edb_acde48001122row1_col6\" class=\"data row1 col6\" >12,021</td>\n",
       "                        <td id=\"T_633d0942_10a8_11eb_8edb_acde48001122row1_col7\" class=\"data row1 col7\" >1</td>\n",
       "                        <td id=\"T_633d0942_10a8_11eb_8edb_acde48001122row1_col8\" class=\"data row1 col8\" >0.0502</td>\n",
       "                        <td id=\"T_633d0942_10a8_11eb_8edb_acde48001122row1_col9\" class=\"data row1 col9\" >0.9931</td>\n",
       "                        <td id=\"T_633d0942_10a8_11eb_8edb_acde48001122row1_col10\" class=\"data row1 col10\" >0.6727</td>\n",
       "            </tr>\n",
       "    </tbody></table>"
      ],
      "text/plain": [
       "<pandas.io.formats.style.Styler at 0x7fb4d44bdfd0>"
      ]
     },
     "metadata": {},
     "output_type": "display_data"
    },
    {
     "name": "stdout",
     "output_type": "stream",
     "text": [
      "CPU times: user 1min 4s, sys: 5.37 s, total: 1min 9s\n",
      "Wall time: 42.5 s\n"
     ]
    }
   ],
   "source": [
    "%%time\n",
    "# parameters\n",
    "set_seed(SEED)\n",
    "lags = 2 # try different values 1 to 7.\n",
    "units = 4\n",
    "epochs = 100\n",
    "\n",
    "# timeseries data\n",
    "x = ts.to_numpy().reshape(-1,1)\n",
    "x = x.astype('float32')  \n",
    "\n",
    "# normalize the x\n",
    "scaler = MinMaxScaler(feature_range=(0, 1))\n",
    "x_scaled = scaler.fit_transform(x)\n",
    "\n",
    "# train test split\n",
    "Xtrain,ytrain,Xtest,ytest = train_test_split_with_lags(x_scaled,lags=lags)\n",
    "\n",
    "print(f'Before reshape Xtest shape: {Xtest.shape}')\n",
    "print(f'Before reshape ytest shape: {ytest.shape}')\n",
    "\n",
    "# reshape input to be [samples, time steps, features]\n",
    "Xtrain = np.reshape(Xtrain, (Xtrain.shape[0], 1, Xtrain.shape[1]))\n",
    "Xtest  = np.reshape(Xtest , (Xtest.shape[0] , 1, Xtest.shape[1]))\n",
    "\n",
    "print(f'After  reshape Xtest shape: {Xtest.shape}')\n",
    "print(f'After  reshape ytest shape: {ytest.shape}')\n",
    "\n",
    "# fit the model\n",
    "model = model_lstm(Xtrain,ytrain,units=units,epochs=epochs,lags=lags)   \n",
    "\n",
    "# preds\n",
    "ypreds_train, ypreds_test = predict(model,scaler)\n",
    "print(f'               ypreds shape: {ypreds_test.shape}')\n",
    "\n",
    "# if scaler used, inverse transform ytest\n",
    "ytest = scaler.inverse_transform(ytest.reshape(-1,1))\n",
    "\n",
    "model_name = 'lstm'\n",
    "desc = 'minmax-scaling,lags=2'\n",
    "df_eval = timeseries_evaluation(model_name, desc, ytest.flatten(),\n",
    "                                ypreds_test.flatten(),\n",
    "                    df_eval=df_eval,show=True)"
   ]
  },
  {
   "cell_type": "code",
   "execution_count": 16,
   "metadata": {
    "execution": {
     "iopub.execute_input": "2020-10-17T18:41:37.144554Z",
     "iopub.status.busy": "2020-10-17T18:41:37.143687Z",
     "iopub.status.idle": "2020-10-17T18:41:37.150160Z",
     "shell.execute_reply": "2020-10-17T18:41:37.150725Z"
    },
    "papermill": {
     "duration": 0.040181,
     "end_time": "2020-10-17T18:41:37.150985",
     "exception": false,
     "start_time": "2020-10-17T18:41:37.110804",
     "status": "completed"
    },
    "tags": []
   },
   "outputs": [
    {
     "data": {
      "text/plain": [
       "292"
      ]
     },
     "execution_count": 16,
     "metadata": {},
     "output_type": "execute_result"
    }
   ],
   "source": [
    "train_size = 0.8\n",
    "num = int(len(ts) * train_size)\n",
    "num"
   ]
  },
  {
   "cell_type": "code",
   "execution_count": 17,
   "metadata": {
    "execution": {
     "iopub.execute_input": "2020-10-17T18:41:37.218471Z",
     "iopub.status.busy": "2020-10-17T18:41:37.217533Z",
     "iopub.status.idle": "2020-10-17T18:41:37.222806Z",
     "shell.execute_reply": "2020-10-17T18:41:37.223321Z"
    },
    "papermill": {
     "duration": 0.041317,
     "end_time": "2020-10-17T18:41:37.223581",
     "exception": false,
     "start_time": "2020-10-17T18:41:37.182264",
     "status": "completed"
    },
    "tags": []
   },
   "outputs": [
    {
     "name": "stdout",
     "output_type": "stream",
     "text": [
      "(366,)\n"
     ]
    },
    {
     "data": {
      "text/plain": [
       "date\n",
       "2016-01-01    20947.0\n",
       "2016-01-02    19466.0\n",
       "Name: visits, dtype: float32"
      ]
     },
     "execution_count": 17,
     "metadata": {},
     "output_type": "execute_result"
    }
   ],
   "source": [
    "print(ts.shape)\n",
    "ts.head(2)"
   ]
  },
  {
   "cell_type": "code",
   "execution_count": 18,
   "metadata": {
    "execution": {
     "iopub.execute_input": "2020-10-17T18:41:37.292226Z",
     "iopub.status.busy": "2020-10-17T18:41:37.291294Z",
     "iopub.status.idle": "2020-10-17T18:41:37.295672Z",
     "shell.execute_reply": "2020-10-17T18:41:37.296339Z"
    },
    "papermill": {
     "duration": 0.041927,
     "end_time": "2020-10-17T18:41:37.296584",
     "exception": false,
     "start_time": "2020-10-17T18:41:37.254657",
     "status": "completed"
    },
    "tags": []
   },
   "outputs": [
    {
     "data": {
      "text/plain": [
       "date\n",
       "2016-10-21    10534.0\n",
       "2016-10-22     9490.0\n",
       "2016-10-23    10793.0\n",
       "2016-10-24     9149.0\n",
       "2016-10-25     8715.0\n",
       "Name: visits, dtype: float32"
      ]
     },
     "execution_count": 18,
     "metadata": {},
     "output_type": "execute_result"
    }
   ],
   "source": [
    "ts.iloc[num+lags:num+lags+5]"
   ]
  },
  {
   "cell_type": "code",
   "execution_count": 19,
   "metadata": {
    "execution": {
     "iopub.execute_input": "2020-10-17T18:41:37.369950Z",
     "iopub.status.busy": "2020-10-17T18:41:37.369081Z",
     "iopub.status.idle": "2020-10-17T18:41:37.375084Z",
     "shell.execute_reply": "2020-10-17T18:41:37.375586Z"
    },
    "papermill": {
     "duration": 0.047441,
     "end_time": "2020-10-17T18:41:37.375788",
     "exception": false,
     "start_time": "2020-10-17T18:41:37.328347",
     "status": "completed"
    },
    "tags": []
   },
   "outputs": [
    {
     "data": {
      "text/plain": [
       "array([[10534.],\n",
       "       [ 9490.],\n",
       "       [10793.],\n",
       "       [ 9149.],\n",
       "       [ 8715.]], dtype=float32)"
      ]
     },
     "execution_count": 19,
     "metadata": {},
     "output_type": "execute_result"
    }
   ],
   "source": [
    "ytest[:5]"
   ]
  },
  {
   "cell_type": "code",
   "execution_count": 20,
   "metadata": {
    "execution": {
     "iopub.execute_input": "2020-10-17T18:41:37.446489Z",
     "iopub.status.busy": "2020-10-17T18:41:37.445559Z",
     "iopub.status.idle": "2020-10-17T18:41:37.452389Z",
     "shell.execute_reply": "2020-10-17T18:41:37.453163Z"
    },
    "papermill": {
     "duration": 0.044982,
     "end_time": "2020-10-17T18:41:37.453409",
     "exception": false,
     "start_time": "2020-10-17T18:41:37.408427",
     "status": "completed"
    },
    "tags": []
   },
   "outputs": [
    {
     "data": {
      "text/plain": [
       "array([[11718.094],\n",
       "       [11724.25 ],\n",
       "       [11731.676],\n",
       "       [11730.765],\n",
       "       [11731.86 ]], dtype=float32)"
      ]
     },
     "execution_count": 20,
     "metadata": {},
     "output_type": "execute_result"
    }
   ],
   "source": [
    "ypreds_test[:5]"
   ]
  },
  {
   "cell_type": "code",
   "execution_count": 21,
   "metadata": {
    "execution": {
     "iopub.execute_input": "2020-10-17T18:41:37.524080Z",
     "iopub.status.busy": "2020-10-17T18:41:37.523104Z",
     "iopub.status.idle": "2020-10-17T18:41:37.526564Z",
     "shell.execute_reply": "2020-10-17T18:41:37.527361Z"
    },
    "papermill": {
     "duration": 0.041667,
     "end_time": "2020-10-17T18:41:37.527631",
     "exception": false,
     "start_time": "2020-10-17T18:41:37.485964",
     "status": "completed"
    },
    "tags": []
   },
   "outputs": [],
   "source": [
    "# ytest and ypreds should have similar values if the model is working good."
   ]
  },
  {
   "cell_type": "markdown",
   "metadata": {
    "papermill": {
     "duration": 0.035143,
     "end_time": "2020-10-17T18:41:37.597460",
     "exception": false,
     "start_time": "2020-10-17T18:41:37.562317",
     "status": "completed"
    },
    "tags": []
   },
   "source": [
    "## GRU without scaling"
   ]
  },
  {
   "cell_type": "code",
   "execution_count": 22,
   "metadata": {
    "ExecuteTime": {
     "end_time": "2020-10-14T19:18:50.754395Z",
     "start_time": "2020-10-14T19:18:08.133478Z"
    },
    "execution": {
     "iopub.execute_input": "2020-10-17T18:41:37.692313Z",
     "iopub.status.busy": "2020-10-17T18:41:37.691441Z",
     "iopub.status.idle": "2020-10-17T18:42:19.975790Z",
     "shell.execute_reply": "2020-10-17T18:42:19.974293Z"
    },
    "papermill": {
     "duration": 42.343593,
     "end_time": "2020-10-17T18:42:19.976075",
     "exception": false,
     "start_time": "2020-10-17T18:41:37.632482",
     "status": "completed"
    },
    "tags": []
   },
   "outputs": [
    {
     "name": "stderr",
     "output_type": "stream",
     "text": [
      "/Users/poudel/opt/miniconda3/envs/tf2/lib/python3.7/site-packages/numpy/lib/function_base.py:2559: RuntimeWarning:\n",
      "\n",
      "invalid value encountered in true_divide\n",
      "\n",
      "/Users/poudel/opt/miniconda3/envs/tf2/lib/python3.7/site-packages/numpy/lib/function_base.py:2560: RuntimeWarning:\n",
      "\n",
      "invalid value encountered in true_divide\n",
      "\n"
     ]
    },
    {
     "data": {
      "text/html": [
       "<style  type=\"text/css\" >\n",
       "#T_7ccd38c8_10a8_11eb_8edb_acde48001122row0_col3{\n",
       "            background-color:  #00441b;\n",
       "            color:  #f1f1f1;\n",
       "        }#T_7ccd38c8_10a8_11eb_8edb_acde48001122row1_col3{\n",
       "            background-color:  #0b7734;\n",
       "            color:  #f1f1f1;\n",
       "        }#T_7ccd38c8_10a8_11eb_8edb_acde48001122row2_col3{\n",
       "            background-color:  #f7fcf5;\n",
       "            color:  #000000;\n",
       "        }</style><table id=\"T_7ccd38c8_10a8_11eb_8edb_acde48001122\" ><thead>    <tr>        <th class=\"blank level0\" ></th>        <th class=\"col_heading level0 col0\" >Model</th>        <th class=\"col_heading level0 col1\" >Description</th>        <th class=\"col_heading level0 col2\" >MAPE</th>        <th class=\"col_heading level0 col3\" >SMAPE</th>        <th class=\"col_heading level0 col4\" >RMSE</th>        <th class=\"col_heading level0 col5\" >ME</th>        <th class=\"col_heading level0 col6\" >MAE</th>        <th class=\"col_heading level0 col7\" >MPE</th>        <th class=\"col_heading level0 col8\" >CORR</th>        <th class=\"col_heading level0 col9\" >MINMAX</th>        <th class=\"col_heading level0 col10\" >ACF1</th>    </tr></thead><tbody>\n",
       "                <tr>\n",
       "                        <th id=\"T_7ccd38c8_10a8_11eb_8edb_acde48001122level0_row0\" class=\"row_heading level0 row0\" >0</th>\n",
       "                        <td id=\"T_7ccd38c8_10a8_11eb_8edb_acde48001122row0_col0\" class=\"data row0 col0\" >lstm</td>\n",
       "                        <td id=\"T_7ccd38c8_10a8_11eb_8edb_acde48001122row0_col1\" class=\"data row0 col1\" >minmax-scaling,lags=2</td>\n",
       "                        <td id=\"T_7ccd38c8_10a8_11eb_8edb_acde48001122row0_col2\" class=\"data row0 col2\" >25</td>\n",
       "                        <td id=\"T_7ccd38c8_10a8_11eb_8edb_acde48001122row0_col3\" class=\"data row0 col3\" >24.6649</td>\n",
       "                        <td id=\"T_7ccd38c8_10a8_11eb_8edb_acde48001122row0_col4\" class=\"data row0 col4\" >6,524</td>\n",
       "                        <td id=\"T_7ccd38c8_10a8_11eb_8edb_acde48001122row0_col5\" class=\"data row0 col5\" >353</td>\n",
       "                        <td id=\"T_7ccd38c8_10a8_11eb_8edb_acde48001122row0_col6\" class=\"data row0 col6\" >3,482</td>\n",
       "                        <td id=\"T_7ccd38c8_10a8_11eb_8edb_acde48001122row0_col7\" class=\"data row0 col7\" >-0</td>\n",
       "                        <td id=\"T_7ccd38c8_10a8_11eb_8edb_acde48001122row0_col8\" class=\"data row0 col8\" >0.6507</td>\n",
       "                        <td id=\"T_7ccd38c8_10a8_11eb_8edb_acde48001122row0_col9\" class=\"data row0 col9\" >0.2056</td>\n",
       "                        <td id=\"T_7ccd38c8_10a8_11eb_8edb_acde48001122row0_col10\" class=\"data row0 col10\" >0.6702</td>\n",
       "            </tr>\n",
       "            <tr>\n",
       "                        <th id=\"T_7ccd38c8_10a8_11eb_8edb_acde48001122level0_row1\" class=\"row_heading level0 row1\" >1</th>\n",
       "                        <td id=\"T_7ccd38c8_10a8_11eb_8edb_acde48001122row1_col0\" class=\"data row1 col0\" >gru</td>\n",
       "                        <td id=\"T_7ccd38c8_10a8_11eb_8edb_acde48001122row1_col1\" class=\"data row1 col1\" >lags=2</td>\n",
       "                        <td id=\"T_7ccd38c8_10a8_11eb_8edb_acde48001122row1_col2\" class=\"data row1 col2\" >40</td>\n",
       "                        <td id=\"T_7ccd38c8_10a8_11eb_8edb_acde48001122row1_col3\" class=\"data row1 col3\" >53.1378</td>\n",
       "                        <td id=\"T_7ccd38c8_10a8_11eb_8edb_acde48001122row1_col4\" class=\"data row1 col4\" >8,700</td>\n",
       "                        <td id=\"T_7ccd38c8_10a8_11eb_8edb_acde48001122row1_col5\" class=\"data row1 col5\" >5,739</td>\n",
       "                        <td id=\"T_7ccd38c8_10a8_11eb_8edb_acde48001122row1_col6\" class=\"data row1 col6\" >5,739</td>\n",
       "                        <td id=\"T_7ccd38c8_10a8_11eb_8edb_acde48001122row1_col7\" class=\"data row1 col7\" >0</td>\n",
       "                        <td id=\"T_7ccd38c8_10a8_11eb_8edb_acde48001122row1_col8\" class=\"data row1 col8\" >nan</td>\n",
       "                        <td id=\"T_7ccd38c8_10a8_11eb_8edb_acde48001122row1_col9\" class=\"data row1 col9\" >0.4031</td>\n",
       "                        <td id=\"T_7ccd38c8_10a8_11eb_8edb_acde48001122row1_col10\" class=\"data row1 col10\" >0.6727</td>\n",
       "            </tr>\n",
       "            <tr>\n",
       "                        <th id=\"T_7ccd38c8_10a8_11eb_8edb_acde48001122level0_row2\" class=\"row_heading level0 row2\" >2</th>\n",
       "                        <td id=\"T_7ccd38c8_10a8_11eb_8edb_acde48001122row2_col0\" class=\"data row2 col0\" >lstm</td>\n",
       "                        <td id=\"T_7ccd38c8_10a8_11eb_8edb_acde48001122row2_col1\" class=\"data row2 col1\" >lags=2</td>\n",
       "                        <td id=\"T_7ccd38c8_10a8_11eb_8edb_acde48001122row2_col2\" class=\"data row2 col2\" >99</td>\n",
       "                        <td id=\"T_7ccd38c8_10a8_11eb_8edb_acde48001122row2_col3\" class=\"data row2 col3\" >197.2470</td>\n",
       "                        <td id=\"T_7ccd38c8_10a8_11eb_8edb_acde48001122row2_col4\" class=\"data row2 col4\" >13,684</td>\n",
       "                        <td id=\"T_7ccd38c8_10a8_11eb_8edb_acde48001122row2_col5\" class=\"data row2 col5\" >12,021</td>\n",
       "                        <td id=\"T_7ccd38c8_10a8_11eb_8edb_acde48001122row2_col6\" class=\"data row2 col6\" >12,021</td>\n",
       "                        <td id=\"T_7ccd38c8_10a8_11eb_8edb_acde48001122row2_col7\" class=\"data row2 col7\" >1</td>\n",
       "                        <td id=\"T_7ccd38c8_10a8_11eb_8edb_acde48001122row2_col8\" class=\"data row2 col8\" >0.0502</td>\n",
       "                        <td id=\"T_7ccd38c8_10a8_11eb_8edb_acde48001122row2_col9\" class=\"data row2 col9\" >0.9931</td>\n",
       "                        <td id=\"T_7ccd38c8_10a8_11eb_8edb_acde48001122row2_col10\" class=\"data row2 col10\" >0.6727</td>\n",
       "            </tr>\n",
       "    </tbody></table>"
      ],
      "text/plain": [
       "<pandas.io.formats.style.Styler at 0x7fb522f9e750>"
      ]
     },
     "metadata": {},
     "output_type": "display_data"
    },
    {
     "name": "stdout",
     "output_type": "stream",
     "text": [
      "CPU times: user 1min 3s, sys: 5.98 s, total: 1min 9s\n",
      "Wall time: 42.3 s\n"
     ]
    }
   ],
   "source": [
    "%%time\n",
    "# parameters\n",
    "set_seed(SEED)\n",
    "lags = 2 # try different values 1 to 7.\n",
    "units = 4\n",
    "epochs = 100\n",
    "\n",
    "# timeseries data\n",
    "x = ts.to_numpy().reshape(-1,1)\n",
    "x = x.astype('float32')\n",
    "\n",
    "# train test split\n",
    "Xtrain,ytrain,Xtest,ytest = train_test_split_with_lags(x,lags=lags)\n",
    "\n",
    "# reshape input to be [samples, time steps, features]\n",
    "Xtrain = np.reshape(Xtrain, (Xtrain.shape[0], 1, Xtrain.shape[1]))\n",
    "Xtest  = np.reshape(Xtest, (Xtest.shape[0] , 1 , Xtest.shape[1]))\n",
    "\n",
    "# fit the model\n",
    "model = model_gru(Xtrain,ytrain,units=units,epochs=epochs,lags=lags)   \n",
    "\n",
    "# preds\n",
    "ypreds_train, ypreds_test = predict(model,scaler=None)\n",
    "\n",
    "model_name = 'gru'\n",
    "desc = 'lags=2'\n",
    "df_eval = timeseries_evaluation(model_name, desc, ytest.ravel(),\n",
    "                                ypreds_test.ravel(),\n",
    "                    df_eval=df_eval,show=True)"
   ]
  },
  {
   "cell_type": "markdown",
   "metadata": {
    "papermill": {
     "duration": 0.0312,
     "end_time": "2020-10-17T18:42:20.043091",
     "exception": false,
     "start_time": "2020-10-17T18:42:20.011891",
     "status": "completed"
    },
    "tags": []
   },
   "source": [
    "## GRU with min-max scaling"
   ]
  },
  {
   "cell_type": "code",
   "execution_count": 23,
   "metadata": {
    "ExecuteTime": {
     "end_time": "2020-10-14T19:19:26.853181Z",
     "start_time": "2020-10-14T19:18:50.757258Z"
    },
    "execution": {
     "iopub.execute_input": "2020-10-17T18:42:20.131780Z",
     "iopub.status.busy": "2020-10-17T18:42:20.130724Z",
     "iopub.status.idle": "2020-10-17T18:43:02.555939Z",
     "shell.execute_reply": "2020-10-17T18:43:02.555231Z"
    },
    "papermill": {
     "duration": 42.479999,
     "end_time": "2020-10-17T18:43:02.556172",
     "exception": false,
     "start_time": "2020-10-17T18:42:20.076173",
     "status": "completed"
    },
    "scrolled": true,
    "tags": []
   },
   "outputs": [
    {
     "data": {
      "text/html": [
       "<style  type=\"text/css\" >\n",
       "#T_962e2250_10a8_11eb_8edb_acde48001122row0_col3{\n",
       "            background-color:  #00441b;\n",
       "            color:  #f1f1f1;\n",
       "        }#T_962e2250_10a8_11eb_8edb_acde48001122row1_col3{\n",
       "            background-color:  #0b7734;\n",
       "            color:  #f1f1f1;\n",
       "        }#T_962e2250_10a8_11eb_8edb_acde48001122row2_col3{\n",
       "            background-color:  #39a257;\n",
       "            color:  #000000;\n",
       "        }#T_962e2250_10a8_11eb_8edb_acde48001122row3_col3{\n",
       "            background-color:  #f7fcf5;\n",
       "            color:  #000000;\n",
       "        }</style><table id=\"T_962e2250_10a8_11eb_8edb_acde48001122\" ><thead>    <tr>        <th class=\"blank level0\" ></th>        <th class=\"col_heading level0 col0\" >Model</th>        <th class=\"col_heading level0 col1\" >Description</th>        <th class=\"col_heading level0 col2\" >MAPE</th>        <th class=\"col_heading level0 col3\" >SMAPE</th>        <th class=\"col_heading level0 col4\" >RMSE</th>        <th class=\"col_heading level0 col5\" >ME</th>        <th class=\"col_heading level0 col6\" >MAE</th>        <th class=\"col_heading level0 col7\" >MPE</th>        <th class=\"col_heading level0 col8\" >CORR</th>        <th class=\"col_heading level0 col9\" >MINMAX</th>        <th class=\"col_heading level0 col10\" >ACF1</th>    </tr></thead><tbody>\n",
       "                <tr>\n",
       "                        <th id=\"T_962e2250_10a8_11eb_8edb_acde48001122level0_row0\" class=\"row_heading level0 row0\" >0</th>\n",
       "                        <td id=\"T_962e2250_10a8_11eb_8edb_acde48001122row0_col0\" class=\"data row0 col0\" >lstm</td>\n",
       "                        <td id=\"T_962e2250_10a8_11eb_8edb_acde48001122row0_col1\" class=\"data row0 col1\" >minmax-scaling,lags=2</td>\n",
       "                        <td id=\"T_962e2250_10a8_11eb_8edb_acde48001122row0_col2\" class=\"data row0 col2\" >25</td>\n",
       "                        <td id=\"T_962e2250_10a8_11eb_8edb_acde48001122row0_col3\" class=\"data row0 col3\" >24.6649</td>\n",
       "                        <td id=\"T_962e2250_10a8_11eb_8edb_acde48001122row0_col4\" class=\"data row0 col4\" >6,524</td>\n",
       "                        <td id=\"T_962e2250_10a8_11eb_8edb_acde48001122row0_col5\" class=\"data row0 col5\" >353</td>\n",
       "                        <td id=\"T_962e2250_10a8_11eb_8edb_acde48001122row0_col6\" class=\"data row0 col6\" >3,482</td>\n",
       "                        <td id=\"T_962e2250_10a8_11eb_8edb_acde48001122row0_col7\" class=\"data row0 col7\" >-0</td>\n",
       "                        <td id=\"T_962e2250_10a8_11eb_8edb_acde48001122row0_col8\" class=\"data row0 col8\" >0.6507</td>\n",
       "                        <td id=\"T_962e2250_10a8_11eb_8edb_acde48001122row0_col9\" class=\"data row0 col9\" >0.2056</td>\n",
       "                        <td id=\"T_962e2250_10a8_11eb_8edb_acde48001122row0_col10\" class=\"data row0 col10\" >0.6702</td>\n",
       "            </tr>\n",
       "            <tr>\n",
       "                        <th id=\"T_962e2250_10a8_11eb_8edb_acde48001122level0_row1\" class=\"row_heading level0 row1\" >1</th>\n",
       "                        <td id=\"T_962e2250_10a8_11eb_8edb_acde48001122row1_col0\" class=\"data row1 col0\" >gru</td>\n",
       "                        <td id=\"T_962e2250_10a8_11eb_8edb_acde48001122row1_col1\" class=\"data row1 col1\" >lags=2</td>\n",
       "                        <td id=\"T_962e2250_10a8_11eb_8edb_acde48001122row1_col2\" class=\"data row1 col2\" >40</td>\n",
       "                        <td id=\"T_962e2250_10a8_11eb_8edb_acde48001122row1_col3\" class=\"data row1 col3\" >53.1378</td>\n",
       "                        <td id=\"T_962e2250_10a8_11eb_8edb_acde48001122row1_col4\" class=\"data row1 col4\" >8,700</td>\n",
       "                        <td id=\"T_962e2250_10a8_11eb_8edb_acde48001122row1_col5\" class=\"data row1 col5\" >5,739</td>\n",
       "                        <td id=\"T_962e2250_10a8_11eb_8edb_acde48001122row1_col6\" class=\"data row1 col6\" >5,739</td>\n",
       "                        <td id=\"T_962e2250_10a8_11eb_8edb_acde48001122row1_col7\" class=\"data row1 col7\" >0</td>\n",
       "                        <td id=\"T_962e2250_10a8_11eb_8edb_acde48001122row1_col8\" class=\"data row1 col8\" >nan</td>\n",
       "                        <td id=\"T_962e2250_10a8_11eb_8edb_acde48001122row1_col9\" class=\"data row1 col9\" >0.4031</td>\n",
       "                        <td id=\"T_962e2250_10a8_11eb_8edb_acde48001122row1_col10\" class=\"data row1 col10\" >0.6727</td>\n",
       "            </tr>\n",
       "            <tr>\n",
       "                        <th id=\"T_962e2250_10a8_11eb_8edb_acde48001122level0_row2\" class=\"row_heading level0 row2\" >2</th>\n",
       "                        <td id=\"T_962e2250_10a8_11eb_8edb_acde48001122row2_col0\" class=\"data row2 col0\" >gru</td>\n",
       "                        <td id=\"T_962e2250_10a8_11eb_8edb_acde48001122row2_col1\" class=\"data row2 col1\" >minmax-scaling,lags=2</td>\n",
       "                        <td id=\"T_962e2250_10a8_11eb_8edb_acde48001122row2_col2\" class=\"data row2 col2\" >58</td>\n",
       "                        <td id=\"T_962e2250_10a8_11eb_8edb_acde48001122row2_col3\" class=\"data row2 col3\" >83.6176</td>\n",
       "                        <td id=\"T_962e2250_10a8_11eb_8edb_acde48001122row2_col4\" class=\"data row2 col4\" >8,920</td>\n",
       "                        <td id=\"T_962e2250_10a8_11eb_8edb_acde48001122row2_col5\" class=\"data row2 col5\" >7,131</td>\n",
       "                        <td id=\"T_962e2250_10a8_11eb_8edb_acde48001122row2_col6\" class=\"data row2 col6\" >7,177</td>\n",
       "                        <td id=\"T_962e2250_10a8_11eb_8edb_acde48001122row2_col7\" class=\"data row2 col7\" >1</td>\n",
       "                        <td id=\"T_962e2250_10a8_11eb_8edb_acde48001122row2_col8\" class=\"data row2 col8\" >0.5816</td>\n",
       "                        <td id=\"T_962e2250_10a8_11eb_8edb_acde48001122row2_col9\" class=\"data row2 col9\" >0.5801</td>\n",
       "                        <td id=\"T_962e2250_10a8_11eb_8edb_acde48001122row2_col10\" class=\"data row2 col10\" >0.0737</td>\n",
       "            </tr>\n",
       "            <tr>\n",
       "                        <th id=\"T_962e2250_10a8_11eb_8edb_acde48001122level0_row3\" class=\"row_heading level0 row3\" >3</th>\n",
       "                        <td id=\"T_962e2250_10a8_11eb_8edb_acde48001122row3_col0\" class=\"data row3 col0\" >lstm</td>\n",
       "                        <td id=\"T_962e2250_10a8_11eb_8edb_acde48001122row3_col1\" class=\"data row3 col1\" >lags=2</td>\n",
       "                        <td id=\"T_962e2250_10a8_11eb_8edb_acde48001122row3_col2\" class=\"data row3 col2\" >99</td>\n",
       "                        <td id=\"T_962e2250_10a8_11eb_8edb_acde48001122row3_col3\" class=\"data row3 col3\" >197.2470</td>\n",
       "                        <td id=\"T_962e2250_10a8_11eb_8edb_acde48001122row3_col4\" class=\"data row3 col4\" >13,684</td>\n",
       "                        <td id=\"T_962e2250_10a8_11eb_8edb_acde48001122row3_col5\" class=\"data row3 col5\" >12,021</td>\n",
       "                        <td id=\"T_962e2250_10a8_11eb_8edb_acde48001122row3_col6\" class=\"data row3 col6\" >12,021</td>\n",
       "                        <td id=\"T_962e2250_10a8_11eb_8edb_acde48001122row3_col7\" class=\"data row3 col7\" >1</td>\n",
       "                        <td id=\"T_962e2250_10a8_11eb_8edb_acde48001122row3_col8\" class=\"data row3 col8\" >0.0502</td>\n",
       "                        <td id=\"T_962e2250_10a8_11eb_8edb_acde48001122row3_col9\" class=\"data row3 col9\" >0.9931</td>\n",
       "                        <td id=\"T_962e2250_10a8_11eb_8edb_acde48001122row3_col10\" class=\"data row3 col10\" >0.6727</td>\n",
       "            </tr>\n",
       "    </tbody></table>"
      ],
      "text/plain": [
       "<pandas.io.formats.style.Styler at 0x7fb4de0764d0>"
      ]
     },
     "metadata": {},
     "output_type": "display_data"
    },
    {
     "name": "stdout",
     "output_type": "stream",
     "text": [
      "CPU times: user 1min 3s, sys: 6.13 s, total: 1min 10s\n",
      "Wall time: 42.4 s\n"
     ]
    }
   ],
   "source": [
    "%%time\n",
    "# parameters\n",
    "set_seed(SEED)\n",
    "lags = 2 # try different values 1 to 7.\n",
    "units = 4\n",
    "epochs = 100\n",
    "\n",
    "# timeseries data\n",
    "x = ts.to_numpy().reshape(-1,1)\n",
    "x = x.astype('float32')  \n",
    "\n",
    "# normalize the x\n",
    "scaler = MinMaxScaler(feature_range=(0, 1))\n",
    "x_scaled = scaler.fit_transform(x)\n",
    "\n",
    "# train test split\n",
    "Xtrain,ytrain,Xtest,ytest = train_test_split_with_lags(x_scaled,lags=lags)\n",
    "\n",
    "# reshape input to be [samples, time steps, features]\n",
    "Xtrain = np.reshape(Xtrain, (Xtrain.shape[0], 1, Xtrain.shape[1]))\n",
    "Xtest  = np.reshape(Xtest , (Xtest.shape[0] , 1, Xtest.shape[1]))\n",
    "\n",
    "# fit the model\n",
    "model = model_gru(Xtrain,ytrain,units=units,epochs=epochs,lags=lags)   \n",
    "\n",
    "# preds\n",
    "ypreds_train, ypreds_test = predict(model,scaler)\n",
    "\n",
    "# if scaler used, inverse transform ytest\n",
    "ytest = scaler.inverse_transform(ytest.reshape(-1,1))\n",
    "\n",
    "model_name = 'gru'\n",
    "desc = 'minmax-scaling,lags=2'\n",
    "df_eval = timeseries_evaluation(model_name, desc, ytest.flatten(), ypreds_test.flatten(),\n",
    "                    df_eval=df_eval,show=True)"
   ]
  },
  {
   "cell_type": "markdown",
   "metadata": {
    "papermill": {
     "duration": 0.038419,
     "end_time": "2020-10-17T18:43:02.633717",
     "exception": false,
     "start_time": "2020-10-17T18:43:02.595298",
     "status": "completed"
    },
    "tags": []
   },
   "source": [
    "# Model Evaluation"
   ]
  },
  {
   "cell_type": "markdown",
   "metadata": {
    "tags": [
     "papermill-error-cell-tag"
    ]
   },
   "source": [
    "<span id=\"papermill-error-cell\" style=\"color:red; font-family:Helvetica Neue, Helvetica, Arial, sans-serif; font-size:2em;\">Execution using papermill encountered an exception here and stopped:</span>"
   ]
  },
  {
   "cell_type": "code",
   "execution_count": 24,
   "metadata": {
    "ExecuteTime": {
     "end_time": "2020-10-14T19:19:27.253428Z",
     "start_time": "2020-10-14T19:19:26.855553Z"
    },
    "execution": {
     "iopub.execute_input": "2020-10-17T18:43:02.716567Z",
     "iopub.status.busy": "2020-10-17T18:43:02.714017Z",
     "iopub.status.idle": "2020-10-17T18:43:03.520265Z",
     "shell.execute_reply": "2020-10-17T18:43:03.518728Z"
    },
    "papermill": {
     "duration": 0.853307,
     "end_time": "2020-10-17T18:43:03.520548",
     "exception": true,
     "start_time": "2020-10-17T18:43:02.667241",
     "status": "failed"
    },
    "tags": []
   },
   "outputs": [
    {
     "ename": "NameError",
     "evalue": "name 'lag' is not defined",
     "output_type": "error",
     "traceback": [
      "\u001b[0;31m---------------------------------------------------------------------------\u001b[0m",
      "\u001b[0;31mNameError\u001b[0m                                 Traceback (most recent call last)",
      "\u001b[0;32m<ipython-input-24-4a9dd6f14135>\u001b[0m in \u001b[0;36m<module>\u001b[0;34m\u001b[0m\n\u001b[1;32m      1\u001b[0m \u001b[0;31m# prediction plot\u001b[0m\u001b[0;34m\u001b[0m\u001b[0;34m\u001b[0m\u001b[0;34m\u001b[0m\u001b[0m\n\u001b[1;32m      2\u001b[0m \u001b[0mx_scaled\u001b[0m \u001b[0;34m=\u001b[0m \u001b[0mscaler\u001b[0m\u001b[0;34m.\u001b[0m\u001b[0minverse_transform\u001b[0m\u001b[0;34m(\u001b[0m\u001b[0mx_scaled\u001b[0m\u001b[0;34m)\u001b[0m\u001b[0;34m\u001b[0m\u001b[0;34m\u001b[0m\u001b[0m\n\u001b[0;32m----> 3\u001b[0;31m \u001b[0mprediction_plot\u001b[0m\u001b[0;34m(\u001b[0m\u001b[0mx_scaled\u001b[0m\u001b[0;34m,\u001b[0m\u001b[0mlags\u001b[0m\u001b[0;34m,\u001b[0m\u001b[0mypreds_train\u001b[0m\u001b[0;34m,\u001b[0m\u001b[0mypreds_test\u001b[0m\u001b[0;34m)\u001b[0m\u001b[0;34m\u001b[0m\u001b[0;34m\u001b[0m\u001b[0m\n\u001b[0m",
      "\u001b[0;32m<ipython-input-13-c56f1c1c974c>\u001b[0m in \u001b[0;36mprediction_plot\u001b[0;34m(x, lags, ypreds_train, ypreds_test)\u001b[0m\n\u001b[1;32m     15\u001b[0m     \u001b[0mypred_train_plot\u001b[0m \u001b[0;34m=\u001b[0m \u001b[0mnp\u001b[0m\u001b[0;34m.\u001b[0m\u001b[0mempty_like\u001b[0m\u001b[0;34m(\u001b[0m\u001b[0mx\u001b[0m\u001b[0;34m)\u001b[0m\u001b[0;34m\u001b[0m\u001b[0;34m\u001b[0m\u001b[0m\n\u001b[1;32m     16\u001b[0m     \u001b[0mypred_train_plot\u001b[0m\u001b[0;34m[\u001b[0m\u001b[0;34m:\u001b[0m\u001b[0;34m,\u001b[0m \u001b[0;34m:\u001b[0m\u001b[0;34m]\u001b[0m \u001b[0;34m=\u001b[0m \u001b[0mnp\u001b[0m\u001b[0;34m.\u001b[0m\u001b[0mnan\u001b[0m\u001b[0;34m\u001b[0m\u001b[0;34m\u001b[0m\u001b[0m\n\u001b[0;32m---> 17\u001b[0;31m     \u001b[0mypred_train_plot\u001b[0m\u001b[0;34m[\u001b[0m\u001b[0mlag\u001b[0m\u001b[0;34m:\u001b[0m\u001b[0mlen\u001b[0m\u001b[0;34m(\u001b[0m\u001b[0mypreds_train\u001b[0m\u001b[0;34m)\u001b[0m\u001b[0;34m+\u001b[0m\u001b[0mlags\u001b[0m\u001b[0;34m,\u001b[0m \u001b[0;34m:\u001b[0m\u001b[0;34m]\u001b[0m \u001b[0;34m=\u001b[0m \u001b[0mypreds_train\u001b[0m\u001b[0;34m\u001b[0m\u001b[0;34m\u001b[0m\u001b[0m\n\u001b[0m\u001b[1;32m     18\u001b[0m \u001b[0;34m\u001b[0m\u001b[0m\n\u001b[1;32m     19\u001b[0m     \u001b[0;31m# shift test predictions for plotting\u001b[0m\u001b[0;34m\u001b[0m\u001b[0;34m\u001b[0m\u001b[0;34m\u001b[0m\u001b[0m\n",
      "\u001b[0;31mNameError\u001b[0m: name 'lag' is not defined"
     ]
    }
   ],
   "source": [
    "# prediction plot\n",
    "x_scaled = scaler.inverse_transform(x_scaled)\n",
    "prediction_plot(x_scaled,lags,ypreds_train,ypreds_test)"
   ]
  },
  {
   "cell_type": "markdown",
   "metadata": {
    "papermill": {
     "duration": null,
     "end_time": null,
     "exception": null,
     "start_time": null,
     "status": "pending"
    },
    "tags": []
   },
   "source": [
    "## SMAPE predictions\n",
    "\n",
    "- Wikipedia: https://www.wikiwand.com/en/Symmetric_mean_absolute_percentage_error \n",
    "\n",
    "\n",
    "The formula for SMAPE (Symmetric Mean Absolute Percentage Error) is given below:  \n",
    "\n",
    "$$\n",
    "S M A P E=\\frac{100 \\%}{n} \\sum_{t=1}^{n} \\frac{\\left|F_{t}-A_{t}\\right|}{\\left(\\left|A_{t}\\right|+\\left|F_{t}\\right|\\right) / 2}\n",
    "$$\n",
    "\n",
    "Where, F is forecast and A is the actual value of time series at given time t.\n",
    "\n",
    "Python implementation:\n",
    "```python\n",
    "def smape(A, F):\n",
    "    F = A[:len(A)]\n",
    "    return ( 200.0/len(A) * np.sum(  np.abs(F - A) / \n",
    "                                  (np.abs(A) + np.abs(F) + np.finfo(float).eps))\n",
    "           )\n",
    "```\n",
    "\n",
    "Despite the name Symmetric, the smape is not actually symmetric. Take this\n",
    "example from [wikipedia](https://www.wikiwand.com/en/Symmetric_mean_absolute_percentage_error) for an example:\n",
    "\n",
    "The SMAPE is not symmetric since over- and under-forecasts are not treated equally. \n",
    "This is illustrated by the following example by applying the SMAPE formula:\n",
    "\n",
    "```\n",
    "Over-forecasting : At = 100 and Ft = 110 gives SMAPE = 4.76%\n",
    "Under-forecasting: At = 100 and Ft = 90  gives SMAPE = 5.26%.\n",
    "\n",
    "\n",
    "SMAPE lies between 0 to 200.\n",
    "0 is best and 200 is the worst.\n",
    "```"
   ]
  },
  {
   "cell_type": "code",
   "execution_count": null,
   "metadata": {
    "papermill": {
     "duration": null,
     "end_time": null,
     "exception": null,
     "start_time": null,
     "status": "pending"
    },
    "tags": []
   },
   "outputs": [],
   "source": []
  }
 ],
 "metadata": {
  "kernelspec": {
   "display_name": "Python (tf2)",
   "language": "python",
   "name": "tf2"
  },
  "language_info": {
   "codemirror_mode": {
    "name": "ipython",
    "version": 3
   },
   "file_extension": ".py",
   "mimetype": "text/x-python",
   "name": "python",
   "nbconvert_exporter": "python",
   "pygments_lexer": "ipython3",
   "version": "3.7.7"
  },
  "papermill": {
   "default_parameters": {},
   "duration": 187.380706,
   "end_time": "2020-10-17T18:43:04.942212",
   "environment_variables": {},
   "exception": true,
   "input_path": "h01b_timeseries_modelling_deep_learning_detail.ipynb",
   "output_path": "test_nb_runs/out_h01b_timeseries_modelling_deep_learning_detail.ipynb",
   "parameters": {},
   "start_time": "2020-10-17T18:39:57.561506",
   "version": "2.2.0"
  },
  "toc": {
   "base_numbering": 1,
   "nav_menu": {},
   "number_sections": true,
   "sideBar": true,
   "skip_h1_title": false,
   "title_cell": "Table of Contents",
   "title_sidebar": "Contents",
   "toc_cell": true,
   "toc_position": {},
   "toc_section_display": true,
   "toc_window_display": true
  },
  "varInspector": {
   "cols": {
    "lenName": 16,
    "lenType": 16,
    "lenVar": 40
   },
   "kernels_config": {
    "python": {
     "delete_cmd_postfix": "",
     "delete_cmd_prefix": "del ",
     "library": "var_list.py",
     "varRefreshCmd": "print(var_dic_list())"
    },
    "r": {
     "delete_cmd_postfix": ") ",
     "delete_cmd_prefix": "rm(",
     "library": "var_list.r",
     "varRefreshCmd": "cat(var_dic_list()) "
    }
   },
   "types_to_exclude": [
    "module",
    "function",
    "builtin_function_or_method",
    "instance",
    "_Feature"
   ],
   "window_display": false
  }
 },
 "nbformat": 4,
 "nbformat_minor": 4
}