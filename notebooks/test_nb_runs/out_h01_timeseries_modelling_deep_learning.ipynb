{
 "cells": [
  {
   "cell_type": "markdown",
   "metadata": {
    "papermill": {
     "duration": 0.025222,
     "end_time": "2020-10-17T18:36:45.359528",
     "exception": false,
     "start_time": "2020-10-17T18:36:45.334306",
     "status": "completed"
    },
    "tags": [],
    "toc": true
   },
   "source": [
    "<h1>Table of Contents<span class=\"tocSkip\"></span></h1>\n",
    "<div class=\"toc\"><ul class=\"toc-item\"><li><span><a href=\"#Data-Description\" data-toc-modified-id=\"Data-Description-1\"><span class=\"toc-item-num\">1&nbsp;&nbsp;</span>Data Description</a></span></li><li><span><a href=\"#Introduction-to-RNN-and-LSTM\" data-toc-modified-id=\"Introduction-to-RNN-and-LSTM-2\"><span class=\"toc-item-num\">2&nbsp;&nbsp;</span>Introduction to RNN and LSTM</a></span></li><li><span><a href=\"#Load-the-libraries\" data-toc-modified-id=\"Load-the-libraries-3\"><span class=\"toc-item-num\">3&nbsp;&nbsp;</span>Load the libraries</a></span></li><li><span><a href=\"#Useful-Functions\" data-toc-modified-id=\"Useful-Functions-4\"><span class=\"toc-item-num\">4&nbsp;&nbsp;</span>Useful Functions</a></span></li><li><span><a href=\"#Load-the-data\" data-toc-modified-id=\"Load-the-data-5\"><span class=\"toc-item-num\">5&nbsp;&nbsp;</span>Load the data</a></span></li><li><span><a href=\"#Modelling-Functions\" data-toc-modified-id=\"Modelling-Functions-6\"><span class=\"toc-item-num\">6&nbsp;&nbsp;</span>Modelling Functions</a></span></li><li><span><a href=\"#Modelling\" data-toc-modified-id=\"Modelling-7\"><span class=\"toc-item-num\">7&nbsp;&nbsp;</span>Modelling</a></span><ul class=\"toc-item\"><li><span><a href=\"#SMAPE-predictions\" data-toc-modified-id=\"SMAPE-predictions-7.1\"><span class=\"toc-item-num\">7.1&nbsp;&nbsp;</span>SMAPE predictions</a></span></li></ul></li></ul></div>"
   ]
  },
  {
   "cell_type": "markdown",
   "metadata": {
    "papermill": {
     "duration": 0.020949,
     "end_time": "2020-10-17T18:36:45.403414",
     "exception": false,
     "start_time": "2020-10-17T18:36:45.382465",
     "status": "completed"
    },
    "tags": []
   },
   "source": [
    "# Data Description\n",
    "\n",
    "Reference: https://www.kaggle.com/c/web-traffic-time-series-forecasting/data\n",
    "\n",
    "```\n",
    "Original data: train_1.csv\n",
    "-----------------------------\n",
    "rows = 145,063\n",
    "columns = 551\n",
    "first column = Page\n",
    "date columns = 2015-07-01, 2015-07-02, ..., 2016-12-31 (550 columns)\n",
    "file size: 284.6 MB\n",
    "\n",
    "```"
   ]
  },
  {
   "cell_type": "markdown",
   "metadata": {
    "papermill": {
     "duration": 0.025065,
     "end_time": "2020-10-17T18:36:45.451419",
     "exception": false,
     "start_time": "2020-10-17T18:36:45.426354",
     "status": "completed"
    },
    "tags": []
   },
   "source": [
    "# Introduction to RNN and LSTM\n",
    "References: \n",
    "- https://www.kaggle.com/thebrownviking20/intro-to-recurrent-neural-networks-lstm-gru\n",
    "- https://www.youtube.com/watch?v=UNmqTiOnRfg&t=3s\n",
    "- https://medium.com/deep-math-machine-learning-ai/chapter-10-1-deepnlp-lstm-long-short-term-memory-networks-with-math-21477f8e4235\n",
    "- https://machinelearningmastery.com/how-to-develop-lstm-models-for-time-series-forecasting/\n",
    "- https://machinelearningmastery.com/time-series-prediction-lstm-recurrent-neural-networks-python-keras/\n",
    "**Recurrent Neural Networks** \n",
    "\n",
    "In a recurrent neural network we store the output activations from one or more of the layers of the network. Often these are hidden later activations. Then, the next time we feed an input example to the network, we include the previously-stored outputs as additional inputs. You can think of the additional inputs as being concatenated to the end of the “normal” inputs to the previous layer. For example, if a hidden layer had 10 regular input nodes and 128 hidden nodes in the layer, then it would actually have 138 total inputs (assuming you are feeding the layer’s outputs into itself à la Elman) rather than into another layer). Of course, the very first time you try to compute the output of the network you’ll need to fill in those extra 128 inputs with 0s or something.\n",
    "\n",
    "![](../images/rnn.png)\n",
    "\n",
    "Now, even though RNNs are quite powerful, they suffer from Vanishing gradient problem which hinders them from using long term information, like they are good for storing memory 3-4 instances of past iterations but larger number of instances don't provide good results so we don't just use regular RNNs. Instead, we use a better variation of RNNs: Long Short Term Networks(LSTM).\n",
    "\n",
    "**What is Vanishing Gradient problem?**  \n",
    "Vanishing gradient problem is a difficulty found in training artificial neural networks with gradient-based learning methods and backpropagation. In such methods, each of the neural network's weights receives an update proportional to the partial derivative of the error function with respect to the current weight in each iteration of training. The problem is that in some cases, the gradient will be vanishingly small, effectively preventing the weight from changing its value. In the worst case, this may completely stop the neural network from further training. As one example of the problem cause, traditional activation functions such as the hyperbolic tangent function have gradients in the range (0, 1), and backpropagation computes gradients by the chain rule. This has the effect of multiplying n of these small numbers to compute gradients of the \"front\" layers in an n-layer network, meaning that the gradient (error signal) decreases exponentially with n while the front layers train very slowly.\n",
    "\n",
    "![](../images/vanishing_gradient.png)\n",
    "\n",
    "**Long Short Term Memory(LSTM)**  \n",
    "Long short-term memory (LSTM) units (or blocks) are a building unit for layers of a recurrent neural network (RNN). A RNN composed of LSTM units is often called an LSTM network. A common LSTM unit is composed of a cell, an input gate, an output gate and a forget gate. The cell is responsible for \"remembering\" values over arbitrary time intervals; hence the word \"memory\" in LSTM. Each of the three gates can be thought of as a \"conventional\" artificial neuron, as in a multi-layer (or feedforward) neural network: that is, they compute an activation (using an activation function) of a weighted sum. Intuitively, they can be thought as regulators of the flow of values that goes through the connections of the LSTM; hence the denotation \"gate\". There are connections between these gates and the cell.\n",
    "\n",
    "The expression long short-term refers to the fact that LSTM is a model for the short-term memory which can last for a long period of time. An LSTM is well-suited to classify, process and predict time series given time lags of unknown size and duration between important events. LSTMs were developed to deal with the exploding and vanishing gradient problem when training traditional RNNs.\n",
    "\n",
    "![](../images/lstm.png)\n",
    "\n",
    "\n",
    "**Components of LSTMs**  \n",
    "So the LSTM cell contains the following components\n",
    "\n",
    "- Forget Gate “f” ( a neural network with sigmoid)\n",
    "- Candidate layer “C\"(a NN with Tanh)\n",
    "- Input Gate “I” ( a NN with sigmoid )\n",
    "- Output Gate “O”( a NN with sigmoid)\n",
    "- Hidden state “H” ( a vector )\n",
    "- Memory state “C” ( a vector)\n",
    "\n",
    "- Inputs to the LSTM cell at any step are Xt (current input) , Ht-1 (previous hidden state ) and Ct-1 (previous memory state).\n",
    "\n",
    "- Outputs from the LSTM cell are Ht (current hidden state ) and Ct (current memory state)\n",
    "\n",
    "**Working of gates in LSTMs**  \n",
    "First, LSTM cell takes the previous memory state Ct-1 and does element wise multiplication with forget gate (f) to decide if present memory state Ct. If forget gate value is 0 then previous memory state is completely forgotten else f forget gate value is 1 then previous memory state is completely passed to the cell ( Remember f gate gives values between 0 and 1 ).\n",
    "\n",
    "Ct = Ct-1 * ft\n",
    "\n",
    "Calculating the new memory state:\n",
    "\n",
    "Ct = Ct + (It * C`t)\n",
    "\n",
    "Now, we calculate the output:\n",
    "\n",
    "Ht = tanh(Ct)"
   ]
  },
  {
   "cell_type": "markdown",
   "metadata": {
    "papermill": {
     "duration": 0.026237,
     "end_time": "2020-10-17T18:36:45.498965",
     "exception": false,
     "start_time": "2020-10-17T18:36:45.472728",
     "status": "completed"
    },
    "tags": []
   },
   "source": [
    "# Load the libraries"
   ]
  },
  {
   "cell_type": "code",
   "execution_count": 1,
   "metadata": {
    "ExecuteTime": {
     "end_time": "2020-10-14T19:16:41.216712Z",
     "start_time": "2020-10-14T19:16:41.133152Z"
    },
    "execution": {
     "iopub.execute_input": "2020-10-17T18:36:45.547075Z",
     "iopub.status.busy": "2020-10-17T18:36:45.545500Z",
     "iopub.status.idle": "2020-10-17T18:36:49.407935Z",
     "shell.execute_reply": "2020-10-17T18:36:49.408569Z"
    },
    "papermill": {
     "duration": 3.888347,
     "end_time": "2020-10-17T18:36:49.409328",
     "exception": false,
     "start_time": "2020-10-17T18:36:45.520981",
     "status": "completed"
    },
    "tags": []
   },
   "outputs": [
    {
     "data": {
      "text/html": [
       "        <script type=\"text/javascript\">\n",
       "        window.PlotlyConfig = {MathJaxConfig: 'local'};\n",
       "        if (window.MathJax) {MathJax.Hub.Config({SVG: {font: \"STIX-Web\"}});}\n",
       "        if (typeof require !== 'undefined') {\n",
       "        require.undef(\"plotly\");\n",
       "        requirejs.config({\n",
       "            paths: {\n",
       "                'plotly': ['https://cdn.plot.ly/plotly-latest.min']\n",
       "            }\n",
       "        });\n",
       "        require(['plotly'], function(Plotly) {\n",
       "            window._Plotly = Plotly;\n",
       "        });\n",
       "        }\n",
       "        </script>\n",
       "        "
      ]
     },
     "metadata": {},
     "output_type": "display_data"
    },
    {
     "name": "stdout",
     "output_type": "stream",
     "text": [
      "Bhishan Poudel 2020-10-17 \n",
      "\n",
      "CPython 3.7.7\n",
      "IPython 7.13.0\n",
      "\n",
      "compiler   : Clang 4.0.1 (tags/RELEASE_401/final)\n",
      "system     : Darwin\n",
      "release    : 19.6.0\n",
      "machine    : x86_64\n",
      "processor  : i386\n",
      "CPU cores  : 4\n",
      "interpreter: 64bit\n",
      "\n",
      "matplotlib 3.2.1\n",
      "IPython    7.13.0\n",
      "watermark  2.0.2\n",
      "keras      2.4.3\n",
      "pandas     1.1.1\n",
      "numpy      1.19.1\n",
      "seaborn    0.10.1\n",
      "tensorflow 2.3.0\n",
      "\n"
     ]
    }
   ],
   "source": [
    "import numpy as np\n",
    "import pandas as pd\n",
    "import seaborn as sns\n",
    "sns.set(color_codes=True)\n",
    "\n",
    "import matplotlib\n",
    "import matplotlib.pyplot as plt\n",
    "%matplotlib inline\n",
    "%config InlineBackend.figure_format = 'retina'\n",
    "sns.set(context='notebook', style='whitegrid', rc={'figure.figsize': (12,8)})\n",
    "plt.style.use('fivethirtyeight') # better than sns styles.\n",
    "matplotlib.rcParams['figure.figsize'] = 12,8\n",
    "\n",
    "import os\n",
    "import time\n",
    "\n",
    "# random state\n",
    "SEED=100\n",
    "np.random.seed(SEED)\n",
    "\n",
    "# Jupyter notebook settings for pandas\n",
    "#pd.set_option('display.float_format', '{:,.2g}'.format) # numbers sep by comma\n",
    "from pandas.api.types import CategoricalDtype\n",
    "np.set_printoptions(precision=3)\n",
    "pd.set_option('display.max_columns', 100)\n",
    "pd.set_option('display.max_rows', 100) # None for all the rows\n",
    "pd.set_option('display.max_colwidth', 200)\n",
    "\n",
    "import IPython\n",
    "from IPython.display import display, HTML, Image, Markdown\n",
    "\n",
    "from sklearn.preprocessing import MinMaxScaler\n",
    "from sklearn.metrics import mean_squared_error\n",
    "from sklearn.model_selection import train_test_split\n",
    "\n",
    "import tensorflow\n",
    "import keras\n",
    "from keras import optimizers\n",
    "from keras.optimizers import SGD\n",
    "from keras.models import Model, Sequential\n",
    "from keras.layers import Dense, LSTM, Dropout, GRU, Bidirectional\n",
    "from keras.layers.convolutional import Conv1D, MaxPooling1D\n",
    "from keras.layers import RepeatVector, TimeDistributed, Flatten\n",
    "from keras.utils import plot_model\n",
    "\n",
    "\n",
    "import plotly.graph_objs as go\n",
    "from plotly.offline import init_notebook_mode, iplot\n",
    "init_notebook_mode(connected=True)\n",
    "\n",
    "# versions\n",
    "import watermark\n",
    "%load_ext watermark\n",
    "%watermark -a \"Bhishan Poudel\" -d -v -m\n",
    "print()\n",
    "%watermark -iv"
   ]
  },
  {
   "cell_type": "code",
   "execution_count": 2,
   "metadata": {
    "ExecuteTime": {
     "end_time": "2020-10-14T19:16:41.224967Z",
     "start_time": "2020-10-14T19:16:41.219924Z"
    },
    "execution": {
     "iopub.execute_input": "2020-10-17T18:36:49.447397Z",
     "iopub.status.busy": "2020-10-17T18:36:49.446675Z",
     "iopub.status.idle": "2020-10-17T18:36:49.823685Z",
     "shell.execute_reply": "2020-10-17T18:36:49.824319Z"
    },
    "papermill": {
     "duration": 0.399053,
     "end_time": "2020-10-17T18:36:49.824583",
     "exception": false,
     "start_time": "2020-10-17T18:36:49.425530",
     "status": "completed"
    },
    "tags": []
   },
   "outputs": [],
   "source": [
    "import sys\n",
    "sys.path.append('../models')\n",
    "\n",
    "from util_prophet import get_smape"
   ]
  },
  {
   "cell_type": "code",
   "execution_count": 3,
   "metadata": {
    "ExecuteTime": {
     "end_time": "2020-10-14T19:16:41.238702Z",
     "start_time": "2020-10-14T19:16:41.232108Z"
    },
    "execution": {
     "iopub.execute_input": "2020-10-17T18:36:49.865316Z",
     "iopub.status.busy": "2020-10-17T18:36:49.864155Z",
     "iopub.status.idle": "2020-10-17T18:36:49.868535Z",
     "shell.execute_reply": "2020-10-17T18:36:49.869175Z"
    },
    "papermill": {
     "duration": 0.0283,
     "end_time": "2020-10-17T18:36:49.869481",
     "exception": false,
     "start_time": "2020-10-17T18:36:49.841181",
     "status": "completed"
    },
    "tags": []
   },
   "outputs": [
    {
     "data": {
      "application/javascript": [
       "IPython.OutputArea.auto_scroll_threshold = 9999;\n"
      ],
      "text/plain": [
       "<IPython.core.display.Javascript object>"
      ]
     },
     "metadata": {},
     "output_type": "display_data"
    }
   ],
   "source": [
    "%%javascript\n",
    "IPython.OutputArea.auto_scroll_threshold = 9999;"
   ]
  },
  {
   "cell_type": "markdown",
   "metadata": {
    "papermill": {
     "duration": 0.015535,
     "end_time": "2020-10-17T18:36:49.902260",
     "exception": false,
     "start_time": "2020-10-17T18:36:49.886725",
     "status": "completed"
    },
    "tags": []
   },
   "source": [
    "# Useful Functions"
   ]
  },
  {
   "cell_type": "code",
   "execution_count": 4,
   "metadata": {
    "ExecuteTime": {
     "end_time": "2020-10-14T19:16:41.252428Z",
     "start_time": "2020-10-14T19:16:41.242423Z"
    },
    "execution": {
     "iopub.execute_input": "2020-10-17T18:36:49.945430Z",
     "iopub.status.busy": "2020-10-17T18:36:49.944218Z",
     "iopub.status.idle": "2020-10-17T18:36:49.946849Z",
     "shell.execute_reply": "2020-10-17T18:36:49.947436Z"
    },
    "papermill": {
     "duration": 0.02921,
     "end_time": "2020-10-17T18:36:49.947693",
     "exception": false,
     "start_time": "2020-10-17T18:36:49.918483",
     "status": "completed"
    },
    "tags": []
   },
   "outputs": [],
   "source": [
    "def show_method_attributes(obj, ncols=7,start=None, inside=None):\n",
    "    \"\"\" Show all the attributes of a given method.\n",
    "    Example:\n",
    "    ========\n",
    "    show_method_attributes(list)\n",
    "     \"\"\"\n",
    "    lst = [elem for elem in dir(obj) if elem[0]!='_' ]\n",
    "    lst = [elem for elem in lst \n",
    "           if elem not in 'os np pd sys time psycopg2'.split() ]\n",
    "\n",
    "    if isinstance(start,str):\n",
    "        lst = [elem for elem in lst if elem.startswith(start)]\n",
    "        \n",
    "    if isinstance(start,tuple) or isinstance(start,list):\n",
    "        lst = [elem for elem in lst for start_elem in start\n",
    "               if elem.startswith(start_elem)]\n",
    "        \n",
    "    if isinstance(inside,str):\n",
    "        lst = [elem for elem in lst if inside in elem]\n",
    "        \n",
    "    if isinstance(inside,tuple) or isinstance(inside,list):\n",
    "        lst = [elem for elem in lst for inside_elem in inside\n",
    "               if inside_elem in elem]\n",
    "\n",
    "    return pd.DataFrame(np.array_split(lst,ncols)).T.fillna('')\n",
    "\n",
    "def set_seed(seed):\n",
    "    import os\n",
    "    import random\n",
    "    import numpy as np\n",
    "    import tensorflow as tf\n",
    "    \n",
    "    os.environ['PYTHONHASHSEED']=str(seed)\n",
    "    tf.random.set_seed(seed)\n",
    "    np.random.seed(seed)\n",
    "    random.seed(seed)"
   ]
  },
  {
   "cell_type": "code",
   "execution_count": 5,
   "metadata": {
    "ExecuteTime": {
     "end_time": "2020-10-14T19:16:41.292817Z",
     "start_time": "2020-10-14T19:16:41.255245Z"
    },
    "execution": {
     "iopub.execute_input": "2020-10-17T18:36:49.995087Z",
     "iopub.status.busy": "2020-10-17T18:36:49.983381Z",
     "iopub.status.idle": "2020-10-17T18:36:50.000678Z",
     "shell.execute_reply": "2020-10-17T18:36:50.000116Z"
    },
    "papermill": {
     "duration": 0.03725,
     "end_time": "2020-10-17T18:36:50.000913",
     "exception": false,
     "start_time": "2020-10-17T18:36:49.963663",
     "status": "completed"
    },
    "tags": []
   },
   "outputs": [],
   "source": [
    "def get_mape(y_true, y_pred):\n",
    "    \"Mean Absolute Percentage Error\"\n",
    "    return np.mean(np.abs((y_true - y_pred) / y_true)) * 100\n",
    "\n",
    "def get_smape(y_true, y_pred):\n",
    "    \"\"\"Symmetric Mean Absolute Percentage Error\n",
    "    \n",
    "    SMAPE = 200 * mean  abs(A-F)             A = actual\n",
    "                        ----------------     F = forecast\n",
    "                        abs(A) + abs(F)\n",
    "                        \n",
    "    This ranges from 0 to 200 with 0 is best and 200 is worst.\n",
    "    \"\"\"\n",
    "    denom = (np.abs(y_true) + np.abs(y_pred))\n",
    "    ratio = np.abs(y_true - y_pred) / denom\n",
    "    ratio[denom == 0] = 0.0\n",
    "    return 200 * np.mean(ratio)\n",
    "\n",
    "def timeseries_evaluation(model_name, desc, ytest, ypreds, df_eval=None,\n",
    "                          show=False,sort_col='SMAPE'):\n",
    "    from statsmodels.tsa.stattools import acf\n",
    "\n",
    "    if df_eval is None:\n",
    "        df_eval = pd.DataFrame({'Model': [],\n",
    "                                'Description':[],\n",
    "                                'MAPE': [],\n",
    "                                'SMAPE': [],\n",
    "                                'RMSE': [],\n",
    "                                'ME': [],\n",
    "                                'MAE': [],\n",
    "                                'MPE': [],\n",
    "                                'CORR': [],\n",
    "                                'MINMAX': [],\n",
    "                                'ACF1': [],\n",
    "                                })\n",
    "\n",
    "    mape = get_mape(ytest,ypreds)   # MAPE\n",
    "    smape = get_smape(ytest,ypreds) # SMAPE\n",
    "    rmse = np.mean((ytest - ypreds)**2)**.5  # RMSE\n",
    "\n",
    "    me = np.mean(ytest - ypreds)             # ME\n",
    "    mae = np.mean(np.abs(ytest - ypreds))    # MAE\n",
    "    mpe = np.mean((ytest - ypreds)/ytest)    # MPE\n",
    "\n",
    "    corr = np.corrcoef(ytest, ypreds)[0, 1]  # corr\n",
    "\n",
    "    mins = np.amin(np.hstack([ytest[:, None],\n",
    "                              ypreds[:, None]]), axis=1)\n",
    "    maxs = np.amax(np.hstack([ytest[:, None],\n",
    "                              ypreds[:, None]]), axis=1)\n",
    "    minmax = 1 - np.mean(mins/maxs)             # minmax\n",
    "\n",
    "    acf1 = acf(ytest-ypreds, fft=False)[1]    # ACF1 (autocorrelation function)\n",
    "\n",
    "    row = [model_name, desc, mape, smape,rmse, me,mae,mpe,corr,minmax,acf1]\n",
    "\n",
    "    df_eval.loc[len(df_eval)] = row\n",
    "    df_eval = df_eval.drop_duplicates(['Model','Description'])\n",
    "    \n",
    "    asc, cmap = True, 'Greens_r'\n",
    "    \n",
    "    if sort_col == 'RMSE':\n",
    "        asc = False\n",
    "        cmap = 'Greens'\n",
    "\n",
    "    if sort_col == 'SMAPE':\n",
    "        asc = True\n",
    "        cmap = 'Greens_r'\n",
    "\n",
    "    df_eval = df_eval.sort_values(sort_col,ascending=asc)\n",
    "    df_eval = df_eval.reset_index(drop=True)\n",
    "\n",
    "    if show:\n",
    "        df_eval_style = (df_eval.style\n",
    "                         .format({'MAPE': \"{:,.0f}\",\n",
    "                                  'SMAPE': \"{:,.4f}\",\n",
    "                                  'RMSE': \"{:,.0f}\",\n",
    "                                  'ME': \"{:,.0f}\",\n",
    "                                  'MAE': \"{:,.0f}\",\n",
    "                                  'MPE': \"{:,.0f}\",\n",
    "                                  'CORR': \"{:,.4f}\",\n",
    "                                  'MINMAX': \"{:,.4f}\",\n",
    "                                  'ACF1': \"{:,.4f}\"\n",
    "                                 })\n",
    "                         .background_gradient(subset=[sort_col],cmap=cmap)\n",
    "                        )\n",
    "        display(df_eval_style)\n",
    "    return df_eval\n",
    "\n",
    "df_eval = None"
   ]
  },
  {
   "cell_type": "markdown",
   "metadata": {
    "papermill": {
     "duration": 0.016271,
     "end_time": "2020-10-17T18:36:50.033866",
     "exception": false,
     "start_time": "2020-10-17T18:36:50.017595",
     "status": "completed"
    },
    "tags": []
   },
   "source": [
    "# Load the data"
   ]
  },
  {
   "cell_type": "code",
   "execution_count": 6,
   "metadata": {
    "ExecuteTime": {
     "end_time": "2020-10-14T19:16:50.616872Z",
     "start_time": "2020-10-14T19:16:41.315924Z"
    },
    "execution": {
     "iopub.execute_input": "2020-10-17T18:36:50.072243Z",
     "iopub.status.busy": "2020-10-17T18:36:50.071105Z",
     "iopub.status.idle": "2020-10-17T18:36:59.652667Z",
     "shell.execute_reply": "2020-10-17T18:36:59.652095Z"
    },
    "papermill": {
     "duration": 9.602734,
     "end_time": "2020-10-17T18:36:59.652864",
     "exception": false,
     "start_time": "2020-10-17T18:36:50.050130",
     "status": "completed"
    },
    "tags": []
   },
   "outputs": [
    {
     "name": "stdout",
     "output_type": "stream",
     "text": [
      "(366, 1)\n",
      "CPU times: user 8.23 s, sys: 802 ms, total: 9.03 s\n",
      "Wall time: 9.57 s\n"
     ]
    },
    {
     "data": {
      "text/html": [
       "<div>\n",
       "<style scoped>\n",
       "    .dataframe tbody tr th:only-of-type {\n",
       "        vertical-align: middle;\n",
       "    }\n",
       "\n",
       "    .dataframe tbody tr th {\n",
       "        vertical-align: top;\n",
       "    }\n",
       "\n",
       "    .dataframe thead th {\n",
       "        text-align: right;\n",
       "    }\n",
       "</style>\n",
       "<table border=\"1\" class=\"dataframe\">\n",
       "  <thead>\n",
       "    <tr style=\"text-align: right;\">\n",
       "      <th></th>\n",
       "      <th>visits</th>\n",
       "    </tr>\n",
       "    <tr>\n",
       "      <th>date</th>\n",
       "      <th></th>\n",
       "    </tr>\n",
       "  </thead>\n",
       "  <tbody>\n",
       "    <tr>\n",
       "      <th>2016-01-01</th>\n",
       "      <td>20947.0</td>\n",
       "    </tr>\n",
       "    <tr>\n",
       "      <th>2016-01-02</th>\n",
       "      <td>19466.0</td>\n",
       "    </tr>\n",
       "    <tr>\n",
       "      <th>2016-01-03</th>\n",
       "      <td>8587.0</td>\n",
       "    </tr>\n",
       "    <tr>\n",
       "      <th>2016-01-04</th>\n",
       "      <td>7386.0</td>\n",
       "    </tr>\n",
       "    <tr>\n",
       "      <th>2016-01-05</th>\n",
       "      <td>7719.0</td>\n",
       "    </tr>\n",
       "  </tbody>\n",
       "</table>\n",
       "</div>"
      ],
      "text/plain": [
       "             visits\n",
       "date               \n",
       "2016-01-01  20947.0\n",
       "2016-01-02  19466.0\n",
       "2016-01-03   8587.0\n",
       "2016-01-04   7386.0\n",
       "2016-01-05   7719.0"
      ]
     },
     "execution_count": 6,
     "metadata": {},
     "output_type": "execute_result"
    }
   ],
   "source": [
    "%%time\n",
    "\n",
    "df = pd.read_csv('../data/train_1.csv.zip',compression='zip')\n",
    "cond = df['Page'] == \"Prince_(musician)_en.wikipedia.org_all-access_all-agents\"\n",
    "df = df.loc[cond]\n",
    "\n",
    "df = df.filter(regex=\"Page|2016\")\n",
    "df = df.melt(id_vars=['Page'],var_name='date',value_name='visits').drop('Page',axis=1)\n",
    "df['date'] = pd.to_datetime(df['date'])\n",
    "df = df.set_index('date')\n",
    "\n",
    "print(df.shape)\n",
    "df.head()"
   ]
  },
  {
   "cell_type": "code",
   "execution_count": 7,
   "metadata": {
    "ExecuteTime": {
     "end_time": "2020-10-14T19:16:50.630643Z",
     "start_time": "2020-10-14T19:16:50.620442Z"
    },
    "execution": {
     "iopub.execute_input": "2020-10-17T18:36:59.696449Z",
     "iopub.status.busy": "2020-10-17T18:36:59.694728Z",
     "iopub.status.idle": "2020-10-17T18:36:59.702297Z",
     "shell.execute_reply": "2020-10-17T18:36:59.702764Z"
    },
    "papermill": {
     "duration": 0.032001,
     "end_time": "2020-10-17T18:36:59.703054",
     "exception": false,
     "start_time": "2020-10-17T18:36:59.671053",
     "status": "completed"
    },
    "tags": []
   },
   "outputs": [
    {
     "data": {
      "text/plain": [
       "date\n",
       "2016-01-01    20947.0\n",
       "2016-01-02    19466.0\n",
       "2016-01-03     8587.0\n",
       "2016-01-04     7386.0\n",
       "2016-01-05     7719.0\n",
       "Name: visits, dtype: float32"
      ]
     },
     "execution_count": 7,
     "metadata": {},
     "output_type": "execute_result"
    }
   ],
   "source": [
    "ts = df['visits'].astype(np.float32)\n",
    "\n",
    "ts.index = pd.to_datetime(ts.index,format='%Y-%m-%d')\n",
    "ts.head()"
   ]
  },
  {
   "cell_type": "markdown",
   "metadata": {
    "ExecuteTime": {
     "end_time": "2019-11-13T04:56:54.936505Z",
     "start_time": "2019-11-13T04:56:54.912473Z"
    },
    "papermill": {
     "duration": 0.018388,
     "end_time": "2020-10-17T18:36:59.740634",
     "exception": false,
     "start_time": "2020-10-17T18:36:59.722246",
     "status": "completed"
    },
    "tags": []
   },
   "source": [
    "# Modelling Functions"
   ]
  },
  {
   "cell_type": "code",
   "execution_count": 8,
   "metadata": {
    "ExecuteTime": {
     "end_time": "2020-10-14T19:16:51.387698Z",
     "start_time": "2020-10-14T19:16:51.374090Z"
    },
    "execution": {
     "iopub.execute_input": "2020-10-17T18:36:59.783984Z",
     "iopub.status.busy": "2020-10-17T18:36:59.782639Z",
     "iopub.status.idle": "2020-10-17T18:36:59.785368Z",
     "shell.execute_reply": "2020-10-17T18:36:59.785855Z"
    },
    "papermill": {
     "duration": 0.028356,
     "end_time": "2020-10-17T18:36:59.786111",
     "exception": false,
     "start_time": "2020-10-17T18:36:59.757755",
     "status": "completed"
    },
    "tags": []
   },
   "outputs": [],
   "source": [
    "def create_Xlags_y(x, lags=1):\n",
    "    \"\"\"Create Xlag and y array from 1d timeseries x.\n",
    "\n",
    "    Parameters\n",
    "    ----------\n",
    "    x : 1d numpy array, shape = (n,1)\n",
    "    lag : integer\n",
    "\n",
    "    Returns\n",
    "    --------\n",
    "    Xlag -- numpy array with columns = lag\n",
    "    y    -- 1d array (values after lag from x)\n",
    "\n",
    "    Example\n",
    "    -------\n",
    "    x = np.arange(6).reshape(-1,1)\n",
    "    lag = 2\n",
    "    y = np.array([2,3,4]) # two values 0 and 1 are excluded due to lag\n",
    "\n",
    "    Xlag = numpy array with 2 columns\n",
    "            np.array([[0, 1],\n",
    "                      [1, 2],\n",
    "                      [2, 3]])\n",
    "\n",
    "    \"\"\"\n",
    "    lst_Xlags, lst_y = [], []\n",
    "    for i in range(len(x)-lags-1):\n",
    "        a = x[i:(i+lags), 0]\n",
    "        lst_Xlags.append(a)\n",
    "        lst_y.append(x[i + lags, 0])\n",
    "\n",
    "    Xlags = np.array(lst_Xlags)\n",
    "    y = np.array(lst_y)\n",
    "    return Xlags, y\n",
    "\n",
    "def train_test_split_with_lags(x,train_size=0.8,lags=1):\n",
    "    \"\"\"Train-test split for time series with lags.\n",
    "    If x is x_scaled then Xtrain and ytrain will also be scaled.\n",
    "\n",
    "    Returns\n",
    "    -------\n",
    "    Xtrain,ytrain,Xtest,ytest\n",
    "\n",
    "    \"\"\"\n",
    "    # split into train and test sets\n",
    "    num = int(len(x) * train_size)\n",
    "\n",
    "    train = x[0:num, :]\n",
    "    test  = x[num:len(x), :]\n",
    "\n",
    "    # reshape into X=t and Y=t+1\n",
    "    Xtrain, ytrain = create_Xlags_y(train, lags)\n",
    "    Xtest, ytest   = create_Xlags_y(test , lags)\n",
    "\n",
    "    return Xtrain,ytrain,Xtest,ytest"
   ]
  },
  {
   "cell_type": "code",
   "execution_count": 9,
   "metadata": {
    "ExecuteTime": {
     "end_time": "2020-10-14T19:16:51.397892Z",
     "start_time": "2020-10-14T19:16:51.390043Z"
    },
    "execution": {
     "iopub.execute_input": "2020-10-17T18:36:59.829589Z",
     "iopub.status.busy": "2020-10-17T18:36:59.828741Z",
     "iopub.status.idle": "2020-10-17T18:36:59.832027Z",
     "shell.execute_reply": "2020-10-17T18:36:59.832515Z"
    },
    "papermill": {
     "duration": 0.029454,
     "end_time": "2020-10-17T18:36:59.832792",
     "exception": false,
     "start_time": "2020-10-17T18:36:59.803338",
     "status": "completed"
    },
    "tags": []
   },
   "outputs": [],
   "source": [
    "def model_lstm(Xtrain,ytrain,params):\n",
    "    \n",
    "    # parameters\n",
    "    loss       = params['loss']\n",
    "    optimizer  = params['optimizer']\n",
    "    batch_size = params['batch_size']\n",
    "    dropout    = params['dropout']\n",
    "    lags       = params['lags']\n",
    "    units      = params['units']\n",
    "    epochs     = params['epochs']\n",
    "\n",
    "    input_shape= (1, lags)\n",
    "    \n",
    "    # model\n",
    "    model = Sequential()\n",
    "    model.add(LSTM(units=units, return_sequences=True, input_shape=input_shape))\n",
    "    model.add(Dropout(dropout))\n",
    "\n",
    "    # # Second LSTM layer\n",
    "    # model.add(LSTM(units=units, return_sequences=True))\n",
    "    # model.add(Dropout(dropout))\n",
    "\n",
    "    # # Third LSTM layer\n",
    "    # model.add(LSTM(units=units, return_sequences=True))\n",
    "    # model.add(Dropout(dropout))\n",
    "\n",
    "    # 2nd last layer\n",
    "    model.add(LSTM(units=units))\n",
    "    model.add(Dropout(dropout))\n",
    "\n",
    "    # The output layer\n",
    "    model.add(Dense(units=1))\n",
    "\n",
    "    # Compiling the model\n",
    "    model.compile(loss=loss, optimizer=optimizer)\n",
    "\n",
    "    # Fitting to the training set\n",
    "    model.fit(Xtrain,ytrain,epochs=epochs,batch_size=batch_size,\n",
    "              shuffle=False,verbose=0,use_multiprocessing=True)\n",
    "    return model"
   ]
  },
  {
   "cell_type": "code",
   "execution_count": 10,
   "metadata": {
    "ExecuteTime": {
     "end_time": "2020-10-14T19:16:51.407494Z",
     "start_time": "2020-10-14T19:16:51.400769Z"
    },
    "execution": {
     "iopub.execute_input": "2020-10-17T18:36:59.877337Z",
     "iopub.status.busy": "2020-10-17T18:36:59.876400Z",
     "iopub.status.idle": "2020-10-17T18:36:59.878869Z",
     "shell.execute_reply": "2020-10-17T18:36:59.879477Z"
    },
    "papermill": {
     "duration": 0.028723,
     "end_time": "2020-10-17T18:36:59.879687",
     "exception": false,
     "start_time": "2020-10-17T18:36:59.850964",
     "status": "completed"
    },
    "tags": []
   },
   "outputs": [],
   "source": [
    "def model_gru(Xtrain,ytrain,params):\n",
    "\n",
    "    batch_size = params['batch_size']\n",
    "    dropout    = params['dropout']\n",
    "    optimizer  = params['optimizer']\n",
    "    units      = params['units']\n",
    "    activation = params['activation']\n",
    "    lags       = params['lags']\n",
    "    loss       = params['loss']\n",
    "    epochs     = params['epochs']\n",
    "    \n",
    "    input_shape=(1, lags)\n",
    "\n",
    "    # The GRU architecture\n",
    "    model = Sequential()\n",
    "\n",
    "    # First GRU layer with Dropout regularisation\n",
    "    model.add(GRU(units=units, return_sequences=True,\n",
    "                         input_shape=input_shape, activation=activation,))\n",
    "    model.add(Dropout(dropout))\n",
    "\n",
    "#     # Second GRU layer\n",
    "#     model.add(GRU(units=units, return_sequences=True,\n",
    "#                          input_shape=input_shape, activation=activation))\n",
    "#     model.add(Dropout(dropout))\n",
    "\n",
    "#     # Third GRU layer\n",
    "#     model.add(GRU(units=units, return_sequences=True,\n",
    "#                     input_shape=input_shape, activation=activation))\n",
    "#     model.add(Dropout(dropout))\n",
    "\n",
    "    # 2nd last layer\n",
    "    model.add(GRU(units=units, activation=activation))\n",
    "    model.add(Dropout(dropout))\n",
    "\n",
    "    # The output layer\n",
    "    model.add(Dense(units=1))\n",
    "\n",
    "    # Compiling the RNN\n",
    "    model.compile(optimizer=optimizer,loss=loss)\n",
    "\n",
    "    # Fitting to the training set\n",
    "    model.fit(Xtrain,ytrain,epochs=epochs,\n",
    "                     batch_size=batch_size,shuffle=False,verbose=0)\n",
    "    return model"
   ]
  },
  {
   "cell_type": "code",
   "execution_count": 11,
   "metadata": {
    "ExecuteTime": {
     "end_time": "2020-10-14T19:16:51.422244Z",
     "start_time": "2020-10-14T19:16:51.411735Z"
    },
    "execution": {
     "iopub.execute_input": "2020-10-17T18:36:59.923822Z",
     "iopub.status.busy": "2020-10-17T18:36:59.922644Z",
     "iopub.status.idle": "2020-10-17T18:36:59.925602Z",
     "shell.execute_reply": "2020-10-17T18:36:59.926142Z"
    },
    "papermill": {
     "duration": 0.029668,
     "end_time": "2020-10-17T18:36:59.926390",
     "exception": false,
     "start_time": "2020-10-17T18:36:59.896722",
     "status": "completed"
    },
    "tags": []
   },
   "outputs": [],
   "source": [
    "def predict(model,Xtrain,Xtest,scaler=None):\n",
    "    # make predictions\n",
    "    ypreds_train = model.predict(Xtrain)\n",
    "    ypreds_test = model.predict(Xtest)\n",
    "\n",
    "    # invert predictions\n",
    "    if scaler is not None:\n",
    "        ypreds_train = scaler.inverse_transform(ypreds_train)\n",
    "        ypreds_test = scaler.inverse_transform(ypreds_test)\n",
    "\n",
    "    return ypreds_train, ypreds_test\n",
    "\n",
    "def prediction_plot(x,lags,ypreds_train,ypreds_test):    \n",
    "    # shift train predictions for plotting\n",
    "    ypred_train_plot = np.empty_like(x)\n",
    "    ypred_train_plot[:, :] = np.nan\n",
    "    ypred_train_plot[lags:len(ypreds_train)+lags, :] = ypreds_train\n",
    "\n",
    "    # shift test predictions for plotting\n",
    "    ypreds_test_plot = np.empty_like(x)\n",
    "    ypreds_test_plot[:, :] = np.nan\n",
    "    ypreds_test_plot[len(ypreds_train)+(lags*2) +\n",
    "                    1:len(x)-1, :] = ypreds_test\n",
    "\n",
    "    # plot baseline and predictions\n",
    "    plt.plot(x, label='data')\n",
    "    plt.plot(ypred_train_plot, label='ypreds train')\n",
    "    plt.plot(ypreds_test_plot, label='ypreds test')\n",
    "    plt.legend()\n",
    "    plt.show()"
   ]
  },
  {
   "cell_type": "code",
   "execution_count": 12,
   "metadata": {
    "execution": {
     "iopub.execute_input": "2020-10-17T18:36:59.973242Z",
     "iopub.status.busy": "2020-10-17T18:36:59.972153Z",
     "iopub.status.idle": "2020-10-17T18:36:59.974150Z",
     "shell.execute_reply": "2020-10-17T18:36:59.974780Z"
    },
    "papermill": {
     "duration": 0.031153,
     "end_time": "2020-10-17T18:36:59.975311",
     "exception": false,
     "start_time": "2020-10-17T18:36:59.944158",
     "status": "completed"
    },
    "tags": []
   },
   "outputs": [],
   "source": [
    "def run_model(mymodel,model_name,desc,params,scaler=None,ts=ts,\n",
    "              SEED=SEED,\n",
    "              df_eval=df_eval,show=True):\n",
    "    # seed\n",
    "    set_seed(SEED)\n",
    "\n",
    "    # timeseries data\n",
    "    x = ts.to_numpy().reshape(-1,1)\n",
    "    x = x.astype('float32')\n",
    "    x_scaled = x\n",
    "    \n",
    "    # scaling\n",
    "    if scaler is not None:\n",
    "        x_scaled = scaler.fit_transform(x)\n",
    "\n",
    "    # train test split\n",
    "    Xtrain,ytrain,Xtest,ytest = train_test_split_with_lags(x_scaled,\n",
    "                                                           lags=params['lags'])\n",
    "\n",
    "    # reshape input to be [samples, time steps, features]\n",
    "    Xtrain = np.reshape(Xtrain, (Xtrain.shape[0], 1, Xtrain.shape[1]))\n",
    "    Xtest  = np.reshape(Xtest , (Xtest.shape[0] , 1, Xtest.shape[1]))\n",
    "\n",
    "    # fit the model\n",
    "    model = mymodel(Xtrain,ytrain,params)   \n",
    "\n",
    "    # preds\n",
    "    ypreds_train, ypreds_test = predict(model,Xtrain,Xtest,scaler=scaler)\n",
    "    \n",
    "    if scaler is not None:\n",
    "        ytrain = scaler.inverse_transform(ytrain.reshape(-1,1))\n",
    "        ytest  = scaler.inverse_transform(ytest.reshape(-1,1))\n",
    "\n",
    "    df_eval = timeseries_evaluation(model_name, desc, ytest.ravel(),\n",
    "                        ypreds_test.ravel(),\n",
    "                        df_eval=df_eval,show=show)\n",
    "\n",
    "    return dict(df_eval=df_eval,\n",
    "                x=x,\n",
    "                ytrain=ytrain,\n",
    "                ypreds_train=ypreds_train,\n",
    "                ytest=ytest,\n",
    "                ypreds_test=ypreds_test)"
   ]
  },
  {
   "cell_type": "markdown",
   "metadata": {
    "papermill": {
     "duration": 0.018786,
     "end_time": "2020-10-17T18:37:00.012574",
     "exception": false,
     "start_time": "2020-10-17T18:36:59.993788",
     "status": "completed"
    },
    "tags": []
   },
   "source": [
    "# Modelling"
   ]
  },
  {
   "cell_type": "code",
   "execution_count": 13,
   "metadata": {
    "execution": {
     "iopub.execute_input": "2020-10-17T18:37:00.057805Z",
     "iopub.status.busy": "2020-10-17T18:37:00.056366Z",
     "iopub.status.idle": "2020-10-17T18:37:00.060679Z",
     "shell.execute_reply": "2020-10-17T18:37:00.061249Z"
    },
    "papermill": {
     "duration": 0.030686,
     "end_time": "2020-10-17T18:37:00.061516",
     "exception": false,
     "start_time": "2020-10-17T18:37:00.030830",
     "status": "completed"
    },
    "tags": []
   },
   "outputs": [
    {
     "data": {
      "text/plain": [
       "date\n",
       "2016-01-01    20947.0\n",
       "2016-01-02    19466.0\n",
       "2016-01-03     8587.0\n",
       "2016-01-04     7386.0\n",
       "2016-01-05     7719.0\n",
       "Name: visits, dtype: float32"
      ]
     },
     "execution_count": 13,
     "metadata": {},
     "output_type": "execute_result"
    }
   ],
   "source": [
    "ts = df['visits'].astype(np.float32)\n",
    "\n",
    "ts.index = pd.to_datetime(ts.index,format='%Y-%m-%d')\n",
    "ts.head()"
   ]
  },
  {
   "cell_type": "code",
   "execution_count": 14,
   "metadata": {
    "execution": {
     "iopub.execute_input": "2020-10-17T18:37:00.106232Z",
     "iopub.status.busy": "2020-10-17T18:37:00.105322Z",
     "iopub.status.idle": "2020-10-17T18:37:00.109265Z",
     "shell.execute_reply": "2020-10-17T18:37:00.109772Z"
    },
    "papermill": {
     "duration": 0.029973,
     "end_time": "2020-10-17T18:37:00.110065",
     "exception": false,
     "start_time": "2020-10-17T18:37:00.080092",
     "status": "completed"
    },
    "tags": []
   },
   "outputs": [],
   "source": [
    "# parameters\n",
    "params_lstm = dict(loss='mean_squared_error',\n",
    "                   optimizer='rmsprop',\n",
    "                   batch_size=1,\n",
    "                   dropout=0.2,\n",
    "                   epochs=100,\n",
    "                   units=4,\n",
    "                   lags=2,\n",
    "                  )\n",
    "params_gru = dict(loss='mean_squared_error',\n",
    "                   optimizer=SGD(\n",
    "                       lr=0.01, decay=1e-7, momentum=0.9,nesterov=False),\n",
    "                   activation='tanh',\n",
    "                   batch_size=1,\n",
    "                   dropout=0.2,\n",
    "                   epochs=100,\n",
    "                   units=10,\n",
    "                   lags=2,\n",
    "                  )\n",
    "df_eval = None\n",
    "\n",
    "scaler = MinMaxScaler(feature_range=(0, 1))"
   ]
  },
  {
   "cell_type": "markdown",
   "metadata": {
    "papermill": {
     "duration": 0.018422,
     "end_time": "2020-10-17T18:37:00.148253",
     "exception": false,
     "start_time": "2020-10-17T18:37:00.129831",
     "status": "completed"
    },
    "tags": []
   },
   "source": [
    "## LSTM Without Scaling"
   ]
  },
  {
   "cell_type": "code",
   "execution_count": 15,
   "metadata": {
    "execution": {
     "iopub.execute_input": "2020-10-17T18:37:00.192478Z",
     "iopub.status.busy": "2020-10-17T18:37:00.189872Z",
     "iopub.status.idle": "2020-10-17T18:37:45.699376Z",
     "shell.execute_reply": "2020-10-17T18:37:45.699832Z"
    },
    "papermill": {
     "duration": 45.532663,
     "end_time": "2020-10-17T18:37:45.700059",
     "exception": false,
     "start_time": "2020-10-17T18:37:00.167396",
     "status": "completed"
    },
    "tags": []
   },
   "outputs": [
    {
     "data": {
      "text/html": [
       "<style  type=\"text/css\" >\n",
       "#T_d954df98_10a7_11eb_ae8c_acde48001122row0_col3{\n",
       "            background-color:  #00441b;\n",
       "            color:  #f1f1f1;\n",
       "        }</style><table id=\"T_d954df98_10a7_11eb_ae8c_acde48001122\" ><thead>    <tr>        <th class=\"blank level0\" ></th>        <th class=\"col_heading level0 col0\" >Model</th>        <th class=\"col_heading level0 col1\" >Description</th>        <th class=\"col_heading level0 col2\" >MAPE</th>        <th class=\"col_heading level0 col3\" >SMAPE</th>        <th class=\"col_heading level0 col4\" >RMSE</th>        <th class=\"col_heading level0 col5\" >ME</th>        <th class=\"col_heading level0 col6\" >MAE</th>        <th class=\"col_heading level0 col7\" >MPE</th>        <th class=\"col_heading level0 col8\" >CORR</th>        <th class=\"col_heading level0 col9\" >MINMAX</th>        <th class=\"col_heading level0 col10\" >ACF1</th>    </tr></thead><tbody>\n",
       "                <tr>\n",
       "                        <th id=\"T_d954df98_10a7_11eb_ae8c_acde48001122level0_row0\" class=\"row_heading level0 row0\" >0</th>\n",
       "                        <td id=\"T_d954df98_10a7_11eb_ae8c_acde48001122row0_col0\" class=\"data row0 col0\" >lstm</td>\n",
       "                        <td id=\"T_d954df98_10a7_11eb_ae8c_acde48001122row0_col1\" class=\"data row0 col1\" >lags=2</td>\n",
       "                        <td id=\"T_d954df98_10a7_11eb_ae8c_acde48001122row0_col2\" class=\"data row0 col2\" >99</td>\n",
       "                        <td id=\"T_d954df98_10a7_11eb_ae8c_acde48001122row0_col3\" class=\"data row0 col3\" >197.2470</td>\n",
       "                        <td id=\"T_d954df98_10a7_11eb_ae8c_acde48001122row0_col4\" class=\"data row0 col4\" >13,684</td>\n",
       "                        <td id=\"T_d954df98_10a7_11eb_ae8c_acde48001122row0_col5\" class=\"data row0 col5\" >12,021</td>\n",
       "                        <td id=\"T_d954df98_10a7_11eb_ae8c_acde48001122row0_col6\" class=\"data row0 col6\" >12,021</td>\n",
       "                        <td id=\"T_d954df98_10a7_11eb_ae8c_acde48001122row0_col7\" class=\"data row0 col7\" >1</td>\n",
       "                        <td id=\"T_d954df98_10a7_11eb_ae8c_acde48001122row0_col8\" class=\"data row0 col8\" >0.0502</td>\n",
       "                        <td id=\"T_d954df98_10a7_11eb_ae8c_acde48001122row0_col9\" class=\"data row0 col9\" >0.9931</td>\n",
       "                        <td id=\"T_d954df98_10a7_11eb_ae8c_acde48001122row0_col10\" class=\"data row0 col10\" >0.6727</td>\n",
       "            </tr>\n",
       "    </tbody></table>"
      ],
      "text/plain": [
       "<pandas.io.formats.style.Styler at 0x7fd560014a10>"
      ]
     },
     "metadata": {},
     "output_type": "display_data"
    }
   ],
   "source": [
    "res = run_model(model_lstm,'lstm','lags=2',params_lstm,scaler=None,ts=ts,\n",
    "              SEED=SEED,\n",
    "              df_eval=df_eval,show=True)"
   ]
  },
  {
   "cell_type": "markdown",
   "metadata": {
    "papermill": {
     "duration": 0.022074,
     "end_time": "2020-10-17T18:37:45.744093",
     "exception": false,
     "start_time": "2020-10-17T18:37:45.722019",
     "status": "completed"
    },
    "tags": []
   },
   "source": [
    "## LSTM with min-max scaling"
   ]
  },
  {
   "cell_type": "code",
   "execution_count": 16,
   "metadata": {
    "execution": {
     "iopub.execute_input": "2020-10-17T18:37:45.811186Z",
     "iopub.status.busy": "2020-10-17T18:37:45.809531Z",
     "iopub.status.idle": "2020-10-17T18:38:32.992107Z",
     "shell.execute_reply": "2020-10-17T18:38:32.991491Z"
    },
    "papermill": {
     "duration": 47.225778,
     "end_time": "2020-10-17T18:38:32.992319",
     "exception": false,
     "start_time": "2020-10-17T18:37:45.766541",
     "status": "completed"
    },
    "tags": []
   },
   "outputs": [
    {
     "data": {
      "text/html": [
       "<style  type=\"text/css\" >\n",
       "#T_f584af36_10a7_11eb_ae8c_acde48001122row0_col3{\n",
       "            background-color:  #00441b;\n",
       "            color:  #f1f1f1;\n",
       "        }</style><table id=\"T_f584af36_10a7_11eb_ae8c_acde48001122\" ><thead>    <tr>        <th class=\"blank level0\" ></th>        <th class=\"col_heading level0 col0\" >Model</th>        <th class=\"col_heading level0 col1\" >Description</th>        <th class=\"col_heading level0 col2\" >MAPE</th>        <th class=\"col_heading level0 col3\" >SMAPE</th>        <th class=\"col_heading level0 col4\" >RMSE</th>        <th class=\"col_heading level0 col5\" >ME</th>        <th class=\"col_heading level0 col6\" >MAE</th>        <th class=\"col_heading level0 col7\" >MPE</th>        <th class=\"col_heading level0 col8\" >CORR</th>        <th class=\"col_heading level0 col9\" >MINMAX</th>        <th class=\"col_heading level0 col10\" >ACF1</th>    </tr></thead><tbody>\n",
       "                <tr>\n",
       "                        <th id=\"T_f584af36_10a7_11eb_ae8c_acde48001122level0_row0\" class=\"row_heading level0 row0\" >0</th>\n",
       "                        <td id=\"T_f584af36_10a7_11eb_ae8c_acde48001122row0_col0\" class=\"data row0 col0\" >lstm</td>\n",
       "                        <td id=\"T_f584af36_10a7_11eb_ae8c_acde48001122row0_col1\" class=\"data row0 col1\" >lags=2,minmax-scaler</td>\n",
       "                        <td id=\"T_f584af36_10a7_11eb_ae8c_acde48001122row0_col2\" class=\"data row0 col2\" >25</td>\n",
       "                        <td id=\"T_f584af36_10a7_11eb_ae8c_acde48001122row0_col3\" class=\"data row0 col3\" >24.6649</td>\n",
       "                        <td id=\"T_f584af36_10a7_11eb_ae8c_acde48001122row0_col4\" class=\"data row0 col4\" >6,524</td>\n",
       "                        <td id=\"T_f584af36_10a7_11eb_ae8c_acde48001122row0_col5\" class=\"data row0 col5\" >353</td>\n",
       "                        <td id=\"T_f584af36_10a7_11eb_ae8c_acde48001122row0_col6\" class=\"data row0 col6\" >3,482</td>\n",
       "                        <td id=\"T_f584af36_10a7_11eb_ae8c_acde48001122row0_col7\" class=\"data row0 col7\" >-0</td>\n",
       "                        <td id=\"T_f584af36_10a7_11eb_ae8c_acde48001122row0_col8\" class=\"data row0 col8\" >0.6507</td>\n",
       "                        <td id=\"T_f584af36_10a7_11eb_ae8c_acde48001122row0_col9\" class=\"data row0 col9\" >0.2056</td>\n",
       "                        <td id=\"T_f584af36_10a7_11eb_ae8c_acde48001122row0_col10\" class=\"data row0 col10\" >0.6702</td>\n",
       "            </tr>\n",
       "    </tbody></table>"
      ],
      "text/plain": [
       "<pandas.io.formats.style.Styler at 0x7fd4f544bd50>"
      ]
     },
     "metadata": {},
     "output_type": "display_data"
    },
    {
     "name": "stdout",
     "output_type": "stream",
     "text": [
      "CPU times: user 1min 5s, sys: 5.47 s, total: 1min 11s\n",
      "Wall time: 47.2 s\n"
     ]
    }
   ],
   "source": [
    "%%time\n",
    "res = run_model(model_lstm,'lstm','lags=2,minmax-scaler',params_lstm,scaler=scaler,\n",
    "                ts=ts,\n",
    "                df_eval=df_eval,show=True)"
   ]
  },
  {
   "cell_type": "markdown",
   "metadata": {
    "papermill": {
     "duration": 0.021262,
     "end_time": "2020-10-17T18:38:33.034833",
     "exception": false,
     "start_time": "2020-10-17T18:38:33.013571",
     "status": "completed"
    },
    "tags": []
   },
   "source": [
    "## GRU without scaling"
   ]
  },
  {
   "cell_type": "code",
   "execution_count": 17,
   "metadata": {
    "execution": {
     "iopub.execute_input": "2020-10-17T18:38:33.096486Z",
     "iopub.status.busy": "2020-10-17T18:38:33.095428Z",
     "iopub.status.idle": "2020-10-17T18:39:14.813809Z",
     "shell.execute_reply": "2020-10-17T18:39:14.812826Z"
    },
    "papermill": {
     "duration": 41.759336,
     "end_time": "2020-10-17T18:39:14.813955",
     "exception": false,
     "start_time": "2020-10-17T18:38:33.054619",
     "status": "completed"
    },
    "tags": []
   },
   "outputs": [
    {
     "name": "stderr",
     "output_type": "stream",
     "text": [
      "/Users/poudel/opt/miniconda3/envs/tf2/lib/python3.7/site-packages/numpy/lib/function_base.py:2559: RuntimeWarning:\n",
      "\n",
      "invalid value encountered in true_divide\n",
      "\n",
      "/Users/poudel/opt/miniconda3/envs/tf2/lib/python3.7/site-packages/numpy/lib/function_base.py:2560: RuntimeWarning:\n",
      "\n",
      "invalid value encountered in true_divide\n",
      "\n"
     ]
    },
    {
     "data": {
      "text/html": [
       "<style  type=\"text/css\" >\n",
       "#T_0e6f7a1c_10a8_11eb_ae8c_acde48001122row0_col3{\n",
       "            background-color:  #00441b;\n",
       "            color:  #f1f1f1;\n",
       "        }</style><table id=\"T_0e6f7a1c_10a8_11eb_ae8c_acde48001122\" ><thead>    <tr>        <th class=\"blank level0\" ></th>        <th class=\"col_heading level0 col0\" >Model</th>        <th class=\"col_heading level0 col1\" >Description</th>        <th class=\"col_heading level0 col2\" >MAPE</th>        <th class=\"col_heading level0 col3\" >SMAPE</th>        <th class=\"col_heading level0 col4\" >RMSE</th>        <th class=\"col_heading level0 col5\" >ME</th>        <th class=\"col_heading level0 col6\" >MAE</th>        <th class=\"col_heading level0 col7\" >MPE</th>        <th class=\"col_heading level0 col8\" >CORR</th>        <th class=\"col_heading level0 col9\" >MINMAX</th>        <th class=\"col_heading level0 col10\" >ACF1</th>    </tr></thead><tbody>\n",
       "                <tr>\n",
       "                        <th id=\"T_0e6f7a1c_10a8_11eb_ae8c_acde48001122level0_row0\" class=\"row_heading level0 row0\" >0</th>\n",
       "                        <td id=\"T_0e6f7a1c_10a8_11eb_ae8c_acde48001122row0_col0\" class=\"data row0 col0\" >gru</td>\n",
       "                        <td id=\"T_0e6f7a1c_10a8_11eb_ae8c_acde48001122row0_col1\" class=\"data row0 col1\" >lags=2</td>\n",
       "                        <td id=\"T_0e6f7a1c_10a8_11eb_ae8c_acde48001122row0_col2\" class=\"data row0 col2\" >40</td>\n",
       "                        <td id=\"T_0e6f7a1c_10a8_11eb_ae8c_acde48001122row0_col3\" class=\"data row0 col3\" >53.1378</td>\n",
       "                        <td id=\"T_0e6f7a1c_10a8_11eb_ae8c_acde48001122row0_col4\" class=\"data row0 col4\" >8,700</td>\n",
       "                        <td id=\"T_0e6f7a1c_10a8_11eb_ae8c_acde48001122row0_col5\" class=\"data row0 col5\" >5,739</td>\n",
       "                        <td id=\"T_0e6f7a1c_10a8_11eb_ae8c_acde48001122row0_col6\" class=\"data row0 col6\" >5,739</td>\n",
       "                        <td id=\"T_0e6f7a1c_10a8_11eb_ae8c_acde48001122row0_col7\" class=\"data row0 col7\" >0</td>\n",
       "                        <td id=\"T_0e6f7a1c_10a8_11eb_ae8c_acde48001122row0_col8\" class=\"data row0 col8\" >nan</td>\n",
       "                        <td id=\"T_0e6f7a1c_10a8_11eb_ae8c_acde48001122row0_col9\" class=\"data row0 col9\" >0.4031</td>\n",
       "                        <td id=\"T_0e6f7a1c_10a8_11eb_ae8c_acde48001122row0_col10\" class=\"data row0 col10\" >0.6727</td>\n",
       "            </tr>\n",
       "    </tbody></table>"
      ],
      "text/plain": [
       "<pandas.io.formats.style.Styler at 0x7fd4f59f7150>"
      ]
     },
     "metadata": {},
     "output_type": "display_data"
    },
    {
     "name": "stdout",
     "output_type": "stream",
     "text": [
      "CPU times: user 1min 3s, sys: 7.07 s, total: 1min 11s\n",
      "Wall time: 41.7 s\n"
     ]
    }
   ],
   "source": [
    "%%time\n",
    "res = run_model(model_gru,'gru','lags=2',params_gru,scaler=None,\n",
    "                ts=ts,\n",
    "                df_eval=df_eval,show=True)"
   ]
  },
  {
   "cell_type": "markdown",
   "metadata": {
    "papermill": {
     "duration": 0.023137,
     "end_time": "2020-10-17T18:39:14.857122",
     "exception": false,
     "start_time": "2020-10-17T18:39:14.833985",
     "status": "completed"
    },
    "tags": []
   },
   "source": [
    "## GRU with min-max scaling"
   ]
  },
  {
   "cell_type": "code",
   "execution_count": 18,
   "metadata": {
    "execution": {
     "iopub.execute_input": "2020-10-17T18:39:14.926205Z",
     "iopub.status.busy": "2020-10-17T18:39:14.925465Z",
     "iopub.status.idle": "2020-10-17T18:39:53.743792Z",
     "shell.execute_reply": "2020-10-17T18:39:53.743344Z"
    },
    "papermill": {
     "duration": 38.865531,
     "end_time": "2020-10-17T18:39:53.743947",
     "exception": false,
     "start_time": "2020-10-17T18:39:14.878416",
     "status": "completed"
    },
    "tags": []
   },
   "outputs": [
    {
     "data": {
      "text/html": [
       "<style  type=\"text/css\" >\n",
       "#T_25a75dda_10a8_11eb_ae8c_acde48001122row0_col3{\n",
       "            background-color:  #00441b;\n",
       "            color:  #f1f1f1;\n",
       "        }</style><table id=\"T_25a75dda_10a8_11eb_ae8c_acde48001122\" ><thead>    <tr>        <th class=\"blank level0\" ></th>        <th class=\"col_heading level0 col0\" >Model</th>        <th class=\"col_heading level0 col1\" >Description</th>        <th class=\"col_heading level0 col2\" >MAPE</th>        <th class=\"col_heading level0 col3\" >SMAPE</th>        <th class=\"col_heading level0 col4\" >RMSE</th>        <th class=\"col_heading level0 col5\" >ME</th>        <th class=\"col_heading level0 col6\" >MAE</th>        <th class=\"col_heading level0 col7\" >MPE</th>        <th class=\"col_heading level0 col8\" >CORR</th>        <th class=\"col_heading level0 col9\" >MINMAX</th>        <th class=\"col_heading level0 col10\" >ACF1</th>    </tr></thead><tbody>\n",
       "                <tr>\n",
       "                        <th id=\"T_25a75dda_10a8_11eb_ae8c_acde48001122level0_row0\" class=\"row_heading level0 row0\" >0</th>\n",
       "                        <td id=\"T_25a75dda_10a8_11eb_ae8c_acde48001122row0_col0\" class=\"data row0 col0\" >gru</td>\n",
       "                        <td id=\"T_25a75dda_10a8_11eb_ae8c_acde48001122row0_col1\" class=\"data row0 col1\" >lags=2,minmax-scaling</td>\n",
       "                        <td id=\"T_25a75dda_10a8_11eb_ae8c_acde48001122row0_col2\" class=\"data row0 col2\" >58</td>\n",
       "                        <td id=\"T_25a75dda_10a8_11eb_ae8c_acde48001122row0_col3\" class=\"data row0 col3\" >83.9143</td>\n",
       "                        <td id=\"T_25a75dda_10a8_11eb_ae8c_acde48001122row0_col4\" class=\"data row0 col4\" >8,932</td>\n",
       "                        <td id=\"T_25a75dda_10a8_11eb_ae8c_acde48001122row0_col5\" class=\"data row0 col5\" >7,146</td>\n",
       "                        <td id=\"T_25a75dda_10a8_11eb_ae8c_acde48001122row0_col6\" class=\"data row0 col6\" >7,192</td>\n",
       "                        <td id=\"T_25a75dda_10a8_11eb_ae8c_acde48001122row0_col7\" class=\"data row0 col7\" >1</td>\n",
       "                        <td id=\"T_25a75dda_10a8_11eb_ae8c_acde48001122row0_col8\" class=\"data row0 col8\" >0.5818</td>\n",
       "                        <td id=\"T_25a75dda_10a8_11eb_ae8c_acde48001122row0_col9\" class=\"data row0 col9\" >0.5815</td>\n",
       "                        <td id=\"T_25a75dda_10a8_11eb_ae8c_acde48001122row0_col10\" class=\"data row0 col10\" >0.0733</td>\n",
       "            </tr>\n",
       "    </tbody></table>"
      ],
      "text/plain": [
       "<pandas.io.formats.style.Styler at 0x7fd4f7373ad0>"
      ]
     },
     "metadata": {},
     "output_type": "display_data"
    },
    {
     "name": "stdout",
     "output_type": "stream",
     "text": [
      "CPU times: user 1min 2s, sys: 10.8 s, total: 1min 13s\n",
      "Wall time: 38.8 s\n"
     ]
    }
   ],
   "source": [
    "%%time\n",
    "res = run_model(model_gru,'gru','lags=2,minmax-scaling',params_gru,scaler=scaler,\n",
    "                ts=ts,\n",
    "                df_eval=df_eval,show=True)"
   ]
  },
  {
   "cell_type": "markdown",
   "metadata": {
    "papermill": {
     "duration": 0.016598,
     "end_time": "2020-10-17T18:39:53.777804",
     "exception": false,
     "start_time": "2020-10-17T18:39:53.761206",
     "status": "completed"
    },
    "tags": []
   },
   "source": [
    "# Model Evaluation"
   ]
  },
  {
   "cell_type": "code",
   "execution_count": 19,
   "metadata": {
    "ExecuteTime": {
     "end_time": "2020-10-14T19:19:27.253428Z",
     "start_time": "2020-10-14T19:19:26.855553Z"
    },
    "execution": {
     "iopub.execute_input": "2020-10-17T18:39:53.829568Z",
     "iopub.status.busy": "2020-10-17T18:39:53.819865Z",
     "iopub.status.idle": "2020-10-17T18:39:54.066106Z",
     "shell.execute_reply": "2020-10-17T18:39:54.067017Z"
    },
    "papermill": {
     "duration": 0.272629,
     "end_time": "2020-10-17T18:39:54.067192",
     "exception": false,
     "start_time": "2020-10-17T18:39:53.794563",
     "status": "completed"
    },
    "tags": []
   },
   "outputs": [
    {
     "data": {
      "image/png": "[encoded data removed]",
      "text/plain": [
       "<Figure size 864x576 with 1 Axes>"
      ]
     },
     "metadata": {
      "image/png": {
       "height": 511,
       "width": 781
      }
     },
     "output_type": "display_data"
    }
   ],
   "source": [
    "# prediction plot\n",
    "prediction_plot(res['x'],params_gru['lags'],res['ypreds_train'],res['ypreds_test'])"
   ]
  },
  {
   "cell_type": "markdown",
   "metadata": {
    "papermill": {
     "duration": 0.019642,
     "end_time": "2020-10-17T18:39:54.106179",
     "exception": false,
     "start_time": "2020-10-17T18:39:54.086537",
     "status": "completed"
    },
    "tags": []
   },
   "source": [
    "## SMAPE predictions\n",
    "\n",
    "- Wikipedia: https://www.wikiwand.com/en/Symmetric_mean_absolute_percentage_error \n",
    "\n",
    "\n",
    "The formula for SMAPE (Symmetric Mean Absolute Percentage Error) is given below:  \n",
    "\n",
    "$$\n",
    "S M A P E=\\frac{100 \\%}{n} \\sum_{t=1}^{n} \\frac{\\left|F_{t}-A_{t}\\right|}{\\left(\\left|A_{t}\\right|+\\left|F_{t}\\right|\\right) / 2}\n",
    "$$\n",
    "\n",
    "Where, F is forecast and A is the actual value of time series at given time t.\n",
    "\n",
    "Python implementation:\n",
    "```python\n",
    "def smape(A, F):\n",
    "    F = A[:len(A)]\n",
    "    return ( 200.0/len(A) * np.sum(  np.abs(F - A) / \n",
    "                                  (np.abs(A) + np.abs(F) + np.finfo(float).eps))\n",
    "           )\n",
    "```\n",
    "\n",
    "Despite the name Symmetric, the smape is not actually symmetric. Take this\n",
    "example from [wikipedia](https://www.wikiwand.com/en/Symmetric_mean_absolute_percentage_error) for an example:\n",
    "\n",
    "The SMAPE is not symmetric since over- and under-forecasts are not treated equally. \n",
    "This is illustrated by the following example by applying the SMAPE formula:\n",
    "\n",
    "```\n",
    "Over-forecasting : At = 100 and Ft = 110 gives SMAPE = 4.76%\n",
    "Under-forecasting: At = 100 and Ft = 90  gives SMAPE = 5.26%.\n",
    "\n",
    "\n",
    "SMAPE lies between 0 to 200.\n",
    "0 is best and 200 is the worst.\n",
    "```"
   ]
  },
  {
   "cell_type": "code",
   "execution_count": null,
   "metadata": {
    "papermill": {
     "duration": 0.017981,
     "end_time": "2020-10-17T18:39:54.145160",
     "exception": false,
     "start_time": "2020-10-17T18:39:54.127179",
     "status": "completed"
    },
    "tags": []
   },
   "outputs": [],
   "source": []
  }
 ],
 "metadata": {
  "kernelspec": {
   "display_name": "Python (tf2)",
   "language": "python",
   "name": "tf2"
  },
  "language_info": {
   "codemirror_mode": {
    "name": "ipython",
    "version": 3
   },
   "file_extension": ".py",
   "mimetype": "text/x-python",
   "name": "python",
   "nbconvert_exporter": "python",
   "pygments_lexer": "ipython3",
   "version": "3.7.7"
  },
  "papermill": {
   "default_parameters": {},
   "duration": 191.651303,
   "end_time": "2020-10-17T18:39:55.816073",
   "environment_variables": {},
   "exception": null,
   "input_path": "h01_timeseries_modelling_deep_learning.ipynb",
   "output_path": "test_nb_runs/out_h01_timeseries_modelling_deep_learning.ipynb",
   "parameters": {},
   "start_time": "2020-10-17T18:36:44.164770",
   "version": "2.2.0"
  },
  "toc": {
   "base_numbering": 1,
   "nav_menu": {},
   "number_sections": true,
   "sideBar": true,
   "skip_h1_title": false,
   "title_cell": "Table of Contents",
   "title_sidebar": "Contents",
   "toc_cell": true,
   "toc_position": {},
   "toc_section_display": true,
   "toc_window_display": true
  },
  "varInspector": {
   "cols": {
    "lenName": 16,
    "lenType": 16,
    "lenVar": 40
   },
   "kernels_config": {
    "python": {
     "delete_cmd_postfix": "",
     "delete_cmd_prefix": "del ",
     "library": "var_list.py",
     "varRefreshCmd": "print(var_dic_list())"
    },
    "r": {
     "delete_cmd_postfix": ") ",
     "delete_cmd_prefix": "rm(",
     "library": "var_list.r",
     "varRefreshCmd": "cat(var_dic_list()) "
    }
   },
   "types_to_exclude": [
    "module",
    "function",
    "builtin_function_or_method",
    "instance",
    "_Feature"
   ],
   "window_display": false
  }
 },
 "nbformat": 4,
 "nbformat_minor": 4
}