{
 "cells": [
  {
   "cell_type": "markdown",
   "metadata": {
    "id": "ojsIPbS3sd5i",
    "papermill": {
     "duration": 0.029199,
     "end_time": "2020-10-17T18:34:23.716711",
     "exception": false,
     "start_time": "2020-10-17T18:34:23.687512",
     "status": "completed"
    },
    "tags": [],
    "toc": true
   },
   "source": [
    "<h1>Table of Contents<span class=\"tocSkip\"></span></h1>\n",
    "<div class=\"toc\"><ul class=\"toc-item\"><li><span><a href=\"#Data-Description\" data-toc-modified-id=\"Data-Description-1\"><span class=\"toc-item-num\">1&nbsp;&nbsp;</span>Data Description</a></span></li><li><span><a href=\"#Colab\" data-toc-modified-id=\"Colab-2\"><span class=\"toc-item-num\">2&nbsp;&nbsp;</span>Colab</a></span></li><li><span><a href=\"#Load-the-Libraries\" data-toc-modified-id=\"Load-the-Libraries-3\"><span class=\"toc-item-num\">3&nbsp;&nbsp;</span>Load the Libraries</a></span></li><li><span><a href=\"#Useful-Scripts\" data-toc-modified-id=\"Useful-Scripts-4\"><span class=\"toc-item-num\">4&nbsp;&nbsp;</span>Useful Scripts</a></span></li><li><span><a href=\"#Load-the-data\" data-toc-modified-id=\"Load-the-data-5\"><span class=\"toc-item-num\">5&nbsp;&nbsp;</span>Load the data</a></span></li><li><span><a href=\"#Choose-Prince-Musician-data-as-timeseries\" data-toc-modified-id=\"Choose-Prince-Musician-data-as-timeseries-6\"><span class=\"toc-item-num\">6&nbsp;&nbsp;</span>Choose Prince Musician data as timeseries</a></span></li><li><span><a href=\"#Data-Preprocessing\" data-toc-modified-id=\"Data-Preprocessing-7\"><span class=\"toc-item-num\">7&nbsp;&nbsp;</span>Data Preprocessing</a></span><ul class=\"toc-item\"><li><span><a href=\"#Add-lag-columns\" data-toc-modified-id=\"Add-lag-columns-7.1\"><span class=\"toc-item-num\">7.1&nbsp;&nbsp;</span>Add lag columns</a></span></li><li><span><a href=\"#Add-bias-term\" data-toc-modified-id=\"Add-bias-term-7.2\"><span class=\"toc-item-num\">7.2&nbsp;&nbsp;</span>Add bias term</a></span></li></ul></li><li><span><a href=\"#Add-timeseries-features\" data-toc-modified-id=\"Add-timeseries-features-8\"><span class=\"toc-item-num\">8&nbsp;&nbsp;</span>Add timeseries features</a></span></li><li><span><a href=\"#Modelling\" data-toc-modified-id=\"Modelling-9\"><span class=\"toc-item-num\">9&nbsp;&nbsp;</span>Modelling</a></span><ul class=\"toc-item\"><li><span><a href=\"#Train-Test-split\" data-toc-modified-id=\"Train-Test-split-9.1\"><span class=\"toc-item-num\">9.1&nbsp;&nbsp;</span>Train Test split</a></span></li><li><span><a href=\"#Modelling:-Xgboost\" data-toc-modified-id=\"Modelling:-Xgboost-9.2\"><span class=\"toc-item-num\">9.2&nbsp;&nbsp;</span>Modelling: Xgboost</a></span></li></ul></li><li><span><a href=\"#Adding-timeseries-features-using-tsfresh\" data-toc-modified-id=\"Adding-timeseries-features-using-tsfresh-10\"><span class=\"toc-item-num\">10&nbsp;&nbsp;</span>Adding timeseries features using tsfresh</a></span></li><li><span><a href=\"#Using-Pipeline-for-tsfresh-relevant-feature-augmenter\" data-toc-modified-id=\"Using-Pipeline-for-tsfresh-relevant-feature-augmenter-11\"><span class=\"toc-item-num\">11&nbsp;&nbsp;</span>Using Pipeline for tsfresh relevant feature augmenter</a></span></li><li><span><a href=\"#Cross-validation-for-timeseries\" data-toc-modified-id=\"Cross-validation-for-timeseries-12\"><span class=\"toc-item-num\">12&nbsp;&nbsp;</span>Cross validation for timeseries</a></span></li><li><span><a href=\"#Time-Taken\" data-toc-modified-id=\"Time-Taken-13\"><span class=\"toc-item-num\">13&nbsp;&nbsp;</span>Time Taken</a></span></li></ul></div>"
   ]
  },
  {
   "cell_type": "markdown",
   "metadata": {
    "id": "XhyetlCmsd5i",
    "papermill": {
     "duration": 0.028765,
     "end_time": "2020-10-17T18:34:23.777121",
     "exception": false,
     "start_time": "2020-10-17T18:34:23.748356",
     "status": "completed"
    },
    "tags": []
   },
   "source": [
    "# Data Description\n",
    "\n",
    "Reference: https://www.kaggle.com/c/web-traffic-time-series-forecasting/data\n",
    "\n",
    "```\n",
    "Original data: train_1.csv\n",
    "-----------------------------\n",
    "rows = 145,063\n",
    "columns = 551\n",
    "first column = Page\n",
    "date columns = 2015-07-01, 2015-07-02, ..., 2016-12-31 (550 columns)\n",
    "file size: 284.6 MB\n",
    "              \n",
    "              \n",
    "Data for modelling: Prince Musician\n",
    "-------------------------------------------------------\n",
    "timeseries  : 2016 page visits for Prince \n",
    "\n",
    "lag columns : lag1 to lag7\n",
    "bias        : bias column\n",
    "\n",
    "For ARIMA   : we have only one timeseries (one column)\n",
    "For sklearn : For linear regressor, ensemble learners we can have many columns\n",
    "```"
   ]
  },
  {
   "cell_type": "markdown",
   "metadata": {
    "id": "VKv58QvJt69R",
    "papermill": {
     "duration": 0.02848,
     "end_time": "2020-10-17T18:34:23.834615",
     "exception": false,
     "start_time": "2020-10-17T18:34:23.806135",
     "status": "completed"
    },
    "tags": []
   },
   "source": [
    "# Colab"
   ]
  },
  {
   "cell_type": "code",
   "execution_count": 1,
   "metadata": {
    "ExecuteTime": {
     "end_time": "2020-10-14T19:37:03.679094Z",
     "start_time": "2020-10-14T19:37:03.670192Z"
    },
    "execution": {
     "iopub.execute_input": "2020-10-17T18:34:23.898807Z",
     "iopub.status.busy": "2020-10-17T18:34:23.895507Z",
     "iopub.status.idle": "2020-10-17T18:34:23.900572Z",
     "shell.execute_reply": "2020-10-17T18:34:23.901086Z"
    },
    "id": "r0HxnzzUVQ9W",
    "papermill": {
     "duration": 0.038279,
     "end_time": "2020-10-17T18:34:23.901464",
     "exception": false,
     "start_time": "2020-10-17T18:34:23.863185",
     "status": "completed"
    },
    "tags": []
   },
   "outputs": [],
   "source": [
    "import time\n",
    "\n",
    "time_start_notebook = time.time()"
   ]
  },
  {
   "cell_type": "code",
   "execution_count": 2,
   "metadata": {
    "ExecuteTime": {
     "end_time": "2020-10-14T19:37:03.813743Z",
     "start_time": "2020-10-14T19:37:03.682853Z"
    },
    "execution": {
     "iopub.execute_input": "2020-10-17T18:34:23.996509Z",
     "iopub.status.busy": "2020-10-17T18:34:23.995677Z",
     "iopub.status.idle": "2020-10-17T18:34:24.186952Z",
     "shell.execute_reply": "2020-10-17T18:34:24.187482Z"
    },
    "id": "CJuXw1Qut87b",
    "papermill": {
     "duration": 0.241828,
     "end_time": "2020-10-17T18:34:24.187788",
     "exception": false,
     "start_time": "2020-10-17T18:34:23.945960",
     "status": "completed"
    },
    "tags": []
   },
   "outputs": [],
   "source": [
    "mkdir -p ~/.kaggle"
   ]
  },
  {
   "cell_type": "code",
   "execution_count": 3,
   "metadata": {
    "ExecuteTime": {
     "end_time": "2020-10-14T19:37:03.824912Z",
     "start_time": "2020-10-14T19:37:03.817463Z"
    },
    "execution": {
     "iopub.execute_input": "2020-10-17T18:34:24.332969Z",
     "iopub.status.busy": "2020-10-17T18:34:24.324358Z",
     "iopub.status.idle": "2020-10-17T18:34:24.337531Z",
     "shell.execute_reply": "2020-10-17T18:34:24.329682Z"
    },
    "id": "RJcf46Ioucjt",
    "papermill": {
     "duration": 0.077848,
     "end_time": "2020-10-17T18:34:24.338105",
     "exception": false,
     "start_time": "2020-10-17T18:34:24.260257",
     "status": "completed"
    },
    "tags": []
   },
   "outputs": [],
   "source": [
    "# !echo '' > ~/.kaggle/kaggle.json\n"
   ]
  },
  {
   "cell_type": "code",
   "execution_count": 4,
   "metadata": {
    "ExecuteTime": {
     "end_time": "2020-10-14T19:37:03.949084Z",
     "start_time": "2020-10-14T19:37:03.828379Z"
    },
    "execution": {
     "iopub.execute_input": "2020-10-17T18:34:24.470608Z",
     "iopub.status.busy": "2020-10-17T18:34:24.460693Z",
     "iopub.status.idle": "2020-10-17T18:34:24.581090Z",
     "shell.execute_reply": "2020-10-17T18:34:24.582416Z"
    },
    "id": "cyXaqZ-0uf1K",
    "papermill": {
     "duration": 0.188842,
     "end_time": "2020-10-17T18:34:24.584017",
     "exception": false,
     "start_time": "2020-10-17T18:34:24.395175",
     "status": "completed"
    },
    "tags": []
   },
   "outputs": [],
   "source": [
    "!chmod 600 ~/.kaggle/kaggle.json\n",
    "\n",
    "# after we have ~/.kaggle/kaggle.json file in colab, we can install kaggle module."
   ]
  },
  {
   "cell_type": "code",
   "execution_count": 5,
   "metadata": {
    "ExecuteTime": {
     "end_time": "2020-10-14T19:37:04.075042Z",
     "start_time": "2020-10-14T19:37:03.951635Z"
    },
    "colab": {
     "base_uri": "https://localhost:8080/",
     "height": 34
    },
    "execution": {
     "iopub.execute_input": "2020-10-17T18:34:24.694877Z",
     "iopub.status.busy": "2020-10-17T18:34:24.692234Z",
     "iopub.status.idle": "2020-10-17T18:34:24.806137Z",
     "shell.execute_reply": "2020-10-17T18:34:24.806978Z"
    },
    "id": "dlj5IIlWt9C5",
    "outputId": "7c068813-f325-4b56-c540-37c9679f5ab0",
    "papermill": {
     "duration": 0.173701,
     "end_time": "2020-10-17T18:34:24.807714",
     "exception": false,
     "start_time": "2020-10-17T18:34:24.634013",
     "status": "completed"
    },
    "tags": []
   },
   "outputs": [
    {
     "name": "stdout",
     "output_type": "stream",
     "text": [
      "{\"username\":\"bhishan"
     ]
    }
   ],
   "source": [
    "!head -c 20 ~/.kaggle/kaggle.json"
   ]
  },
  {
   "cell_type": "code",
   "execution_count": 6,
   "metadata": {
    "ExecuteTime": {
     "end_time": "2020-10-14T19:37:04.105464Z",
     "start_time": "2020-10-14T19:37:04.077460Z"
    },
    "execution": {
     "iopub.execute_input": "2020-10-17T18:34:24.929187Z",
     "iopub.status.busy": "2020-10-17T18:34:24.925791Z",
     "iopub.status.idle": "2020-10-17T18:34:24.937295Z",
     "shell.execute_reply": "2020-10-17T18:34:24.931176Z"
    },
    "id": "2Cp5m-vKuIr-",
    "papermill": {
     "duration": 0.080905,
     "end_time": "2020-10-17T18:34:24.939691",
     "exception": false,
     "start_time": "2020-10-17T18:34:24.858786",
     "status": "completed"
    },
    "tags": []
   },
   "outputs": [],
   "source": [
    "%%capture\n",
    "# capture will not print in notebook\n",
    "\n",
    "import os\n",
    "import sys\n",
    "ENV_COLAB = 'google.colab' in sys.modules\n",
    "\n",
    "if ENV_COLAB:\n",
    "    ## install modules\n",
    "    !pip install watermark\n",
    "    !pip install tsfresh\n",
    "\n",
    "    ## create project like folders\n",
    "    !mkdir -p ../data ../outputs ../images ../reports ../html ../models\n",
    "\n",
    "    !pip install kaggle"
   ]
  },
  {
   "cell_type": "code",
   "execution_count": 7,
   "metadata": {
    "ExecuteTime": {
     "end_time": "2020-10-14T19:37:04.113004Z",
     "start_time": "2020-10-14T19:37:04.108948Z"
    },
    "execution": {
     "iopub.execute_input": "2020-10-17T18:34:25.065859Z",
     "iopub.status.busy": "2020-10-17T18:34:25.062655Z",
     "iopub.status.idle": "2020-10-17T18:34:25.072311Z",
     "shell.execute_reply": "2020-10-17T18:34:25.068764Z"
    },
    "id": "PnaQQ02Hu3ZN",
    "papermill": {
     "duration": 0.078187,
     "end_time": "2020-10-17T18:34:25.073664",
     "exception": false,
     "start_time": "2020-10-17T18:34:24.995477",
     "status": "completed"
    },
    "tags": []
   },
   "outputs": [],
   "source": [
    "# !kaggle competitions files -c web-traffic-time-series-forecasting"
   ]
  },
  {
   "cell_type": "code",
   "execution_count": 8,
   "metadata": {
    "ExecuteTime": {
     "end_time": "2020-10-14T19:37:06.968997Z",
     "start_time": "2020-10-14T19:37:04.118053Z"
    },
    "colab": {
     "base_uri": "https://localhost:8080/",
     "height": 68
    },
    "execution": {
     "iopub.execute_input": "2020-10-17T18:34:25.254626Z",
     "iopub.status.busy": "2020-10-17T18:34:25.251956Z",
     "iopub.status.idle": "2020-10-17T18:34:28.005224Z",
     "shell.execute_reply": "2020-10-17T18:34:28.005911Z"
    },
    "id": "E6fH4fSxu3WA",
    "outputId": "47458d2a-38ec-46c9-b5c9-50c3eec553ca",
    "papermill": {
     "duration": 2.852413,
     "end_time": "2020-10-17T18:34:28.006426",
     "exception": false,
     "start_time": "2020-10-17T18:34:25.154013",
     "status": "completed"
    },
    "tags": []
   },
   "outputs": [
    {
     "name": "stdout",
     "output_type": "stream",
     "text": [
      "train_1.csv.zip: Skipping, found more recently modified local copy (use --force to force download)\r\n"
     ]
    }
   ],
   "source": [
    "!kaggle competitions download -c web-traffic-time-series-forecasting -f train_1.csv.zip -p ../data/"
   ]
  },
  {
   "cell_type": "code",
   "execution_count": 9,
   "metadata": {
    "ExecuteTime": {
     "end_time": "2020-10-14T19:37:07.100939Z",
     "start_time": "2020-10-14T19:37:06.972916Z"
    },
    "colab": {
     "base_uri": "https://localhost:8080/",
     "height": 34
    },
    "execution": {
     "iopub.execute_input": "2020-10-17T18:34:28.139955Z",
     "iopub.status.busy": "2020-10-17T18:34:28.133981Z",
     "iopub.status.idle": "2020-10-17T18:34:28.254383Z",
     "shell.execute_reply": "2020-10-17T18:34:28.256510Z"
    },
    "id": "LYYoSjIJvCYd",
    "outputId": "726a4ca2-d217-4ac8-95b0-19f22b2f35ac",
    "papermill": {
     "duration": 0.197071,
     "end_time": "2020-10-17T18:34:28.257208",
     "exception": false,
     "start_time": "2020-10-17T18:34:28.060137",
     "status": "completed"
    },
    "tags": []
   },
   "outputs": [
    {
     "name": "stdout",
     "output_type": "stream",
     "text": [
      "most_visited_2016.csv train_1.csv.zip       train_1_01?raw=true   train_1_02?raw=true   train_1_03?raw=true\r\n"
     ]
    }
   ],
   "source": [
    "!ls ../data"
   ]
  },
  {
   "cell_type": "markdown",
   "metadata": {
    "id": "0_hbKo0Nt9LF",
    "papermill": {
     "duration": 0.05512,
     "end_time": "2020-10-17T18:34:28.368281",
     "exception": false,
     "start_time": "2020-10-17T18:34:28.313161",
     "status": "completed"
    },
    "tags": []
   },
   "source": [
    "# Load the Libraries"
   ]
  },
  {
   "cell_type": "code",
   "execution_count": 10,
   "metadata": {
    "ExecuteTime": {
     "end_time": "2020-10-14T19:37:09.822170Z",
     "start_time": "2020-10-14T19:37:07.107695Z"
    },
    "colab": {
     "base_uri": "https://localhost:8080/",
     "height": 408
    },
    "execution": {
     "iopub.execute_input": "2020-10-17T18:34:28.683476Z",
     "iopub.status.busy": "2020-10-17T18:34:28.675619Z",
     "iopub.status.idle": "2020-10-17T18:34:32.051775Z",
     "shell.execute_reply": "2020-10-17T18:34:32.052600Z"
    },
    "id": "yy-C1O4Zsd5j",
    "outputId": "f9428840-3cdb-4bba-87ad-e372bdb19959",
    "papermill": {
     "duration": 3.602039,
     "end_time": "2020-10-17T18:34:32.052864",
     "exception": false,
     "start_time": "2020-10-17T18:34:28.450825",
     "status": "completed"
    },
    "tags": []
   },
   "outputs": [
    {
     "name": "stdout",
     "output_type": "stream",
     "text": [
      "Bhishan Poudel 2020-10-17 \n",
      "\n",
      "CPython 3.7.7\n",
      "IPython 7.18.1\n",
      "\n",
      "compiler   : Clang 4.0.1 (tags/RELEASE_401/final)\n",
      "system     : Darwin\n",
      "release    : 19.6.0\n",
      "machine    : x86_64\n",
      "processor  : i386\n",
      "CPU cores  : 4\n",
      "interpreter: 64bit\n",
      "\n",
      "xgboost    1.2.0\n",
      "numpy      1.18.4\n",
      "seaborn    0.11.0\n",
      "pandas     1.1.0\n",
      "matplotlib 3.2.1\n",
      "scipy      1.4.1\n",
      "joblib     0.17.0\n",
      "watermark  2.0.2\n",
      "sklearn    0.23.1\n",
      "\n"
     ]
    }
   ],
   "source": [
    "import numpy as np\n",
    "import pandas as pd\n",
    "import seaborn as sns\n",
    "sns.set(color_codes=True)\n",
    "\n",
    "import matplotlib\n",
    "import matplotlib.pyplot as plt\n",
    "%matplotlib inline\n",
    "%config InlineBackend.figure_format = 'retina'\n",
    "sns.set(context='notebook', style='whitegrid', rc={'figure.figsize': (12,8)})\n",
    "plt.style.use('fivethirtyeight') # better than sns styles.\n",
    "matplotlib.rcParams['figure.figsize'] = 12,8\n",
    "\n",
    "import os\n",
    "import time\n",
    "import joblib\n",
    "\n",
    "# random state\n",
    "SEED=100\n",
    "np.random.seed(SEED)\n",
    "\n",
    "# Jupyter notebook settings for pandas\n",
    "#pd.set_option('display.float_format', '{:,.2g}'.format) # numbers sep by comma\n",
    "from pandas.api.types import CategoricalDtype\n",
    "np.set_printoptions(precision=3)\n",
    "pd.set_option('display.max_columns', 100)\n",
    "pd.set_option('display.max_rows', 100) # None for all the rows\n",
    "pd.set_option('display.max_colwidth', 200)\n",
    "\n",
    "import gc\n",
    "\n",
    "import sklearn\n",
    "from sklearn.preprocessing import StandardScaler\n",
    "from sklearn.model_selection import cross_val_score,train_test_split\n",
    "from sklearn.model_selection import TimeSeriesSplit\n",
    "from sklearn.metrics import mean_absolute_error, r2_score\n",
    "\n",
    "import xgboost\n",
    "from xgboost import XGBRegressor\n",
    "import scipy\n",
    "from scipy import stats\n",
    "\n",
    "import watermark\n",
    "\n",
    "# versions\n",
    "%load_ext watermark\n",
    "%watermark -a \"Bhishan Poudel\" -d -v -m\n",
    "print()\n",
    "%watermark -iv"
   ]
  },
  {
   "cell_type": "code",
   "execution_count": 11,
   "metadata": {
    "ExecuteTime": {
     "end_time": "2020-10-14T19:37:09.850745Z",
     "start_time": "2020-10-14T19:37:09.824571Z"
    },
    "colab": {
     "base_uri": "https://localhost:8080/",
     "height": 17
    },
    "execution": {
     "iopub.execute_input": "2020-10-17T18:34:32.167847Z",
     "iopub.status.busy": "2020-10-17T18:34:32.167024Z",
     "iopub.status.idle": "2020-10-17T18:34:32.170171Z",
     "shell.execute_reply": "2020-10-17T18:34:32.170536Z"
    },
    "id": "k8fwbXKlsd5n",
    "outputId": "d065f049-cad0-4933-e94e-8f68c31516b3",
    "papermill": {
     "duration": 0.063509,
     "end_time": "2020-10-17T18:34:32.170849",
     "exception": false,
     "start_time": "2020-10-17T18:34:32.107340",
     "status": "completed"
    },
    "tags": []
   },
   "outputs": [
    {
     "data": {
      "application/javascript": [
       "IPython.OutputArea.auto_scroll_threshold = 9999;\n"
      ],
      "text/plain": [
       "<IPython.core.display.Javascript object>"
      ]
     },
     "metadata": {},
     "output_type": "display_data"
    }
   ],
   "source": [
    "%%javascript\n",
    "IPython.OutputArea.auto_scroll_threshold = 9999;"
   ]
  },
  {
   "cell_type": "markdown",
   "metadata": {
    "id": "1U1WUmnMsd5p",
    "papermill": {
     "duration": 0.032325,
     "end_time": "2020-10-17T18:34:32.234949",
     "exception": false,
     "start_time": "2020-10-17T18:34:32.202624",
     "status": "completed"
    },
    "tags": []
   },
   "source": [
    "# Useful Scripts"
   ]
  },
  {
   "cell_type": "code",
   "execution_count": 12,
   "metadata": {
    "ExecuteTime": {
     "end_time": "2020-10-14T19:37:09.867757Z",
     "start_time": "2020-10-14T19:37:09.859312Z"
    },
    "execution": {
     "iopub.execute_input": "2020-10-17T18:34:32.309026Z",
     "iopub.status.busy": "2020-10-17T18:34:32.307765Z",
     "iopub.status.idle": "2020-10-17T18:34:32.310220Z",
     "shell.execute_reply": "2020-10-17T18:34:32.310728Z"
    },
    "id": "Eb9Ycevtsd5q",
    "papermill": {
     "duration": 0.043726,
     "end_time": "2020-10-17T18:34:32.310893",
     "exception": false,
     "start_time": "2020-10-17T18:34:32.267167",
     "status": "completed"
    },
    "tags": []
   },
   "outputs": [],
   "source": [
    "def show_method_attributes(method, ncols=7):\n",
    "    \"\"\" Show all the attributes of a given method.\n",
    "    Example:\n",
    "    ========\n",
    "    show_method_attributes(list)\n",
    "     \"\"\"\n",
    "    x = [i for i in dir(method) if i[0].islower()]\n",
    "    return pd.DataFrame(np.array_split(x,ncols)).T.fillna('')"
   ]
  },
  {
   "cell_type": "code",
   "execution_count": 13,
   "metadata": {
    "ExecuteTime": {
     "end_time": "2020-10-14T19:37:09.874720Z",
     "start_time": "2020-10-14T19:37:09.870847Z"
    },
    "execution": {
     "iopub.execute_input": "2020-10-17T18:34:32.384685Z",
     "iopub.status.busy": "2020-10-17T18:34:32.383925Z",
     "iopub.status.idle": "2020-10-17T18:34:32.386372Z",
     "shell.execute_reply": "2020-10-17T18:34:32.386729Z"
    },
    "id": "J-MrALoQsd5s",
    "papermill": {
     "duration": 0.041554,
     "end_time": "2020-10-17T18:34:32.386890",
     "exception": false,
     "start_time": "2020-10-17T18:34:32.345336",
     "status": "completed"
    },
    "tags": []
   },
   "outputs": [],
   "source": [
    "def safe_median(s):\n",
    "    return np.median([x for x in s if ~np.isnan(x)])"
   ]
  },
  {
   "cell_type": "markdown",
   "metadata": {
    "id": "HuIUoxOksd5v",
    "papermill": {
     "duration": 0.031867,
     "end_time": "2020-10-17T18:34:32.452571",
     "exception": false,
     "start_time": "2020-10-17T18:34:32.420704",
     "status": "completed"
    },
    "tags": []
   },
   "source": [
    "MAPE - Mean Absolute Percentage Error:\n",
    "$$\n",
    "M A P E=\\frac{100}{n} \\sum_{i=1}^{n} \\frac{\\left|y_{i}-\\hat{y}_{i}\\right|}{y_{i}}\n",
    "$$\n",
    "\n",
    "\n",
    "SMAPE - Symmetric Mean Absolute Percentage Error:\n",
    "\n",
    "$$\n",
    "S M A P E = \\frac{100 \\%}{n} \\sum_{i=1}^{n} \\frac{\\left|y_{i} - \\hat{y}\\right|}{\\left(\\left|y_i\\right| + \\left|\\hat{y}\\right|\\right) / 2}\\\\\n",
    "\\quad \\quad = \\frac{200 \\%}{n} \\sum_{i=1}^{n} \\frac{\\left|y_{i} - \\hat{y}\\right|}{ \\left|y_i\\right| + \\left|\\hat{y}\\right|}\n",
    "$$"
   ]
  },
  {
   "cell_type": "code",
   "execution_count": 14,
   "metadata": {
    "ExecuteTime": {
     "end_time": "2020-10-14T19:37:09.882073Z",
     "start_time": "2020-10-14T19:37:09.876926Z"
    },
    "execution": {
     "iopub.execute_input": "2020-10-17T18:34:32.566262Z",
     "iopub.status.busy": "2020-10-17T18:34:32.565582Z",
     "iopub.status.idle": "2020-10-17T18:34:32.568092Z",
     "shell.execute_reply": "2020-10-17T18:34:32.568517Z"
    },
    "id": "n7l-i7-Vsd5v",
    "papermill": {
     "duration": 0.066866,
     "end_time": "2020-10-17T18:34:32.568687",
     "exception": false,
     "start_time": "2020-10-17T18:34:32.501821",
     "status": "completed"
    },
    "tags": []
   },
   "outputs": [],
   "source": [
    "def get_mape(y_true, y_pred):\n",
    "    \"Mean Absolute Percentage Error\"\n",
    "    return np.mean(np.abs((y_true - y_pred) / y_true)) * 100\n",
    "\n",
    "def get_smape(y_true, y_pred):\n",
    "    \"Symmetric Mean Absolute Percentage Error\"\n",
    "    denominator = (np.abs(y_true) + np.abs(y_pred))\n",
    "    diff = np.abs(y_true - y_pred) / denominator\n",
    "    diff[denominator == 0] = 0.0\n",
    "    return 200 * np.mean(diff)"
   ]
  },
  {
   "cell_type": "code",
   "execution_count": 15,
   "metadata": {
    "ExecuteTime": {
     "end_time": "2020-10-14T19:37:09.894812Z",
     "start_time": "2020-10-14T19:37:09.884143Z"
    },
    "execution": {
     "iopub.execute_input": "2020-10-17T18:34:32.645736Z",
     "iopub.status.busy": "2020-10-17T18:34:32.636399Z",
     "iopub.status.idle": "2020-10-17T18:34:32.648045Z",
     "shell.execute_reply": "2020-10-17T18:34:32.648678Z"
    },
    "id": "bL8Je5XuBQwc",
    "papermill": {
     "duration": 0.04643,
     "end_time": "2020-10-17T18:34:32.648850",
     "exception": false,
     "start_time": "2020-10-17T18:34:32.602420",
     "status": "completed"
    },
    "tags": []
   },
   "outputs": [],
   "source": [
    "def get_mape(y_true, y_pred):\n",
    "    \"Mean Absolute Percentage Error\"\n",
    "    return np.mean(np.abs((y_true - y_pred) / y_true)) * 100\n",
    "\n",
    "def get_smape(y_true, y_pred):\n",
    "    \"Symmetric Mean Absolute Percentage Error\"\n",
    "    denominator = (np.abs(y_true) + np.abs(y_pred))\n",
    "    diff = np.abs(y_true - y_pred) / denominator\n",
    "    diff[denominator == 0] = 0.0\n",
    "    return 200 * np.mean(diff)\n",
    "\n",
    "def timeseries_evaluation(model_name, desc, ytest, ypreds, df_eval=None,\n",
    "                          show=False,sort_col='SMAPE'):\n",
    "    from statsmodels.tsa.stattools import acf\n",
    "\n",
    "    if df_eval is None:\n",
    "        df_eval = pd.DataFrame({'Model': [],\n",
    "                                'Description':[],\n",
    "                                'MAPE': [],\n",
    "                                'SMAPE': [],\n",
    "                                'RMSE': [],\n",
    "                                'ME': [],\n",
    "                                'MAE': [],\n",
    "                                'MPE': [],\n",
    "                                'CORR': [],\n",
    "                                'MINMAX': [],\n",
    "                                'ACF1': [],\n",
    "                                })\n",
    "\n",
    "    mape = get_mape(ytest,ypreds)   # MAPE\n",
    "    smape = get_smape(ytest,ypreds) # SMAPE\n",
    "    rmse = np.mean((ytest - ypreds)**2)**.5  # RMSE\n",
    "\n",
    "    me = np.mean(ytest - ypreds)             # ME\n",
    "    mae = np.mean(np.abs(ytest - ypreds))    # MAE\n",
    "    mpe = np.mean((ytest - ypreds)/ytest)    # MPE\n",
    "\n",
    "    corr = np.corrcoef(ytest, ypreds)[0, 1]  # corr\n",
    "\n",
    "    mins = np.amin(np.hstack([ytest[:, None],\n",
    "                              ypreds[:, None]]), axis=1)\n",
    "    maxs = np.amax(np.hstack([ytest[:, None],\n",
    "                              ypreds[:, None]]), axis=1)\n",
    "    minmax = 1 - np.mean(mins/maxs)             # minmax\n",
    "\n",
    "    acf1 = acf(ytest-ypreds, fft=False)[1]    # ACF1 (autocorrelation function)\n",
    "\n",
    "    row = [model_name, desc, mape, smape,rmse, me,mae,mpe,corr,minmax,acf1]\n",
    "\n",
    "    df_eval.loc[len(df_eval)] = row\n",
    "    df_eval = df_eval.drop_duplicates(['Model','Description'])\n",
    "    \n",
    "    asc, cmap = True, 'Greens_r'\n",
    "    \n",
    "    if sort_col == 'RMSE':\n",
    "        asc = False\n",
    "        cmap = 'Greens'\n",
    "\n",
    "    if sort_col == 'SMAPE':\n",
    "        asc = True\n",
    "        cmap = 'Greens_r'\n",
    "\n",
    "    df_eval = df_eval.sort_values(sort_col,ascending=asc)\n",
    "    df_eval = df_eval.reset_index(drop=True)\n",
    "\n",
    "    if show:\n",
    "        df_eval_style = (df_eval.style\n",
    "                         .format({'MAPE': \"{:,.0f}\",\n",
    "                                  'SMAPE': \"{:,.4f}\",\n",
    "                                  'RMSE': \"{:,.0f}\",\n",
    "                                  'ME': \"{:,.0f}\",\n",
    "                                  'MAE': \"{:,.0f}\",\n",
    "                                  'MPE': \"{:,.0f}\",\n",
    "                                  'CORR': \"{:,.4f}\",\n",
    "                                  'MINMAX': \"{:,.4f}\",\n",
    "                                  'ACF1': \"{:,.4f}\"\n",
    "                                 })\n",
    "                         .background_gradient(subset=[sort_col],cmap=cmap)\n",
    "                        )\n",
    "        display(df_eval_style)\n",
    "    return df_eval\n",
    "\n",
    "df_eval = None"
   ]
  },
  {
   "cell_type": "code",
   "execution_count": 16,
   "metadata": {
    "ExecuteTime": {
     "end_time": "2020-10-14T19:37:09.904726Z",
     "start_time": "2020-10-14T19:37:09.897412Z"
    },
    "execution": {
     "iopub.execute_input": "2020-10-17T18:34:32.729761Z",
     "iopub.status.busy": "2020-10-17T18:34:32.728412Z",
     "iopub.status.idle": "2020-10-17T18:34:32.730882Z",
     "shell.execute_reply": "2020-10-17T18:34:32.731940Z"
    },
    "id": "mCO9DQsJCe6f",
    "papermill": {
     "duration": 0.051424,
     "end_time": "2020-10-17T18:34:32.732118",
     "exception": false,
     "start_time": "2020-10-17T18:34:32.680694",
     "status": "completed"
    },
    "tags": []
   },
   "outputs": [],
   "source": [
    "def plot_model_results(model,Xtrain, ytrain,Xtest,ytest,ypreds,\n",
    "                       n_splits=5,\n",
    "                       plot_intervals=False,\n",
    "                       plot_anomalies=False):\n",
    "    \"\"\"Plot model performance for timeseries data.\n",
    "\n",
    "    \"\"\"\n",
    "    from sklearn.model_selection import cross_val_score\n",
    "    from sklearn.model_selection import TimeSeriesSplit\n",
    "\n",
    "    # plot\n",
    "    plt.figure(figsize=(14, 8))\n",
    "    plt.plot(ytest, \"green\", label=\"actual\", linewidth=2.0)\n",
    "    plt.plot(ypreds, \"blue\", label=\"ypreds\", linewidth=2.0)\n",
    "\n",
    "    tscv = TimeSeriesSplit(n_splits=n_splits)\n",
    "    if plot_intervals:\n",
    "        score_cv = cross_val_score(model,Xtrain,ytrain,\n",
    "                                    cv=tscv,\n",
    "                                    scoring=\"neg_mean_absolute_error\")\n",
    "        mae = score_cv.mean() * (-1)\n",
    "        deviation = score_cv.std()\n",
    "\n",
    "        scale = 1.96\n",
    "        lower = ypreds - (mae + scale * deviation)\n",
    "        upper = ypreds + (mae + scale * deviation)\n",
    "\n",
    "        plt.plot(lower, \"r--\", label=\"upper bond / lower bond\", alpha=0.5)\n",
    "        plt.plot(upper, \"r--\", alpha=0.5)\n",
    "\n",
    "        if plot_anomalies:\n",
    "            anomalies = np.array([np.NaN]*len(ytest))\n",
    "            anomalies[ytest<lower] = ytest[ytest<lower]\n",
    "            anomalies[ytest>upper] = ytest[ytest>upper]\n",
    "            plt.plot(anomalies, \"o\", markersize=10, label = \"Anomalies\")\n",
    "\n",
    "    mape_error = get_mape(ytest, ypreds)\n",
    "    smape_error = get_smape(ytest, ypreds)\n",
    "\n",
    "    title = \"MAPE : {:.2f} \\nSMAPE: {:.2f}\".format(mape_error, smape_error)\n",
    "    plt.title(title)\n",
    "    plt.legend(loc=\"best\")\n",
    "    plt.tight_layout()\n",
    "    plt.grid(True);"
   ]
  },
  {
   "cell_type": "markdown",
   "metadata": {
    "id": "IIVbT_Ndsd5y",
    "papermill": {
     "duration": 0.034719,
     "end_time": "2020-10-17T18:34:32.799499",
     "exception": false,
     "start_time": "2020-10-17T18:34:32.764780",
     "status": "completed"
    },
    "tags": []
   },
   "source": [
    "# Load the data"
   ]
  },
  {
   "cell_type": "code",
   "execution_count": 17,
   "metadata": {
    "ExecuteTime": {
     "end_time": "2020-10-14T19:37:21.751246Z",
     "start_time": "2020-10-14T19:37:09.906672Z"
    },
    "colab": {
     "base_uri": "https://localhost:8080/",
     "height": 338
    },
    "execution": {
     "iopub.execute_input": "2020-10-17T18:34:32.871139Z",
     "iopub.status.busy": "2020-10-17T18:34:32.870243Z",
     "iopub.status.idle": "2020-10-17T18:34:41.597712Z",
     "shell.execute_reply": "2020-10-17T18:34:41.598061Z"
    },
    "id": "93o3OovGsd5y",
    "outputId": "61269b12-8dbd-4c61-fc54-76f3305476dd",
    "papermill": {
     "duration": 8.76419,
     "end_time": "2020-10-17T18:34:41.598225",
     "exception": false,
     "start_time": "2020-10-17T18:34:32.834035",
     "status": "completed"
    },
    "tags": []
   },
   "outputs": [
    {
     "name": "stdout",
     "output_type": "stream",
     "text": [
      "(145063, 551)\n"
     ]
    },
    {
     "data": {
      "text/html": [
       "<div>\n",
       "<style scoped>\n",
       "    .dataframe tbody tr th:only-of-type {\n",
       "        vertical-align: middle;\n",
       "    }\n",
       "\n",
       "    .dataframe tbody tr th {\n",
       "        vertical-align: top;\n",
       "    }\n",
       "\n",
       "    .dataframe thead th {\n",
       "        text-align: right;\n",
       "    }\n",
       "</style>\n",
       "<table border=\"1\" class=\"dataframe\">\n",
       "  <thead>\n",
       "    <tr style=\"text-align: right;\">\n",
       "      <th></th>\n",
       "      <th>Page</th>\n",
       "      <th>2015-07-01</th>\n",
       "      <th>2015-07-02</th>\n",
       "      <th>2015-07-03</th>\n",
       "      <th>2015-07-04</th>\n",
       "      <th>2015-07-05</th>\n",
       "      <th>2015-07-06</th>\n",
       "      <th>2015-07-07</th>\n",
       "      <th>2015-07-08</th>\n",
       "      <th>2015-07-09</th>\n",
       "      <th>2015-07-10</th>\n",
       "      <th>2015-07-11</th>\n",
       "      <th>2015-07-12</th>\n",
       "      <th>2015-07-13</th>\n",
       "      <th>2015-07-14</th>\n",
       "      <th>2015-07-15</th>\n",
       "      <th>2015-07-16</th>\n",
       "      <th>2015-07-17</th>\n",
       "      <th>2015-07-18</th>\n",
       "      <th>2015-07-19</th>\n",
       "      <th>2015-07-20</th>\n",
       "      <th>2015-07-21</th>\n",
       "      <th>2015-07-22</th>\n",
       "      <th>2015-07-23</th>\n",
       "      <th>2015-07-24</th>\n",
       "      <th>2015-07-25</th>\n",
       "      <th>2015-07-26</th>\n",
       "      <th>2015-07-27</th>\n",
       "      <th>2015-07-28</th>\n",
       "      <th>2015-07-29</th>\n",
       "      <th>2015-07-30</th>\n",
       "      <th>2015-07-31</th>\n",
       "      <th>2015-08-01</th>\n",
       "      <th>2015-08-02</th>\n",
       "      <th>2015-08-03</th>\n",
       "      <th>2015-08-04</th>\n",
       "      <th>2015-08-05</th>\n",
       "      <th>2015-08-06</th>\n",
       "      <th>2015-08-07</th>\n",
       "      <th>2015-08-08</th>\n",
       "      <th>2015-08-09</th>\n",
       "      <th>2015-08-10</th>\n",
       "      <th>2015-08-11</th>\n",
       "      <th>2015-08-12</th>\n",
       "      <th>2015-08-13</th>\n",
       "      <th>2015-08-14</th>\n",
       "      <th>2015-08-15</th>\n",
       "      <th>2015-08-16</th>\n",
       "      <th>2015-08-17</th>\n",
       "      <th>2015-08-18</th>\n",
       "      <th>...</th>\n",
       "      <th>2016-11-12</th>\n",
       "      <th>2016-11-13</th>\n",
       "      <th>2016-11-14</th>\n",
       "      <th>2016-11-15</th>\n",
       "      <th>2016-11-16</th>\n",
       "      <th>2016-11-17</th>\n",
       "      <th>2016-11-18</th>\n",
       "      <th>2016-11-19</th>\n",
       "      <th>2016-11-20</th>\n",
       "      <th>2016-11-21</th>\n",
       "      <th>2016-11-22</th>\n",
       "      <th>2016-11-23</th>\n",
       "      <th>2016-11-24</th>\n",
       "      <th>2016-11-25</th>\n",
       "      <th>2016-11-26</th>\n",
       "      <th>2016-11-27</th>\n",
       "      <th>2016-11-28</th>\n",
       "      <th>2016-11-29</th>\n",
       "      <th>2016-11-30</th>\n",
       "      <th>2016-12-01</th>\n",
       "      <th>2016-12-02</th>\n",
       "      <th>2016-12-03</th>\n",
       "      <th>2016-12-04</th>\n",
       "      <th>2016-12-05</th>\n",
       "      <th>2016-12-06</th>\n",
       "      <th>2016-12-07</th>\n",
       "      <th>2016-12-08</th>\n",
       "      <th>2016-12-09</th>\n",
       "      <th>2016-12-10</th>\n",
       "      <th>2016-12-11</th>\n",
       "      <th>2016-12-12</th>\n",
       "      <th>2016-12-13</th>\n",
       "      <th>2016-12-14</th>\n",
       "      <th>2016-12-15</th>\n",
       "      <th>2016-12-16</th>\n",
       "      <th>2016-12-17</th>\n",
       "      <th>2016-12-18</th>\n",
       "      <th>2016-12-19</th>\n",
       "      <th>2016-12-20</th>\n",
       "      <th>2016-12-21</th>\n",
       "      <th>2016-12-22</th>\n",
       "      <th>2016-12-23</th>\n",
       "      <th>2016-12-24</th>\n",
       "      <th>2016-12-25</th>\n",
       "      <th>2016-12-26</th>\n",
       "      <th>2016-12-27</th>\n",
       "      <th>2016-12-28</th>\n",
       "      <th>2016-12-29</th>\n",
       "      <th>2016-12-30</th>\n",
       "      <th>2016-12-31</th>\n",
       "    </tr>\n",
       "  </thead>\n",
       "  <tbody>\n",
       "    <tr>\n",
       "      <th>0</th>\n",
       "      <td>2NE1_zh.wikipedia.org_all-access_spider</td>\n",
       "      <td>18.0</td>\n",
       "      <td>11.0</td>\n",
       "      <td>5.0</td>\n",
       "      <td>13.0</td>\n",
       "      <td>14.0</td>\n",
       "      <td>9.0</td>\n",
       "      <td>9.0</td>\n",
       "      <td>22.0</td>\n",
       "      <td>26.0</td>\n",
       "      <td>24.0</td>\n",
       "      <td>19.0</td>\n",
       "      <td>10.0</td>\n",
       "      <td>14.0</td>\n",
       "      <td>15.0</td>\n",
       "      <td>8.0</td>\n",
       "      <td>16.0</td>\n",
       "      <td>8.0</td>\n",
       "      <td>8.0</td>\n",
       "      <td>16.0</td>\n",
       "      <td>7.0</td>\n",
       "      <td>11.0</td>\n",
       "      <td>10.0</td>\n",
       "      <td>20.0</td>\n",
       "      <td>18.0</td>\n",
       "      <td>15.0</td>\n",
       "      <td>14.0</td>\n",
       "      <td>49.0</td>\n",
       "      <td>10.0</td>\n",
       "      <td>16.0</td>\n",
       "      <td>18.0</td>\n",
       "      <td>8.0</td>\n",
       "      <td>5.0</td>\n",
       "      <td>9.0</td>\n",
       "      <td>7.0</td>\n",
       "      <td>13.0</td>\n",
       "      <td>9.0</td>\n",
       "      <td>7.0</td>\n",
       "      <td>4.0</td>\n",
       "      <td>11.0</td>\n",
       "      <td>10.0</td>\n",
       "      <td>5.0</td>\n",
       "      <td>9.0</td>\n",
       "      <td>9.0</td>\n",
       "      <td>9.0</td>\n",
       "      <td>9.0</td>\n",
       "      <td>13.0</td>\n",
       "      <td>4.0</td>\n",
       "      <td>15.0</td>\n",
       "      <td>25.0</td>\n",
       "      <td>...</td>\n",
       "      <td>13.0</td>\n",
       "      <td>8.0</td>\n",
       "      <td>15.0</td>\n",
       "      <td>14.0</td>\n",
       "      <td>12.0</td>\n",
       "      <td>6.0</td>\n",
       "      <td>11.0</td>\n",
       "      <td>10.0</td>\n",
       "      <td>42.0</td>\n",
       "      <td>21.0</td>\n",
       "      <td>24.0</td>\n",
       "      <td>14.0</td>\n",
       "      <td>11.0</td>\n",
       "      <td>204.0</td>\n",
       "      <td>14.0</td>\n",
       "      <td>45.0</td>\n",
       "      <td>33.0</td>\n",
       "      <td>28.0</td>\n",
       "      <td>18.0</td>\n",
       "      <td>14.0</td>\n",
       "      <td>47.0</td>\n",
       "      <td>15.0</td>\n",
       "      <td>14.0</td>\n",
       "      <td>18.0</td>\n",
       "      <td>20.0</td>\n",
       "      <td>14.0</td>\n",
       "      <td>16.0</td>\n",
       "      <td>14.0</td>\n",
       "      <td>20.0</td>\n",
       "      <td>60.0</td>\n",
       "      <td>22.0</td>\n",
       "      <td>15.0</td>\n",
       "      <td>17.0</td>\n",
       "      <td>19.0</td>\n",
       "      <td>18.0</td>\n",
       "      <td>21.0</td>\n",
       "      <td>21.0</td>\n",
       "      <td>47.0</td>\n",
       "      <td>65.0</td>\n",
       "      <td>17.0</td>\n",
       "      <td>32.0</td>\n",
       "      <td>63.0</td>\n",
       "      <td>15.0</td>\n",
       "      <td>26.0</td>\n",
       "      <td>14.0</td>\n",
       "      <td>20.0</td>\n",
       "      <td>22.0</td>\n",
       "      <td>19.0</td>\n",
       "      <td>18.0</td>\n",
       "      <td>20.0</td>\n",
       "    </tr>\n",
       "    <tr>\n",
       "      <th>1</th>\n",
       "      <td>2PM_zh.wikipedia.org_all-access_spider</td>\n",
       "      <td>11.0</td>\n",
       "      <td>14.0</td>\n",
       "      <td>15.0</td>\n",
       "      <td>18.0</td>\n",
       "      <td>11.0</td>\n",
       "      <td>13.0</td>\n",
       "      <td>22.0</td>\n",
       "      <td>11.0</td>\n",
       "      <td>10.0</td>\n",
       "      <td>4.0</td>\n",
       "      <td>41.0</td>\n",
       "      <td>65.0</td>\n",
       "      <td>57.0</td>\n",
       "      <td>38.0</td>\n",
       "      <td>20.0</td>\n",
       "      <td>62.0</td>\n",
       "      <td>44.0</td>\n",
       "      <td>15.0</td>\n",
       "      <td>10.0</td>\n",
       "      <td>47.0</td>\n",
       "      <td>24.0</td>\n",
       "      <td>17.0</td>\n",
       "      <td>22.0</td>\n",
       "      <td>9.0</td>\n",
       "      <td>39.0</td>\n",
       "      <td>13.0</td>\n",
       "      <td>11.0</td>\n",
       "      <td>12.0</td>\n",
       "      <td>21.0</td>\n",
       "      <td>19.0</td>\n",
       "      <td>9.0</td>\n",
       "      <td>15.0</td>\n",
       "      <td>33.0</td>\n",
       "      <td>8.0</td>\n",
       "      <td>8.0</td>\n",
       "      <td>7.0</td>\n",
       "      <td>13.0</td>\n",
       "      <td>2.0</td>\n",
       "      <td>23.0</td>\n",
       "      <td>12.0</td>\n",
       "      <td>27.0</td>\n",
       "      <td>27.0</td>\n",
       "      <td>36.0</td>\n",
       "      <td>23.0</td>\n",
       "      <td>58.0</td>\n",
       "      <td>80.0</td>\n",
       "      <td>60.0</td>\n",
       "      <td>69.0</td>\n",
       "      <td>42.0</td>\n",
       "      <td>...</td>\n",
       "      <td>12.0</td>\n",
       "      <td>11.0</td>\n",
       "      <td>14.0</td>\n",
       "      <td>28.0</td>\n",
       "      <td>23.0</td>\n",
       "      <td>20.0</td>\n",
       "      <td>9.0</td>\n",
       "      <td>12.0</td>\n",
       "      <td>11.0</td>\n",
       "      <td>14.0</td>\n",
       "      <td>14.0</td>\n",
       "      <td>15.0</td>\n",
       "      <td>15.0</td>\n",
       "      <td>11.0</td>\n",
       "      <td>20.0</td>\n",
       "      <td>13.0</td>\n",
       "      <td>19.0</td>\n",
       "      <td>621.0</td>\n",
       "      <td>57.0</td>\n",
       "      <td>17.0</td>\n",
       "      <td>23.0</td>\n",
       "      <td>19.0</td>\n",
       "      <td>21.0</td>\n",
       "      <td>47.0</td>\n",
       "      <td>28.0</td>\n",
       "      <td>22.0</td>\n",
       "      <td>22.0</td>\n",
       "      <td>65.0</td>\n",
       "      <td>27.0</td>\n",
       "      <td>17.0</td>\n",
       "      <td>17.0</td>\n",
       "      <td>13.0</td>\n",
       "      <td>9.0</td>\n",
       "      <td>18.0</td>\n",
       "      <td>22.0</td>\n",
       "      <td>17.0</td>\n",
       "      <td>15.0</td>\n",
       "      <td>22.0</td>\n",
       "      <td>23.0</td>\n",
       "      <td>19.0</td>\n",
       "      <td>17.0</td>\n",
       "      <td>42.0</td>\n",
       "      <td>28.0</td>\n",
       "      <td>15.0</td>\n",
       "      <td>9.0</td>\n",
       "      <td>30.0</td>\n",
       "      <td>52.0</td>\n",
       "      <td>45.0</td>\n",
       "      <td>26.0</td>\n",
       "      <td>20.0</td>\n",
       "    </tr>\n",
       "    <tr>\n",
       "      <th>2</th>\n",
       "      <td>3C_zh.wikipedia.org_all-access_spider</td>\n",
       "      <td>1.0</td>\n",
       "      <td>0.0</td>\n",
       "      <td>1.0</td>\n",
       "      <td>1.0</td>\n",
       "      <td>0.0</td>\n",
       "      <td>4.0</td>\n",
       "      <td>0.0</td>\n",
       "      <td>3.0</td>\n",
       "      <td>4.0</td>\n",
       "      <td>4.0</td>\n",
       "      <td>1.0</td>\n",
       "      <td>1.0</td>\n",
       "      <td>1.0</td>\n",
       "      <td>6.0</td>\n",
       "      <td>8.0</td>\n",
       "      <td>6.0</td>\n",
       "      <td>4.0</td>\n",
       "      <td>5.0</td>\n",
       "      <td>1.0</td>\n",
       "      <td>2.0</td>\n",
       "      <td>3.0</td>\n",
       "      <td>8.0</td>\n",
       "      <td>8.0</td>\n",
       "      <td>6.0</td>\n",
       "      <td>6.0</td>\n",
       "      <td>2.0</td>\n",
       "      <td>2.0</td>\n",
       "      <td>3.0</td>\n",
       "      <td>2.0</td>\n",
       "      <td>4.0</td>\n",
       "      <td>3.0</td>\n",
       "      <td>3.0</td>\n",
       "      <td>5.0</td>\n",
       "      <td>3.0</td>\n",
       "      <td>5.0</td>\n",
       "      <td>4.0</td>\n",
       "      <td>2.0</td>\n",
       "      <td>5.0</td>\n",
       "      <td>1.0</td>\n",
       "      <td>4.0</td>\n",
       "      <td>5.0</td>\n",
       "      <td>0.0</td>\n",
       "      <td>0.0</td>\n",
       "      <td>7.0</td>\n",
       "      <td>3.0</td>\n",
       "      <td>5.0</td>\n",
       "      <td>1.0</td>\n",
       "      <td>6.0</td>\n",
       "      <td>2.0</td>\n",
       "      <td>...</td>\n",
       "      <td>6.0</td>\n",
       "      <td>4.0</td>\n",
       "      <td>2.0</td>\n",
       "      <td>4.0</td>\n",
       "      <td>6.0</td>\n",
       "      <td>5.0</td>\n",
       "      <td>4.0</td>\n",
       "      <td>4.0</td>\n",
       "      <td>3.0</td>\n",
       "      <td>3.0</td>\n",
       "      <td>9.0</td>\n",
       "      <td>3.0</td>\n",
       "      <td>5.0</td>\n",
       "      <td>4.0</td>\n",
       "      <td>0.0</td>\n",
       "      <td>1.0</td>\n",
       "      <td>4.0</td>\n",
       "      <td>5.0</td>\n",
       "      <td>8.0</td>\n",
       "      <td>8.0</td>\n",
       "      <td>1.0</td>\n",
       "      <td>1.0</td>\n",
       "      <td>2.0</td>\n",
       "      <td>5.0</td>\n",
       "      <td>3.0</td>\n",
       "      <td>3.0</td>\n",
       "      <td>3.0</td>\n",
       "      <td>7.0</td>\n",
       "      <td>3.0</td>\n",
       "      <td>9.0</td>\n",
       "      <td>8.0</td>\n",
       "      <td>3.0</td>\n",
       "      <td>210.0</td>\n",
       "      <td>5.0</td>\n",
       "      <td>4.0</td>\n",
       "      <td>6.0</td>\n",
       "      <td>2.0</td>\n",
       "      <td>2.0</td>\n",
       "      <td>4.0</td>\n",
       "      <td>3.0</td>\n",
       "      <td>3.0</td>\n",
       "      <td>1.0</td>\n",
       "      <td>1.0</td>\n",
       "      <td>7.0</td>\n",
       "      <td>4.0</td>\n",
       "      <td>4.0</td>\n",
       "      <td>6.0</td>\n",
       "      <td>3.0</td>\n",
       "      <td>4.0</td>\n",
       "      <td>17.0</td>\n",
       "    </tr>\n",
       "    <tr>\n",
       "      <th>3</th>\n",
       "      <td>4minute_zh.wikipedia.org_all-access_spider</td>\n",
       "      <td>35.0</td>\n",
       "      <td>13.0</td>\n",
       "      <td>10.0</td>\n",
       "      <td>94.0</td>\n",
       "      <td>4.0</td>\n",
       "      <td>26.0</td>\n",
       "      <td>14.0</td>\n",
       "      <td>9.0</td>\n",
       "      <td>11.0</td>\n",
       "      <td>16.0</td>\n",
       "      <td>16.0</td>\n",
       "      <td>11.0</td>\n",
       "      <td>23.0</td>\n",
       "      <td>145.0</td>\n",
       "      <td>14.0</td>\n",
       "      <td>17.0</td>\n",
       "      <td>85.0</td>\n",
       "      <td>4.0</td>\n",
       "      <td>30.0</td>\n",
       "      <td>22.0</td>\n",
       "      <td>9.0</td>\n",
       "      <td>10.0</td>\n",
       "      <td>11.0</td>\n",
       "      <td>7.0</td>\n",
       "      <td>7.0</td>\n",
       "      <td>11.0</td>\n",
       "      <td>9.0</td>\n",
       "      <td>11.0</td>\n",
       "      <td>44.0</td>\n",
       "      <td>8.0</td>\n",
       "      <td>14.0</td>\n",
       "      <td>19.0</td>\n",
       "      <td>10.0</td>\n",
       "      <td>17.0</td>\n",
       "      <td>17.0</td>\n",
       "      <td>10.0</td>\n",
       "      <td>7.0</td>\n",
       "      <td>10.0</td>\n",
       "      <td>1.0</td>\n",
       "      <td>8.0</td>\n",
       "      <td>27.0</td>\n",
       "      <td>19.0</td>\n",
       "      <td>16.0</td>\n",
       "      <td>2.0</td>\n",
       "      <td>84.0</td>\n",
       "      <td>22.0</td>\n",
       "      <td>14.0</td>\n",
       "      <td>47.0</td>\n",
       "      <td>25.0</td>\n",
       "      <td>...</td>\n",
       "      <td>38.0</td>\n",
       "      <td>13.0</td>\n",
       "      <td>14.0</td>\n",
       "      <td>17.0</td>\n",
       "      <td>26.0</td>\n",
       "      <td>14.0</td>\n",
       "      <td>10.0</td>\n",
       "      <td>9.0</td>\n",
       "      <td>23.0</td>\n",
       "      <td>15.0</td>\n",
       "      <td>7.0</td>\n",
       "      <td>10.0</td>\n",
       "      <td>7.0</td>\n",
       "      <td>10.0</td>\n",
       "      <td>14.0</td>\n",
       "      <td>17.0</td>\n",
       "      <td>11.0</td>\n",
       "      <td>9.0</td>\n",
       "      <td>11.0</td>\n",
       "      <td>5.0</td>\n",
       "      <td>10.0</td>\n",
       "      <td>8.0</td>\n",
       "      <td>17.0</td>\n",
       "      <td>13.0</td>\n",
       "      <td>23.0</td>\n",
       "      <td>40.0</td>\n",
       "      <td>16.0</td>\n",
       "      <td>17.0</td>\n",
       "      <td>41.0</td>\n",
       "      <td>17.0</td>\n",
       "      <td>8.0</td>\n",
       "      <td>9.0</td>\n",
       "      <td>18.0</td>\n",
       "      <td>12.0</td>\n",
       "      <td>12.0</td>\n",
       "      <td>18.0</td>\n",
       "      <td>13.0</td>\n",
       "      <td>18.0</td>\n",
       "      <td>23.0</td>\n",
       "      <td>10.0</td>\n",
       "      <td>32.0</td>\n",
       "      <td>10.0</td>\n",
       "      <td>26.0</td>\n",
       "      <td>27.0</td>\n",
       "      <td>16.0</td>\n",
       "      <td>11.0</td>\n",
       "      <td>17.0</td>\n",
       "      <td>19.0</td>\n",
       "      <td>10.0</td>\n",
       "      <td>11.0</td>\n",
       "    </tr>\n",
       "    <tr>\n",
       "      <th>4</th>\n",
       "      <td>52_Hz_I_Love_You_zh.wikipedia.org_all-access_spider</td>\n",
       "      <td>NaN</td>\n",
       "      <td>NaN</td>\n",
       "      <td>NaN</td>\n",
       "      <td>NaN</td>\n",
       "      <td>NaN</td>\n",
       "      <td>NaN</td>\n",
       "      <td>NaN</td>\n",
       "      <td>NaN</td>\n",
       "      <td>NaN</td>\n",
       "      <td>NaN</td>\n",
       "      <td>NaN</td>\n",
       "      <td>NaN</td>\n",
       "      <td>NaN</td>\n",
       "      <td>NaN</td>\n",
       "      <td>NaN</td>\n",
       "      <td>NaN</td>\n",
       "      <td>NaN</td>\n",
       "      <td>NaN</td>\n",
       "      <td>NaN</td>\n",
       "      <td>NaN</td>\n",
       "      <td>NaN</td>\n",
       "      <td>NaN</td>\n",
       "      <td>NaN</td>\n",
       "      <td>NaN</td>\n",
       "      <td>NaN</td>\n",
       "      <td>NaN</td>\n",
       "      <td>NaN</td>\n",
       "      <td>NaN</td>\n",
       "      <td>NaN</td>\n",
       "      <td>NaN</td>\n",
       "      <td>NaN</td>\n",
       "      <td>NaN</td>\n",
       "      <td>NaN</td>\n",
       "      <td>NaN</td>\n",
       "      <td>NaN</td>\n",
       "      <td>NaN</td>\n",
       "      <td>NaN</td>\n",
       "      <td>NaN</td>\n",
       "      <td>NaN</td>\n",
       "      <td>NaN</td>\n",
       "      <td>NaN</td>\n",
       "      <td>NaN</td>\n",
       "      <td>NaN</td>\n",
       "      <td>NaN</td>\n",
       "      <td>NaN</td>\n",
       "      <td>NaN</td>\n",
       "      <td>NaN</td>\n",
       "      <td>NaN</td>\n",
       "      <td>NaN</td>\n",
       "      <td>...</td>\n",
       "      <td>13.0</td>\n",
       "      <td>11.0</td>\n",
       "      <td>8.0</td>\n",
       "      <td>6.0</td>\n",
       "      <td>10.0</td>\n",
       "      <td>14.0</td>\n",
       "      <td>6.0</td>\n",
       "      <td>9.0</td>\n",
       "      <td>6.0</td>\n",
       "      <td>16.0</td>\n",
       "      <td>14.0</td>\n",
       "      <td>13.0</td>\n",
       "      <td>15.0</td>\n",
       "      <td>14.0</td>\n",
       "      <td>16.0</td>\n",
       "      <td>9.0</td>\n",
       "      <td>178.0</td>\n",
       "      <td>64.0</td>\n",
       "      <td>12.0</td>\n",
       "      <td>10.0</td>\n",
       "      <td>11.0</td>\n",
       "      <td>6.0</td>\n",
       "      <td>8.0</td>\n",
       "      <td>7.0</td>\n",
       "      <td>9.0</td>\n",
       "      <td>8.0</td>\n",
       "      <td>5.0</td>\n",
       "      <td>11.0</td>\n",
       "      <td>8.0</td>\n",
       "      <td>4.0</td>\n",
       "      <td>15.0</td>\n",
       "      <td>5.0</td>\n",
       "      <td>8.0</td>\n",
       "      <td>8.0</td>\n",
       "      <td>6.0</td>\n",
       "      <td>7.0</td>\n",
       "      <td>15.0</td>\n",
       "      <td>4.0</td>\n",
       "      <td>11.0</td>\n",
       "      <td>7.0</td>\n",
       "      <td>48.0</td>\n",
       "      <td>9.0</td>\n",
       "      <td>25.0</td>\n",
       "      <td>13.0</td>\n",
       "      <td>3.0</td>\n",
       "      <td>11.0</td>\n",
       "      <td>27.0</td>\n",
       "      <td>13.0</td>\n",
       "      <td>36.0</td>\n",
       "      <td>10.0</td>\n",
       "    </tr>\n",
       "  </tbody>\n",
       "</table>\n",
       "<p>5 rows × 551 columns</p>\n",
       "</div>"
      ],
      "text/plain": [
       "                                                  Page  2015-07-01  \\\n",
       "0              2NE1_zh.wikipedia.org_all-access_spider        18.0   \n",
       "1               2PM_zh.wikipedia.org_all-access_spider        11.0   \n",
       "2                3C_zh.wikipedia.org_all-access_spider         1.0   \n",
       "3           4minute_zh.wikipedia.org_all-access_spider        35.0   \n",
       "4  52_Hz_I_Love_You_zh.wikipedia.org_all-access_spider         NaN   \n",
       "\n",
       "   2015-07-02  2015-07-03  2015-07-04  2015-07-05  2015-07-06  2015-07-07  \\\n",
       "0        11.0         5.0        13.0        14.0         9.0         9.0   \n",
       "1        14.0        15.0        18.0        11.0        13.0        22.0   \n",
       "2         0.0         1.0         1.0         0.0         4.0         0.0   \n",
       "3        13.0        10.0        94.0         4.0        26.0        14.0   \n",
       "4         NaN         NaN         NaN         NaN         NaN         NaN   \n",
       "\n",
       "   2015-07-08  2015-07-09  2015-07-10  2015-07-11  2015-07-12  2015-07-13  \\\n",
       "0        22.0        26.0        24.0        19.0        10.0        14.0   \n",
       "1        11.0        10.0         4.0        41.0        65.0        57.0   \n",
       "2         3.0         4.0         4.0         1.0         1.0         1.0   \n",
       "3         9.0        11.0        16.0        16.0        11.0        23.0   \n",
       "4         NaN         NaN         NaN         NaN         NaN         NaN   \n",
       "\n",
       "   2015-07-14  2015-07-15  2015-07-16  2015-07-17  2015-07-18  2015-07-19  \\\n",
       "0        15.0         8.0        16.0         8.0         8.0        16.0   \n",
       "1        38.0        20.0        62.0        44.0        15.0        10.0   \n",
       "2         6.0         8.0         6.0         4.0         5.0         1.0   \n",
       "3       145.0        14.0        17.0        85.0         4.0        30.0   \n",
       "4         NaN         NaN         NaN         NaN         NaN         NaN   \n",
       "\n",
       "   2015-07-20  2015-07-21  2015-07-22  2015-07-23  2015-07-24  2015-07-25  \\\n",
       "0         7.0        11.0        10.0        20.0        18.0        15.0   \n",
       "1        47.0        24.0        17.0        22.0         9.0        39.0   \n",
       "2         2.0         3.0         8.0         8.0         6.0         6.0   \n",
       "3        22.0         9.0        10.0        11.0         7.0         7.0   \n",
       "4         NaN         NaN         NaN         NaN         NaN         NaN   \n",
       "\n",
       "   2015-07-26  2015-07-27  2015-07-28  2015-07-29  2015-07-30  2015-07-31  \\\n",
       "0        14.0        49.0        10.0        16.0        18.0         8.0   \n",
       "1        13.0        11.0        12.0        21.0        19.0         9.0   \n",
       "2         2.0         2.0         3.0         2.0         4.0         3.0   \n",
       "3        11.0         9.0        11.0        44.0         8.0        14.0   \n",
       "4         NaN         NaN         NaN         NaN         NaN         NaN   \n",
       "\n",
       "   2015-08-01  2015-08-02  2015-08-03  2015-08-04  2015-08-05  2015-08-06  \\\n",
       "0         5.0         9.0         7.0        13.0         9.0         7.0   \n",
       "1        15.0        33.0         8.0         8.0         7.0        13.0   \n",
       "2         3.0         5.0         3.0         5.0         4.0         2.0   \n",
       "3        19.0        10.0        17.0        17.0        10.0         7.0   \n",
       "4         NaN         NaN         NaN         NaN         NaN         NaN   \n",
       "\n",
       "   2015-08-07  2015-08-08  2015-08-09  2015-08-10  2015-08-11  2015-08-12  \\\n",
       "0         4.0        11.0        10.0         5.0         9.0         9.0   \n",
       "1         2.0        23.0        12.0        27.0        27.0        36.0   \n",
       "2         5.0         1.0         4.0         5.0         0.0         0.0   \n",
       "3        10.0         1.0         8.0        27.0        19.0        16.0   \n",
       "4         NaN         NaN         NaN         NaN         NaN         NaN   \n",
       "\n",
       "   2015-08-13  2015-08-14  2015-08-15  2015-08-16  2015-08-17  2015-08-18  \\\n",
       "0         9.0         9.0        13.0         4.0        15.0        25.0   \n",
       "1        23.0        58.0        80.0        60.0        69.0        42.0   \n",
       "2         7.0         3.0         5.0         1.0         6.0         2.0   \n",
       "3         2.0        84.0        22.0        14.0        47.0        25.0   \n",
       "4         NaN         NaN         NaN         NaN         NaN         NaN   \n",
       "\n",
       "   ...  2016-11-12  2016-11-13  2016-11-14  2016-11-15  2016-11-16  \\\n",
       "0  ...        13.0         8.0        15.0        14.0        12.0   \n",
       "1  ...        12.0        11.0        14.0        28.0        23.0   \n",
       "2  ...         6.0         4.0         2.0         4.0         6.0   \n",
       "3  ...        38.0        13.0        14.0        17.0        26.0   \n",
       "4  ...        13.0        11.0         8.0         6.0        10.0   \n",
       "\n",
       "   2016-11-17  2016-11-18  2016-11-19  2016-11-20  2016-11-21  2016-11-22  \\\n",
       "0         6.0        11.0        10.0        42.0        21.0        24.0   \n",
       "1        20.0         9.0        12.0        11.0        14.0        14.0   \n",
       "2         5.0         4.0         4.0         3.0         3.0         9.0   \n",
       "3        14.0        10.0         9.0        23.0        15.0         7.0   \n",
       "4        14.0         6.0         9.0         6.0        16.0        14.0   \n",
       "\n",
       "   2016-11-23  2016-11-24  2016-11-25  2016-11-26  2016-11-27  2016-11-28  \\\n",
       "0        14.0        11.0       204.0        14.0        45.0        33.0   \n",
       "1        15.0        15.0        11.0        20.0        13.0        19.0   \n",
       "2         3.0         5.0         4.0         0.0         1.0         4.0   \n",
       "3        10.0         7.0        10.0        14.0        17.0        11.0   \n",
       "4        13.0        15.0        14.0        16.0         9.0       178.0   \n",
       "\n",
       "   2016-11-29  2016-11-30  2016-12-01  2016-12-02  2016-12-03  2016-12-04  \\\n",
       "0        28.0        18.0        14.0        47.0        15.0        14.0   \n",
       "1       621.0        57.0        17.0        23.0        19.0        21.0   \n",
       "2         5.0         8.0         8.0         1.0         1.0         2.0   \n",
       "3         9.0        11.0         5.0        10.0         8.0        17.0   \n",
       "4        64.0        12.0        10.0        11.0         6.0         8.0   \n",
       "\n",
       "   2016-12-05  2016-12-06  2016-12-07  2016-12-08  2016-12-09  2016-12-10  \\\n",
       "0        18.0        20.0        14.0        16.0        14.0        20.0   \n",
       "1        47.0        28.0        22.0        22.0        65.0        27.0   \n",
       "2         5.0         3.0         3.0         3.0         7.0         3.0   \n",
       "3        13.0        23.0        40.0        16.0        17.0        41.0   \n",
       "4         7.0         9.0         8.0         5.0        11.0         8.0   \n",
       "\n",
       "   2016-12-11  2016-12-12  2016-12-13  2016-12-14  2016-12-15  2016-12-16  \\\n",
       "0        60.0        22.0        15.0        17.0        19.0        18.0   \n",
       "1        17.0        17.0        13.0         9.0        18.0        22.0   \n",
       "2         9.0         8.0         3.0       210.0         5.0         4.0   \n",
       "3        17.0         8.0         9.0        18.0        12.0        12.0   \n",
       "4         4.0        15.0         5.0         8.0         8.0         6.0   \n",
       "\n",
       "   2016-12-17  2016-12-18  2016-12-19  2016-12-20  2016-12-21  2016-12-22  \\\n",
       "0        21.0        21.0        47.0        65.0        17.0        32.0   \n",
       "1        17.0        15.0        22.0        23.0        19.0        17.0   \n",
       "2         6.0         2.0         2.0         4.0         3.0         3.0   \n",
       "3        18.0        13.0        18.0        23.0        10.0        32.0   \n",
       "4         7.0        15.0         4.0        11.0         7.0        48.0   \n",
       "\n",
       "   2016-12-23  2016-12-24  2016-12-25  2016-12-26  2016-12-27  2016-12-28  \\\n",
       "0        63.0        15.0        26.0        14.0        20.0        22.0   \n",
       "1        42.0        28.0        15.0         9.0        30.0        52.0   \n",
       "2         1.0         1.0         7.0         4.0         4.0         6.0   \n",
       "3        10.0        26.0        27.0        16.0        11.0        17.0   \n",
       "4         9.0        25.0        13.0         3.0        11.0        27.0   \n",
       "\n",
       "   2016-12-29  2016-12-30  2016-12-31  \n",
       "0        19.0        18.0        20.0  \n",
       "1        45.0        26.0        20.0  \n",
       "2         3.0         4.0        17.0  \n",
       "3        19.0        10.0        11.0  \n",
       "4        13.0        36.0        10.0  \n",
       "\n",
       "[5 rows x 551 columns]"
      ]
     },
     "execution_count": 17,
     "metadata": {},
     "output_type": "execute_result"
    }
   ],
   "source": [
    "df = pd.read_csv('../data/train_1.csv.zip',compression='zip')\n",
    "\n",
    "print(df.shape)\n",
    "df.head()"
   ]
  },
  {
   "cell_type": "markdown",
   "metadata": {
    "id": "l_A9nIRNvqHt",
    "papermill": {
     "duration": 0.030363,
     "end_time": "2020-10-17T18:34:41.658415",
     "exception": false,
     "start_time": "2020-10-17T18:34:41.628052",
     "status": "completed"
    },
    "tags": []
   },
   "source": [
    "# Choose Prince Musician data as timeseries"
   ]
  },
  {
   "cell_type": "code",
   "execution_count": 18,
   "metadata": {
    "ExecuteTime": {
     "end_time": "2020-10-14T19:37:21.913237Z",
     "start_time": "2020-10-14T19:37:21.798981Z"
    },
    "colab": {
     "base_uri": "https://localhost:8080/",
     "height": 163
    },
    "execution": {
     "iopub.execute_input": "2020-10-17T18:34:41.729981Z",
     "iopub.status.busy": "2020-10-17T18:34:41.729388Z",
     "iopub.status.idle": "2020-10-17T18:34:41.777701Z",
     "shell.execute_reply": "2020-10-17T18:34:41.778085Z"
    },
    "id": "8bpKginlwAX2",
    "outputId": "854f2331-0159-4cc5-d7bf-ae904e7f95d6",
    "papermill": {
     "duration": 0.089545,
     "end_time": "2020-10-17T18:34:41.778256",
     "exception": false,
     "start_time": "2020-10-17T18:34:41.688711",
     "status": "completed"
    },
    "tags": []
   },
   "outputs": [
    {
     "data": {
      "text/html": [
       "<div>\n",
       "<style scoped>\n",
       "    .dataframe tbody tr th:only-of-type {\n",
       "        vertical-align: middle;\n",
       "    }\n",
       "\n",
       "    .dataframe tbody tr th {\n",
       "        vertical-align: top;\n",
       "    }\n",
       "\n",
       "    .dataframe thead th {\n",
       "        text-align: right;\n",
       "    }\n",
       "</style>\n",
       "<table border=\"1\" class=\"dataframe\">\n",
       "  <thead>\n",
       "    <tr style=\"text-align: right;\">\n",
       "      <th></th>\n",
       "      <th>Page</th>\n",
       "      <th>2015-07-01</th>\n",
       "      <th>2015-07-02</th>\n",
       "      <th>2015-07-03</th>\n",
       "      <th>2015-07-04</th>\n",
       "      <th>2015-07-05</th>\n",
       "      <th>2015-07-06</th>\n",
       "      <th>2015-07-07</th>\n",
       "      <th>2015-07-08</th>\n",
       "      <th>2015-07-09</th>\n",
       "      <th>2015-07-10</th>\n",
       "      <th>2015-07-11</th>\n",
       "      <th>2015-07-12</th>\n",
       "      <th>2015-07-13</th>\n",
       "      <th>2015-07-14</th>\n",
       "      <th>2015-07-15</th>\n",
       "      <th>2015-07-16</th>\n",
       "      <th>2015-07-17</th>\n",
       "      <th>2015-07-18</th>\n",
       "      <th>2015-07-19</th>\n",
       "      <th>2015-07-20</th>\n",
       "      <th>2015-07-21</th>\n",
       "      <th>2015-07-22</th>\n",
       "      <th>2015-07-23</th>\n",
       "      <th>2015-07-24</th>\n",
       "      <th>2015-07-25</th>\n",
       "      <th>2015-07-26</th>\n",
       "      <th>2015-07-27</th>\n",
       "      <th>2015-07-28</th>\n",
       "      <th>2015-07-29</th>\n",
       "      <th>2015-07-30</th>\n",
       "      <th>2015-07-31</th>\n",
       "      <th>2015-08-01</th>\n",
       "      <th>2015-08-02</th>\n",
       "      <th>2015-08-03</th>\n",
       "      <th>2015-08-04</th>\n",
       "      <th>2015-08-05</th>\n",
       "      <th>2015-08-06</th>\n",
       "      <th>2015-08-07</th>\n",
       "      <th>2015-08-08</th>\n",
       "      <th>2015-08-09</th>\n",
       "      <th>2015-08-10</th>\n",
       "      <th>2015-08-11</th>\n",
       "      <th>2015-08-12</th>\n",
       "      <th>2015-08-13</th>\n",
       "      <th>2015-08-14</th>\n",
       "      <th>2015-08-15</th>\n",
       "      <th>2015-08-16</th>\n",
       "      <th>2015-08-17</th>\n",
       "      <th>2015-08-18</th>\n",
       "      <th>...</th>\n",
       "      <th>2016-11-12</th>\n",
       "      <th>2016-11-13</th>\n",
       "      <th>2016-11-14</th>\n",
       "      <th>2016-11-15</th>\n",
       "      <th>2016-11-16</th>\n",
       "      <th>2016-11-17</th>\n",
       "      <th>2016-11-18</th>\n",
       "      <th>2016-11-19</th>\n",
       "      <th>2016-11-20</th>\n",
       "      <th>2016-11-21</th>\n",
       "      <th>2016-11-22</th>\n",
       "      <th>2016-11-23</th>\n",
       "      <th>2016-11-24</th>\n",
       "      <th>2016-11-25</th>\n",
       "      <th>2016-11-26</th>\n",
       "      <th>2016-11-27</th>\n",
       "      <th>2016-11-28</th>\n",
       "      <th>2016-11-29</th>\n",
       "      <th>2016-11-30</th>\n",
       "      <th>2016-12-01</th>\n",
       "      <th>2016-12-02</th>\n",
       "      <th>2016-12-03</th>\n",
       "      <th>2016-12-04</th>\n",
       "      <th>2016-12-05</th>\n",
       "      <th>2016-12-06</th>\n",
       "      <th>2016-12-07</th>\n",
       "      <th>2016-12-08</th>\n",
       "      <th>2016-12-09</th>\n",
       "      <th>2016-12-10</th>\n",
       "      <th>2016-12-11</th>\n",
       "      <th>2016-12-12</th>\n",
       "      <th>2016-12-13</th>\n",
       "      <th>2016-12-14</th>\n",
       "      <th>2016-12-15</th>\n",
       "      <th>2016-12-16</th>\n",
       "      <th>2016-12-17</th>\n",
       "      <th>2016-12-18</th>\n",
       "      <th>2016-12-19</th>\n",
       "      <th>2016-12-20</th>\n",
       "      <th>2016-12-21</th>\n",
       "      <th>2016-12-22</th>\n",
       "      <th>2016-12-23</th>\n",
       "      <th>2016-12-24</th>\n",
       "      <th>2016-12-25</th>\n",
       "      <th>2016-12-26</th>\n",
       "      <th>2016-12-27</th>\n",
       "      <th>2016-12-28</th>\n",
       "      <th>2016-12-29</th>\n",
       "      <th>2016-12-30</th>\n",
       "      <th>2016-12-31</th>\n",
       "    </tr>\n",
       "  </thead>\n",
       "  <tbody>\n",
       "    <tr>\n",
       "      <th>40563</th>\n",
       "      <td>Prince_(musician)_en.wikipedia.org_all-access_all-agents</td>\n",
       "      <td>9529.0</td>\n",
       "      <td>13627.0</td>\n",
       "      <td>9163.0</td>\n",
       "      <td>8222.0</td>\n",
       "      <td>7769.0</td>\n",
       "      <td>7640.0</td>\n",
       "      <td>8411.0</td>\n",
       "      <td>8746.0</td>\n",
       "      <td>6970.0</td>\n",
       "      <td>7072.0</td>\n",
       "      <td>7134.0</td>\n",
       "      <td>7313.0</td>\n",
       "      <td>6969.0</td>\n",
       "      <td>12577.0</td>\n",
       "      <td>16418.0</td>\n",
       "      <td>7487.0</td>\n",
       "      <td>7072.0</td>\n",
       "      <td>7314.0</td>\n",
       "      <td>7196.0</td>\n",
       "      <td>6785.0</td>\n",
       "      <td>6736.0</td>\n",
       "      <td>7661.0</td>\n",
       "      <td>9605.0</td>\n",
       "      <td>10634.0</td>\n",
       "      <td>8393.0</td>\n",
       "      <td>8548.0</td>\n",
       "      <td>8893.0</td>\n",
       "      <td>8960.0</td>\n",
       "      <td>7119.0</td>\n",
       "      <td>7939.0</td>\n",
       "      <td>7877.0</td>\n",
       "      <td>7309.0</td>\n",
       "      <td>7366.0</td>\n",
       "      <td>6505.0</td>\n",
       "      <td>7339.0</td>\n",
       "      <td>7798.0</td>\n",
       "      <td>9699.0</td>\n",
       "      <td>9754.0</td>\n",
       "      <td>14827.0</td>\n",
       "      <td>15815.0</td>\n",
       "      <td>14232.0</td>\n",
       "      <td>9910.0</td>\n",
       "      <td>8185.0</td>\n",
       "      <td>8089.0</td>\n",
       "      <td>8374.0</td>\n",
       "      <td>8933.0</td>\n",
       "      <td>10286.0</td>\n",
       "      <td>8747.0</td>\n",
       "      <td>7268.0</td>\n",
       "      <td>...</td>\n",
       "      <td>8474.0</td>\n",
       "      <td>10774.0</td>\n",
       "      <td>9190.0</td>\n",
       "      <td>8220.0</td>\n",
       "      <td>8744.0</td>\n",
       "      <td>10619.0</td>\n",
       "      <td>12532.0</td>\n",
       "      <td>10791.0</td>\n",
       "      <td>9323.0</td>\n",
       "      <td>22885.0</td>\n",
       "      <td>10711.0</td>\n",
       "      <td>9349.0</td>\n",
       "      <td>9880.0</td>\n",
       "      <td>10420.0</td>\n",
       "      <td>11213.0</td>\n",
       "      <td>16069.0</td>\n",
       "      <td>11077.0</td>\n",
       "      <td>11055.0</td>\n",
       "      <td>9930.0</td>\n",
       "      <td>10507.0</td>\n",
       "      <td>10964.0</td>\n",
       "      <td>10104.0</td>\n",
       "      <td>10321.0</td>\n",
       "      <td>10005.0</td>\n",
       "      <td>9909.0</td>\n",
       "      <td>10521.0</td>\n",
       "      <td>11002.0</td>\n",
       "      <td>11153.0</td>\n",
       "      <td>13712.0</td>\n",
       "      <td>15153.0</td>\n",
       "      <td>10304.0</td>\n",
       "      <td>10504.0</td>\n",
       "      <td>12701.0</td>\n",
       "      <td>14971.0</td>\n",
       "      <td>12159.0</td>\n",
       "      <td>10778.0</td>\n",
       "      <td>11292.0</td>\n",
       "      <td>10883.0</td>\n",
       "      <td>9788.0</td>\n",
       "      <td>9856.0</td>\n",
       "      <td>13222.0</td>\n",
       "      <td>11297.0</td>\n",
       "      <td>15963.0</td>\n",
       "      <td>17002.0</td>\n",
       "      <td>49774.0</td>\n",
       "      <td>34560.0</td>\n",
       "      <td>31090.0</td>\n",
       "      <td>22827.0</td>\n",
       "      <td>19956.0</td>\n",
       "      <td>31446.0</td>\n",
       "    </tr>\n",
       "  </tbody>\n",
       "</table>\n",
       "<p>1 rows × 551 columns</p>\n",
       "</div>"
      ],
      "text/plain": [
       "                                                           Page  2015-07-01  \\\n",
       "40563  Prince_(musician)_en.wikipedia.org_all-access_all-agents      9529.0   \n",
       "\n",
       "       2015-07-02  2015-07-03  2015-07-04  2015-07-05  2015-07-06  2015-07-07  \\\n",
       "40563     13627.0      9163.0      8222.0      7769.0      7640.0      8411.0   \n",
       "\n",
       "       2015-07-08  2015-07-09  2015-07-10  2015-07-11  2015-07-12  2015-07-13  \\\n",
       "40563      8746.0      6970.0      7072.0      7134.0      7313.0      6969.0   \n",
       "\n",
       "       2015-07-14  2015-07-15  2015-07-16  2015-07-17  2015-07-18  2015-07-19  \\\n",
       "40563     12577.0     16418.0      7487.0      7072.0      7314.0      7196.0   \n",
       "\n",
       "       2015-07-20  2015-07-21  2015-07-22  2015-07-23  2015-07-24  2015-07-25  \\\n",
       "40563      6785.0      6736.0      7661.0      9605.0     10634.0      8393.0   \n",
       "\n",
       "       2015-07-26  2015-07-27  2015-07-28  2015-07-29  2015-07-30  2015-07-31  \\\n",
       "40563      8548.0      8893.0      8960.0      7119.0      7939.0      7877.0   \n",
       "\n",
       "       2015-08-01  2015-08-02  2015-08-03  2015-08-04  2015-08-05  2015-08-06  \\\n",
       "40563      7309.0      7366.0      6505.0      7339.0      7798.0      9699.0   \n",
       "\n",
       "       2015-08-07  2015-08-08  2015-08-09  2015-08-10  2015-08-11  2015-08-12  \\\n",
       "40563      9754.0     14827.0     15815.0     14232.0      9910.0      8185.0   \n",
       "\n",
       "       2015-08-13  2015-08-14  2015-08-15  2015-08-16  2015-08-17  2015-08-18  \\\n",
       "40563      8089.0      8374.0      8933.0     10286.0      8747.0      7268.0   \n",
       "\n",
       "       ...  2016-11-12  2016-11-13  2016-11-14  2016-11-15  2016-11-16  \\\n",
       "40563  ...      8474.0     10774.0      9190.0      8220.0      8744.0   \n",
       "\n",
       "       2016-11-17  2016-11-18  2016-11-19  2016-11-20  2016-11-21  2016-11-22  \\\n",
       "40563     10619.0     12532.0     10791.0      9323.0     22885.0     10711.0   \n",
       "\n",
       "       2016-11-23  2016-11-24  2016-11-25  2016-11-26  2016-11-27  2016-11-28  \\\n",
       "40563      9349.0      9880.0     10420.0     11213.0     16069.0     11077.0   \n",
       "\n",
       "       2016-11-29  2016-11-30  2016-12-01  2016-12-02  2016-12-03  2016-12-04  \\\n",
       "40563     11055.0      9930.0     10507.0     10964.0     10104.0     10321.0   \n",
       "\n",
       "       2016-12-05  2016-12-06  2016-12-07  2016-12-08  2016-12-09  2016-12-10  \\\n",
       "40563     10005.0      9909.0     10521.0     11002.0     11153.0     13712.0   \n",
       "\n",
       "       2016-12-11  2016-12-12  2016-12-13  2016-12-14  2016-12-15  2016-12-16  \\\n",
       "40563     15153.0     10304.0     10504.0     12701.0     14971.0     12159.0   \n",
       "\n",
       "       2016-12-17  2016-12-18  2016-12-19  2016-12-20  2016-12-21  2016-12-22  \\\n",
       "40563     10778.0     11292.0     10883.0      9788.0      9856.0     13222.0   \n",
       "\n",
       "       2016-12-23  2016-12-24  2016-12-25  2016-12-26  2016-12-27  2016-12-28  \\\n",
       "40563     11297.0     15963.0     17002.0     49774.0     34560.0     31090.0   \n",
       "\n",
       "       2016-12-29  2016-12-30  2016-12-31  \n",
       "40563     22827.0     19956.0     31446.0  \n",
       "\n",
       "[1 rows x 551 columns]"
      ]
     },
     "execution_count": 18,
     "metadata": {},
     "output_type": "execute_result"
    }
   ],
   "source": [
    "cond = df['Page'] == \"Prince_(musician)_en.wikipedia.org_all-access_all-agents\"\n",
    "\n",
    "df = df.loc[cond]\n",
    "df.head()"
   ]
  },
  {
   "cell_type": "code",
   "execution_count": 19,
   "metadata": {
    "ExecuteTime": {
     "end_time": "2020-10-14T19:37:21.967726Z",
     "start_time": "2020-10-14T19:37:21.916376Z"
    },
    "colab": {
     "base_uri": "https://localhost:8080/",
     "height": 80
    },
    "execution": {
     "iopub.execute_input": "2020-10-17T18:34:41.849768Z",
     "iopub.status.busy": "2020-10-17T18:34:41.848990Z",
     "iopub.status.idle": "2020-10-17T18:34:41.851898Z",
     "shell.execute_reply": "2020-10-17T18:34:41.852317Z"
    },
    "id": "rijDZwLswXfQ",
    "outputId": "598d3b91-00e0-43a3-ac97-6f73de05dffc",
    "papermill": {
     "duration": 0.043338,
     "end_time": "2020-10-17T18:34:41.852475",
     "exception": false,
     "start_time": "2020-10-17T18:34:41.809137",
     "status": "completed"
    },
    "tags": []
   },
   "outputs": [
    {
     "data": {
      "text/html": [
       "<div>\n",
       "<style scoped>\n",
       "    .dataframe tbody tr th:only-of-type {\n",
       "        vertical-align: middle;\n",
       "    }\n",
       "\n",
       "    .dataframe tbody tr th {\n",
       "        vertical-align: top;\n",
       "    }\n",
       "\n",
       "    .dataframe thead th {\n",
       "        text-align: right;\n",
       "    }\n",
       "</style>\n",
       "<table border=\"1\" class=\"dataframe\">\n",
       "  <thead>\n",
       "    <tr style=\"text-align: right;\">\n",
       "      <th></th>\n",
       "      <th>Page</th>\n",
       "      <th>2016-01-01</th>\n",
       "      <th>2016-01-02</th>\n",
       "      <th>2016-12-30</th>\n",
       "      <th>2016-12-31</th>\n",
       "    </tr>\n",
       "  </thead>\n",
       "  <tbody>\n",
       "    <tr>\n",
       "      <th>40563</th>\n",
       "      <td>Prince_(musician)_en.wikipedia.org_all-access_all-agents</td>\n",
       "      <td>20947.0</td>\n",
       "      <td>19466.0</td>\n",
       "      <td>19956.0</td>\n",
       "      <td>31446.0</td>\n",
       "    </tr>\n",
       "  </tbody>\n",
       "</table>\n",
       "</div>"
      ],
      "text/plain": [
       "                                                           Page  2016-01-01  \\\n",
       "40563  Prince_(musician)_en.wikipedia.org_all-access_all-agents     20947.0   \n",
       "\n",
       "       2016-01-02  2016-12-30  2016-12-31  \n",
       "40563     19466.0     19956.0     31446.0  "
      ]
     },
     "execution_count": 19,
     "metadata": {},
     "output_type": "execute_result"
    }
   ],
   "source": [
    "df = df.filter(regex=\"Page|2016\")\n",
    "df.iloc[:5, np.r_[0, 1,2,-2,-1]]"
   ]
  },
  {
   "cell_type": "code",
   "execution_count": 20,
   "metadata": {
    "ExecuteTime": {
     "end_time": "2020-10-14T19:37:22.023552Z",
     "start_time": "2020-10-14T19:37:21.974635Z"
    },
    "colab": {
     "base_uri": "https://localhost:8080/",
     "height": 221
    },
    "execution": {
     "iopub.execute_input": "2020-10-17T18:34:41.930443Z",
     "iopub.status.busy": "2020-10-17T18:34:41.929874Z",
     "iopub.status.idle": "2020-10-17T18:34:41.936702Z",
     "shell.execute_reply": "2020-10-17T18:34:41.937054Z"
    },
    "id": "zHVdxpP15hrp",
    "outputId": "72f184d1-844b-447c-bfaf-d83da97d6eed",
    "papermill": {
     "duration": 0.052044,
     "end_time": "2020-10-17T18:34:41.937215",
     "exception": false,
     "start_time": "2020-10-17T18:34:41.885171",
     "status": "completed"
    },
    "tags": []
   },
   "outputs": [
    {
     "name": "stdout",
     "output_type": "stream",
     "text": [
      "(366, 2)\n"
     ]
    },
    {
     "data": {
      "text/html": [
       "<div>\n",
       "<style scoped>\n",
       "    .dataframe tbody tr th:only-of-type {\n",
       "        vertical-align: middle;\n",
       "    }\n",
       "\n",
       "    .dataframe tbody tr th {\n",
       "        vertical-align: top;\n",
       "    }\n",
       "\n",
       "    .dataframe thead th {\n",
       "        text-align: right;\n",
       "    }\n",
       "</style>\n",
       "<table border=\"1\" class=\"dataframe\">\n",
       "  <thead>\n",
       "    <tr style=\"text-align: right;\">\n",
       "      <th></th>\n",
       "      <th>date</th>\n",
       "      <th>visits</th>\n",
       "    </tr>\n",
       "  </thead>\n",
       "  <tbody>\n",
       "    <tr>\n",
       "      <th>0</th>\n",
       "      <td>2016-01-01</td>\n",
       "      <td>20947.0</td>\n",
       "    </tr>\n",
       "    <tr>\n",
       "      <th>1</th>\n",
       "      <td>2016-01-02</td>\n",
       "      <td>19466.0</td>\n",
       "    </tr>\n",
       "    <tr>\n",
       "      <th>2</th>\n",
       "      <td>2016-01-03</td>\n",
       "      <td>8587.0</td>\n",
       "    </tr>\n",
       "    <tr>\n",
       "      <th>3</th>\n",
       "      <td>2016-01-04</td>\n",
       "      <td>7386.0</td>\n",
       "    </tr>\n",
       "    <tr>\n",
       "      <th>4</th>\n",
       "      <td>2016-01-05</td>\n",
       "      <td>7719.0</td>\n",
       "    </tr>\n",
       "  </tbody>\n",
       "</table>\n",
       "</div>"
      ],
      "text/plain": [
       "         date   visits\n",
       "0  2016-01-01  20947.0\n",
       "1  2016-01-02  19466.0\n",
       "2  2016-01-03   8587.0\n",
       "3  2016-01-04   7386.0\n",
       "4  2016-01-05   7719.0"
      ]
     },
     "execution_count": 20,
     "metadata": {},
     "output_type": "execute_result"
    }
   ],
   "source": [
    "df = df.melt(id_vars=['Page'],var_name='date',value_name='visits').drop('Page',axis=1)\n",
    "\n",
    "print(df.shape)\n",
    "df.head()"
   ]
  },
  {
   "cell_type": "code",
   "execution_count": 21,
   "metadata": {
    "ExecuteTime": {
     "end_time": "2020-10-14T19:37:22.069477Z",
     "start_time": "2020-10-14T19:37:22.028667Z"
    },
    "colab": {
     "base_uri": "https://localhost:8080/",
     "height": 34
    },
    "execution": {
     "iopub.execute_input": "2020-10-17T18:34:42.005451Z",
     "iopub.status.busy": "2020-10-17T18:34:42.004537Z",
     "iopub.status.idle": "2020-10-17T18:34:42.007394Z",
     "shell.execute_reply": "2020-10-17T18:34:42.007800Z"
    },
    "id": "Pb5DuAE86AEP",
    "outputId": "831b4b5d-bd27-4204-9099-72922caf867d",
    "papermill": {
     "duration": 0.039078,
     "end_time": "2020-10-17T18:34:42.007954",
     "exception": false,
     "start_time": "2020-10-17T18:34:41.968876",
     "status": "completed"
    },
    "tags": []
   },
   "outputs": [
    {
     "data": {
      "text/plain": [
       "0"
      ]
     },
     "execution_count": 21,
     "metadata": {},
     "output_type": "execute_result"
    }
   ],
   "source": [
    "df['visits'].isna().sum()"
   ]
  },
  {
   "cell_type": "code",
   "execution_count": 22,
   "metadata": {
    "ExecuteTime": {
     "end_time": "2020-10-14T19:37:22.516989Z",
     "start_time": "2020-10-14T19:37:22.093728Z"
    },
    "colab": {
     "base_uri": "https://localhost:8080/",
     "height": 539
    },
    "execution": {
     "iopub.execute_input": "2020-10-17T18:34:42.078811Z",
     "iopub.status.busy": "2020-10-17T18:34:42.078195Z",
     "iopub.status.idle": "2020-10-17T18:34:42.458721Z",
     "shell.execute_reply": "2020-10-17T18:34:42.459278Z"
    },
    "id": "D6mcymYV7qR_",
    "outputId": "5bd34683-a195-4a84-cef8-c22819848fb6",
    "papermill": {
     "duration": 0.418498,
     "end_time": "2020-10-17T18:34:42.459450",
     "exception": false,
     "start_time": "2020-10-17T18:34:42.040952",
     "status": "completed"
    },
    "tags": []
   },
   "outputs": [
    {
     "data": {
      "text/plain": [
       "<matplotlib.axes._subplots.AxesSubplot at 0x7ff0484b6a50>"
      ]
     },
     "execution_count": 22,
     "metadata": {},
     "output_type": "execute_result"
    },
    {
     "data": {
      "image/png": "[encoded data removed]",
      "text/plain": [
       "<Figure size 864x576 with 1 Axes>"
      ]
     },
     "metadata": {
      "image/png": {
       "height": 505,
       "width": 775
      }
     },
     "output_type": "display_data"
    }
   ],
   "source": [
    "df['visits'].plot.line()"
   ]
  },
  {
   "cell_type": "code",
   "execution_count": 23,
   "metadata": {
    "ExecuteTime": {
     "end_time": "2020-10-14T19:37:22.985719Z",
     "start_time": "2020-10-14T19:37:22.530558Z"
    },
    "colab": {
     "base_uri": "https://localhost:8080/",
     "height": 532
    },
    "execution": {
     "iopub.execute_input": "2020-10-17T18:34:42.562923Z",
     "iopub.status.busy": "2020-10-17T18:34:42.554422Z",
     "iopub.status.idle": "2020-10-17T18:34:42.838475Z",
     "shell.execute_reply": "2020-10-17T18:34:42.839488Z"
    },
    "id": "TsLsqXXf70xn",
    "outputId": "c2ceec36-71ff-403f-8fe0-8b8b410264bf",
    "papermill": {
     "duration": 0.34063,
     "end_time": "2020-10-17T18:34:42.839692",
     "exception": false,
     "start_time": "2020-10-17T18:34:42.499062",
     "status": "completed"
    },
    "tags": []
   },
   "outputs": [
    {
     "data": {
      "text/plain": [
       "(0.0, 100000.0)"
      ]
     },
     "execution_count": 23,
     "metadata": {},
     "output_type": "execute_result"
    },
    {
     "data": {
      "image/png": "[encoded data removed]",
      "text/plain": [
       "<Figure size 864x576 with 1 Axes>"
      ]
     },
     "metadata": {
      "image/png": {
       "height": 498,
       "width": 806
      }
     },
     "output_type": "display_data"
    }
   ],
   "source": [
    "df['visits'].plot.line()\n",
    "plt.ylim(0,1e5)"
   ]
  },
  {
   "cell_type": "markdown",
   "metadata": {
    "id": "wn9Q7zu0sd51",
    "papermill": {
     "duration": 0.04176,
     "end_time": "2020-10-17T18:34:42.920535",
     "exception": false,
     "start_time": "2020-10-17T18:34:42.878775",
     "status": "completed"
    },
    "tags": []
   },
   "source": [
    "# Data Preprocessing"
   ]
  },
  {
   "cell_type": "markdown",
   "metadata": {
    "id": "CQhTB55vsd6N",
    "papermill": {
     "duration": 0.044951,
     "end_time": "2020-10-17T18:34:43.021573",
     "exception": false,
     "start_time": "2020-10-17T18:34:42.976622",
     "status": "completed"
    },
    "tags": []
   },
   "source": [
    "## Add lag columns"
   ]
  },
  {
   "cell_type": "code",
   "execution_count": 24,
   "metadata": {
    "ExecuteTime": {
     "end_time": "2020-10-14T19:37:23.002904Z",
     "start_time": "2020-10-14T19:37:22.992351Z"
    },
    "execution": {
     "iopub.execute_input": "2020-10-17T18:34:43.116224Z",
     "iopub.status.busy": "2020-10-17T18:34:43.115562Z",
     "iopub.status.idle": "2020-10-17T18:34:43.117477Z",
     "shell.execute_reply": "2020-10-17T18:34:43.117839Z"
    },
    "id": "s8C0Y1G_sd6N",
    "papermill": {
     "duration": 0.052702,
     "end_time": "2020-10-17T18:34:43.118001",
     "exception": false,
     "start_time": "2020-10-17T18:34:43.065299",
     "status": "completed"
    },
    "tags": []
   },
   "outputs": [],
   "source": [
    "for lag in range(1,8):\n",
    "    df['lag'+str(lag)] = df['visits'].shift(lag)"
   ]
  },
  {
   "cell_type": "code",
   "execution_count": 25,
   "metadata": {
    "ExecuteTime": {
     "end_time": "2020-10-14T19:37:23.034857Z",
     "start_time": "2020-10-14T19:37:23.006488Z"
    },
    "colab": {
     "base_uri": "https://localhost:8080/",
     "height": 34
    },
    "execution": {
     "iopub.execute_input": "2020-10-17T18:34:43.216687Z",
     "iopub.status.busy": "2020-10-17T18:34:43.215836Z",
     "iopub.status.idle": "2020-10-17T18:34:43.220182Z",
     "shell.execute_reply": "2020-10-17T18:34:43.220990Z"
    },
    "id": "130mIy8psd6R",
    "outputId": "29ec9946-c1a0-4158-8b6e-7642796a6242",
    "papermill": {
     "duration": 0.053028,
     "end_time": "2020-10-17T18:34:43.221191",
     "exception": false,
     "start_time": "2020-10-17T18:34:43.168163",
     "status": "completed"
    },
    "tags": []
   },
   "outputs": [
    {
     "data": {
      "text/plain": [
       "28"
      ]
     },
     "execution_count": 25,
     "metadata": {},
     "output_type": "execute_result"
    }
   ],
   "source": [
    "# adding lags will create nans\n",
    "df.isna().sum().sum()"
   ]
  },
  {
   "cell_type": "code",
   "execution_count": 26,
   "metadata": {
    "ExecuteTime": {
     "end_time": "2020-10-14T19:37:23.109042Z",
     "start_time": "2020-10-14T19:37:23.041854Z"
    },
    "colab": {
     "base_uri": "https://localhost:8080/",
     "height": 204
    },
    "execution": {
     "iopub.execute_input": "2020-10-17T18:34:43.362769Z",
     "iopub.status.busy": "2020-10-17T18:34:43.361861Z",
     "iopub.status.idle": "2020-10-17T18:34:43.377895Z",
     "shell.execute_reply": "2020-10-17T18:34:43.376308Z"
    },
    "id": "Svw7h-l98c2s",
    "outputId": "bb1bb178-9201-463d-c945-e528fb1c9397",
    "papermill": {
     "duration": 0.107753,
     "end_time": "2020-10-17T18:34:43.378226",
     "exception": false,
     "start_time": "2020-10-17T18:34:43.270473",
     "status": "completed"
    },
    "tags": []
   },
   "outputs": [
    {
     "data": {
      "text/html": [
       "<div>\n",
       "<style scoped>\n",
       "    .dataframe tbody tr th:only-of-type {\n",
       "        vertical-align: middle;\n",
       "    }\n",
       "\n",
       "    .dataframe tbody tr th {\n",
       "        vertical-align: top;\n",
       "    }\n",
       "\n",
       "    .dataframe thead th {\n",
       "        text-align: right;\n",
       "    }\n",
       "</style>\n",
       "<table border=\"1\" class=\"dataframe\">\n",
       "  <thead>\n",
       "    <tr style=\"text-align: right;\">\n",
       "      <th></th>\n",
       "      <th>date</th>\n",
       "      <th>visits</th>\n",
       "      <th>lag1</th>\n",
       "      <th>lag2</th>\n",
       "      <th>lag3</th>\n",
       "      <th>lag4</th>\n",
       "      <th>lag5</th>\n",
       "      <th>lag6</th>\n",
       "      <th>lag7</th>\n",
       "    </tr>\n",
       "  </thead>\n",
       "  <tbody>\n",
       "    <tr>\n",
       "      <th>7</th>\n",
       "      <td>2016-01-08</td>\n",
       "      <td>8658.0</td>\n",
       "      <td>7713.0</td>\n",
       "      <td>7156.0</td>\n",
       "      <td>7719.0</td>\n",
       "      <td>7386.0</td>\n",
       "      <td>8587.0</td>\n",
       "      <td>19466.0</td>\n",
       "      <td>20947.0</td>\n",
       "    </tr>\n",
       "    <tr>\n",
       "      <th>8</th>\n",
       "      <td>2016-01-09</td>\n",
       "      <td>9137.0</td>\n",
       "      <td>8658.0</td>\n",
       "      <td>7713.0</td>\n",
       "      <td>7156.0</td>\n",
       "      <td>7719.0</td>\n",
       "      <td>7386.0</td>\n",
       "      <td>8587.0</td>\n",
       "      <td>19466.0</td>\n",
       "    </tr>\n",
       "    <tr>\n",
       "      <th>9</th>\n",
       "      <td>2016-01-10</td>\n",
       "      <td>8855.0</td>\n",
       "      <td>9137.0</td>\n",
       "      <td>8658.0</td>\n",
       "      <td>7713.0</td>\n",
       "      <td>7156.0</td>\n",
       "      <td>7719.0</td>\n",
       "      <td>7386.0</td>\n",
       "      <td>8587.0</td>\n",
       "    </tr>\n",
       "    <tr>\n",
       "      <th>10</th>\n",
       "      <td>2016-01-11</td>\n",
       "      <td>9034.0</td>\n",
       "      <td>8855.0</td>\n",
       "      <td>9137.0</td>\n",
       "      <td>8658.0</td>\n",
       "      <td>7713.0</td>\n",
       "      <td>7156.0</td>\n",
       "      <td>7719.0</td>\n",
       "      <td>7386.0</td>\n",
       "    </tr>\n",
       "    <tr>\n",
       "      <th>11</th>\n",
       "      <td>2016-01-12</td>\n",
       "      <td>8435.0</td>\n",
       "      <td>9034.0</td>\n",
       "      <td>8855.0</td>\n",
       "      <td>9137.0</td>\n",
       "      <td>8658.0</td>\n",
       "      <td>7713.0</td>\n",
       "      <td>7156.0</td>\n",
       "      <td>7719.0</td>\n",
       "    </tr>\n",
       "  </tbody>\n",
       "</table>\n",
       "</div>"
      ],
      "text/plain": [
       "          date  visits    lag1    lag2    lag3    lag4    lag5     lag6  \\\n",
       "7   2016-01-08  8658.0  7713.0  7156.0  7719.0  7386.0  8587.0  19466.0   \n",
       "8   2016-01-09  9137.0  8658.0  7713.0  7156.0  7719.0  7386.0   8587.0   \n",
       "9   2016-01-10  8855.0  9137.0  8658.0  7713.0  7156.0  7719.0   7386.0   \n",
       "10  2016-01-11  9034.0  8855.0  9137.0  8658.0  7713.0  7156.0   7719.0   \n",
       "11  2016-01-12  8435.0  9034.0  8855.0  9137.0  8658.0  7713.0   7156.0   \n",
       "\n",
       "       lag7  \n",
       "7   20947.0  \n",
       "8   19466.0  \n",
       "9    8587.0  \n",
       "10   7386.0  \n",
       "11   7719.0  "
      ]
     },
     "execution_count": 26,
     "metadata": {},
     "output_type": "execute_result"
    }
   ],
   "source": [
    "df = df.dropna(how='any')\n",
    "df.head()"
   ]
  },
  {
   "cell_type": "markdown",
   "metadata": {
    "id": "eZgFF4Nusd6T",
    "papermill": {
     "duration": 0.078488,
     "end_time": "2020-10-17T18:34:43.565851",
     "exception": false,
     "start_time": "2020-10-17T18:34:43.487363",
     "status": "completed"
    },
    "tags": []
   },
   "source": [
    "## Add bias term"
   ]
  },
  {
   "cell_type": "code",
   "execution_count": 27,
   "metadata": {
    "ExecuteTime": {
     "end_time": "2020-10-14T19:37:23.151944Z",
     "start_time": "2020-10-14T19:37:23.123518Z"
    },
    "execution": {
     "iopub.execute_input": "2020-10-17T18:34:43.832798Z",
     "iopub.status.busy": "2020-10-17T18:34:43.828463Z",
     "iopub.status.idle": "2020-10-17T18:34:43.834403Z",
     "shell.execute_reply": "2020-10-17T18:34:43.830007Z"
    },
    "id": "HejgAzsRsd6T",
    "papermill": {
     "duration": 0.162868,
     "end_time": "2020-10-17T18:34:43.836156",
     "exception": false,
     "start_time": "2020-10-17T18:34:43.673288",
     "status": "completed"
    },
    "tags": []
   },
   "outputs": [],
   "source": [
    "df['bias'] = 1"
   ]
  },
  {
   "cell_type": "markdown",
   "metadata": {
    "id": "fa5KcnRm8m6f",
    "papermill": {
     "duration": 0.127189,
     "end_time": "2020-10-17T18:34:44.054221",
     "exception": false,
     "start_time": "2020-10-17T18:34:43.927032",
     "status": "completed"
    },
    "tags": []
   },
   "source": [
    "# Add timeseries features"
   ]
  },
  {
   "cell_type": "code",
   "execution_count": 28,
   "metadata": {
    "ExecuteTime": {
     "end_time": "2020-10-14T19:37:23.207157Z",
     "start_time": "2020-10-14T19:37:23.155910Z"
    },
    "colab": {
     "base_uri": "https://localhost:8080/",
     "height": 221
    },
    "execution": {
     "iopub.execute_input": "2020-10-17T18:34:44.210351Z",
     "iopub.status.busy": "2020-10-17T18:34:44.196969Z",
     "iopub.status.idle": "2020-10-17T18:34:44.214479Z",
     "shell.execute_reply": "2020-10-17T18:34:44.215171Z"
    },
    "id": "pAkzO_0p81bR",
    "outputId": "a095fee8-1437-4ae0-9425-4dfdab2490e9",
    "papermill": {
     "duration": 0.079801,
     "end_time": "2020-10-17T18:34:44.215387",
     "exception": false,
     "start_time": "2020-10-17T18:34:44.135586",
     "status": "completed"
    },
    "tags": []
   },
   "outputs": [
    {
     "name": "stdout",
     "output_type": "stream",
     "text": [
      "nans =  0\n"
     ]
    },
    {
     "data": {
      "text/html": [
       "<div>\n",
       "<style scoped>\n",
       "    .dataframe tbody tr th:only-of-type {\n",
       "        vertical-align: middle;\n",
       "    }\n",
       "\n",
       "    .dataframe tbody tr th {\n",
       "        vertical-align: top;\n",
       "    }\n",
       "\n",
       "    .dataframe thead th {\n",
       "        text-align: right;\n",
       "    }\n",
       "</style>\n",
       "<table border=\"1\" class=\"dataframe\">\n",
       "  <thead>\n",
       "    <tr style=\"text-align: right;\">\n",
       "      <th></th>\n",
       "      <th>date</th>\n",
       "      <th>visits</th>\n",
       "      <th>lag1</th>\n",
       "      <th>lag2</th>\n",
       "      <th>lag3</th>\n",
       "      <th>lag4</th>\n",
       "      <th>lag5</th>\n",
       "      <th>lag6</th>\n",
       "      <th>lag7</th>\n",
       "      <th>bias</th>\n",
       "      <th>month</th>\n",
       "      <th>day</th>\n",
       "      <th>quarter</th>\n",
       "      <th>dayofweek</th>\n",
       "      <th>weekend</th>\n",
       "    </tr>\n",
       "  </thead>\n",
       "  <tbody>\n",
       "    <tr>\n",
       "      <th>7</th>\n",
       "      <td>2016-01-08</td>\n",
       "      <td>8658.0</td>\n",
       "      <td>7713.0</td>\n",
       "      <td>7156.0</td>\n",
       "      <td>7719.0</td>\n",
       "      <td>7386.0</td>\n",
       "      <td>8587.0</td>\n",
       "      <td>19466.0</td>\n",
       "      <td>20947.0</td>\n",
       "      <td>1</td>\n",
       "      <td>1</td>\n",
       "      <td>8</td>\n",
       "      <td>1</td>\n",
       "      <td>4</td>\n",
       "      <td>0</td>\n",
       "    </tr>\n",
       "    <tr>\n",
       "      <th>8</th>\n",
       "      <td>2016-01-09</td>\n",
       "      <td>9137.0</td>\n",
       "      <td>8658.0</td>\n",
       "      <td>7713.0</td>\n",
       "      <td>7156.0</td>\n",
       "      <td>7719.0</td>\n",
       "      <td>7386.0</td>\n",
       "      <td>8587.0</td>\n",
       "      <td>19466.0</td>\n",
       "      <td>1</td>\n",
       "      <td>1</td>\n",
       "      <td>9</td>\n",
       "      <td>1</td>\n",
       "      <td>5</td>\n",
       "      <td>1</td>\n",
       "    </tr>\n",
       "    <tr>\n",
       "      <th>9</th>\n",
       "      <td>2016-01-10</td>\n",
       "      <td>8855.0</td>\n",
       "      <td>9137.0</td>\n",
       "      <td>8658.0</td>\n",
       "      <td>7713.0</td>\n",
       "      <td>7156.0</td>\n",
       "      <td>7719.0</td>\n",
       "      <td>7386.0</td>\n",
       "      <td>8587.0</td>\n",
       "      <td>1</td>\n",
       "      <td>1</td>\n",
       "      <td>10</td>\n",
       "      <td>1</td>\n",
       "      <td>6</td>\n",
       "      <td>1</td>\n",
       "    </tr>\n",
       "    <tr>\n",
       "      <th>10</th>\n",
       "      <td>2016-01-11</td>\n",
       "      <td>9034.0</td>\n",
       "      <td>8855.0</td>\n",
       "      <td>9137.0</td>\n",
       "      <td>8658.0</td>\n",
       "      <td>7713.0</td>\n",
       "      <td>7156.0</td>\n",
       "      <td>7719.0</td>\n",
       "      <td>7386.0</td>\n",
       "      <td>1</td>\n",
       "      <td>1</td>\n",
       "      <td>11</td>\n",
       "      <td>1</td>\n",
       "      <td>0</td>\n",
       "      <td>0</td>\n",
       "    </tr>\n",
       "    <tr>\n",
       "      <th>11</th>\n",
       "      <td>2016-01-12</td>\n",
       "      <td>8435.0</td>\n",
       "      <td>9034.0</td>\n",
       "      <td>8855.0</td>\n",
       "      <td>9137.0</td>\n",
       "      <td>8658.0</td>\n",
       "      <td>7713.0</td>\n",
       "      <td>7156.0</td>\n",
       "      <td>7719.0</td>\n",
       "      <td>1</td>\n",
       "      <td>1</td>\n",
       "      <td>12</td>\n",
       "      <td>1</td>\n",
       "      <td>1</td>\n",
       "      <td>0</td>\n",
       "    </tr>\n",
       "  </tbody>\n",
       "</table>\n",
       "</div>"
      ],
      "text/plain": [
       "         date  visits    lag1    lag2    lag3    lag4    lag5     lag6  \\\n",
       "7  2016-01-08  8658.0  7713.0  7156.0  7719.0  7386.0  8587.0  19466.0   \n",
       "8  2016-01-09  9137.0  8658.0  7713.0  7156.0  7719.0  7386.0   8587.0   \n",
       "9  2016-01-10  8855.0  9137.0  8658.0  7713.0  7156.0  7719.0   7386.0   \n",
       "10 2016-01-11  9034.0  8855.0  9137.0  8658.0  7713.0  7156.0   7719.0   \n",
       "11 2016-01-12  8435.0  9034.0  8855.0  9137.0  8658.0  7713.0   7156.0   \n",
       "\n",
       "       lag7  bias  month  day  quarter  dayofweek  weekend  \n",
       "7   20947.0     1      1    8        1          4        0  \n",
       "8   19466.0     1      1    9        1          5        1  \n",
       "9    8587.0     1      1   10        1          6        1  \n",
       "10   7386.0     1      1   11        1          0        0  \n",
       "11   7719.0     1      1   12        1          1        0  "
      ]
     },
     "execution_count": 28,
     "metadata": {},
     "output_type": "execute_result"
    }
   ],
   "source": [
    "df['date'] = pd.to_datetime(df['date'])\n",
    "df['month'] = df['date'].dt.month # 1 to 12\n",
    "df['day'] = df['date'].dt.day # 1 to 31\n",
    "\n",
    "df['quarter'] = df['date'].dt.quarter # 1 to 4\n",
    "df['dayofweek'] = df['date'].dt.dayofweek # 0 to 6\n",
    "\n",
    "df['weekend'] = ((df['date'].dt.dayofweek) // 5 == 1).astype(np.int8)\n",
    "\n",
    "# df = df.drop('date',axis=1)\n",
    "\n",
    "print('nans = ',df.isna().sum().sum())\n",
    "df.head()"
   ]
  },
  {
   "cell_type": "markdown",
   "metadata": {
    "id": "lnvhH31Isd6Y",
    "papermill": {
     "duration": 0.042465,
     "end_time": "2020-10-17T18:34:44.298904",
     "exception": false,
     "start_time": "2020-10-17T18:34:44.256439",
     "status": "completed"
    },
    "tags": []
   },
   "source": [
    "# Modelling"
   ]
  },
  {
   "cell_type": "markdown",
   "metadata": {
    "id": "1dJEUcZfsd6Y",
    "papermill": {
     "duration": 0.042406,
     "end_time": "2020-10-17T18:34:44.383668",
     "exception": false,
     "start_time": "2020-10-17T18:34:44.341262",
     "status": "completed"
    },
    "tags": []
   },
   "source": [
    "## Train Test split"
   ]
  },
  {
   "cell_type": "code",
   "execution_count": 29,
   "metadata": {
    "ExecuteTime": {
     "end_time": "2020-10-14T19:37:23.225071Z",
     "start_time": "2020-10-14T19:37:23.212612Z"
    },
    "colab": {
     "base_uri": "https://localhost:8080/",
     "height": 34
    },
    "execution": {
     "iopub.execute_input": "2020-10-17T18:34:44.466839Z",
     "iopub.status.busy": "2020-10-17T18:34:44.466138Z",
     "iopub.status.idle": "2020-10-17T18:34:44.470435Z",
     "shell.execute_reply": "2020-10-17T18:34:44.470788Z"
    },
    "id": "49slukgqsd6b",
    "outputId": "42005123-f22b-4f2c-e090-70eb698866e6",
    "papermill": {
     "duration": 0.047387,
     "end_time": "2020-10-17T18:34:44.470984",
     "exception": false,
     "start_time": "2020-10-17T18:34:44.423597",
     "status": "completed"
    },
    "tags": []
   },
   "outputs": [
    {
     "name": "stdout",
     "output_type": "stream",
     "text": [
      "(287, 14) (72, 14)\n"
     ]
    }
   ],
   "source": [
    "Xtrain, Xtest, ytrain, ytest = train_test_split(df.drop('date',1),\n",
    "                                                df['visits'],\n",
    "                                                test_size=0.2,shuffle=False)\n",
    "\n",
    "print(Xtrain.shape, Xtest.shape)"
   ]
  },
  {
   "cell_type": "code",
   "execution_count": 30,
   "metadata": {
    "ExecuteTime": {
     "end_time": "2020-10-14T19:37:23.243962Z",
     "start_time": "2020-10-14T19:37:23.228236Z"
    },
    "colab": {
     "base_uri": "https://localhost:8080/",
     "height": 111
    },
    "execution": {
     "iopub.execute_input": "2020-10-17T18:34:44.706377Z",
     "iopub.status.busy": "2020-10-17T18:34:44.696973Z",
     "iopub.status.idle": "2020-10-17T18:34:44.713020Z",
     "shell.execute_reply": "2020-10-17T18:34:44.716576Z"
    },
    "id": "pg9mARLLsd6d",
    "outputId": "84c4527e-b8f1-4bf0-96bf-acb264baee0b",
    "papermill": {
     "duration": 0.083725,
     "end_time": "2020-10-17T18:34:44.716897",
     "exception": false,
     "start_time": "2020-10-17T18:34:44.633172",
     "status": "completed"
    },
    "tags": []
   },
   "outputs": [
    {
     "data": {
      "text/html": [
       "<div>\n",
       "<style scoped>\n",
       "    .dataframe tbody tr th:only-of-type {\n",
       "        vertical-align: middle;\n",
       "    }\n",
       "\n",
       "    .dataframe tbody tr th {\n",
       "        vertical-align: top;\n",
       "    }\n",
       "\n",
       "    .dataframe thead th {\n",
       "        text-align: right;\n",
       "    }\n",
       "</style>\n",
       "<table border=\"1\" class=\"dataframe\">\n",
       "  <thead>\n",
       "    <tr style=\"text-align: right;\">\n",
       "      <th></th>\n",
       "      <th>lag1</th>\n",
       "      <th>lag2</th>\n",
       "      <th>lag3</th>\n",
       "      <th>lag4</th>\n",
       "      <th>lag5</th>\n",
       "      <th>lag6</th>\n",
       "      <th>lag7</th>\n",
       "      <th>bias</th>\n",
       "      <th>month</th>\n",
       "      <th>day</th>\n",
       "      <th>quarter</th>\n",
       "      <th>dayofweek</th>\n",
       "      <th>weekend</th>\n",
       "    </tr>\n",
       "  </thead>\n",
       "  <tbody>\n",
       "    <tr>\n",
       "      <th>7</th>\n",
       "      <td>7713.0</td>\n",
       "      <td>7156.0</td>\n",
       "      <td>7719.0</td>\n",
       "      <td>7386.0</td>\n",
       "      <td>8587.0</td>\n",
       "      <td>19466.0</td>\n",
       "      <td>20947.0</td>\n",
       "      <td>1</td>\n",
       "      <td>1</td>\n",
       "      <td>8</td>\n",
       "      <td>1</td>\n",
       "      <td>4</td>\n",
       "      <td>0</td>\n",
       "    </tr>\n",
       "    <tr>\n",
       "      <th>8</th>\n",
       "      <td>8658.0</td>\n",
       "      <td>7713.0</td>\n",
       "      <td>7156.0</td>\n",
       "      <td>7719.0</td>\n",
       "      <td>7386.0</td>\n",
       "      <td>8587.0</td>\n",
       "      <td>19466.0</td>\n",
       "      <td>1</td>\n",
       "      <td>1</td>\n",
       "      <td>9</td>\n",
       "      <td>1</td>\n",
       "      <td>5</td>\n",
       "      <td>1</td>\n",
       "    </tr>\n",
       "  </tbody>\n",
       "</table>\n",
       "</div>"
      ],
      "text/plain": [
       "     lag1    lag2    lag3    lag4    lag5     lag6     lag7  bias  month  day  \\\n",
       "7  7713.0  7156.0  7719.0  7386.0  8587.0  19466.0  20947.0     1      1    8   \n",
       "8  8658.0  7713.0  7156.0  7719.0  7386.0   8587.0  19466.0     1      1    9   \n",
       "\n",
       "   quarter  dayofweek  weekend  \n",
       "7        1          4        0  \n",
       "8        1          5        1  "
      ]
     },
     "execution_count": 30,
     "metadata": {},
     "output_type": "execute_result"
    }
   ],
   "source": [
    "target = 'visits'\n",
    "features = df.columns.drop(['date', target])\n",
    "df_Xtrain = pd.DataFrame(Xtrain, columns=features)\n",
    "df_Xtest = pd.DataFrame(Xtest, columns=features)\n",
    "df_Xtrain.head(2)"
   ]
  },
  {
   "cell_type": "markdown",
   "metadata": {
    "id": "aqfvC2_Isd7A",
    "papermill": {
     "duration": 0.052602,
     "end_time": "2020-10-17T18:34:44.863510",
     "exception": false,
     "start_time": "2020-10-17T18:34:44.810908",
     "status": "completed"
    },
    "tags": []
   },
   "source": [
    "## Modelling: Xgboost"
   ]
  },
  {
   "cell_type": "code",
   "execution_count": 31,
   "metadata": {
    "ExecuteTime": {
     "end_time": "2020-10-14T19:37:23.254740Z",
     "start_time": "2020-10-14T19:37:23.249274Z"
    },
    "execution": {
     "iopub.execute_input": "2020-10-17T18:34:44.963338Z",
     "iopub.status.busy": "2020-10-17T18:34:44.962543Z",
     "iopub.status.idle": "2020-10-17T18:34:44.964556Z",
     "shell.execute_reply": "2020-10-17T18:34:44.964901Z"
    },
    "id": "L4CUf7dWsd7A",
    "papermill": {
     "duration": 0.052633,
     "end_time": "2020-10-17T18:34:44.965058",
     "exception": false,
     "start_time": "2020-10-17T18:34:44.912425",
     "status": "completed"
    },
    "tags": []
   },
   "outputs": [],
   "source": [
    "from xgboost import XGBRegressor"
   ]
  },
  {
   "cell_type": "code",
   "execution_count": 32,
   "metadata": {
    "ExecuteTime": {
     "end_time": "2020-10-14T19:37:23.262870Z",
     "start_time": "2020-10-14T19:37:23.256878Z"
    },
    "execution": {
     "iopub.execute_input": "2020-10-17T18:34:45.062249Z",
     "iopub.status.busy": "2020-10-17T18:34:45.061538Z",
     "iopub.status.idle": "2020-10-17T18:34:45.063432Z",
     "shell.execute_reply": "2020-10-17T18:34:45.063808Z"
    },
    "id": "zBNAfHmkT3hC",
    "papermill": {
     "duration": 0.052011,
     "end_time": "2020-10-17T18:34:45.063967",
     "exception": false,
     "start_time": "2020-10-17T18:34:45.011956",
     "status": "completed"
    },
    "tags": []
   },
   "outputs": [],
   "source": [
    "# XGBRegressor?"
   ]
  },
  {
   "cell_type": "code",
   "execution_count": 33,
   "metadata": {
    "ExecuteTime": {
     "end_time": "2020-10-14T19:40:15.011342Z",
     "start_time": "2020-10-14T19:40:14.242699Z"
    },
    "colab": {
     "base_uri": "https://localhost:8080/",
     "height": 690
    },
    "execution": {
     "iopub.execute_input": "2020-10-17T18:34:45.159956Z",
     "iopub.status.busy": "2020-10-17T18:34:45.159205Z",
     "iopub.status.idle": "2020-10-17T18:34:45.948077Z",
     "shell.execute_reply": "2020-10-17T18:34:45.948550Z"
    },
    "id": "UAt2LSKzsd7C",
    "outputId": "3a993991-b473-47de-e241-006703b1e1e8",
    "papermill": {
     "duration": 0.837961,
     "end_time": "2020-10-17T18:34:45.948714",
     "exception": false,
     "start_time": "2020-10-17T18:34:45.110753",
     "status": "completed"
    },
    "tags": []
   },
   "outputs": [
    {
     "name": "stderr",
     "output_type": "stream",
     "text": [
      "/Users/poudel/opt/miniconda3/envs/dataSc/lib/python3.7/site-packages/ipykernel_launcher.py:40: FutureWarning: Support for multi-dimensional indexing (e.g. `obj[:, None]`) is deprecated and will be removed in a future version.  Convert to a numpy array before indexing instead.\n",
      "/Users/poudel/opt/miniconda3/envs/dataSc/lib/python3.7/site-packages/ipykernel_launcher.py:42: FutureWarning: Support for multi-dimensional indexing (e.g. `obj[:, None]`) is deprecated and will be removed in a future version.  Convert to a numpy array before indexing instead.\n",
      "/Users/poudel/opt/miniconda3/envs/dataSc/lib/python3.7/site-packages/statsmodels/tsa/stattools.py:657: FutureWarning: The default number of lags is changing from 40 tomin(int(10 * np.log10(nobs)), nobs - 1) after 0.12is released. Set the number of lags to an integer to  silence this warning.\n",
      "  FutureWarning,\n"
     ]
    },
    {
     "data": {
      "text/html": [
       "<style  type=\"text/css\" >\n",
       "#T_6e06fed8_10a7_11eb_88e8_acde48001122row0_col3{\n",
       "            background-color:  #00441b;\n",
       "            color:  #f1f1f1;\n",
       "        }</style><table id=\"T_6e06fed8_10a7_11eb_88e8_acde48001122\" ><thead>    <tr>        <th class=\"blank level0\" ></th>        <th class=\"col_heading level0 col0\" >Model</th>        <th class=\"col_heading level0 col1\" >Description</th>        <th class=\"col_heading level0 col2\" >MAPE</th>        <th class=\"col_heading level0 col3\" >SMAPE</th>        <th class=\"col_heading level0 col4\" >RMSE</th>        <th class=\"col_heading level0 col5\" >ME</th>        <th class=\"col_heading level0 col6\" >MAE</th>        <th class=\"col_heading level0 col7\" >MPE</th>        <th class=\"col_heading level0 col8\" >CORR</th>        <th class=\"col_heading level0 col9\" >MINMAX</th>        <th class=\"col_heading level0 col10\" >ACF1</th>    </tr></thead><tbody>\n",
       "                <tr>\n",
       "                        <th id=\"T_6e06fed8_10a7_11eb_88e8_acde48001122level0_row0\" class=\"row_heading level0 row0\" >0</th>\n",
       "                        <td id=\"T_6e06fed8_10a7_11eb_88e8_acde48001122row0_col0\" class=\"data row0 col0\" >xgb</td>\n",
       "                        <td id=\"T_6e06fed8_10a7_11eb_88e8_acde48001122row0_col1\" class=\"data row0 col1\" >default</td>\n",
       "                        <td id=\"T_6e06fed8_10a7_11eb_88e8_acde48001122row0_col2\" class=\"data row0 col2\" >1</td>\n",
       "                        <td id=\"T_6e06fed8_10a7_11eb_88e8_acde48001122row0_col3\" class=\"data row0 col3\" >1.4308</td>\n",
       "                        <td id=\"T_6e06fed8_10a7_11eb_88e8_acde48001122row0_col4\" class=\"data row0 col4\" >453</td>\n",
       "                        <td id=\"T_6e06fed8_10a7_11eb_88e8_acde48001122row0_col5\" class=\"data row0 col5\" >9</td>\n",
       "                        <td id=\"T_6e06fed8_10a7_11eb_88e8_acde48001122row0_col6\" class=\"data row0 col6\" >224</td>\n",
       "                        <td id=\"T_6e06fed8_10a7_11eb_88e8_acde48001122row0_col7\" class=\"data row0 col7\" >0</td>\n",
       "                        <td id=\"T_6e06fed8_10a7_11eb_88e8_acde48001122row0_col8\" class=\"data row0 col8\" >0.9978</td>\n",
       "                        <td id=\"T_6e06fed8_10a7_11eb_88e8_acde48001122row0_col9\" class=\"data row0 col9\" >0.0141</td>\n",
       "                        <td id=\"T_6e06fed8_10a7_11eb_88e8_acde48001122row0_col10\" class=\"data row0 col10\" >-0.3971</td>\n",
       "            </tr>\n",
       "    </tbody></table>"
      ],
      "text/plain": [
       "<pandas.io.formats.style.Styler at 0x7ff080774150>"
      ]
     },
     "metadata": {},
     "output_type": "display_data"
    },
    {
     "data": {
      "image/png": "[encoded data removed]",
      "text/plain": [
       "<Figure size 1008x576 with 1 Axes>"
      ]
     },
     "metadata": {
      "image/png": {
       "height": 560,
       "width": 992
      }
     },
     "output_type": "display_data"
    }
   ],
   "source": [
    "model = XGBRegressor(random_state=SEED,n_jobs=-1,objective='reg:squarederror')\n",
    "model.fit(Xtrain, ytrain)\n",
    "ypreds = model.predict(Xtest)\n",
    "\n",
    "plot_model_results(model, \n",
    "                 Xtrain=Xtrain,ytrain=ytrain,\n",
    "                 Xtest=Xtest,ytest=ytest,ypreds=ypreds,\n",
    "                 plot_intervals=True, plot_anomalies=True)\n",
    "\n",
    "model_name = 'xgb'\n",
    "desc = 'default'\n",
    "df_eval = timeseries_evaluation(model_name, desc, ytest, ypreds,\n",
    "                    df_eval=df_eval,show=True)"
   ]
  },
  {
   "cell_type": "markdown",
   "metadata": {
    "id": "-AiE5rrCZd4v",
    "papermill": {
     "duration": 0.046651,
     "end_time": "2020-10-17T18:34:46.042884",
     "exception": false,
     "start_time": "2020-10-17T18:34:45.996233",
     "status": "completed"
    },
    "tags": []
   },
   "source": [
    "# Adding timeseries features using tsfresh\n",
    "Ref: https://github.com/blue-yonder/tsfresh/blob/main/notebooks/examples/01%20Feature%20Extraction%20and%20Selection.ipynb"
   ]
  },
  {
   "cell_type": "code",
   "execution_count": 34,
   "metadata": {
    "ExecuteTime": {
     "end_time": "2020-10-14T19:40:28.104320Z",
     "start_time": "2020-10-14T19:40:28.073956Z"
    },
    "execution": {
     "iopub.execute_input": "2020-10-17T18:34:46.137373Z",
     "iopub.status.busy": "2020-10-17T18:34:46.136551Z",
     "iopub.status.idle": "2020-10-17T18:34:46.161878Z",
     "shell.execute_reply": "2020-10-17T18:34:46.162550Z"
    },
    "id": "srv7dwIrZeBq",
    "papermill": {
     "duration": 0.074824,
     "end_time": "2020-10-17T18:34:46.162742",
     "exception": false,
     "start_time": "2020-10-17T18:34:46.087918",
     "status": "completed"
    },
    "tags": []
   },
   "outputs": [],
   "source": [
    "from tsfresh import extract_features, extract_relevant_features, select_features\n",
    "from tsfresh.utilities.dataframe_functions import impute\n",
    "from tsfresh.feature_extraction import ComprehensiveFCParameters"
   ]
  },
  {
   "cell_type": "code",
   "execution_count": 35,
   "metadata": {
    "ExecuteTime": {
     "end_time": "2020-10-14T19:40:39.867095Z",
     "start_time": "2020-10-14T19:40:28.107652Z"
    },
    "colab": {
     "base_uri": "https://localhost:8080/",
     "height": 68
    },
    "execution": {
     "iopub.execute_input": "2020-10-17T18:34:46.262811Z",
     "iopub.status.busy": "2020-10-17T18:34:46.262117Z",
     "iopub.status.idle": "2020-10-17T18:34:55.688137Z",
     "shell.execute_reply": "2020-10-17T18:34:55.697601Z"
    },
    "id": "F9WUaGHSyn9p",
    "outputId": "df065177-b57a-47dd-b47e-25e395aeef89",
    "papermill": {
     "duration": 9.49125,
     "end_time": "2020-10-17T18:34:55.699590",
     "exception": false,
     "start_time": "2020-10-17T18:34:46.208340",
     "status": "completed"
    },
    "tags": []
   },
   "outputs": [
    {
     "name": "stdout",
     "output_type": "stream",
     "text": [
      "(366, 2)\n",
      "CPU times: user 8.03 s, sys: 760 ms, total: 8.79 s\n",
      "Wall time: 9.41 s\n"
     ]
    },
    {
     "data": {
      "text/html": [
       "<div>\n",
       "<style scoped>\n",
       "    .dataframe tbody tr th:only-of-type {\n",
       "        vertical-align: middle;\n",
       "    }\n",
       "\n",
       "    .dataframe tbody tr th {\n",
       "        vertical-align: top;\n",
       "    }\n",
       "\n",
       "    .dataframe thead th {\n",
       "        text-align: right;\n",
       "    }\n",
       "</style>\n",
       "<table border=\"1\" class=\"dataframe\">\n",
       "  <thead>\n",
       "    <tr style=\"text-align: right;\">\n",
       "      <th></th>\n",
       "      <th>date</th>\n",
       "      <th>visits</th>\n",
       "      <th>id</th>\n",
       "    </tr>\n",
       "  </thead>\n",
       "  <tbody>\n",
       "    <tr>\n",
       "      <th>0</th>\n",
       "      <td>2016-01-01</td>\n",
       "      <td>20947.0</td>\n",
       "      <td>0</td>\n",
       "    </tr>\n",
       "    <tr>\n",
       "      <th>1</th>\n",
       "      <td>2016-01-02</td>\n",
       "      <td>19466.0</td>\n",
       "      <td>1</td>\n",
       "    </tr>\n",
       "  </tbody>\n",
       "</table>\n",
       "</div>"
      ],
      "text/plain": [
       "         date   visits  id\n",
       "0  2016-01-01  20947.0   0\n",
       "1  2016-01-02  19466.0   1"
      ]
     },
     "execution_count": 35,
     "metadata": {},
     "output_type": "execute_result"
    }
   ],
   "source": [
    "%%time\n",
    "df = pd.read_csv('../data/train_1.csv.zip',compression='zip')\n",
    "\n",
    "cond = df['Page'] == \"Prince_(musician)_en.wikipedia.org_all-access_all-agents\"\n",
    "df = df.loc[cond]\n",
    "\n",
    "df = df.filter(regex=\"Page|2016\")\n",
    "\n",
    "df = df.melt(id_vars=['Page'],var_name='date',value_name='visits').drop('Page',axis=1)\n",
    "df = df.dropna(how='any')\n",
    "\n",
    "print(df.shape)\n",
    "\n",
    "df['id'] = df.index\n",
    "\n",
    "df.iloc[:2,:5]"
   ]
  },
  {
   "cell_type": "code",
   "execution_count": 36,
   "metadata": {
    "ExecuteTime": {
     "end_time": "2020-10-14T19:40:45.289003Z",
     "start_time": "2020-10-14T19:40:39.871094Z"
    },
    "colab": {
     "base_uri": "https://localhost:8080/",
     "height": 68
    },
    "execution": {
     "iopub.execute_input": "2020-10-17T18:34:55.947842Z",
     "iopub.status.busy": "2020-10-17T18:34:55.937124Z",
     "iopub.status.idle": "2020-10-17T18:35:01.852937Z",
     "shell.execute_reply": "2020-10-17T18:35:01.852381Z"
    },
    "id": "DkuhL2rwZeM7",
    "outputId": "f3ddcd89-815f-4203-a792-e4a56b8c046a",
    "papermill": {
     "duration": 6.024758,
     "end_time": "2020-10-17T18:35:01.853211",
     "exception": false,
     "start_time": "2020-10-17T18:34:55.828453",
     "status": "completed"
    },
    "tags": []
   },
   "outputs": [
    {
     "name": "stderr",
     "output_type": "stream",
     "text": [
      "\r",
      "Feature Extraction:   0%|          | 0/10 [00:00<?, ?it/s]"
     ]
    },
    {
     "name": "stderr",
     "output_type": "stream",
     "text": [
      "\r",
      "Feature Extraction:  10%|█         | 1/10 [00:01<00:11,  1.22s/it]"
     ]
    },
    {
     "name": "stderr",
     "output_type": "stream",
     "text": [
      "\r",
      "Feature Extraction:  30%|███       | 3/10 [00:02<00:07,  1.03s/it]"
     ]
    },
    {
     "name": "stderr",
     "output_type": "stream",
     "text": [
      "\r",
      "Feature Extraction:  50%|█████     | 5/10 [00:03<00:04,  1.12it/s]"
     ]
    },
    {
     "name": "stderr",
     "output_type": "stream",
     "text": [
      "\r",
      "Feature Extraction:  70%|███████   | 7/10 [00:04<00:02,  1.30it/s]"
     ]
    },
    {
     "name": "stderr",
     "output_type": "stream",
     "text": [
      "\r",
      "Feature Extraction:  90%|█████████ | 9/10 [00:05<00:00,  1.51it/s]"
     ]
    },
    {
     "name": "stderr",
     "output_type": "stream",
     "text": [
      "\r",
      "Feature Extraction: 100%|██████████| 10/10 [00:05<00:00,  1.86it/s]"
     ]
    },
    {
     "name": "stderr",
     "output_type": "stream",
     "text": [
      "\n"
     ]
    },
    {
     "name": "stdout",
     "output_type": "stream",
     "text": [
      "CPU times: user 724 ms, sys: 115 ms, total: 839 ms\n",
      "Wall time: 5.92 s\n"
     ]
    }
   ],
   "source": [
    "%%time\n",
    "\n",
    "from tsfresh import extract_features, extract_relevant_features, select_features\n",
    "from tsfresh.utilities.dataframe_functions import impute\n",
    "from tsfresh.feature_extraction import ComprehensiveFCParameters\n",
    "\n",
    "# we impute = remove all NaN features automatically\n",
    "extraction_settings = ComprehensiveFCParameters()\n",
    "df_extr = extract_features(df, column_id='id', column_sort='date',\n",
    "                     default_fc_parameters=extraction_settings,\n",
    "                     impute_function=impute)"
   ]
  },
  {
   "cell_type": "code",
   "execution_count": 37,
   "metadata": {
    "ExecuteTime": {
     "end_time": "2020-10-14T19:40:45.319501Z",
     "start_time": "2020-10-14T19:40:45.312885Z"
    },
    "colab": {
     "base_uri": "https://localhost:8080/",
     "height": 34
    },
    "execution": {
     "iopub.execute_input": "2020-10-17T18:35:01.946219Z",
     "iopub.status.busy": "2020-10-17T18:35:01.945478Z",
     "iopub.status.idle": "2020-10-17T18:35:01.948402Z",
     "shell.execute_reply": "2020-10-17T18:35:01.948786Z"
    },
    "id": "natv118UZeKa",
    "outputId": "5cc3bb41-d6bf-4b49-e5ed-f57dfcfa9f9d",
    "papermill": {
     "duration": 0.051716,
     "end_time": "2020-10-17T18:35:01.948955",
     "exception": false,
     "start_time": "2020-10-17T18:35:01.897239",
     "status": "completed"
    },
    "tags": []
   },
   "outputs": [
    {
     "data": {
      "text/plain": [
       "(366, 779)"
      ]
     },
     "execution_count": 37,
     "metadata": {},
     "output_type": "execute_result"
    }
   ],
   "source": [
    "df_extr.shape"
   ]
  },
  {
   "cell_type": "code",
   "execution_count": 38,
   "metadata": {
    "ExecuteTime": {
     "end_time": "2020-10-14T19:40:45.567934Z",
     "start_time": "2020-10-14T19:40:45.321849Z"
    },
    "colab": {
     "base_uri": "https://localhost:8080/",
     "height": 51
    },
    "execution": {
     "iopub.execute_input": "2020-10-17T18:35:02.036274Z",
     "iopub.status.busy": "2020-10-17T18:35:02.035671Z",
     "iopub.status.idle": "2020-10-17T18:35:02.162594Z",
     "shell.execute_reply": "2020-10-17T18:35:02.163125Z"
    },
    "id": "svEoN5fAZeIp",
    "outputId": "69fbc9fb-8c29-4ed0-d4a5-eedf6d4a00f9",
    "papermill": {
     "duration": 0.17311,
     "end_time": "2020-10-17T18:35:02.163290",
     "exception": false,
     "start_time": "2020-10-17T18:35:01.990180",
     "status": "completed"
    },
    "tags": []
   },
   "outputs": [
    {
     "name": "stdout",
     "output_type": "stream",
     "text": [
      "CPU times: user 64 ms, sys: 22.8 ms, total: 86.7 ms\n",
      "Wall time: 122 ms\n"
     ]
    },
    {
     "data": {
      "text/plain": [
       "(366, 21)"
      ]
     },
     "execution_count": 38,
     "metadata": {},
     "output_type": "execute_result"
    }
   ],
   "source": [
    "%%time\n",
    "df_extr_sel = select_features(df_extr, df['visits'])\n",
    "df_extr_sel.shape"
   ]
  },
  {
   "cell_type": "code",
   "execution_count": 39,
   "metadata": {
    "ExecuteTime": {
     "end_time": "2020-10-14T19:40:45.583361Z",
     "start_time": "2020-10-14T19:40:45.572460Z"
    },
    "colab": {
     "base_uri": "https://localhost:8080/",
     "height": 34
    },
    "execution": {
     "iopub.execute_input": "2020-10-17T18:35:02.253649Z",
     "iopub.status.busy": "2020-10-17T18:35:02.252901Z",
     "iopub.status.idle": "2020-10-17T18:35:02.255249Z",
     "shell.execute_reply": "2020-10-17T18:35:02.255657Z"
    },
    "id": "gch15QroZeGF",
    "outputId": "cf7a396a-fd38-4ee4-97ca-e6d72c8ef099",
    "papermill": {
     "duration": 0.051016,
     "end_time": "2020-10-17T18:35:02.255814",
     "exception": false,
     "start_time": "2020-10-17T18:35:02.204798",
     "status": "completed"
    },
    "tags": []
   },
   "outputs": [
    {
     "name": "stdout",
     "output_type": "stream",
     "text": [
      "(292, 21) (74, 21)\n"
     ]
    }
   ],
   "source": [
    "df_Xtrain, df_Xtest, ser_ytrain, ser_ytest = train_test_split(\n",
    "    df_extr_sel, df['visits'],test_size=0.2,shuffle=False)\n",
    "\n",
    "Xtrain = df_Xtrain.to_numpy()\n",
    "Xtest = df_Xtest.to_numpy()\n",
    "ytrain = ser_ytrain.to_numpy().ravel()\n",
    "ytest = ser_ytest.to_numpy().ravel()\n",
    "\n",
    "print(df_Xtrain.shape, df_Xtest.shape)\n",
    "# df_Xtrain.iloc[:10,:5]"
   ]
  },
  {
   "cell_type": "code",
   "execution_count": 40,
   "metadata": {
    "ExecuteTime": {
     "end_time": "2020-10-14T19:40:45.591412Z",
     "start_time": "2020-10-14T19:40:45.586154Z"
    },
    "execution": {
     "iopub.execute_input": "2020-10-17T18:35:02.348050Z",
     "iopub.status.busy": "2020-10-17T18:35:02.347334Z",
     "iopub.status.idle": "2020-10-17T18:35:02.349295Z",
     "shell.execute_reply": "2020-10-17T18:35:02.349675Z"
    },
    "id": "25bmjXYPhjjN",
    "papermill": {
     "duration": 0.051058,
     "end_time": "2020-10-17T18:35:02.349828",
     "exception": false,
     "start_time": "2020-10-17T18:35:02.298770",
     "status": "completed"
    },
    "tags": []
   },
   "outputs": [],
   "source": [
    "# make sure the data is not shuffled\n",
    "# df_extr_sel.iloc[:10,:5]"
   ]
  },
  {
   "cell_type": "code",
   "execution_count": 41,
   "metadata": {
    "ExecuteTime": {
     "end_time": "2020-10-14T19:40:45.606055Z",
     "start_time": "2020-10-14T19:40:45.602213Z"
    },
    "execution": {
     "iopub.execute_input": "2020-10-17T18:35:02.438521Z",
     "iopub.status.busy": "2020-10-17T18:35:02.437833Z",
     "iopub.status.idle": "2020-10-17T18:35:02.439687Z",
     "shell.execute_reply": "2020-10-17T18:35:02.440111Z"
    },
    "id": "BIPE4DGCi7ox",
    "papermill": {
     "duration": 0.048738,
     "end_time": "2020-10-17T18:35:02.440276",
     "exception": false,
     "start_time": "2020-10-17T18:35:02.391538",
     "status": "completed"
    },
    "tags": []
   },
   "outputs": [],
   "source": [
    "# df_extr_sel.iloc[-5:,:5]"
   ]
  },
  {
   "cell_type": "code",
   "execution_count": 42,
   "metadata": {
    "ExecuteTime": {
     "end_time": "2020-10-14T19:40:45.619274Z",
     "start_time": "2020-10-14T19:40:45.613774Z"
    },
    "execution": {
     "iopub.execute_input": "2020-10-17T18:35:02.529065Z",
     "iopub.status.busy": "2020-10-17T18:35:02.528425Z",
     "iopub.status.idle": "2020-10-17T18:35:02.530305Z",
     "shell.execute_reply": "2020-10-17T18:35:02.530652Z"
    },
    "id": "kqQVqViWi7uV",
    "papermill": {
     "duration": 0.048172,
     "end_time": "2020-10-17T18:35:02.530806",
     "exception": false,
     "start_time": "2020-10-17T18:35:02.482634",
     "status": "completed"
    },
    "tags": []
   },
   "outputs": [],
   "source": [
    "# df_Xtest.iloc[-5:,:5]"
   ]
  },
  {
   "cell_type": "code",
   "execution_count": 43,
   "metadata": {
    "ExecuteTime": {
     "end_time": "2020-10-14T19:41:09.191103Z",
     "start_time": "2020-10-14T19:41:08.394675Z"
    },
    "colab": {
     "base_uri": "https://localhost:8080/",
     "height": 643
    },
    "execution": {
     "iopub.execute_input": "2020-10-17T18:35:02.621133Z",
     "iopub.status.busy": "2020-10-17T18:35:02.620444Z",
     "iopub.status.idle": "2020-10-17T18:35:03.263044Z",
     "shell.execute_reply": "2020-10-17T18:35:03.263392Z"
    },
    "id": "cNzi6FFii7zU",
    "outputId": "2d003e90-d0bd-45da-c870-e87a8a53795b",
    "papermill": {
     "duration": 0.691013,
     "end_time": "2020-10-17T18:35:03.263556",
     "exception": false,
     "start_time": "2020-10-17T18:35:02.572543",
     "status": "completed"
    },
    "tags": []
   },
   "outputs": [
    {
     "name": "stderr",
     "output_type": "stream",
     "text": [
      "/Users/poudel/opt/miniconda3/envs/dataSc/lib/python3.7/site-packages/statsmodels/tsa/stattools.py:657: FutureWarning: The default number of lags is changing from 40 tomin(int(10 * np.log10(nobs)), nobs - 1) after 0.12is released. Set the number of lags to an integer to  silence this warning.\n",
      "  FutureWarning,\n"
     ]
    },
    {
     "data": {
      "text/html": [
       "<style  type=\"text/css\" >\n",
       "#T_78573402_10a7_11eb_88e8_acde48001122row0_col3{\n",
       "            background-color:  #00441b;\n",
       "            color:  #f1f1f1;\n",
       "        }#T_78573402_10a7_11eb_88e8_acde48001122row1_col3{\n",
       "            background-color:  #f7fcf5;\n",
       "            color:  #000000;\n",
       "        }</style><table id=\"T_78573402_10a7_11eb_88e8_acde48001122\" ><thead>    <tr>        <th class=\"blank level0\" ></th>        <th class=\"col_heading level0 col0\" >Model</th>        <th class=\"col_heading level0 col1\" >Description</th>        <th class=\"col_heading level0 col2\" >MAPE</th>        <th class=\"col_heading level0 col3\" >SMAPE</th>        <th class=\"col_heading level0 col4\" >RMSE</th>        <th class=\"col_heading level0 col5\" >ME</th>        <th class=\"col_heading level0 col6\" >MAE</th>        <th class=\"col_heading level0 col7\" >MPE</th>        <th class=\"col_heading level0 col8\" >CORR</th>        <th class=\"col_heading level0 col9\" >MINMAX</th>        <th class=\"col_heading level0 col10\" >ACF1</th>    </tr></thead><tbody>\n",
       "                <tr>\n",
       "                        <th id=\"T_78573402_10a7_11eb_88e8_acde48001122level0_row0\" class=\"row_heading level0 row0\" >0</th>\n",
       "                        <td id=\"T_78573402_10a7_11eb_88e8_acde48001122row0_col0\" class=\"data row0 col0\" >xgb</td>\n",
       "                        <td id=\"T_78573402_10a7_11eb_88e8_acde48001122row0_col1\" class=\"data row0 col1\" >tsfresh</td>\n",
       "                        <td id=\"T_78573402_10a7_11eb_88e8_acde48001122row0_col2\" class=\"data row0 col2\" >1</td>\n",
       "                        <td id=\"T_78573402_10a7_11eb_88e8_acde48001122row0_col3\" class=\"data row0 col3\" >0.6356</td>\n",
       "                        <td id=\"T_78573402_10a7_11eb_88e8_acde48001122row0_col4\" class=\"data row0 col4\" >337</td>\n",
       "                        <td id=\"T_78573402_10a7_11eb_88e8_acde48001122row0_col5\" class=\"data row0 col5\" >43</td>\n",
       "                        <td id=\"T_78573402_10a7_11eb_88e8_acde48001122row0_col6\" class=\"data row0 col6\" >115</td>\n",
       "                        <td id=\"T_78573402_10a7_11eb_88e8_acde48001122row0_col7\" class=\"data row0 col7\" >0</td>\n",
       "                        <td id=\"T_78573402_10a7_11eb_88e8_acde48001122row0_col8\" class=\"data row0 col8\" >0.9991</td>\n",
       "                        <td id=\"T_78573402_10a7_11eb_88e8_acde48001122row0_col9\" class=\"data row0 col9\" >0.0063</td>\n",
       "                        <td id=\"T_78573402_10a7_11eb_88e8_acde48001122row0_col10\" class=\"data row0 col10\" >-0.2886</td>\n",
       "            </tr>\n",
       "            <tr>\n",
       "                        <th id=\"T_78573402_10a7_11eb_88e8_acde48001122level0_row1\" class=\"row_heading level0 row1\" >1</th>\n",
       "                        <td id=\"T_78573402_10a7_11eb_88e8_acde48001122row1_col0\" class=\"data row1 col0\" >xgb</td>\n",
       "                        <td id=\"T_78573402_10a7_11eb_88e8_acde48001122row1_col1\" class=\"data row1 col1\" >default</td>\n",
       "                        <td id=\"T_78573402_10a7_11eb_88e8_acde48001122row1_col2\" class=\"data row1 col2\" >1</td>\n",
       "                        <td id=\"T_78573402_10a7_11eb_88e8_acde48001122row1_col3\" class=\"data row1 col3\" >1.4308</td>\n",
       "                        <td id=\"T_78573402_10a7_11eb_88e8_acde48001122row1_col4\" class=\"data row1 col4\" >453</td>\n",
       "                        <td id=\"T_78573402_10a7_11eb_88e8_acde48001122row1_col5\" class=\"data row1 col5\" >9</td>\n",
       "                        <td id=\"T_78573402_10a7_11eb_88e8_acde48001122row1_col6\" class=\"data row1 col6\" >224</td>\n",
       "                        <td id=\"T_78573402_10a7_11eb_88e8_acde48001122row1_col7\" class=\"data row1 col7\" >0</td>\n",
       "                        <td id=\"T_78573402_10a7_11eb_88e8_acde48001122row1_col8\" class=\"data row1 col8\" >0.9978</td>\n",
       "                        <td id=\"T_78573402_10a7_11eb_88e8_acde48001122row1_col9\" class=\"data row1 col9\" >0.0141</td>\n",
       "                        <td id=\"T_78573402_10a7_11eb_88e8_acde48001122row1_col10\" class=\"data row1 col10\" >-0.3971</td>\n",
       "            </tr>\n",
       "    </tbody></table>"
      ],
      "text/plain": [
       "<pandas.io.formats.style.Styler at 0x7ff05e06ae50>"
      ]
     },
     "metadata": {},
     "output_type": "display_data"
    },
    {
     "data": {
      "image/png": "[encoded data removed]",
      "text/plain": [
       "<Figure size 1008x576 with 1 Axes>"
      ]
     },
     "metadata": {
      "image/png": {
       "height": 560,
       "width": 992
      }
     },
     "output_type": "display_data"
    }
   ],
   "source": [
    "model = XGBRegressor(random_state=SEED,n_jobs=-1,objective='reg:squarederror')\n",
    "model.fit(Xtrain, ytrain)\n",
    "ypreds = model.predict(Xtest)\n",
    "\n",
    "plot_model_results(model, \n",
    "                 Xtrain=Xtrain,ytrain=ytrain,\n",
    "                 Xtest=Xtest,ytest=ytest,ypreds=ypreds,\n",
    "                 plot_intervals=True, plot_anomalies=True)\n",
    "\n",
    "model_name = 'xgb'\n",
    "desc = 'tsfresh'\n",
    "df_eval = timeseries_evaluation(model_name, desc, ytest, ypreds,\n",
    "                    df_eval=df_eval,show=True)"
   ]
  },
  {
   "cell_type": "markdown",
   "metadata": {
    "id": "MSIVUBYUjX6L",
    "papermill": {
     "duration": 0.043712,
     "end_time": "2020-10-17T18:35:03.350834",
     "exception": false,
     "start_time": "2020-10-17T18:35:03.307122",
     "status": "completed"
    },
    "tags": []
   },
   "source": [
    "# Using Pipeline for tsfresh relevant feature augmenter\n",
    "Ref: https://github.com/blue-yonder/tsfresh/blob/main/notebooks/examples/02%20sklearn%20Pipeline.ipynb"
   ]
  },
  {
   "cell_type": "code",
   "execution_count": 44,
   "metadata": {
    "ExecuteTime": {
     "end_time": "2020-10-14T19:41:12.544615Z",
     "start_time": "2020-10-14T19:41:12.527897Z"
    },
    "execution": {
     "iopub.execute_input": "2020-10-17T18:35:03.444448Z",
     "iopub.status.busy": "2020-10-17T18:35:03.443793Z",
     "iopub.status.idle": "2020-10-17T18:35:03.450760Z",
     "shell.execute_reply": "2020-10-17T18:35:03.451146Z"
    },
    "id": "8OMnTeKmjX-z",
    "papermill": {
     "duration": 0.055758,
     "end_time": "2020-10-17T18:35:03.451357",
     "exception": false,
     "start_time": "2020-10-17T18:35:03.395599",
     "status": "completed"
    },
    "tags": []
   },
   "outputs": [],
   "source": [
    "from sklearn.pipeline import Pipeline\n",
    "from tsfresh.transformers import RelevantFeatureAugmenter"
   ]
  },
  {
   "cell_type": "code",
   "execution_count": 45,
   "metadata": {
    "ExecuteTime": {
     "end_time": "2020-10-14T19:41:12.579619Z",
     "start_time": "2020-10-14T19:41:12.558134Z"
    },
    "colab": {
     "base_uri": "https://localhost:8080/",
     "height": 128
    },
    "execution": {
     "iopub.execute_input": "2020-10-17T18:35:03.558142Z",
     "iopub.status.busy": "2020-10-17T18:35:03.557461Z",
     "iopub.status.idle": "2020-10-17T18:35:03.561111Z",
     "shell.execute_reply": "2020-10-17T18:35:03.561463Z"
    },
    "id": "6BhC8kcQv0yU",
    "outputId": "f3c188fe-36fa-4b02-c7c6-5dc955fcebfe",
    "papermill": {
     "duration": 0.057649,
     "end_time": "2020-10-17T18:35:03.561622",
     "exception": false,
     "start_time": "2020-10-17T18:35:03.503973",
     "status": "completed"
    },
    "tags": []
   },
   "outputs": [
    {
     "data": {
      "text/html": [
       "<div>\n",
       "<style scoped>\n",
       "    .dataframe tbody tr th:only-of-type {\n",
       "        vertical-align: middle;\n",
       "    }\n",
       "\n",
       "    .dataframe tbody tr th {\n",
       "        vertical-align: top;\n",
       "    }\n",
       "\n",
       "    .dataframe thead th {\n",
       "        text-align: right;\n",
       "    }\n",
       "</style>\n",
       "<table border=\"1\" class=\"dataframe\">\n",
       "  <thead>\n",
       "    <tr style=\"text-align: right;\">\n",
       "      <th></th>\n",
       "      <th>visits__sum_values</th>\n",
       "      <th>visits__cwt_coefficients__coeff_0__w_20__widths_(2, 5, 10, 20)</th>\n",
       "      <th>visits__cwt_coefficients__coeff_0__w_10__widths_(2, 5, 10, 20)</th>\n",
       "      <th>visits__cwt_coefficients__coeff_0__w_5__widths_(2, 5, 10, 20)</th>\n",
       "      <th>visits__cwt_coefficients__coeff_0__w_2__widths_(2, 5, 10, 20)</th>\n",
       "    </tr>\n",
       "  </thead>\n",
       "  <tbody>\n",
       "    <tr>\n",
       "      <th>0</th>\n",
       "      <td>20947.0</td>\n",
       "      <td>4062.456606</td>\n",
       "      <td>5745.181229</td>\n",
       "      <td>8124.913212</td>\n",
       "      <td>12846.615771</td>\n",
       "    </tr>\n",
       "    <tr>\n",
       "      <th>1</th>\n",
       "      <td>19466.0</td>\n",
       "      <td>3775.231789</td>\n",
       "      <td>5338.983998</td>\n",
       "      <td>7550.463579</td>\n",
       "      <td>11938.331150</td>\n",
       "    </tr>\n",
       "  </tbody>\n",
       "</table>\n",
       "</div>"
      ],
      "text/plain": [
       "   visits__sum_values  \\\n",
       "0             20947.0   \n",
       "1             19466.0   \n",
       "\n",
       "   visits__cwt_coefficients__coeff_0__w_20__widths_(2, 5, 10, 20)  \\\n",
       "0                                                     4062.456606   \n",
       "1                                                     3775.231789   \n",
       "\n",
       "   visits__cwt_coefficients__coeff_0__w_10__widths_(2, 5, 10, 20)  \\\n",
       "0                                                     5745.181229   \n",
       "1                                                     5338.983998   \n",
       "\n",
       "   visits__cwt_coefficients__coeff_0__w_5__widths_(2, 5, 10, 20)  \\\n",
       "0                                                    8124.913212   \n",
       "1                                                    7550.463579   \n",
       "\n",
       "   visits__cwt_coefficients__coeff_0__w_2__widths_(2, 5, 10, 20)  \n",
       "0                                                   12846.615771  \n",
       "1                                                   11938.331150  "
      ]
     },
     "execution_count": 45,
     "metadata": {},
     "output_type": "execute_result"
    }
   ],
   "source": [
    "df_Xtrain.iloc[:2,:5]"
   ]
  },
  {
   "cell_type": "code",
   "execution_count": 46,
   "metadata": {
    "ExecuteTime": {
     "end_time": "2020-10-14T19:41:12.596335Z",
     "start_time": "2020-10-14T19:41:12.584363Z"
    },
    "colab": {
     "base_uri": "https://localhost:8080/",
     "height": 128
    },
    "execution": {
     "iopub.execute_input": "2020-10-17T18:35:03.660679Z",
     "iopub.status.busy": "2020-10-17T18:35:03.659986Z",
     "iopub.status.idle": "2020-10-17T18:35:03.663132Z",
     "shell.execute_reply": "2020-10-17T18:35:03.663481Z"
    },
    "id": "Y303zm1jwftf",
    "outputId": "a0382f50-4cb5-4973-d443-e0bc457b0b82",
    "papermill": {
     "duration": 0.056887,
     "end_time": "2020-10-17T18:35:03.663636",
     "exception": false,
     "start_time": "2020-10-17T18:35:03.606749",
     "status": "completed"
    },
    "tags": []
   },
   "outputs": [
    {
     "data": {
      "text/html": [
       "<div>\n",
       "<style scoped>\n",
       "    .dataframe tbody tr th:only-of-type {\n",
       "        vertical-align: middle;\n",
       "    }\n",
       "\n",
       "    .dataframe tbody tr th {\n",
       "        vertical-align: top;\n",
       "    }\n",
       "\n",
       "    .dataframe thead th {\n",
       "        text-align: right;\n",
       "    }\n",
       "</style>\n",
       "<table border=\"1\" class=\"dataframe\">\n",
       "  <thead>\n",
       "    <tr style=\"text-align: right;\">\n",
       "      <th></th>\n",
       "      <th>visits__sum_values</th>\n",
       "      <th>visits__cwt_coefficients__coeff_0__w_20__widths_(2, 5, 10, 20)</th>\n",
       "      <th>visits__cwt_coefficients__coeff_0__w_10__widths_(2, 5, 10, 20)</th>\n",
       "      <th>visits__cwt_coefficients__coeff_0__w_5__widths_(2, 5, 10, 20)</th>\n",
       "      <th>visits__cwt_coefficients__coeff_0__w_2__widths_(2, 5, 10, 20)</th>\n",
       "    </tr>\n",
       "  </thead>\n",
       "  <tbody>\n",
       "    <tr>\n",
       "      <th>0</th>\n",
       "      <td>20947.0</td>\n",
       "      <td>4062.456606</td>\n",
       "      <td>5745.181229</td>\n",
       "      <td>8124.913212</td>\n",
       "      <td>12846.615771</td>\n",
       "    </tr>\n",
       "    <tr>\n",
       "      <th>1</th>\n",
       "      <td>19466.0</td>\n",
       "      <td>3775.231789</td>\n",
       "      <td>5338.983998</td>\n",
       "      <td>7550.463579</td>\n",
       "      <td>11938.331150</td>\n",
       "    </tr>\n",
       "  </tbody>\n",
       "</table>\n",
       "</div>"
      ],
      "text/plain": [
       "   visits__sum_values  \\\n",
       "0             20947.0   \n",
       "1             19466.0   \n",
       "\n",
       "   visits__cwt_coefficients__coeff_0__w_20__widths_(2, 5, 10, 20)  \\\n",
       "0                                                     4062.456606   \n",
       "1                                                     3775.231789   \n",
       "\n",
       "   visits__cwt_coefficients__coeff_0__w_10__widths_(2, 5, 10, 20)  \\\n",
       "0                                                     5745.181229   \n",
       "1                                                     5338.983998   \n",
       "\n",
       "   visits__cwt_coefficients__coeff_0__w_5__widths_(2, 5, 10, 20)  \\\n",
       "0                                                    8124.913212   \n",
       "1                                                    7550.463579   \n",
       "\n",
       "   visits__cwt_coefficients__coeff_0__w_2__widths_(2, 5, 10, 20)  \n",
       "0                                                   12846.615771  \n",
       "1                                                   11938.331150  "
      ]
     },
     "execution_count": 46,
     "metadata": {},
     "output_type": "execute_result"
    }
   ],
   "source": [
    "df_extr_sel.iloc[:2,:5]"
   ]
  },
  {
   "cell_type": "code",
   "execution_count": 47,
   "metadata": {
    "ExecuteTime": {
     "end_time": "2020-10-14T19:41:12.602058Z",
     "start_time": "2020-10-14T19:41:12.599789Z"
    },
    "execution": {
     "iopub.execute_input": "2020-10-17T18:35:03.759353Z",
     "iopub.status.busy": "2020-10-17T18:35:03.758529Z",
     "iopub.status.idle": "2020-10-17T18:35:03.760856Z",
     "shell.execute_reply": "2020-10-17T18:35:03.761355Z"
    },
    "id": "z8ywFortxp_2",
    "papermill": {
     "duration": 0.052774,
     "end_time": "2020-10-17T18:35:03.761627",
     "exception": false,
     "start_time": "2020-10-17T18:35:03.708853",
     "status": "completed"
    },
    "tags": []
   },
   "outputs": [],
   "source": [
    "# we need dataframe with columns id and date to use pipeline"
   ]
  },
  {
   "cell_type": "code",
   "execution_count": 48,
   "metadata": {
    "ExecuteTime": {
     "end_time": "2020-10-14T19:41:12.613443Z",
     "start_time": "2020-10-14T19:41:12.604267Z"
    },
    "colab": {
     "base_uri": "https://localhost:8080/",
     "height": 111
    },
    "execution": {
     "iopub.execute_input": "2020-10-17T18:35:03.876245Z",
     "iopub.status.busy": "2020-10-17T18:35:03.875535Z",
     "iopub.status.idle": "2020-10-17T18:35:03.879001Z",
     "shell.execute_reply": "2020-10-17T18:35:03.879395Z"
    },
    "id": "Cl_W5ch2xvNV",
    "outputId": "786a3c75-0199-4ff0-c547-3dcbaa8536ee",
    "papermill": {
     "duration": 0.063884,
     "end_time": "2020-10-17T18:35:03.879637",
     "exception": false,
     "start_time": "2020-10-17T18:35:03.815753",
     "status": "completed"
    },
    "tags": []
   },
   "outputs": [
    {
     "data": {
      "text/html": [
       "<div>\n",
       "<style scoped>\n",
       "    .dataframe tbody tr th:only-of-type {\n",
       "        vertical-align: middle;\n",
       "    }\n",
       "\n",
       "    .dataframe tbody tr th {\n",
       "        vertical-align: top;\n",
       "    }\n",
       "\n",
       "    .dataframe thead th {\n",
       "        text-align: right;\n",
       "    }\n",
       "</style>\n",
       "<table border=\"1\" class=\"dataframe\">\n",
       "  <thead>\n",
       "    <tr style=\"text-align: right;\">\n",
       "      <th></th>\n",
       "      <th>date</th>\n",
       "      <th>visits</th>\n",
       "      <th>id</th>\n",
       "    </tr>\n",
       "  </thead>\n",
       "  <tbody>\n",
       "    <tr>\n",
       "      <th>0</th>\n",
       "      <td>2016-01-01</td>\n",
       "      <td>20947.0</td>\n",
       "      <td>0</td>\n",
       "    </tr>\n",
       "    <tr>\n",
       "      <th>1</th>\n",
       "      <td>2016-01-02</td>\n",
       "      <td>19466.0</td>\n",
       "      <td>1</td>\n",
       "    </tr>\n",
       "  </tbody>\n",
       "</table>\n",
       "</div>"
      ],
      "text/plain": [
       "         date   visits  id\n",
       "0  2016-01-01  20947.0   0\n",
       "1  2016-01-02  19466.0   1"
      ]
     },
     "execution_count": 48,
     "metadata": {},
     "output_type": "execute_result"
    }
   ],
   "source": [
    "df.iloc[:2,:5]"
   ]
  },
  {
   "cell_type": "code",
   "execution_count": 49,
   "metadata": {
    "ExecuteTime": {
     "end_time": "2020-10-14T19:41:12.628378Z",
     "start_time": "2020-10-14T19:41:12.616856Z"
    },
    "colab": {
     "base_uri": "https://localhost:8080/",
     "height": 128
    },
    "execution": {
     "iopub.execute_input": "2020-10-17T18:35:04.006137Z",
     "iopub.status.busy": "2020-10-17T18:35:04.004881Z",
     "iopub.status.idle": "2020-10-17T18:35:04.008980Z",
     "shell.execute_reply": "2020-10-17T18:35:04.009343Z"
    },
    "id": "YX1epyvGyLcb",
    "outputId": "b785924d-6f49-4c05-e84e-6184c22e1402",
    "papermill": {
     "duration": 0.069529,
     "end_time": "2020-10-17T18:35:04.009504",
     "exception": false,
     "start_time": "2020-10-17T18:35:03.939975",
     "status": "completed"
    },
    "tags": []
   },
   "outputs": [
    {
     "name": "stdout",
     "output_type": "stream",
     "text": [
      "(366, 3) (292, 3)\n"
     ]
    },
    {
     "data": {
      "text/html": [
       "<div>\n",
       "<style scoped>\n",
       "    .dataframe tbody tr th:only-of-type {\n",
       "        vertical-align: middle;\n",
       "    }\n",
       "\n",
       "    .dataframe tbody tr th {\n",
       "        vertical-align: top;\n",
       "    }\n",
       "\n",
       "    .dataframe thead th {\n",
       "        text-align: right;\n",
       "    }\n",
       "</style>\n",
       "<table border=\"1\" class=\"dataframe\">\n",
       "  <thead>\n",
       "    <tr style=\"text-align: right;\">\n",
       "      <th></th>\n",
       "      <th>date</th>\n",
       "      <th>visits</th>\n",
       "      <th>id</th>\n",
       "    </tr>\n",
       "  </thead>\n",
       "  <tbody>\n",
       "    <tr>\n",
       "      <th>0</th>\n",
       "      <td>2016-01-01</td>\n",
       "      <td>20947.0</td>\n",
       "      <td>0</td>\n",
       "    </tr>\n",
       "    <tr>\n",
       "      <th>1</th>\n",
       "      <td>2016-01-02</td>\n",
       "      <td>19466.0</td>\n",
       "      <td>1</td>\n",
       "    </tr>\n",
       "  </tbody>\n",
       "</table>\n",
       "</div>"
      ],
      "text/plain": [
       "         date   visits  id\n",
       "0  2016-01-01  20947.0   0\n",
       "1  2016-01-02  19466.0   1"
      ]
     },
     "execution_count": 49,
     "metadata": {},
     "output_type": "execute_result"
    }
   ],
   "source": [
    "df_train, df_test, ser_ytrain, ser_ytest = train_test_split(df,df['visits'],\n",
    "                                                shuffle=False,test_size=0.2)\n",
    "print(df.shape, df_train.shape)\n",
    "df_train.iloc[:2,:5]"
   ]
  },
  {
   "cell_type": "code",
   "execution_count": 50,
   "metadata": {
    "ExecuteTime": {
     "end_time": "2020-10-14T19:41:12.643043Z",
     "start_time": "2020-10-14T19:41:12.632043Z"
    },
    "colab": {
     "base_uri": "https://localhost:8080/",
     "height": 187
    },
    "execution": {
     "iopub.execute_input": "2020-10-17T18:35:04.128008Z",
     "iopub.status.busy": "2020-10-17T18:35:04.127107Z",
     "iopub.status.idle": "2020-10-17T18:35:04.130580Z",
     "shell.execute_reply": "2020-10-17T18:35:04.130971Z"
    },
    "id": "JCdi6qLO_kRr",
    "outputId": "2ff2936a-e2d5-42d7-d493-3c3bb9630ee1",
    "papermill": {
     "duration": 0.066172,
     "end_time": "2020-10-17T18:35:04.131137",
     "exception": false,
     "start_time": "2020-10-17T18:35:04.064965",
     "status": "completed"
    },
    "tags": []
   },
   "outputs": [
    {
     "data": {
      "text/html": [
       "<div>\n",
       "<style scoped>\n",
       "    .dataframe tbody tr th:only-of-type {\n",
       "        vertical-align: middle;\n",
       "    }\n",
       "\n",
       "    .dataframe tbody tr th {\n",
       "        vertical-align: top;\n",
       "    }\n",
       "\n",
       "    .dataframe thead th {\n",
       "        text-align: right;\n",
       "    }\n",
       "</style>\n",
       "<table border=\"1\" class=\"dataframe\">\n",
       "  <thead>\n",
       "    <tr style=\"text-align: right;\">\n",
       "      <th></th>\n",
       "    </tr>\n",
       "  </thead>\n",
       "  <tbody>\n",
       "    <tr>\n",
       "      <th>0</th>\n",
       "    </tr>\n",
       "    <tr>\n",
       "      <th>1</th>\n",
       "    </tr>\n",
       "    <tr>\n",
       "      <th>2</th>\n",
       "    </tr>\n",
       "    <tr>\n",
       "      <th>3</th>\n",
       "    </tr>\n",
       "    <tr>\n",
       "      <th>4</th>\n",
       "    </tr>\n",
       "  </tbody>\n",
       "</table>\n",
       "</div>"
      ],
      "text/plain": [
       "Empty DataFrame\n",
       "Columns: []\n",
       "Index: [0, 1, 2, 3, 4]"
      ]
     },
     "execution_count": 50,
     "metadata": {},
     "output_type": "execute_result"
    }
   ],
   "source": [
    "# create empty dataframe\n",
    "\n",
    "df_empty = pd.DataFrame(index=df.index)\n",
    "\n",
    "df_Xtrain_empty, df_Xtest_empty = train_test_split(df_empty,shuffle=False,test_size=0.2)\n",
    "\n",
    "df_empty.head()"
   ]
  },
  {
   "cell_type": "code",
   "execution_count": 51,
   "metadata": {
    "ExecuteTime": {
     "end_time": "2020-10-14T19:41:17.801516Z",
     "start_time": "2020-10-14T19:41:12.649418Z"
    },
    "execution": {
     "iopub.execute_input": "2020-10-17T18:35:04.309325Z",
     "iopub.status.busy": "2020-10-17T18:35:04.308381Z",
     "iopub.status.idle": "2020-10-17T18:35:11.738082Z",
     "shell.execute_reply": "2020-10-17T18:35:11.739098Z"
    },
    "id": "rcwtP0HPjYC8",
    "papermill": {
     "duration": 7.55305,
     "end_time": "2020-10-17T18:35:11.739381",
     "exception": false,
     "start_time": "2020-10-17T18:35:04.186331",
     "status": "completed"
    },
    "tags": []
   },
   "outputs": [],
   "source": [
    "%%capture\n",
    "\n",
    "pipe = Pipeline([\n",
    "        ('augmenter', RelevantFeatureAugmenter(column_id='id', column_sort='date')),\n",
    "        ('regressor', XGBRegressor(random_state=SEED,n_jobs=-1,objective='reg:squarederror'))\n",
    "      ])\n",
    "\n",
    "pipe.set_params(augmenter__timeseries_container=df_train);\n",
    "pipe.fit(df_Xtrain_empty, ser_ytrain);\n",
    "\n",
    "path_pipe = '../models/pipeline.joblib'\n",
    "joblib.dump(pipe, path_pipe)"
   ]
  },
  {
   "cell_type": "code",
   "execution_count": 52,
   "metadata": {
    "ExecuteTime": {
     "end_time": "2020-10-14T19:41:18.214442Z",
     "start_time": "2020-10-14T19:41:17.805759Z"
    },
    "colab": {
     "base_uri": "https://localhost:8080/",
     "height": 34
    },
    "execution": {
     "iopub.execute_input": "2020-10-17T18:35:11.965816Z",
     "iopub.status.busy": "2020-10-17T18:35:11.964453Z",
     "iopub.status.idle": "2020-10-17T18:35:12.484080Z",
     "shell.execute_reply": "2020-10-17T18:35:12.485184Z"
    },
    "id": "xuJ2_HrFuD2V",
    "outputId": "f2cd233a-2b12-4c7a-df31-f15bb000d47a",
    "papermill": {
     "duration": 0.664217,
     "end_time": "2020-10-17T18:35:12.485521",
     "exception": false,
     "start_time": "2020-10-17T18:35:11.821304",
     "status": "completed"
    },
    "tags": []
   },
   "outputs": [
    {
     "name": "stderr",
     "output_type": "stream",
     "text": [
      "\r",
      "Feature Extraction:   0%|          | 0/10 [00:00<?, ?it/s]"
     ]
    },
    {
     "name": "stderr",
     "output_type": "stream",
     "text": [
      "\r",
      "Feature Extraction: 100%|██████████| 10/10 [00:00<00:00, 217.44it/s]"
     ]
    },
    {
     "name": "stderr",
     "output_type": "stream",
     "text": [
      "\n"
     ]
    }
   ],
   "source": [
    "# load the fitted pipeline and again assingn new augmenter\n",
    "pipe = joblib.load(path_pipe)\n",
    "\n",
    "pipe.set_params(augmenter__timeseries_container=df_test);\n",
    "ypreds = pipe.predict(df_Xtest_empty)"
   ]
  },
  {
   "cell_type": "code",
   "execution_count": 53,
   "metadata": {
    "ExecuteTime": {
     "end_time": "2020-10-14T19:41:18.223306Z",
     "start_time": "2020-10-14T19:41:18.217730Z"
    },
    "colab": {
     "base_uri": "https://localhost:8080/",
     "height": 51
    },
    "execution": {
     "iopub.execute_input": "2020-10-17T18:35:12.791289Z",
     "iopub.status.busy": "2020-10-17T18:35:12.788107Z",
     "iopub.status.idle": "2020-10-17T18:35:12.803980Z",
     "shell.execute_reply": "2020-10-17T18:35:12.788903Z"
    },
    "id": "EIbeGsSwuD8m",
    "outputId": "cbea2cfa-2cab-4404-c809-83e1ffed494c",
    "papermill": {
     "duration": 0.229298,
     "end_time": "2020-10-17T18:35:12.807500",
     "exception": false,
     "start_time": "2020-10-17T18:35:12.578202",
     "status": "completed"
    },
    "tags": []
   },
   "outputs": [
    {
     "data": {
      "text/plain": [
       "array([ 7939.966,  7939.966, 10576.055,  9504.858, 10793.434],\n",
       "      dtype=float32)"
      ]
     },
     "execution_count": 53,
     "metadata": {},
     "output_type": "execute_result"
    }
   ],
   "source": [
    "ypreds[:5]"
   ]
  },
  {
   "cell_type": "code",
   "execution_count": 54,
   "metadata": {
    "ExecuteTime": {
     "end_time": "2020-10-14T19:41:18.232248Z",
     "start_time": "2020-10-14T19:41:18.226855Z"
    },
    "colab": {
     "base_uri": "https://localhost:8080/",
     "height": 34
    },
    "execution": {
     "iopub.execute_input": "2020-10-17T18:35:13.110094Z",
     "iopub.status.busy": "2020-10-17T18:35:13.109032Z",
     "iopub.status.idle": "2020-10-17T18:35:13.112830Z",
     "shell.execute_reply": "2020-10-17T18:35:13.113185Z"
    },
    "id": "w8OwqBqLuECu",
    "outputId": "bd02a2bb-f70b-4bd1-f9e3-b87d31ec6f8e",
    "papermill": {
     "duration": 0.142203,
     "end_time": "2020-10-17T18:35:13.113349",
     "exception": false,
     "start_time": "2020-10-17T18:35:12.971146",
     "status": "completed"
    },
    "tags": []
   },
   "outputs": [
    {
     "data": {
      "text/plain": [
       "0.6356307432712617"
      ]
     },
     "execution_count": 54,
     "metadata": {},
     "output_type": "execute_result"
    }
   ],
   "source": [
    "get_smape(ytest,ypreds)"
   ]
  },
  {
   "cell_type": "markdown",
   "metadata": {
    "id": "PL5wZMrCuEIX",
    "papermill": {
     "duration": 0.066837,
     "end_time": "2020-10-17T18:35:13.255704",
     "exception": false,
     "start_time": "2020-10-17T18:35:13.188867",
     "status": "completed"
    },
    "tags": []
   },
   "source": [
    "# Cross validation for timeseries\n",
    "```\n",
    "fold 1 : training [1], test [2]\n",
    "fold 2 : training [1 2], test [3]\n",
    "fold 3 : training [1 2 3], test [4]\n",
    "fold 4 : training [1 2 3 4], test [5]\n",
    "fold 5 : training [1 2 3 4 5], test [6]\n",
    "```"
   ]
  },
  {
   "cell_type": "code",
   "execution_count": 55,
   "metadata": {
    "ExecuteTime": {
     "end_time": "2020-10-14T19:41:18.240362Z",
     "start_time": "2020-10-14T19:41:18.236175Z"
    },
    "execution": {
     "iopub.execute_input": "2020-10-17T18:35:13.432393Z",
     "iopub.status.busy": "2020-10-17T18:35:13.431163Z",
     "iopub.status.idle": "2020-10-17T18:35:13.433381Z",
     "shell.execute_reply": "2020-10-17T18:35:13.433832Z"
    },
    "id": "ZgiLU5b4Tqh1",
    "papermill": {
     "duration": 0.093165,
     "end_time": "2020-10-17T18:35:13.434038",
     "exception": false,
     "start_time": "2020-10-17T18:35:13.340873",
     "status": "completed"
    },
    "tags": []
   },
   "outputs": [],
   "source": [
    "from sklearn.model_selection import cross_val_score\n",
    "from sklearn.model_selection import TimeSeriesSplit\n",
    "from sklearn.metrics import make_scorer"
   ]
  },
  {
   "cell_type": "code",
   "execution_count": 56,
   "metadata": {
    "ExecuteTime": {
     "end_time": "2020-10-14T19:41:20.789755Z",
     "start_time": "2020-10-14T19:41:18.243190Z"
    },
    "colab": {
     "base_uri": "https://localhost:8080/",
     "height": 34
    },
    "execution": {
     "iopub.execute_input": "2020-10-17T18:35:13.640430Z",
     "iopub.status.busy": "2020-10-17T18:35:13.638819Z",
     "iopub.status.idle": "2020-10-17T18:35:17.297162Z",
     "shell.execute_reply": "2020-10-17T18:35:17.296706Z"
    },
    "id": "P7u_6EEPuEVq",
    "outputId": "d8cc6d9e-4f7b-4cf8-a45c-0431cea8c462",
    "papermill": {
     "duration": 3.776426,
     "end_time": "2020-10-17T18:35:17.297310",
     "exception": false,
     "start_time": "2020-10-17T18:35:13.520884",
     "status": "completed"
    },
    "tags": []
   },
   "outputs": [
    {
     "data": {
      "text/plain": [
       "array([ 1.177, 56.18 ,  1.225,  0.377,  0.279])"
      ]
     },
     "execution_count": 56,
     "metadata": {},
     "output_type": "execute_result"
    }
   ],
   "source": [
    "model = XGBRegressor(random_state=SEED,n_jobs=-1,objective='reg:squarederror')\n",
    "tscv = TimeSeriesSplit(n_splits=5)\n",
    "\n",
    "scores = cross_val_score(model,Xtrain,ytrain,cv=tscv,n_jobs=-1,\n",
    "                         scoring=make_scorer(get_smape))\n",
    "\n",
    "scores"
   ]
  },
  {
   "cell_type": "code",
   "execution_count": 57,
   "metadata": {
    "ExecuteTime": {
     "end_time": "2020-10-14T19:41:20.802037Z",
     "start_time": "2020-10-14T19:41:20.792399Z"
    },
    "colab": {
     "base_uri": "https://localhost:8080/",
     "height": 111
    },
    "execution": {
     "iopub.execute_input": "2020-10-17T18:35:17.432509Z",
     "iopub.status.busy": "2020-10-17T18:35:17.431739Z",
     "iopub.status.idle": "2020-10-17T18:35:17.434870Z",
     "shell.execute_reply": "2020-10-17T18:35:17.435582Z"
    },
    "id": "Z3-ixF_waRKH",
    "outputId": "fe967099-9c8d-4008-8736-24244755b52d",
    "papermill": {
     "duration": 0.078254,
     "end_time": "2020-10-17T18:35:17.435848",
     "exception": false,
     "start_time": "2020-10-17T18:35:17.357594",
     "status": "completed"
    },
    "tags": []
   },
   "outputs": [
    {
     "data": {
      "text/html": [
       "<div>\n",
       "<style scoped>\n",
       "    .dataframe tbody tr th:only-of-type {\n",
       "        vertical-align: middle;\n",
       "    }\n",
       "\n",
       "    .dataframe tbody tr th {\n",
       "        vertical-align: top;\n",
       "    }\n",
       "\n",
       "    .dataframe thead th {\n",
       "        text-align: right;\n",
       "    }\n",
       "</style>\n",
       "<table border=\"1\" class=\"dataframe\">\n",
       "  <thead>\n",
       "    <tr style=\"text-align: right;\">\n",
       "      <th></th>\n",
       "      <th>date</th>\n",
       "      <th>visits</th>\n",
       "      <th>id</th>\n",
       "    </tr>\n",
       "  </thead>\n",
       "  <tbody>\n",
       "    <tr>\n",
       "      <th>0</th>\n",
       "      <td>2016-01-01</td>\n",
       "      <td>20947.0</td>\n",
       "      <td>0</td>\n",
       "    </tr>\n",
       "    <tr>\n",
       "      <th>1</th>\n",
       "      <td>2016-01-02</td>\n",
       "      <td>19466.0</td>\n",
       "      <td>1</td>\n",
       "    </tr>\n",
       "  </tbody>\n",
       "</table>\n",
       "</div>"
      ],
      "text/plain": [
       "         date   visits  id\n",
       "0  2016-01-01  20947.0   0\n",
       "1  2016-01-02  19466.0   1"
      ]
     },
     "execution_count": 57,
     "metadata": {},
     "output_type": "execute_result"
    }
   ],
   "source": [
    "df_train.head(2)"
   ]
  },
  {
   "cell_type": "code",
   "execution_count": 58,
   "metadata": {
    "ExecuteTime": {
     "end_time": "2020-10-14T19:41:20.822806Z",
     "start_time": "2020-10-14T19:41:20.804503Z"
    },
    "colab": {
     "base_uri": "https://localhost:8080/",
     "height": 165
    },
    "execution": {
     "iopub.execute_input": "2020-10-17T18:35:17.693202Z",
     "iopub.status.busy": "2020-10-17T18:35:17.691232Z",
     "iopub.status.idle": "2020-10-17T18:35:17.698537Z",
     "shell.execute_reply": "2020-10-17T18:35:17.697399Z"
    },
    "id": "EqqayAnSaX_u",
    "outputId": "b370cf91-ba10-4799-c9f8-cd6731001f7d",
    "papermill": {
     "duration": 0.152387,
     "end_time": "2020-10-17T18:35:17.698684",
     "exception": false,
     "start_time": "2020-10-17T18:35:17.546297",
     "status": "completed"
    },
    "tags": []
   },
   "outputs": [
    {
     "name": "stdout",
     "output_type": "stream",
     "text": [
      "(292, 21)\n"
     ]
    },
    {
     "data": {
      "text/html": [
       "<div>\n",
       "<style scoped>\n",
       "    .dataframe tbody tr th:only-of-type {\n",
       "        vertical-align: middle;\n",
       "    }\n",
       "\n",
       "    .dataframe tbody tr th {\n",
       "        vertical-align: top;\n",
       "    }\n",
       "\n",
       "    .dataframe thead th {\n",
       "        text-align: right;\n",
       "    }\n",
       "</style>\n",
       "<table border=\"1\" class=\"dataframe\">\n",
       "  <thead>\n",
       "    <tr style=\"text-align: right;\">\n",
       "      <th></th>\n",
       "      <th>visits__sum_values</th>\n",
       "      <th>visits__cwt_coefficients__coeff_0__w_20__widths_(2, 5, 10, 20)</th>\n",
       "      <th>visits__cwt_coefficients__coeff_0__w_10__widths_(2, 5, 10, 20)</th>\n",
       "      <th>visits__cwt_coefficients__coeff_0__w_5__widths_(2, 5, 10, 20)</th>\n",
       "      <th>visits__cwt_coefficients__coeff_0__w_2__widths_(2, 5, 10, 20)</th>\n",
       "      <th>visits__quantile__q_0.9</th>\n",
       "      <th>visits__quantile__q_0.8</th>\n",
       "      <th>visits__quantile__q_0.7</th>\n",
       "      <th>visits__quantile__q_0.6</th>\n",
       "      <th>visits__fft_coefficient__attr_\"real\"__coeff_0</th>\n",
       "      <th>visits__quantile__q_0.4</th>\n",
       "      <th>visits__quantile__q_0.2</th>\n",
       "      <th>visits__quantile__q_0.1</th>\n",
       "      <th>visits__minimum</th>\n",
       "      <th>visits__maximum</th>\n",
       "      <th>visits__mean</th>\n",
       "      <th>visits__median</th>\n",
       "      <th>visits__abs_energy</th>\n",
       "      <th>visits__quantile__q_0.3</th>\n",
       "      <th>visits__fft_coefficient__attr_\"abs\"__coeff_0</th>\n",
       "      <th>visits__benford_correlation</th>\n",
       "    </tr>\n",
       "  </thead>\n",
       "  <tbody>\n",
       "    <tr>\n",
       "      <th>0</th>\n",
       "      <td>20947.0</td>\n",
       "      <td>4062.456606</td>\n",
       "      <td>5745.181229</td>\n",
       "      <td>8124.913212</td>\n",
       "      <td>12846.615771</td>\n",
       "      <td>20947.0</td>\n",
       "      <td>20947.0</td>\n",
       "      <td>20947.0</td>\n",
       "      <td>20947.0</td>\n",
       "      <td>20947.0</td>\n",
       "      <td>20947.0</td>\n",
       "      <td>20947.0</td>\n",
       "      <td>20947.0</td>\n",
       "      <td>20947.0</td>\n",
       "      <td>20947.0</td>\n",
       "      <td>20947.0</td>\n",
       "      <td>20947.0</td>\n",
       "      <td>438776809.0</td>\n",
       "      <td>20947.0</td>\n",
       "      <td>20947.0</td>\n",
       "      <td>0.295657</td>\n",
       "    </tr>\n",
       "    <tr>\n",
       "      <th>1</th>\n",
       "      <td>19466.0</td>\n",
       "      <td>3775.231789</td>\n",
       "      <td>5338.983998</td>\n",
       "      <td>7550.463579</td>\n",
       "      <td>11938.331150</td>\n",
       "      <td>19466.0</td>\n",
       "      <td>19466.0</td>\n",
       "      <td>19466.0</td>\n",
       "      <td>19466.0</td>\n",
       "      <td>19466.0</td>\n",
       "      <td>19466.0</td>\n",
       "      <td>19466.0</td>\n",
       "      <td>19466.0</td>\n",
       "      <td>19466.0</td>\n",
       "      <td>19466.0</td>\n",
       "      <td>19466.0</td>\n",
       "      <td>19466.0</td>\n",
       "      <td>378925156.0</td>\n",
       "      <td>19466.0</td>\n",
       "      <td>19466.0</td>\n",
       "      <td>0.864123</td>\n",
       "    </tr>\n",
       "  </tbody>\n",
       "</table>\n",
       "</div>"
      ],
      "text/plain": [
       "   visits__sum_values  \\\n",
       "0             20947.0   \n",
       "1             19466.0   \n",
       "\n",
       "   visits__cwt_coefficients__coeff_0__w_20__widths_(2, 5, 10, 20)  \\\n",
       "0                                                     4062.456606   \n",
       "1                                                     3775.231789   \n",
       "\n",
       "   visits__cwt_coefficients__coeff_0__w_10__widths_(2, 5, 10, 20)  \\\n",
       "0                                                     5745.181229   \n",
       "1                                                     5338.983998   \n",
       "\n",
       "   visits__cwt_coefficients__coeff_0__w_5__widths_(2, 5, 10, 20)  \\\n",
       "0                                                    8124.913212   \n",
       "1                                                    7550.463579   \n",
       "\n",
       "   visits__cwt_coefficients__coeff_0__w_2__widths_(2, 5, 10, 20)  \\\n",
       "0                                                   12846.615771   \n",
       "1                                                   11938.331150   \n",
       "\n",
       "   visits__quantile__q_0.9  visits__quantile__q_0.8  visits__quantile__q_0.7  \\\n",
       "0                  20947.0                  20947.0                  20947.0   \n",
       "1                  19466.0                  19466.0                  19466.0   \n",
       "\n",
       "   visits__quantile__q_0.6  visits__fft_coefficient__attr_\"real\"__coeff_0  \\\n",
       "0                  20947.0                                        20947.0   \n",
       "1                  19466.0                                        19466.0   \n",
       "\n",
       "   visits__quantile__q_0.4  visits__quantile__q_0.2  visits__quantile__q_0.1  \\\n",
       "0                  20947.0                  20947.0                  20947.0   \n",
       "1                  19466.0                  19466.0                  19466.0   \n",
       "\n",
       "   visits__minimum  visits__maximum  visits__mean  visits__median  \\\n",
       "0          20947.0          20947.0       20947.0         20947.0   \n",
       "1          19466.0          19466.0       19466.0         19466.0   \n",
       "\n",
       "   visits__abs_energy  visits__quantile__q_0.3  \\\n",
       "0         438776809.0                  20947.0   \n",
       "1         378925156.0                  19466.0   \n",
       "\n",
       "   visits__fft_coefficient__attr_\"abs\"__coeff_0  visits__benford_correlation  \n",
       "0                                       20947.0                     0.295657  \n",
       "1                                       19466.0                     0.864123  "
      ]
     },
     "execution_count": 58,
     "metadata": {},
     "output_type": "execute_result"
    }
   ],
   "source": [
    "print(df_Xtrain.shape)\n",
    "df_Xtrain.head(2)"
   ]
  },
  {
   "cell_type": "code",
   "execution_count": 59,
   "metadata": {
    "ExecuteTime": {
     "end_time": "2020-10-14T19:41:21.236279Z",
     "start_time": "2020-10-14T19:41:20.825031Z"
    },
    "colab": {
     "base_uri": "https://localhost:8080/",
     "height": 527
    },
    "execution": {
     "iopub.execute_input": "2020-10-17T18:35:17.881568Z",
     "iopub.status.busy": "2020-10-17T18:35:17.879699Z",
     "iopub.status.idle": "2020-10-17T18:35:18.161091Z",
     "shell.execute_reply": "2020-10-17T18:35:18.160524Z"
    },
    "id": "ob_d7dTdQOrz",
    "outputId": "a5e7abab-6755-4514-9e3a-a50506993094",
    "papermill": {
     "duration": 0.376631,
     "end_time": "2020-10-17T18:35:18.161286",
     "exception": false,
     "start_time": "2020-10-17T18:35:17.784655",
     "status": "completed"
    },
    "tags": []
   },
   "outputs": [
    {
     "name": "stdout",
     "output_type": "stream",
     "text": [
      "\n",
      "Fold                  : Fold 1\n",
      "training   data shape : (52,)\n",
      "validation data shape : (48,)\n",
      "SMAPE                 : 1.177\n",
      "\n",
      "Fold                  : Fold 2\n",
      "training   data shape : (100,)\n",
      "validation data shape : (48,)\n",
      "SMAPE                 : 56.180\n",
      "\n",
      "Fold                  : Fold 3\n",
      "training   data shape : (148,)\n",
      "validation data shape : (48,)\n",
      "SMAPE                 : 1.225\n",
      "\n",
      "Fold                  : Fold 4\n",
      "training   data shape : (196,)\n",
      "validation data shape : (48,)\n",
      "SMAPE                 : 0.377\n"
     ]
    },
    {
     "name": "stdout",
     "output_type": "stream",
     "text": [
      "\n",
      "Fold                  : Fold 5\n",
      "training   data shape : (244,)\n",
      "validation data shape : (48,)\n",
      "SMAPE                 : 0.279\n"
     ]
    },
    {
     "data": {
      "text/plain": [
       "[1.1773017114187323,\n",
       " 56.18010584713199,\n",
       " 1.225068082605304,\n",
       " 0.37743419598934896,\n",
       " 0.2785122686770567]"
      ]
     },
     "execution_count": 59,
     "metadata": {},
     "output_type": "execute_result"
    }
   ],
   "source": [
    "tscv = TimeSeriesSplit(n_splits=5)\n",
    "smapes = []\n",
    "for i, (idx_tr, idx_vd) in enumerate(tscv.split(df_Xtrain)):\n",
    "\n",
    "    Xtr = df_Xtrain.iloc[idx_tr]\n",
    "    Xvd = df_Xtrain.iloc[idx_vd]\n",
    "    ytr = ser_ytrain.iloc[idx_tr].to_numpy().ravel()\n",
    "    yvd = ser_ytrain.iloc[idx_vd].to_numpy().ravel()\n",
    "\n",
    "    model = XGBRegressor(random_state=SEED,n_jobs=-1,objective='reg:squarederror')\n",
    "    model.fit(Xtr,ytr)\n",
    "    vd_preds = model.predict(Xvd)\n",
    "\n",
    "    smape = get_smape(yvd, vd_preds)\n",
    "    smapes.append(smape)\n",
    "\n",
    "    # info\n",
    "    print()\n",
    "    print('Fold                  : Fold {}'.format(i+1))\n",
    "    print('training   data shape : {}'.format(idx_tr.shape))\n",
    "    print('validation data shape : {}'.format(idx_vd.shape))\n",
    "    print('SMAPE                 : {:.3f}'.format(smape))\n",
    "\n",
    "smapes"
   ]
  },
  {
   "cell_type": "markdown",
   "metadata": {
    "id": "WXu5MGTbUTWw",
    "papermill": {
     "duration": 0.079735,
     "end_time": "2020-10-17T18:35:18.331118",
     "exception": false,
     "start_time": "2020-10-17T18:35:18.251383",
     "status": "completed"
    },
    "tags": []
   },
   "source": [
    "# Time Taken"
   ]
  },
  {
   "cell_type": "code",
   "execution_count": 60,
   "metadata": {
    "ExecuteTime": {
     "end_time": "2020-10-14T19:41:21.245734Z",
     "start_time": "2020-10-14T19:41:21.238761Z"
    },
    "execution": {
     "iopub.execute_input": "2020-10-17T18:35:18.466281Z",
     "iopub.status.busy": "2020-10-17T18:35:18.465398Z",
     "iopub.status.idle": "2020-10-17T18:35:18.467946Z",
     "shell.execute_reply": "2020-10-17T18:35:18.468298Z"
    },
    "id": "7MNLhOwqVJQ-",
    "papermill": {
     "duration": 0.065451,
     "end_time": "2020-10-17T18:35:18.468458",
     "exception": false,
     "start_time": "2020-10-17T18:35:18.403007",
     "status": "completed"
    },
    "tags": []
   },
   "outputs": [
    {
     "name": "stdout",
     "output_type": "stream",
     "text": [
      "Time taken to run whole notebook: 0 hr 0 min 55 secs\n"
     ]
    }
   ],
   "source": [
    "time_taken = time.time() - time_start_notebook\n",
    "h,m = divmod(time_taken,60*60)\n",
    "print('Time taken to run whole notebook: {:.0f} hr '\\\n",
    "      '{:.0f} min {:.0f} secs'.format(h, *divmod(m,60)))"
   ]
  }
 ],
 "metadata": {
  "accelerator": "GPU",
  "colab": {
   "collapsed_sections": [],
   "name": "f01_timeseries_modelling_tsfresh_xgb.ipynb",
   "provenance": []
  },
  "kernelspec": {
   "display_name": "Python (dataSc)",
   "language": "python",
   "name": "datasc"
  },
  "language_info": {
   "codemirror_mode": {
    "name": "ipython",
    "version": 3
   },
   "file_extension": ".py",
   "mimetype": "text/x-python",
   "name": "python",
   "nbconvert_exporter": "python",
   "pygments_lexer": "ipython3",
   "version": "3.7.7"
  },
  "papermill": {
   "default_parameters": {},
   "duration": 57.469132,
   "end_time": "2020-10-17T18:35:20.211632",
   "environment_variables": {},
   "exception": null,
   "input_path": "f01_timeseries_modelling_tsfresh_xgb.ipynb",
   "output_path": "test_nb_runs/out_f01_timeseries_modelling_tsfresh_xgb.ipynb",
   "parameters": {},
   "start_time": "2020-10-17T18:34:22.742500",
   "version": "2.2.0"
  },
  "toc": {
   "base_numbering": 1,
   "nav_menu": {},
   "number_sections": true,
   "sideBar": true,
   "skip_h1_title": false,
   "title_cell": "Table of Contents",
   "title_sidebar": "Contents",
   "toc_cell": true,
   "toc_position": {},
   "toc_section_display": true,
   "toc_window_display": false
  },
  "varInspector": {
   "cols": {
    "lenName": 16,
    "lenType": 16,
    "lenVar": 40
   },
   "kernels_config": {
    "python": {
     "delete_cmd_postfix": "",
     "delete_cmd_prefix": "del ",
     "library": "var_list.py",
     "varRefreshCmd": "print(var_dic_list())"
    },
    "r": {
     "delete_cmd_postfix": ") ",
     "delete_cmd_prefix": "rm(",
     "library": "var_list.r",
     "varRefreshCmd": "cat(var_dic_list()) "
    }
   },
   "types_to_exclude": [
    "module",
    "function",
    "builtin_function_or_method",
    "instance",
    "_Feature"
   ],
   "window_display": false
  }
 },
 "nbformat": 4,
 "nbformat_minor": 1
}