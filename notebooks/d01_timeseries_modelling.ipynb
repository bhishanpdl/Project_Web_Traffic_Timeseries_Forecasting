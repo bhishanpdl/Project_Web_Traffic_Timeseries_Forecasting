{
 "cells": [
  {
   "cell_type": "markdown",
   "metadata": {
    "toc": true
   },
   "source": [
    "<h1>Table of Contents<span class=\"tocSkip\"></span></h1>\n",
    "<div class=\"toc\"><ul class=\"toc-item\"><li><span><a href=\"#Data-Description\" data-toc-modified-id=\"Data-Description-1\"><span class=\"toc-item-num\">1&nbsp;&nbsp;</span>Data Description</a></span></li><li><span><a href=\"#Useful-Scripts\" data-toc-modified-id=\"Useful-Scripts-2\"><span class=\"toc-item-num\">2&nbsp;&nbsp;</span>Useful Scripts</a></span></li><li><span><a href=\"#Load-the-data\" data-toc-modified-id=\"Load-the-data-3\"><span class=\"toc-item-num\">3&nbsp;&nbsp;</span>Load the data</a></span></li><li><span><a href=\"#Memory-Reduction\" data-toc-modified-id=\"Memory-Reduction-4\"><span class=\"toc-item-num\">4&nbsp;&nbsp;</span>Memory Reduction</a></span></li><li><span><a href=\"#Exploratory-Data-Analysis-(EDA)\" data-toc-modified-id=\"Exploratory-Data-Analysis-(EDA)-5\"><span class=\"toc-item-num\">5&nbsp;&nbsp;</span>Exploratory Data Analysis (EDA)</a></span><ul class=\"toc-item\"><li><span><a href=\"#Top-5-pages-per-language\" data-toc-modified-id=\"Top-5-pages-per-language-5.1\"><span class=\"toc-item-num\">5.1&nbsp;&nbsp;</span>Top 5 pages per language</a></span></li></ul></li><li><span><a href=\"#Data-Visualizations\" data-toc-modified-id=\"Data-Visualizations-6\"><span class=\"toc-item-num\">6&nbsp;&nbsp;</span>Data Visualizations</a></span><ul class=\"toc-item\"><li><span><a href=\"#Language-montly-mean\" data-toc-modified-id=\"Language-montly-mean-6.1\"><span class=\"toc-item-num\">6.1&nbsp;&nbsp;</span>Language montly mean</a></span></li><li><span><a href=\"#Timeseries-per-language\" data-toc-modified-id=\"Timeseries-per-language-6.2\"><span class=\"toc-item-num\">6.2&nbsp;&nbsp;</span>Timeseries per language</a></span></li><li><span><a href=\"#Fast-Fourier-Transform-(FFT)\" data-toc-modified-id=\"Fast-Fourier-Transform-(FFT)-6.3\"><span class=\"toc-item-num\">6.3&nbsp;&nbsp;</span>Fast Fourier Transform (FFT)</a></span></li></ul></li></ul></div>"
   ]
  },
  {
   "cell_type": "markdown",
   "metadata": {},
   "source": [
    "# Data Description\n",
    "\n",
    "Reference: https://www.kaggle.com/c/web-traffic-time-series-forecasting/data\n",
    "\n",
    "I have cleaned the kaggle wikipedia traffic data and selected only data of 2016 with \n",
    "fraction of 0.1.\n",
    "\n",
    "The data was melted and additional columns were created."
   ]
  },
  {
   "cell_type": "code",
   "execution_count": 1,
   "metadata": {
    "ExecuteTime": {
     "end_time": "2019-11-03T14:16:04.139910Z",
     "start_time": "2019-11-03T14:16:02.816896Z"
    }
   },
   "outputs": [
    {
     "name": "stdout",
     "output_type": "stream",
     "text": [
      "[('numpy', '1.16.4'), ('pandas', '0.25.0'), ('seaborn', '0.9.0'), ('matplotlib', '3.1.1')]\n"
     ]
    }
   ],
   "source": [
    "import numpy as np\n",
    "import pandas as pd\n",
    "import seaborn as sns\n",
    "sns.set(color_codes=True)\n",
    "\n",
    "import matplotlib\n",
    "import matplotlib.pyplot as plt\n",
    "%matplotlib inline\n",
    "%config InlineBackend.figure_format = 'retina'\n",
    "sns.set(context='notebook', style='whitegrid', rc={'figure.figsize': (12,8)})\n",
    "plt.style.use('fivethirtyeight') # better than sns styles.\n",
    "matplotlib.rcParams['figure.figsize'] = 12,8\n",
    "\n",
    "import os\n",
    "import time\n",
    "\n",
    "# random state\n",
    "random_state=100\n",
    "np.random.seed(random_state)\n",
    "\n",
    "# Jupyter notebook settings for pandas\n",
    "#pd.set_option('display.float_format', '{:,.2g}'.format) # numbers sep by comma\n",
    "from pandas.api.types import CategoricalDtype\n",
    "np.set_printoptions(precision=3)\n",
    "pd.set_option('display.max_columns', 100)\n",
    "pd.set_option('display.max_rows', 100) # None for all the rows\n",
    "pd.set_option('display.max_colwidth', 200)\n",
    "\n",
    "import IPython\n",
    "from IPython.display import display, HTML, Image, Markdown\n",
    "\n",
    "print([(x.__name__,x.__version__) for x in [np, pd,sns,matplotlib]])"
   ]
  },
  {
   "cell_type": "code",
   "execution_count": 2,
   "metadata": {
    "ExecuteTime": {
     "end_time": "2019-11-03T14:16:04.563715Z",
     "start_time": "2019-11-03T14:16:04.148063Z"
    }
   },
   "outputs": [],
   "source": [
    "import dask\n",
    "import dask.dataframe as dd\n",
    "import gc"
   ]
  },
  {
   "cell_type": "code",
   "execution_count": 3,
   "metadata": {
    "ExecuteTime": {
     "end_time": "2019-11-03T14:16:04.576542Z",
     "start_time": "2019-11-03T14:16:04.565694Z"
    }
   },
   "outputs": [
    {
     "data": {
      "application/javascript": [
       "IPython.OutputArea.auto_scroll_threshold = 9999;"
      ],
      "text/plain": [
       "<IPython.core.display.Javascript object>"
      ]
     },
     "metadata": {},
     "output_type": "display_data"
    }
   ],
   "source": [
    "%%javascript\n",
    "IPython.OutputArea.auto_scroll_threshold = 9999;"
   ]
  },
  {
   "cell_type": "markdown",
   "metadata": {},
   "source": [
    "# Useful Scripts"
   ]
  },
  {
   "cell_type": "code",
   "execution_count": 4,
   "metadata": {
    "ExecuteTime": {
     "end_time": "2019-11-03T14:16:04.899045Z",
     "start_time": "2019-11-03T14:16:04.888117Z"
    }
   },
   "outputs": [],
   "source": [
    "def show_method_attributes(method, ncols=7,start=None):\n",
    "    \"\"\" Show all the attributes of a given method.\n",
    "    Example:\n",
    "    ========\n",
    "    show_method_attributes(list)\n",
    "     \"\"\"\n",
    "    x = [I for I in dir(method) if I[0]!='_' ]\n",
    "    x = [I for I in x \n",
    "         if I not in 'os np pd sys time psycopg2'.split() ]\n",
    "    if start:\n",
    "        x = [I for I in x if I.startswith(start)]\n",
    "\n",
    "    return pd.DataFrame(np.array_split(x,ncols)).T.fillna('')"
   ]
  },
  {
   "cell_type": "markdown",
   "metadata": {},
   "source": [
    "# Load the data"
   ]
  },
  {
   "cell_type": "code",
   "execution_count": 32,
   "metadata": {
    "ExecuteTime": {
     "end_time": "2019-11-03T14:32:55.771329Z",
     "start_time": "2019-11-03T14:32:41.359076Z"
    }
   },
   "outputs": [
    {
     "name": "stdout",
     "output_type": "stream",
     "text": [
      "(5309196, 21)\n"
     ]
    },
    {
     "data": {
      "text/html": [
       "<div>\n",
       "<style scoped>\n",
       "    .dataframe tbody tr th:only-of-type {\n",
       "        vertical-align: middle;\n",
       "    }\n",
       "\n",
       "    .dataframe tbody tr th {\n",
       "        vertical-align: top;\n",
       "    }\n",
       "\n",
       "    .dataframe thead th {\n",
       "        text-align: right;\n",
       "    }\n",
       "</style>\n",
       "<table border=\"1\" class=\"dataframe\">\n",
       "  <thead>\n",
       "    <tr style=\"text-align: right;\">\n",
       "      <th></th>\n",
       "      <th>Page</th>\n",
       "      <th>date</th>\n",
       "      <th>visits</th>\n",
       "      <th>year</th>\n",
       "      <th>month</th>\n",
       "      <th>day</th>\n",
       "      <th>quarter</th>\n",
       "      <th>dayofweek</th>\n",
       "      <th>dayofyear</th>\n",
       "      <th>day_name</th>\n",
       "      <th>month_name</th>\n",
       "      <th>weekend</th>\n",
       "      <th>weekday</th>\n",
       "      <th>mean</th>\n",
       "      <th>median</th>\n",
       "      <th>name</th>\n",
       "      <th>project</th>\n",
       "      <th>access</th>\n",
       "      <th>agent</th>\n",
       "      <th>lang</th>\n",
       "      <th>language</th>\n",
       "    </tr>\n",
       "  </thead>\n",
       "  <tbody>\n",
       "    <tr>\n",
       "      <th>0</th>\n",
       "      <td>Sean_Connery_en.wikipedia.org_desktop_all-agents</td>\n",
       "      <td>2016-01-01</td>\n",
       "      <td>4872</td>\n",
       "      <td>2016</td>\n",
       "      <td>1</td>\n",
       "      <td>1</td>\n",
       "      <td>1</td>\n",
       "      <td>4</td>\n",
       "      <td>1</td>\n",
       "      <td>Friday</td>\n",
       "      <td>January</td>\n",
       "      <td>False</td>\n",
       "      <td>True</td>\n",
       "      <td>3405.661202</td>\n",
       "      <td>2624.0</td>\n",
       "      <td>Sean_Connery</td>\n",
       "      <td>en.wikipedia.org</td>\n",
       "      <td>desktop</td>\n",
       "      <td>all-agents</td>\n",
       "      <td>en</td>\n",
       "      <td>English</td>\n",
       "    </tr>\n",
       "    <tr>\n",
       "      <th>1</th>\n",
       "      <td>Tableau_des_médailles_des_Jeux_olympiques_d'été_de_2008_fr.wikipedia.org_desktop_all-agents</td>\n",
       "      <td>2016-01-01</td>\n",
       "      <td>6</td>\n",
       "      <td>2016</td>\n",
       "      <td>1</td>\n",
       "      <td>1</td>\n",
       "      <td>1</td>\n",
       "      <td>4</td>\n",
       "      <td>1</td>\n",
       "      <td>Friday</td>\n",
       "      <td>January</td>\n",
       "      <td>False</td>\n",
       "      <td>True</td>\n",
       "      <td>170.841530</td>\n",
       "      <td>18.0</td>\n",
       "      <td>Tableau_des_médailles_des_Jeux_olympiques_d'été_de_2008</td>\n",
       "      <td>fr.wikipedia.org</td>\n",
       "      <td>desktop</td>\n",
       "      <td>all-agents</td>\n",
       "      <td>fr</td>\n",
       "      <td>French</td>\n",
       "    </tr>\n",
       "    <tr>\n",
       "      <th>2</th>\n",
       "      <td>The_Undertaker_fr.wikipedia.org_mobile-web_all-agents</td>\n",
       "      <td>2016-01-01</td>\n",
       "      <td>469</td>\n",
       "      <td>2016</td>\n",
       "      <td>1</td>\n",
       "      <td>1</td>\n",
       "      <td>1</td>\n",
       "      <td>4</td>\n",
       "      <td>1</td>\n",
       "      <td>Friday</td>\n",
       "      <td>January</td>\n",
       "      <td>False</td>\n",
       "      <td>True</td>\n",
       "      <td>400.336066</td>\n",
       "      <td>345.5</td>\n",
       "      <td>The_Undertaker</td>\n",
       "      <td>fr.wikipedia.org</td>\n",
       "      <td>mobile-web</td>\n",
       "      <td>all-agents</td>\n",
       "      <td>fr</td>\n",
       "      <td>French</td>\n",
       "    </tr>\n",
       "    <tr>\n",
       "      <th>3</th>\n",
       "      <td>Category:Outdoor_sex_commons.wikimedia.org_all-access_all-agents</td>\n",
       "      <td>2016-01-01</td>\n",
       "      <td>142</td>\n",
       "      <td>2016</td>\n",
       "      <td>1</td>\n",
       "      <td>1</td>\n",
       "      <td>1</td>\n",
       "      <td>4</td>\n",
       "      <td>1</td>\n",
       "      <td>Friday</td>\n",
       "      <td>January</td>\n",
       "      <td>False</td>\n",
       "      <td>True</td>\n",
       "      <td>205.174863</td>\n",
       "      <td>193.0</td>\n",
       "      <td>Category:Outdoor_sex</td>\n",
       "      <td>commons.wikimedia.org</td>\n",
       "      <td>all-access</td>\n",
       "      <td>all-agents</td>\n",
       "      <td>commons</td>\n",
       "      <td>Media</td>\n",
       "    </tr>\n",
       "    <tr>\n",
       "      <th>4</th>\n",
       "      <td>Камызяк_ru.wikipedia.org_all-access_all-agents</td>\n",
       "      <td>2016-01-01</td>\n",
       "      <td>6692</td>\n",
       "      <td>2016</td>\n",
       "      <td>1</td>\n",
       "      <td>1</td>\n",
       "      <td>1</td>\n",
       "      <td>4</td>\n",
       "      <td>1</td>\n",
       "      <td>Friday</td>\n",
       "      <td>January</td>\n",
       "      <td>False</td>\n",
       "      <td>True</td>\n",
       "      <td>912.516393</td>\n",
       "      <td>559.0</td>\n",
       "      <td>Камызяк</td>\n",
       "      <td>ru.wikipedia.org</td>\n",
       "      <td>all-access</td>\n",
       "      <td>all-agents</td>\n",
       "      <td>ru</td>\n",
       "      <td>Russian</td>\n",
       "    </tr>\n",
       "  </tbody>\n",
       "</table>\n",
       "</div>"
      ],
      "text/plain": [
       "                                                                                          Page  \\\n",
       "0                                             Sean_Connery_en.wikipedia.org_desktop_all-agents   \n",
       "1  Tableau_des_médailles_des_Jeux_olympiques_d'été_de_2008_fr.wikipedia.org_desktop_all-agents   \n",
       "2                                        The_Undertaker_fr.wikipedia.org_mobile-web_all-agents   \n",
       "3                             Category:Outdoor_sex_commons.wikimedia.org_all-access_all-agents   \n",
       "4                                               Камызяк_ru.wikipedia.org_all-access_all-agents   \n",
       "\n",
       "        date  visits  year  month  day  quarter  dayofweek  dayofyear  \\\n",
       "0 2016-01-01    4872  2016      1    1        1          4          1   \n",
       "1 2016-01-01       6  2016      1    1        1          4          1   \n",
       "2 2016-01-01     469  2016      1    1        1          4          1   \n",
       "3 2016-01-01     142  2016      1    1        1          4          1   \n",
       "4 2016-01-01    6692  2016      1    1        1          4          1   \n",
       "\n",
       "  day_name month_name  weekend  weekday         mean  median  \\\n",
       "0   Friday    January    False     True  3405.661202  2624.0   \n",
       "1   Friday    January    False     True   170.841530    18.0   \n",
       "2   Friday    January    False     True   400.336066   345.5   \n",
       "3   Friday    January    False     True   205.174863   193.0   \n",
       "4   Friday    January    False     True   912.516393   559.0   \n",
       "\n",
       "                                                      name  \\\n",
       "0                                             Sean_Connery   \n",
       "1  Tableau_des_médailles_des_Jeux_olympiques_d'été_de_2008   \n",
       "2                                           The_Undertaker   \n",
       "3                                     Category:Outdoor_sex   \n",
       "4                                                  Камызяк   \n",
       "\n",
       "                 project      access       agent     lang language  \n",
       "0       en.wikipedia.org     desktop  all-agents       en  English  \n",
       "1       fr.wikipedia.org     desktop  all-agents       fr   French  \n",
       "2       fr.wikipedia.org  mobile-web  all-agents       fr   French  \n",
       "3  commons.wikimedia.org  all-access  all-agents  commons    Media  \n",
       "4       ru.wikipedia.org  all-access  all-agents       ru  Russian  "
      ]
     },
     "execution_count": 32,
     "metadata": {},
     "output_type": "execute_result"
    }
   ],
   "source": [
    "df = pd.read_csv('../../data/wiki/processed/data_cleaned_2016_frac01.csv',\n",
    "                 parse_dates=['date'])\n",
    "\n",
    "print(df.shape) # 5.3 million rows, 21 cols\n",
    "df.head()"
   ]
  },
  {
   "cell_type": "markdown",
   "metadata": {},
   "source": [
    "# Memory Reduction"
   ]
  },
  {
   "cell_type": "code",
   "execution_count": 33,
   "metadata": {
    "ExecuteTime": {
     "end_time": "2019-11-03T14:32:55.780420Z",
     "start_time": "2019-11-03T14:32:55.773459Z"
    }
   },
   "outputs": [
    {
     "data": {
      "text/plain": [
       "Page                  object\n",
       "date          datetime64[ns]\n",
       "visits                 int64\n",
       "year                   int64\n",
       "month                  int64\n",
       "day                    int64\n",
       "quarter                int64\n",
       "dayofweek              int64\n",
       "dayofyear              int64\n",
       "day_name              object\n",
       "month_name            object\n",
       "weekend                 bool\n",
       "weekday                 bool\n",
       "mean                 float64\n",
       "median               float64\n",
       "name                  object\n",
       "project               object\n",
       "access                object\n",
       "agent                 object\n",
       "lang                  object\n",
       "language              object\n",
       "dtype: object"
      ]
     },
     "execution_count": 33,
     "metadata": {},
     "output_type": "execute_result"
    }
   ],
   "source": [
    "df.dtypes"
   ]
  },
  {
   "cell_type": "code",
   "execution_count": 34,
   "metadata": {
    "ExecuteTime": {
     "end_time": "2019-11-03T14:33:16.204829Z",
     "start_time": "2019-11-03T14:32:55.783147Z"
    }
   },
   "outputs": [
    {
     "data": {
      "text/plain": [
       "4069.15316"
      ]
     },
     "execution_count": 34,
     "metadata": {},
     "output_type": "execute_result"
    }
   ],
   "source": [
    "df.memory_usage(deep=True).sum() * 1e-6 # MB"
   ]
  },
  {
   "cell_type": "code",
   "execution_count": 35,
   "metadata": {
    "ExecuteTime": {
     "end_time": "2019-11-03T14:33:16.855005Z",
     "start_time": "2019-11-03T14:33:16.207143Z"
    }
   },
   "outputs": [],
   "source": [
    "# all the year is 2016,drop it.\n",
    "\n",
    "df.drop('year',axis=1,inplace=True)"
   ]
  },
  {
   "cell_type": "code",
   "execution_count": 36,
   "metadata": {
    "ExecuteTime": {
     "end_time": "2019-11-03T14:33:20.219636Z",
     "start_time": "2019-11-03T14:33:16.857371Z"
    }
   },
   "outputs": [],
   "source": [
    "cols_int = ['visits']\n",
    "cols_cat = ['month','day','quarter','day_name','month_name',\n",
    "            'project','access','agent','language']\n",
    "\n",
    "cols_float = ['mean','median']\n",
    "\n",
    "for c in cols_int:\n",
    "    df[c] = df[c].astype(np.int32)\n",
    "    \n",
    "for c in cols_float:\n",
    "    df[c] = df[c].astype(np.float32)\n",
    "    \n",
    "\n",
    "for c in cols_cat:\n",
    "    df[c] = df[c].astype(pd.api.types.CategoricalDtype())"
   ]
  },
  {
   "cell_type": "code",
   "execution_count": 37,
   "metadata": {
    "ExecuteTime": {
     "end_time": "2019-11-03T14:33:26.847687Z",
     "start_time": "2019-11-03T14:33:20.221761Z"
    }
   },
   "outputs": [
    {
     "data": {
      "text/plain": [
       "1777.2233549999999"
      ]
     },
     "execution_count": 37,
     "metadata": {},
     "output_type": "execute_result"
    }
   ],
   "source": [
    "df.memory_usage(deep=True).sum() * 1e-6 # MB"
   ]
  }
 ],
 "metadata": {
  "kernelspec": {
   "display_name": "Python (dataSc)",
   "language": "python",
   "name": "datasc"
  },
  "language_info": {
   "codemirror_mode": {
    "name": "ipython",
    "version": 3
   },
   "file_extension": ".py",
   "mimetype": "text/x-python",
   "name": "python",
   "nbconvert_exporter": "python",
   "pygments_lexer": "ipython3",
   "version": "3.7.3"
  },
  "toc": {
   "base_numbering": 1,
   "nav_menu": {},
   "number_sections": true,
   "sideBar": true,
   "skip_h1_title": false,
   "title_cell": "Table of Contents",
   "title_sidebar": "Contents",
   "toc_cell": true,
   "toc_position": {},
   "toc_section_display": true,
   "toc_window_display": true
  }
 },
 "nbformat": 4,
 "nbformat_minor": 2
}
