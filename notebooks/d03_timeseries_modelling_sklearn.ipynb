{
 "cells": [
  {
   "cell_type": "markdown",
   "metadata": {
    "toc": true
   },
   "source": [
    "<h1>Table of Contents<span class=\"tocSkip\"></span></h1>\n",
    "<div class=\"toc\"><ul class=\"toc-item\"><li><span><a href=\"#Data-Description\" data-toc-modified-id=\"Data-Description-1\"><span class=\"toc-item-num\">1&nbsp;&nbsp;</span>Data Description</a></span></li><li><span><a href=\"#Useful-Scripts\" data-toc-modified-id=\"Useful-Scripts-2\"><span class=\"toc-item-num\">2&nbsp;&nbsp;</span>Useful Scripts</a></span></li><li><span><a href=\"#Load-the-data\" data-toc-modified-id=\"Load-the-data-3\"><span class=\"toc-item-num\">3&nbsp;&nbsp;</span>Load the data</a></span></li><li><span><a href=\"#Memory-Reduction\" data-toc-modified-id=\"Memory-Reduction-4\"><span class=\"toc-item-num\">4&nbsp;&nbsp;</span>Memory Reduction</a></span></li><li><span><a href=\"#Take-Most-Visited-Page-as-Timeseries\" data-toc-modified-id=\"Take-Most-Visited-Page-as-Timeseries-5\"><span class=\"toc-item-num\">5&nbsp;&nbsp;</span>Take Most Visited Page as Timeseries</a></span></li><li><span><a href=\"#Add-lag-columns\" data-toc-modified-id=\"Add-lag-columns-6\"><span class=\"toc-item-num\">6&nbsp;&nbsp;</span>Add lag columns</a></span></li><li><span><a href=\"#Add-bias-term\" data-toc-modified-id=\"Add-bias-term-7\"><span class=\"toc-item-num\">7&nbsp;&nbsp;</span>Add bias term</a></span></li><li><span><a href=\"#Modelling\" data-toc-modified-id=\"Modelling-8\"><span class=\"toc-item-num\">8&nbsp;&nbsp;</span>Modelling</a></span></li><li><span><a href=\"#Train-Test-split\" data-toc-modified-id=\"Train-Test-split-9\"><span class=\"toc-item-num\">9&nbsp;&nbsp;</span>Train Test split</a></span><ul class=\"toc-item\"><li><span><a href=\"#Modelling:-Ensemble-Regressors\" data-toc-modified-id=\"Modelling:-Ensemble-Regressors-9.1\"><span class=\"toc-item-num\">9.1&nbsp;&nbsp;</span>Modelling: Ensemble Regressors</a></span></li></ul></li></ul></div>"
   ]
  },
  {
   "cell_type": "markdown",
   "metadata": {},
   "source": [
    "# Data Description\n",
    "\n",
    "Reference: https://www.kaggle.com/c/web-traffic-time-series-forecasting/data\n",
    "\n",
    "I have cleaned the kaggle wikipedia traffic data and selected only data of 2016 with \n",
    "fraction of 0.1.\n",
    "\n",
    "The data was melted and additional columns were created."
   ]
  },
  {
   "cell_type": "code",
   "execution_count": 1,
   "metadata": {
    "ExecuteTime": {
     "end_time": "2019-11-05T00:40:47.327083Z",
     "start_time": "2019-11-05T00:40:46.024475Z"
    }
   },
   "outputs": [
    {
     "name": "stdout",
     "output_type": "stream",
     "text": [
      "[('numpy', '1.16.4'), ('pandas', '0.25.0'), ('seaborn', '0.9.0'), ('matplotlib', '3.1.1')]\n"
     ]
    }
   ],
   "source": [
    "import numpy as np\n",
    "import pandas as pd\n",
    "import seaborn as sns\n",
    "sns.set(color_codes=True)\n",
    "\n",
    "import matplotlib\n",
    "import matplotlib.pyplot as plt\n",
    "%matplotlib inline\n",
    "%config InlineBackend.figure_format = 'retina'\n",
    "sns.set(context='notebook', style='whitegrid', rc={'figure.figsize': (12,8)})\n",
    "plt.style.use('fivethirtyeight') # better than sns styles.\n",
    "matplotlib.rcParams['figure.figsize'] = 12,8\n",
    "\n",
    "import os\n",
    "import time\n",
    "\n",
    "# random state\n",
    "random_state=100\n",
    "np.random.seed(random_state)\n",
    "\n",
    "# Jupyter notebook settings for pandas\n",
    "#pd.set_option('display.float_format', '{:,.2g}'.format) # numbers sep by comma\n",
    "from pandas.api.types import CategoricalDtype\n",
    "np.set_printoptions(precision=3)\n",
    "pd.set_option('display.max_columns', 100)\n",
    "pd.set_option('display.max_rows', 100) # None for all the rows\n",
    "pd.set_option('display.max_colwidth', 200)\n",
    "\n",
    "import IPython\n",
    "from IPython.display import display, HTML, Image, Markdown\n",
    "\n",
    "print([(x.__name__,x.__version__) for x in [np, pd,sns,matplotlib]])"
   ]
  },
  {
   "cell_type": "code",
   "execution_count": 2,
   "metadata": {
    "ExecuteTime": {
     "end_time": "2019-11-05T00:40:47.760776Z",
     "start_time": "2019-11-05T00:40:47.341485Z"
    }
   },
   "outputs": [],
   "source": [
    "import dask\n",
    "import dask.dataframe as dd\n",
    "import gc"
   ]
  },
  {
   "cell_type": "code",
   "execution_count": 3,
   "metadata": {
    "ExecuteTime": {
     "end_time": "2019-11-05T00:40:47.777904Z",
     "start_time": "2019-11-05T00:40:47.762969Z"
    }
   },
   "outputs": [
    {
     "data": {
      "application/javascript": [
       "IPython.OutputArea.auto_scroll_threshold = 9999;"
      ],
      "text/plain": [
       "<IPython.core.display.Javascript object>"
      ]
     },
     "metadata": {},
     "output_type": "display_data"
    }
   ],
   "source": [
    "%%javascript\n",
    "IPython.OutputArea.auto_scroll_threshold = 9999;"
   ]
  },
  {
   "cell_type": "code",
   "execution_count": 21,
   "metadata": {
    "ExecuteTime": {
     "end_time": "2019-11-05T00:45:09.200085Z",
     "start_time": "2019-11-05T00:45:09.187792Z"
    }
   },
   "outputs": [],
   "source": [
    "from sklearn.ensemble import GradientBoostingRegressor\n",
    "from sklearn.ensemble import AdaBoostRegressor\n",
    "from sklearn.ensemble import BaggingRegressor\n",
    "from sklearn.ensemble import ExtraTreesRegressor"
   ]
  },
  {
   "cell_type": "code",
   "execution_count": 22,
   "metadata": {
    "ExecuteTime": {
     "end_time": "2019-11-05T00:45:18.223261Z",
     "start_time": "2019-11-05T00:45:18.220422Z"
    }
   },
   "outputs": [],
   "source": [
    "from sklearn.metrics import mean_absolute_error, r2_score"
   ]
  },
  {
   "cell_type": "markdown",
   "metadata": {},
   "source": [
    "# Useful Scripts"
   ]
  },
  {
   "cell_type": "code",
   "execution_count": 4,
   "metadata": {
    "ExecuteTime": {
     "end_time": "2019-11-05T00:40:47.794275Z",
     "start_time": "2019-11-05T00:40:47.781378Z"
    }
   },
   "outputs": [],
   "source": [
    "def show_method_attributes(method, ncols=7,start=None):\n",
    "    \"\"\" Show all the attributes of a given method.\n",
    "    Example:\n",
    "    ========\n",
    "    show_method_attributes(list)\n",
    "     \"\"\"\n",
    "    x = [I for I in dir(method) if I[0]!='_' ]\n",
    "    x = [I for I in x \n",
    "         if I not in 'os np pd sys time psycopg2'.split() ]\n",
    "    if start:\n",
    "        x = [I for I in x if I.startswith(start)]\n",
    "\n",
    "    return pd.DataFrame(np.array_split(x,ncols)).T.fillna('')"
   ]
  },
  {
   "cell_type": "markdown",
   "metadata": {},
   "source": [
    "# Load the data"
   ]
  },
  {
   "cell_type": "code",
   "execution_count": 5,
   "metadata": {
    "ExecuteTime": {
     "end_time": "2019-11-05T00:41:06.380251Z",
     "start_time": "2019-11-05T00:40:47.799555Z"
    }
   },
   "outputs": [
    {
     "name": "stdout",
     "output_type": "stream",
     "text": [
      "(5309196, 21)\n"
     ]
    },
    {
     "data": {
      "text/html": [
       "<div>\n",
       "<style scoped>\n",
       "    .dataframe tbody tr th:only-of-type {\n",
       "        vertical-align: middle;\n",
       "    }\n",
       "\n",
       "    .dataframe tbody tr th {\n",
       "        vertical-align: top;\n",
       "    }\n",
       "\n",
       "    .dataframe thead th {\n",
       "        text-align: right;\n",
       "    }\n",
       "</style>\n",
       "<table border=\"1\" class=\"dataframe\">\n",
       "  <thead>\n",
       "    <tr style=\"text-align: right;\">\n",
       "      <th></th>\n",
       "      <th>Page</th>\n",
       "      <th>date</th>\n",
       "      <th>visits</th>\n",
       "      <th>year</th>\n",
       "      <th>month</th>\n",
       "      <th>day</th>\n",
       "      <th>quarter</th>\n",
       "      <th>dayofweek</th>\n",
       "      <th>dayofyear</th>\n",
       "      <th>day_name</th>\n",
       "      <th>month_name</th>\n",
       "      <th>weekend</th>\n",
       "      <th>weekday</th>\n",
       "      <th>mean</th>\n",
       "      <th>median</th>\n",
       "      <th>name</th>\n",
       "      <th>project</th>\n",
       "      <th>access</th>\n",
       "      <th>agent</th>\n",
       "      <th>lang</th>\n",
       "      <th>language</th>\n",
       "    </tr>\n",
       "  </thead>\n",
       "  <tbody>\n",
       "    <tr>\n",
       "      <th>0</th>\n",
       "      <td>Sean_Connery_en.wikipedia.org_desktop_all-agents</td>\n",
       "      <td>2016-01-01</td>\n",
       "      <td>4872</td>\n",
       "      <td>2016</td>\n",
       "      <td>1</td>\n",
       "      <td>1</td>\n",
       "      <td>1</td>\n",
       "      <td>4</td>\n",
       "      <td>1</td>\n",
       "      <td>Friday</td>\n",
       "      <td>January</td>\n",
       "      <td>False</td>\n",
       "      <td>True</td>\n",
       "      <td>3405.661202</td>\n",
       "      <td>2624.0</td>\n",
       "      <td>Sean_Connery</td>\n",
       "      <td>en.wikipedia.org</td>\n",
       "      <td>desktop</td>\n",
       "      <td>all-agents</td>\n",
       "      <td>en</td>\n",
       "      <td>English</td>\n",
       "    </tr>\n",
       "    <tr>\n",
       "      <th>1</th>\n",
       "      <td>Tableau_des_médailles_des_Jeux_olympiques_d'été_de_2008_fr.wikipedia.org_desktop_all-agents</td>\n",
       "      <td>2016-01-01</td>\n",
       "      <td>6</td>\n",
       "      <td>2016</td>\n",
       "      <td>1</td>\n",
       "      <td>1</td>\n",
       "      <td>1</td>\n",
       "      <td>4</td>\n",
       "      <td>1</td>\n",
       "      <td>Friday</td>\n",
       "      <td>January</td>\n",
       "      <td>False</td>\n",
       "      <td>True</td>\n",
       "      <td>170.841530</td>\n",
       "      <td>18.0</td>\n",
       "      <td>Tableau_des_médailles_des_Jeux_olympiques_d'été_de_2008</td>\n",
       "      <td>fr.wikipedia.org</td>\n",
       "      <td>desktop</td>\n",
       "      <td>all-agents</td>\n",
       "      <td>fr</td>\n",
       "      <td>French</td>\n",
       "    </tr>\n",
       "    <tr>\n",
       "      <th>2</th>\n",
       "      <td>The_Undertaker_fr.wikipedia.org_mobile-web_all-agents</td>\n",
       "      <td>2016-01-01</td>\n",
       "      <td>469</td>\n",
       "      <td>2016</td>\n",
       "      <td>1</td>\n",
       "      <td>1</td>\n",
       "      <td>1</td>\n",
       "      <td>4</td>\n",
       "      <td>1</td>\n",
       "      <td>Friday</td>\n",
       "      <td>January</td>\n",
       "      <td>False</td>\n",
       "      <td>True</td>\n",
       "      <td>400.336066</td>\n",
       "      <td>345.5</td>\n",
       "      <td>The_Undertaker</td>\n",
       "      <td>fr.wikipedia.org</td>\n",
       "      <td>mobile-web</td>\n",
       "      <td>all-agents</td>\n",
       "      <td>fr</td>\n",
       "      <td>French</td>\n",
       "    </tr>\n",
       "    <tr>\n",
       "      <th>3</th>\n",
       "      <td>Category:Outdoor_sex_commons.wikimedia.org_all-access_all-agents</td>\n",
       "      <td>2016-01-01</td>\n",
       "      <td>142</td>\n",
       "      <td>2016</td>\n",
       "      <td>1</td>\n",
       "      <td>1</td>\n",
       "      <td>1</td>\n",
       "      <td>4</td>\n",
       "      <td>1</td>\n",
       "      <td>Friday</td>\n",
       "      <td>January</td>\n",
       "      <td>False</td>\n",
       "      <td>True</td>\n",
       "      <td>205.174863</td>\n",
       "      <td>193.0</td>\n",
       "      <td>Category:Outdoor_sex</td>\n",
       "      <td>commons.wikimedia.org</td>\n",
       "      <td>all-access</td>\n",
       "      <td>all-agents</td>\n",
       "      <td>commons</td>\n",
       "      <td>Media</td>\n",
       "    </tr>\n",
       "    <tr>\n",
       "      <th>4</th>\n",
       "      <td>Камызяк_ru.wikipedia.org_all-access_all-agents</td>\n",
       "      <td>2016-01-01</td>\n",
       "      <td>6692</td>\n",
       "      <td>2016</td>\n",
       "      <td>1</td>\n",
       "      <td>1</td>\n",
       "      <td>1</td>\n",
       "      <td>4</td>\n",
       "      <td>1</td>\n",
       "      <td>Friday</td>\n",
       "      <td>January</td>\n",
       "      <td>False</td>\n",
       "      <td>True</td>\n",
       "      <td>912.516393</td>\n",
       "      <td>559.0</td>\n",
       "      <td>Камызяк</td>\n",
       "      <td>ru.wikipedia.org</td>\n",
       "      <td>all-access</td>\n",
       "      <td>all-agents</td>\n",
       "      <td>ru</td>\n",
       "      <td>Russian</td>\n",
       "    </tr>\n",
       "  </tbody>\n",
       "</table>\n",
       "</div>"
      ],
      "text/plain": [
       "                                                                                          Page  \\\n",
       "0                                             Sean_Connery_en.wikipedia.org_desktop_all-agents   \n",
       "1  Tableau_des_médailles_des_Jeux_olympiques_d'été_de_2008_fr.wikipedia.org_desktop_all-agents   \n",
       "2                                        The_Undertaker_fr.wikipedia.org_mobile-web_all-agents   \n",
       "3                             Category:Outdoor_sex_commons.wikimedia.org_all-access_all-agents   \n",
       "4                                               Камызяк_ru.wikipedia.org_all-access_all-agents   \n",
       "\n",
       "        date  visits  year  month  day  quarter  dayofweek  dayofyear  \\\n",
       "0 2016-01-01    4872  2016      1    1        1          4          1   \n",
       "1 2016-01-01       6  2016      1    1        1          4          1   \n",
       "2 2016-01-01     469  2016      1    1        1          4          1   \n",
       "3 2016-01-01     142  2016      1    1        1          4          1   \n",
       "4 2016-01-01    6692  2016      1    1        1          4          1   \n",
       "\n",
       "  day_name month_name  weekend  weekday         mean  median  \\\n",
       "0   Friday    January    False     True  3405.661202  2624.0   \n",
       "1   Friday    January    False     True   170.841530    18.0   \n",
       "2   Friday    January    False     True   400.336066   345.5   \n",
       "3   Friday    January    False     True   205.174863   193.0   \n",
       "4   Friday    January    False     True   912.516393   559.0   \n",
       "\n",
       "                                                      name  \\\n",
       "0                                             Sean_Connery   \n",
       "1  Tableau_des_médailles_des_Jeux_olympiques_d'été_de_2008   \n",
       "2                                           The_Undertaker   \n",
       "3                                     Category:Outdoor_sex   \n",
       "4                                                  Камызяк   \n",
       "\n",
       "                 project      access       agent     lang language  \n",
       "0       en.wikipedia.org     desktop  all-agents       en  English  \n",
       "1       fr.wikipedia.org     desktop  all-agents       fr   French  \n",
       "2       fr.wikipedia.org  mobile-web  all-agents       fr   French  \n",
       "3  commons.wikimedia.org  all-access  all-agents  commons    Media  \n",
       "4       ru.wikipedia.org  all-access  all-agents       ru  Russian  "
      ]
     },
     "execution_count": 5,
     "metadata": {},
     "output_type": "execute_result"
    }
   ],
   "source": [
    "df = pd.read_csv('../../data/wiki/processed/data_cleaned_2016_frac01.csv',\n",
    "                 parse_dates=['date'])\n",
    "\n",
    "print(df.shape) # 5.3 million rows, 21 cols\n",
    "df.head()"
   ]
  },
  {
   "cell_type": "markdown",
   "metadata": {},
   "source": [
    "# Memory Reduction"
   ]
  },
  {
   "cell_type": "code",
   "execution_count": 6,
   "metadata": {
    "ExecuteTime": {
     "end_time": "2019-11-05T00:41:06.415636Z",
     "start_time": "2019-11-05T00:41:06.388730Z"
    }
   },
   "outputs": [
    {
     "data": {
      "text/plain": [
       "Page                  object\n",
       "date          datetime64[ns]\n",
       "visits                 int64\n",
       "year                   int64\n",
       "month                  int64\n",
       "day                    int64\n",
       "quarter                int64\n",
       "dayofweek              int64\n",
       "dayofyear              int64\n",
       "day_name              object\n",
       "month_name            object\n",
       "weekend                 bool\n",
       "weekday                 bool\n",
       "mean                 float64\n",
       "median               float64\n",
       "name                  object\n",
       "project               object\n",
       "access                object\n",
       "agent                 object\n",
       "lang                  object\n",
       "language              object\n",
       "dtype: object"
      ]
     },
     "execution_count": 6,
     "metadata": {},
     "output_type": "execute_result"
    }
   ],
   "source": [
    "df.dtypes"
   ]
  },
  {
   "cell_type": "code",
   "execution_count": 7,
   "metadata": {
    "ExecuteTime": {
     "end_time": "2019-11-05T00:41:28.971728Z",
     "start_time": "2019-11-05T00:41:06.425672Z"
    }
   },
   "outputs": [
    {
     "data": {
      "text/plain": [
       "4069.15316"
      ]
     },
     "execution_count": 7,
     "metadata": {},
     "output_type": "execute_result"
    }
   ],
   "source": [
    "df.memory_usage(deep=True).sum() * 1e-6 # MB"
   ]
  },
  {
   "cell_type": "code",
   "execution_count": 8,
   "metadata": {
    "ExecuteTime": {
     "end_time": "2019-11-05T00:41:29.560586Z",
     "start_time": "2019-11-05T00:41:28.973618Z"
    }
   },
   "outputs": [],
   "source": [
    "# all the year is 2016,drop it.\n",
    "\n",
    "df.drop('year',axis=1,inplace=True)"
   ]
  },
  {
   "cell_type": "code",
   "execution_count": 9,
   "metadata": {
    "ExecuteTime": {
     "end_time": "2019-11-05T00:41:33.185556Z",
     "start_time": "2019-11-05T00:41:29.562716Z"
    }
   },
   "outputs": [],
   "source": [
    "cols_int = ['visits']\n",
    "cols_cat = ['month','day','quarter','day_name','month_name',\n",
    "            'project','access','agent','language']\n",
    "\n",
    "cols_float = ['mean','median']\n",
    "\n",
    "for c in cols_int:\n",
    "    df[c] = df[c].astype(np.int32)\n",
    "    \n",
    "for c in cols_float:\n",
    "    df[c] = df[c].astype(np.float32)\n",
    "    \n",
    "\n",
    "for c in cols_cat:\n",
    "    df[c] = df[c].astype(pd.api.types.CategoricalDtype())"
   ]
  },
  {
   "cell_type": "code",
   "execution_count": 10,
   "metadata": {
    "ExecuteTime": {
     "end_time": "2019-11-05T00:41:40.659426Z",
     "start_time": "2019-11-05T00:41:33.187655Z"
    }
   },
   "outputs": [
    {
     "data": {
      "text/plain": [
       "1777.2233549999999"
      ]
     },
     "execution_count": 10,
     "metadata": {},
     "output_type": "execute_result"
    }
   ],
   "source": [
    "df.memory_usage(deep=True).sum() * 1e-6 # MB"
   ]
  },
  {
   "cell_type": "markdown",
   "metadata": {},
   "source": [
    "# Take Most Visited Page as Timeseries"
   ]
  },
  {
   "cell_type": "code",
   "execution_count": 11,
   "metadata": {
    "ExecuteTime": {
     "end_time": "2019-11-05T00:41:40.696403Z",
     "start_time": "2019-11-05T00:41:40.662556Z"
    }
   },
   "outputs": [
    {
     "data": {
      "text/html": [
       "<div>\n",
       "<style scoped>\n",
       "    .dataframe tbody tr th:only-of-type {\n",
       "        vertical-align: middle;\n",
       "    }\n",
       "\n",
       "    .dataframe tbody tr th {\n",
       "        vertical-align: top;\n",
       "    }\n",
       "\n",
       "    .dataframe thead th {\n",
       "        text-align: right;\n",
       "    }\n",
       "</style>\n",
       "<table border=\"1\" class=\"dataframe\">\n",
       "  <thead>\n",
       "    <tr style=\"text-align: right;\">\n",
       "      <th></th>\n",
       "      <th>Page</th>\n",
       "      <th>date</th>\n",
       "      <th>visits</th>\n",
       "      <th>month</th>\n",
       "      <th>day</th>\n",
       "      <th>quarter</th>\n",
       "      <th>dayofweek</th>\n",
       "      <th>dayofyear</th>\n",
       "      <th>day_name</th>\n",
       "      <th>month_name</th>\n",
       "      <th>weekend</th>\n",
       "      <th>weekday</th>\n",
       "      <th>mean</th>\n",
       "      <th>median</th>\n",
       "      <th>name</th>\n",
       "      <th>project</th>\n",
       "      <th>access</th>\n",
       "      <th>agent</th>\n",
       "      <th>lang</th>\n",
       "      <th>language</th>\n",
       "    </tr>\n",
       "  </thead>\n",
       "  <tbody>\n",
       "    <tr>\n",
       "      <th>0</th>\n",
       "      <td>Sean_Connery_en.wikipedia.org_desktop_all-agents</td>\n",
       "      <td>2016-01-01</td>\n",
       "      <td>4872</td>\n",
       "      <td>1</td>\n",
       "      <td>1</td>\n",
       "      <td>1</td>\n",
       "      <td>4</td>\n",
       "      <td>1</td>\n",
       "      <td>Friday</td>\n",
       "      <td>January</td>\n",
       "      <td>False</td>\n",
       "      <td>True</td>\n",
       "      <td>3405.661133</td>\n",
       "      <td>2624.0</td>\n",
       "      <td>Sean_Connery</td>\n",
       "      <td>en.wikipedia.org</td>\n",
       "      <td>desktop</td>\n",
       "      <td>all-agents</td>\n",
       "      <td>en</td>\n",
       "      <td>English</td>\n",
       "    </tr>\n",
       "    <tr>\n",
       "      <th>1</th>\n",
       "      <td>Tableau_des_médailles_des_Jeux_olympiques_d'été_de_2008_fr.wikipedia.org_desktop_all-agents</td>\n",
       "      <td>2016-01-01</td>\n",
       "      <td>6</td>\n",
       "      <td>1</td>\n",
       "      <td>1</td>\n",
       "      <td>1</td>\n",
       "      <td>4</td>\n",
       "      <td>1</td>\n",
       "      <td>Friday</td>\n",
       "      <td>January</td>\n",
       "      <td>False</td>\n",
       "      <td>True</td>\n",
       "      <td>170.841537</td>\n",
       "      <td>18.0</td>\n",
       "      <td>Tableau_des_médailles_des_Jeux_olympiques_d'été_de_2008</td>\n",
       "      <td>fr.wikipedia.org</td>\n",
       "      <td>desktop</td>\n",
       "      <td>all-agents</td>\n",
       "      <td>fr</td>\n",
       "      <td>French</td>\n",
       "    </tr>\n",
       "    <tr>\n",
       "      <th>2</th>\n",
       "      <td>The_Undertaker_fr.wikipedia.org_mobile-web_all-agents</td>\n",
       "      <td>2016-01-01</td>\n",
       "      <td>469</td>\n",
       "      <td>1</td>\n",
       "      <td>1</td>\n",
       "      <td>1</td>\n",
       "      <td>4</td>\n",
       "      <td>1</td>\n",
       "      <td>Friday</td>\n",
       "      <td>January</td>\n",
       "      <td>False</td>\n",
       "      <td>True</td>\n",
       "      <td>400.336060</td>\n",
       "      <td>345.5</td>\n",
       "      <td>The_Undertaker</td>\n",
       "      <td>fr.wikipedia.org</td>\n",
       "      <td>mobile-web</td>\n",
       "      <td>all-agents</td>\n",
       "      <td>fr</td>\n",
       "      <td>French</td>\n",
       "    </tr>\n",
       "    <tr>\n",
       "      <th>3</th>\n",
       "      <td>Category:Outdoor_sex_commons.wikimedia.org_all-access_all-agents</td>\n",
       "      <td>2016-01-01</td>\n",
       "      <td>142</td>\n",
       "      <td>1</td>\n",
       "      <td>1</td>\n",
       "      <td>1</td>\n",
       "      <td>4</td>\n",
       "      <td>1</td>\n",
       "      <td>Friday</td>\n",
       "      <td>January</td>\n",
       "      <td>False</td>\n",
       "      <td>True</td>\n",
       "      <td>205.174866</td>\n",
       "      <td>193.0</td>\n",
       "      <td>Category:Outdoor_sex</td>\n",
       "      <td>commons.wikimedia.org</td>\n",
       "      <td>all-access</td>\n",
       "      <td>all-agents</td>\n",
       "      <td>commons</td>\n",
       "      <td>Media</td>\n",
       "    </tr>\n",
       "    <tr>\n",
       "      <th>4</th>\n",
       "      <td>Камызяк_ru.wikipedia.org_all-access_all-agents</td>\n",
       "      <td>2016-01-01</td>\n",
       "      <td>6692</td>\n",
       "      <td>1</td>\n",
       "      <td>1</td>\n",
       "      <td>1</td>\n",
       "      <td>4</td>\n",
       "      <td>1</td>\n",
       "      <td>Friday</td>\n",
       "      <td>January</td>\n",
       "      <td>False</td>\n",
       "      <td>True</td>\n",
       "      <td>912.516418</td>\n",
       "      <td>559.0</td>\n",
       "      <td>Камызяк</td>\n",
       "      <td>ru.wikipedia.org</td>\n",
       "      <td>all-access</td>\n",
       "      <td>all-agents</td>\n",
       "      <td>ru</td>\n",
       "      <td>Russian</td>\n",
       "    </tr>\n",
       "  </tbody>\n",
       "</table>\n",
       "</div>"
      ],
      "text/plain": [
       "                                                                                          Page  \\\n",
       "0                                             Sean_Connery_en.wikipedia.org_desktop_all-agents   \n",
       "1  Tableau_des_médailles_des_Jeux_olympiques_d'été_de_2008_fr.wikipedia.org_desktop_all-agents   \n",
       "2                                        The_Undertaker_fr.wikipedia.org_mobile-web_all-agents   \n",
       "3                             Category:Outdoor_sex_commons.wikimedia.org_all-access_all-agents   \n",
       "4                                               Камызяк_ru.wikipedia.org_all-access_all-agents   \n",
       "\n",
       "        date  visits month day quarter  dayofweek  dayofyear day_name  \\\n",
       "0 2016-01-01    4872     1   1       1          4          1   Friday   \n",
       "1 2016-01-01       6     1   1       1          4          1   Friday   \n",
       "2 2016-01-01     469     1   1       1          4          1   Friday   \n",
       "3 2016-01-01     142     1   1       1          4          1   Friday   \n",
       "4 2016-01-01    6692     1   1       1          4          1   Friday   \n",
       "\n",
       "  month_name  weekend  weekday         mean  median  \\\n",
       "0    January    False     True  3405.661133  2624.0   \n",
       "1    January    False     True   170.841537    18.0   \n",
       "2    January    False     True   400.336060   345.5   \n",
       "3    January    False     True   205.174866   193.0   \n",
       "4    January    False     True   912.516418   559.0   \n",
       "\n",
       "                                                      name  \\\n",
       "0                                             Sean_Connery   \n",
       "1  Tableau_des_médailles_des_Jeux_olympiques_d'été_de_2008   \n",
       "2                                           The_Undertaker   \n",
       "3                                     Category:Outdoor_sex   \n",
       "4                                                  Камызяк   \n",
       "\n",
       "                 project      access       agent     lang language  \n",
       "0       en.wikipedia.org     desktop  all-agents       en  English  \n",
       "1       fr.wikipedia.org     desktop  all-agents       fr   French  \n",
       "2       fr.wikipedia.org  mobile-web  all-agents       fr   French  \n",
       "3  commons.wikimedia.org  all-access  all-agents  commons    Media  \n",
       "4       ru.wikipedia.org  all-access  all-agents       ru  Russian  "
      ]
     },
     "execution_count": 11,
     "metadata": {},
     "output_type": "execute_result"
    }
   ],
   "source": [
    "df.head()"
   ]
  },
  {
   "cell_type": "code",
   "execution_count": 12,
   "metadata": {
    "ExecuteTime": {
     "end_time": "2019-11-05T00:41:41.012867Z",
     "start_time": "2019-11-05T00:41:40.698427Z"
    }
   },
   "outputs": [
    {
     "data": {
      "text/html": [
       "<div>\n",
       "<style scoped>\n",
       "    .dataframe tbody tr th:only-of-type {\n",
       "        vertical-align: middle;\n",
       "    }\n",
       "\n",
       "    .dataframe tbody tr th {\n",
       "        vertical-align: top;\n",
       "    }\n",
       "\n",
       "    .dataframe thead th {\n",
       "        text-align: right;\n",
       "    }\n",
       "</style>\n",
       "<table border=\"1\" class=\"dataframe\">\n",
       "  <thead>\n",
       "    <tr style=\"text-align: right;\">\n",
       "      <th></th>\n",
       "      <th></th>\n",
       "      <th>Page</th>\n",
       "      <th>date</th>\n",
       "      <th>visits</th>\n",
       "      <th>month</th>\n",
       "      <th>day</th>\n",
       "      <th>quarter</th>\n",
       "      <th>dayofweek</th>\n",
       "      <th>dayofyear</th>\n",
       "      <th>day_name</th>\n",
       "      <th>month_name</th>\n",
       "      <th>weekend</th>\n",
       "      <th>weekday</th>\n",
       "      <th>mean</th>\n",
       "      <th>median</th>\n",
       "      <th>name</th>\n",
       "      <th>project</th>\n",
       "      <th>access</th>\n",
       "      <th>agent</th>\n",
       "      <th>lang</th>\n",
       "      <th>language</th>\n",
       "    </tr>\n",
       "    <tr>\n",
       "      <th>language</th>\n",
       "      <th></th>\n",
       "      <th></th>\n",
       "      <th></th>\n",
       "      <th></th>\n",
       "      <th></th>\n",
       "      <th></th>\n",
       "      <th></th>\n",
       "      <th></th>\n",
       "      <th></th>\n",
       "      <th></th>\n",
       "      <th></th>\n",
       "      <th></th>\n",
       "      <th></th>\n",
       "      <th></th>\n",
       "      <th></th>\n",
       "      <th></th>\n",
       "      <th></th>\n",
       "      <th></th>\n",
       "      <th></th>\n",
       "      <th></th>\n",
       "      <th></th>\n",
       "    </tr>\n",
       "  </thead>\n",
       "  <tbody>\n",
       "    <tr>\n",
       "      <th>Chinese</th>\n",
       "      <th>3526717</th>\n",
       "      <td>緋彈的亞莉亞角色列表_zh.wikipedia.org_desktop_all-agents</td>\n",
       "      <td>2016-08-31</td>\n",
       "      <td>243557</td>\n",
       "      <td>8</td>\n",
       "      <td>31</td>\n",
       "      <td>3</td>\n",
       "      <td>2</td>\n",
       "      <td>244</td>\n",
       "      <td>Wednesday</td>\n",
       "      <td>August</td>\n",
       "      <td>False</td>\n",
       "      <td>True</td>\n",
       "      <td>8.130765e+02</td>\n",
       "      <td>130.0</td>\n",
       "      <td>緋彈的亞莉亞角色列表</td>\n",
       "      <td>zh.wikipedia.org</td>\n",
       "      <td>desktop</td>\n",
       "      <td>all-agents</td>\n",
       "      <td>zh</td>\n",
       "      <td>Chinese</td>\n",
       "    </tr>\n",
       "    <tr>\n",
       "      <th>English</th>\n",
       "      <th>2714919</th>\n",
       "      <td>Special:Search_en.wikipedia.org_desktop_all-agents</td>\n",
       "      <td>2016-07-06</td>\n",
       "      <td>16592075</td>\n",
       "      <td>7</td>\n",
       "      <td>6</td>\n",
       "      <td>3</td>\n",
       "      <td>2</td>\n",
       "      <td>188</td>\n",
       "      <td>Wednesday</td>\n",
       "      <td>July</td>\n",
       "      <td>False</td>\n",
       "      <td>True</td>\n",
       "      <td>1.845918e+06</td>\n",
       "      <td>1700576.5</td>\n",
       "      <td>Special:Search</td>\n",
       "      <td>en.wikipedia.org</td>\n",
       "      <td>desktop</td>\n",
       "      <td>all-agents</td>\n",
       "      <td>en</td>\n",
       "      <td>English</td>\n",
       "    </tr>\n",
       "    <tr>\n",
       "      <th>French</th>\n",
       "      <th>2163034</th>\n",
       "      <td>Wikipédia:Accueil_principal_fr.wikipedia.org_all-access_all-agents</td>\n",
       "      <td>2016-05-29</td>\n",
       "      <td>1845404</td>\n",
       "      <td>5</td>\n",
       "      <td>29</td>\n",
       "      <td>2</td>\n",
       "      <td>6</td>\n",
       "      <td>150</td>\n",
       "      <td>Sunday</td>\n",
       "      <td>May</td>\n",
       "      <td>True</td>\n",
       "      <td>False</td>\n",
       "      <td>1.588652e+06</td>\n",
       "      <td>1601521.0</td>\n",
       "      <td>Wikipédia:Accueil_principal</td>\n",
       "      <td>fr.wikipedia.org</td>\n",
       "      <td>all-access</td>\n",
       "      <td>all-agents</td>\n",
       "      <td>fr</td>\n",
       "      <td>French</td>\n",
       "    </tr>\n",
       "    <tr>\n",
       "      <th>German</th>\n",
       "      <th>4439792</th>\n",
       "      <td>Gerätestecker_de.wikipedia.org_desktop_all-agents</td>\n",
       "      <td>2016-11-02</td>\n",
       "      <td>558381</td>\n",
       "      <td>11</td>\n",
       "      <td>2</td>\n",
       "      <td>4</td>\n",
       "      <td>2</td>\n",
       "      <td>307</td>\n",
       "      <td>Wednesday</td>\n",
       "      <td>November</td>\n",
       "      <td>False</td>\n",
       "      <td>True</td>\n",
       "      <td>1.870743e+03</td>\n",
       "      <td>398.0</td>\n",
       "      <td>Gerätestecker</td>\n",
       "      <td>de.wikipedia.org</td>\n",
       "      <td>desktop</td>\n",
       "      <td>all-agents</td>\n",
       "      <td>de</td>\n",
       "      <td>German</td>\n",
       "    </tr>\n",
       "    <tr>\n",
       "      <th>Japanese</th>\n",
       "      <th>2724137</th>\n",
       "      <td>デイヴィッド・ロックフェラー_ja.wikipedia.org_all-access_all-agents</td>\n",
       "      <td>2016-07-06</td>\n",
       "      <td>1651272</td>\n",
       "      <td>7</td>\n",
       "      <td>6</td>\n",
       "      <td>3</td>\n",
       "      <td>2</td>\n",
       "      <td>188</td>\n",
       "      <td>Wednesday</td>\n",
       "      <td>July</td>\n",
       "      <td>False</td>\n",
       "      <td>True</td>\n",
       "      <td>8.011582e+03</td>\n",
       "      <td>143.0</td>\n",
       "      <td>デイヴィッド・ロックフェラー</td>\n",
       "      <td>ja.wikipedia.org</td>\n",
       "      <td>all-access</td>\n",
       "      <td>all-agents</td>\n",
       "      <td>ja</td>\n",
       "      <td>Japanese</td>\n",
       "    </tr>\n",
       "    <tr>\n",
       "      <th>Media</th>\n",
       "      <th>1865460</th>\n",
       "      <td>Parsoid/Developer_Setup_www.mediawiki.org_all-access_all-agents</td>\n",
       "      <td>2016-05-08</td>\n",
       "      <td>927825</td>\n",
       "      <td>5</td>\n",
       "      <td>8</td>\n",
       "      <td>2</td>\n",
       "      <td>6</td>\n",
       "      <td>129</td>\n",
       "      <td>Sunday</td>\n",
       "      <td>May</td>\n",
       "      <td>True</td>\n",
       "      <td>False</td>\n",
       "      <td>1.275389e+04</td>\n",
       "      <td>60.0</td>\n",
       "      <td>Parsoid/Developer_Setup</td>\n",
       "      <td>www.mediawiki.org</td>\n",
       "      <td>all-access</td>\n",
       "      <td>all-agents</td>\n",
       "      <td>www</td>\n",
       "      <td>Media</td>\n",
       "    </tr>\n",
       "    <tr>\n",
       "      <th>Russian</th>\n",
       "      <th>4179962</th>\n",
       "      <td>Служебная:Поиск_ru.wikipedia.org_all-access_all-agents</td>\n",
       "      <td>2016-10-15</td>\n",
       "      <td>1412292</td>\n",
       "      <td>10</td>\n",
       "      <td>15</td>\n",
       "      <td>4</td>\n",
       "      <td>5</td>\n",
       "      <td>289</td>\n",
       "      <td>Saturday</td>\n",
       "      <td>October</td>\n",
       "      <td>True</td>\n",
       "      <td>False</td>\n",
       "      <td>1.798119e+05</td>\n",
       "      <td>171580.0</td>\n",
       "      <td>Служебная:Поиск</td>\n",
       "      <td>ru.wikipedia.org</td>\n",
       "      <td>all-access</td>\n",
       "      <td>all-agents</td>\n",
       "      <td>ru</td>\n",
       "      <td>Russian</td>\n",
       "    </tr>\n",
       "    <tr>\n",
       "      <th>Spanish</th>\n",
       "      <th>2376682</th>\n",
       "      <td>Nilo_es.wikipedia.org_desktop_all-agents</td>\n",
       "      <td>2016-06-12</td>\n",
       "      <td>783454</td>\n",
       "      <td>6</td>\n",
       "      <td>12</td>\n",
       "      <td>2</td>\n",
       "      <td>6</td>\n",
       "      <td>164</td>\n",
       "      <td>Sunday</td>\n",
       "      <td>June</td>\n",
       "      <td>True</td>\n",
       "      <td>False</td>\n",
       "      <td>2.780180e+03</td>\n",
       "      <td>628.5</td>\n",
       "      <td>Nilo</td>\n",
       "      <td>es.wikipedia.org</td>\n",
       "      <td>desktop</td>\n",
       "      <td>all-agents</td>\n",
       "      <td>es</td>\n",
       "      <td>Spanish</td>\n",
       "    </tr>\n",
       "  </tbody>\n",
       "</table>\n",
       "</div>"
      ],
      "text/plain": [
       "                                                                                Page  \\\n",
       "language                                                                               \n",
       "Chinese  3526717                      緋彈的亞莉亞角色列表_zh.wikipedia.org_desktop_all-agents   \n",
       "English  2714919                  Special:Search_en.wikipedia.org_desktop_all-agents   \n",
       "French   2163034  Wikipédia:Accueil_principal_fr.wikipedia.org_all-access_all-agents   \n",
       "German   4439792                   Gerätestecker_de.wikipedia.org_desktop_all-agents   \n",
       "Japanese 2724137               デイヴィッド・ロックフェラー_ja.wikipedia.org_all-access_all-agents   \n",
       "Media    1865460     Parsoid/Developer_Setup_www.mediawiki.org_all-access_all-agents   \n",
       "Russian  4179962              Служебная:Поиск_ru.wikipedia.org_all-access_all-agents   \n",
       "Spanish  2376682                            Nilo_es.wikipedia.org_desktop_all-agents   \n",
       "\n",
       "                       date    visits month day quarter  dayofweek  dayofyear  \\\n",
       "language                                                                        \n",
       "Chinese  3526717 2016-08-31    243557     8  31       3          2        244   \n",
       "English  2714919 2016-07-06  16592075     7   6       3          2        188   \n",
       "French   2163034 2016-05-29   1845404     5  29       2          6        150   \n",
       "German   4439792 2016-11-02    558381    11   2       4          2        307   \n",
       "Japanese 2724137 2016-07-06   1651272     7   6       3          2        188   \n",
       "Media    1865460 2016-05-08    927825     5   8       2          6        129   \n",
       "Russian  4179962 2016-10-15   1412292    10  15       4          5        289   \n",
       "Spanish  2376682 2016-06-12    783454     6  12       2          6        164   \n",
       "\n",
       "                   day_name month_name  weekend  weekday          mean  \\\n",
       "language                                                                 \n",
       "Chinese  3526717  Wednesday     August    False     True  8.130765e+02   \n",
       "English  2714919  Wednesday       July    False     True  1.845918e+06   \n",
       "French   2163034     Sunday        May     True    False  1.588652e+06   \n",
       "German   4439792  Wednesday   November    False     True  1.870743e+03   \n",
       "Japanese 2724137  Wednesday       July    False     True  8.011582e+03   \n",
       "Media    1865460     Sunday        May     True    False  1.275389e+04   \n",
       "Russian  4179962   Saturday    October     True    False  1.798119e+05   \n",
       "Spanish  2376682     Sunday       June     True    False  2.780180e+03   \n",
       "\n",
       "                     median                         name            project  \\\n",
       "language                                                                      \n",
       "Chinese  3526717      130.0                   緋彈的亞莉亞角色列表   zh.wikipedia.org   \n",
       "English  2714919  1700576.5               Special:Search   en.wikipedia.org   \n",
       "French   2163034  1601521.0  Wikipédia:Accueil_principal   fr.wikipedia.org   \n",
       "German   4439792      398.0                Gerätestecker   de.wikipedia.org   \n",
       "Japanese 2724137      143.0               デイヴィッド・ロックフェラー   ja.wikipedia.org   \n",
       "Media    1865460       60.0      Parsoid/Developer_Setup  www.mediawiki.org   \n",
       "Russian  4179962   171580.0              Служебная:Поиск   ru.wikipedia.org   \n",
       "Spanish  2376682      628.5                         Nilo   es.wikipedia.org   \n",
       "\n",
       "                      access       agent lang  language  \n",
       "language                                                 \n",
       "Chinese  3526717     desktop  all-agents   zh   Chinese  \n",
       "English  2714919     desktop  all-agents   en   English  \n",
       "French   2163034  all-access  all-agents   fr    French  \n",
       "German   4439792     desktop  all-agents   de    German  \n",
       "Japanese 2724137  all-access  all-agents   ja  Japanese  \n",
       "Media    1865460  all-access  all-agents  www     Media  \n",
       "Russian  4179962  all-access  all-agents   ru   Russian  \n",
       "Spanish  2376682     desktop  all-agents   es   Spanish  "
      ]
     },
     "execution_count": 12,
     "metadata": {},
     "output_type": "execute_result"
    }
   ],
   "source": [
    "# top pages per language\n",
    "df.groupby('language')['visits'].apply(lambda x: df.loc[x.nlargest(1).index])"
   ]
  },
  {
   "cell_type": "code",
   "execution_count": 13,
   "metadata": {
    "ExecuteTime": {
     "end_time": "2019-11-05T00:41:42.316221Z",
     "start_time": "2019-11-05T00:41:41.015344Z"
    }
   },
   "outputs": [
    {
     "data": {
      "text/plain": [
       "'Special:Search_en.wikipedia.org_desktop_all-agents'"
      ]
     },
     "execution_count": 13,
     "metadata": {},
     "output_type": "execute_result"
    }
   ],
   "source": [
    "idx = df.groupby('Page')['visits'].sum().idxmax()\n",
    "idx"
   ]
  },
  {
   "cell_type": "code",
   "execution_count": 14,
   "metadata": {
    "ExecuteTime": {
     "end_time": "2019-11-05T00:41:42.646331Z",
     "start_time": "2019-11-05T00:41:42.321369Z"
    }
   },
   "outputs": [
    {
     "data": {
      "text/html": [
       "<div>\n",
       "<style scoped>\n",
       "    .dataframe tbody tr th:only-of-type {\n",
       "        vertical-align: middle;\n",
       "    }\n",
       "\n",
       "    .dataframe tbody tr th {\n",
       "        vertical-align: top;\n",
       "    }\n",
       "\n",
       "    .dataframe thead th {\n",
       "        text-align: right;\n",
       "    }\n",
       "</style>\n",
       "<table border=\"1\" class=\"dataframe\">\n",
       "  <thead>\n",
       "    <tr style=\"text-align: right;\">\n",
       "      <th></th>\n",
       "      <th>Page</th>\n",
       "      <th>date</th>\n",
       "      <th>visits</th>\n",
       "      <th>month</th>\n",
       "      <th>day</th>\n",
       "      <th>quarter</th>\n",
       "      <th>dayofweek</th>\n",
       "      <th>dayofyear</th>\n",
       "      <th>day_name</th>\n",
       "      <th>month_name</th>\n",
       "      <th>weekend</th>\n",
       "      <th>weekday</th>\n",
       "      <th>mean</th>\n",
       "      <th>median</th>\n",
       "      <th>name</th>\n",
       "      <th>project</th>\n",
       "      <th>access</th>\n",
       "      <th>agent</th>\n",
       "      <th>lang</th>\n",
       "      <th>language</th>\n",
       "    </tr>\n",
       "  </thead>\n",
       "  <tbody>\n",
       "    <tr>\n",
       "      <th>2297</th>\n",
       "      <td>Special:Search_en.wikipedia.org_desktop_all-agents</td>\n",
       "      <td>2016-01-01</td>\n",
       "      <td>1401667</td>\n",
       "      <td>1</td>\n",
       "      <td>1</td>\n",
       "      <td>1</td>\n",
       "      <td>4</td>\n",
       "      <td>1</td>\n",
       "      <td>Friday</td>\n",
       "      <td>January</td>\n",
       "      <td>False</td>\n",
       "      <td>True</td>\n",
       "      <td>1845918.125</td>\n",
       "      <td>1700576.5</td>\n",
       "      <td>Special:Search</td>\n",
       "      <td>en.wikipedia.org</td>\n",
       "      <td>desktop</td>\n",
       "      <td>all-agents</td>\n",
       "      <td>en</td>\n",
       "      <td>English</td>\n",
       "    </tr>\n",
       "    <tr>\n",
       "      <th>16803</th>\n",
       "      <td>Special:Search_en.wikipedia.org_desktop_all-agents</td>\n",
       "      <td>2016-01-02</td>\n",
       "      <td>1395136</td>\n",
       "      <td>1</td>\n",
       "      <td>2</td>\n",
       "      <td>1</td>\n",
       "      <td>5</td>\n",
       "      <td>2</td>\n",
       "      <td>Saturday</td>\n",
       "      <td>January</td>\n",
       "      <td>True</td>\n",
       "      <td>False</td>\n",
       "      <td>1845918.125</td>\n",
       "      <td>1700576.5</td>\n",
       "      <td>Special:Search</td>\n",
       "      <td>en.wikipedia.org</td>\n",
       "      <td>desktop</td>\n",
       "      <td>all-agents</td>\n",
       "      <td>en</td>\n",
       "      <td>English</td>\n",
       "    </tr>\n",
       "    <tr>\n",
       "      <th>31309</th>\n",
       "      <td>Special:Search_en.wikipedia.org_desktop_all-agents</td>\n",
       "      <td>2016-01-03</td>\n",
       "      <td>1455522</td>\n",
       "      <td>1</td>\n",
       "      <td>3</td>\n",
       "      <td>1</td>\n",
       "      <td>6</td>\n",
       "      <td>3</td>\n",
       "      <td>Sunday</td>\n",
       "      <td>January</td>\n",
       "      <td>True</td>\n",
       "      <td>False</td>\n",
       "      <td>1845918.125</td>\n",
       "      <td>1700576.5</td>\n",
       "      <td>Special:Search</td>\n",
       "      <td>en.wikipedia.org</td>\n",
       "      <td>desktop</td>\n",
       "      <td>all-agents</td>\n",
       "      <td>en</td>\n",
       "      <td>English</td>\n",
       "    </tr>\n",
       "    <tr>\n",
       "      <th>45815</th>\n",
       "      <td>Special:Search_en.wikipedia.org_desktop_all-agents</td>\n",
       "      <td>2016-01-04</td>\n",
       "      <td>1750373</td>\n",
       "      <td>1</td>\n",
       "      <td>4</td>\n",
       "      <td>1</td>\n",
       "      <td>0</td>\n",
       "      <td>4</td>\n",
       "      <td>Monday</td>\n",
       "      <td>January</td>\n",
       "      <td>False</td>\n",
       "      <td>True</td>\n",
       "      <td>1845918.125</td>\n",
       "      <td>1700576.5</td>\n",
       "      <td>Special:Search</td>\n",
       "      <td>en.wikipedia.org</td>\n",
       "      <td>desktop</td>\n",
       "      <td>all-agents</td>\n",
       "      <td>en</td>\n",
       "      <td>English</td>\n",
       "    </tr>\n",
       "    <tr>\n",
       "      <th>60321</th>\n",
       "      <td>Special:Search_en.wikipedia.org_desktop_all-agents</td>\n",
       "      <td>2016-01-05</td>\n",
       "      <td>1787494</td>\n",
       "      <td>1</td>\n",
       "      <td>5</td>\n",
       "      <td>1</td>\n",
       "      <td>1</td>\n",
       "      <td>5</td>\n",
       "      <td>Tuesday</td>\n",
       "      <td>January</td>\n",
       "      <td>False</td>\n",
       "      <td>True</td>\n",
       "      <td>1845918.125</td>\n",
       "      <td>1700576.5</td>\n",
       "      <td>Special:Search</td>\n",
       "      <td>en.wikipedia.org</td>\n",
       "      <td>desktop</td>\n",
       "      <td>all-agents</td>\n",
       "      <td>en</td>\n",
       "      <td>English</td>\n",
       "    </tr>\n",
       "  </tbody>\n",
       "</table>\n",
       "</div>"
      ],
      "text/plain": [
       "                                                     Page       date   visits  \\\n",
       "2297   Special:Search_en.wikipedia.org_desktop_all-agents 2016-01-01  1401667   \n",
       "16803  Special:Search_en.wikipedia.org_desktop_all-agents 2016-01-02  1395136   \n",
       "31309  Special:Search_en.wikipedia.org_desktop_all-agents 2016-01-03  1455522   \n",
       "45815  Special:Search_en.wikipedia.org_desktop_all-agents 2016-01-04  1750373   \n",
       "60321  Special:Search_en.wikipedia.org_desktop_all-agents 2016-01-05  1787494   \n",
       "\n",
       "      month day quarter  dayofweek  dayofyear  day_name month_name  weekend  \\\n",
       "2297      1   1       1          4          1    Friday    January    False   \n",
       "16803     1   2       1          5          2  Saturday    January     True   \n",
       "31309     1   3       1          6          3    Sunday    January     True   \n",
       "45815     1   4       1          0          4    Monday    January    False   \n",
       "60321     1   5       1          1          5   Tuesday    January    False   \n",
       "\n",
       "       weekday         mean     median            name           project  \\\n",
       "2297      True  1845918.125  1700576.5  Special:Search  en.wikipedia.org   \n",
       "16803    False  1845918.125  1700576.5  Special:Search  en.wikipedia.org   \n",
       "31309    False  1845918.125  1700576.5  Special:Search  en.wikipedia.org   \n",
       "45815     True  1845918.125  1700576.5  Special:Search  en.wikipedia.org   \n",
       "60321     True  1845918.125  1700576.5  Special:Search  en.wikipedia.org   \n",
       "\n",
       "        access       agent lang language  \n",
       "2297   desktop  all-agents   en  English  \n",
       "16803  desktop  all-agents   en  English  \n",
       "31309  desktop  all-agents   en  English  \n",
       "45815  desktop  all-agents   en  English  \n",
       "60321  desktop  all-agents   en  English  "
      ]
     },
     "execution_count": 14,
     "metadata": {},
     "output_type": "execute_result"
    }
   ],
   "source": [
    "df.query(\"\"\" Page == @idx \"\"\").head()"
   ]
  },
  {
   "cell_type": "code",
   "execution_count": 15,
   "metadata": {
    "ExecuteTime": {
     "end_time": "2019-11-05T00:41:42.659693Z",
     "start_time": "2019-11-05T00:41:42.651933Z"
    }
   },
   "outputs": [
    {
     "data": {
      "text/plain": [
       "Index(['Page', 'date', 'visits', 'month', 'day', 'quarter', 'dayofweek',\n",
       "       'dayofyear', 'day_name', 'month_name', 'weekend', 'weekday', 'mean',\n",
       "       'median', 'name', 'project', 'access', 'agent', 'lang', 'language'],\n",
       "      dtype='object')"
      ]
     },
     "execution_count": 15,
     "metadata": {},
     "output_type": "execute_result"
    }
   ],
   "source": [
    "df.columns"
   ]
  },
  {
   "cell_type": "code",
   "execution_count": 16,
   "metadata": {
    "ExecuteTime": {
     "end_time": "2019-11-05T00:41:42.807740Z",
     "start_time": "2019-11-05T00:41:42.664751Z"
    }
   },
   "outputs": [
    {
     "name": "stdout",
     "output_type": "stream",
     "text": [
      "(366, 6)\n"
     ]
    },
    {
     "data": {
      "text/html": [
       "<div>\n",
       "<style scoped>\n",
       "    .dataframe tbody tr th:only-of-type {\n",
       "        vertical-align: middle;\n",
       "    }\n",
       "\n",
       "    .dataframe tbody tr th {\n",
       "        vertical-align: top;\n",
       "    }\n",
       "\n",
       "    .dataframe thead th {\n",
       "        text-align: right;\n",
       "    }\n",
       "</style>\n",
       "<table border=\"1\" class=\"dataframe\">\n",
       "  <thead>\n",
       "    <tr style=\"text-align: right;\">\n",
       "      <th></th>\n",
       "      <th>visits</th>\n",
       "      <th>month</th>\n",
       "      <th>day</th>\n",
       "      <th>quarter</th>\n",
       "      <th>dayofweek</th>\n",
       "      <th>weekend</th>\n",
       "    </tr>\n",
       "    <tr>\n",
       "      <th>date</th>\n",
       "      <th></th>\n",
       "      <th></th>\n",
       "      <th></th>\n",
       "      <th></th>\n",
       "      <th></th>\n",
       "      <th></th>\n",
       "    </tr>\n",
       "  </thead>\n",
       "  <tbody>\n",
       "    <tr>\n",
       "      <th>2016-01-01</th>\n",
       "      <td>1401667</td>\n",
       "      <td>1</td>\n",
       "      <td>1</td>\n",
       "      <td>1</td>\n",
       "      <td>4</td>\n",
       "      <td>False</td>\n",
       "    </tr>\n",
       "    <tr>\n",
       "      <th>2016-01-02</th>\n",
       "      <td>1395136</td>\n",
       "      <td>1</td>\n",
       "      <td>2</td>\n",
       "      <td>1</td>\n",
       "      <td>5</td>\n",
       "      <td>True</td>\n",
       "    </tr>\n",
       "    <tr>\n",
       "      <th>2016-01-03</th>\n",
       "      <td>1455522</td>\n",
       "      <td>1</td>\n",
       "      <td>3</td>\n",
       "      <td>1</td>\n",
       "      <td>6</td>\n",
       "      <td>True</td>\n",
       "    </tr>\n",
       "    <tr>\n",
       "      <th>2016-01-04</th>\n",
       "      <td>1750373</td>\n",
       "      <td>1</td>\n",
       "      <td>4</td>\n",
       "      <td>1</td>\n",
       "      <td>0</td>\n",
       "      <td>False</td>\n",
       "    </tr>\n",
       "    <tr>\n",
       "      <th>2016-01-05</th>\n",
       "      <td>1787494</td>\n",
       "      <td>1</td>\n",
       "      <td>5</td>\n",
       "      <td>1</td>\n",
       "      <td>1</td>\n",
       "      <td>False</td>\n",
       "    </tr>\n",
       "  </tbody>\n",
       "</table>\n",
       "</div>"
      ],
      "text/plain": [
       "             visits month day quarter  dayofweek  weekend\n",
       "date                                                     \n",
       "2016-01-01  1401667     1   1       1          4    False\n",
       "2016-01-02  1395136     1   2       1          5     True\n",
       "2016-01-03  1455522     1   3       1          6     True\n",
       "2016-01-04  1750373     1   4       1          0    False\n",
       "2016-01-05  1787494     1   5       1          1    False"
      ]
     },
     "execution_count": 16,
     "metadata": {},
     "output_type": "execute_result"
    }
   ],
   "source": [
    "cols_drop = ['Page','day_name', 'month_name',  'weekday',\n",
    "             'mean', 'median','dayofyear',\n",
    "             'name', 'project', 'access', 'agent', 'lang', 'language']\n",
    "\n",
    "data = df.query(\"\"\" Page == @idx \"\"\").drop(cols_drop,1).set_index('date')\n",
    "\n",
    "print(data.shape)\n",
    "data.head()"
   ]
  },
  {
   "cell_type": "markdown",
   "metadata": {},
   "source": [
    "# Add lag columns"
   ]
  },
  {
   "cell_type": "code",
   "execution_count": 17,
   "metadata": {
    "ExecuteTime": {
     "end_time": "2019-11-05T00:41:42.824121Z",
     "start_time": "2019-11-05T00:41:42.811597Z"
    }
   },
   "outputs": [],
   "source": [
    "for lag in range(1,8):\n",
    "    data['lag'+str(lag)] = data['visits'].shift(lag)"
   ]
  },
  {
   "cell_type": "code",
   "execution_count": 18,
   "metadata": {
    "ExecuteTime": {
     "end_time": "2019-11-05T00:41:42.844448Z",
     "start_time": "2019-11-05T00:41:42.826059Z"
    }
   },
   "outputs": [
    {
     "data": {
      "text/html": [
       "<div>\n",
       "<style scoped>\n",
       "    .dataframe tbody tr th:only-of-type {\n",
       "        vertical-align: middle;\n",
       "    }\n",
       "\n",
       "    .dataframe tbody tr th {\n",
       "        vertical-align: top;\n",
       "    }\n",
       "\n",
       "    .dataframe thead th {\n",
       "        text-align: right;\n",
       "    }\n",
       "</style>\n",
       "<table border=\"1\" class=\"dataframe\">\n",
       "  <thead>\n",
       "    <tr style=\"text-align: right;\">\n",
       "      <th></th>\n",
       "      <th>visits</th>\n",
       "      <th>month</th>\n",
       "      <th>day</th>\n",
       "      <th>quarter</th>\n",
       "      <th>dayofweek</th>\n",
       "      <th>weekend</th>\n",
       "      <th>lag1</th>\n",
       "      <th>lag2</th>\n",
       "      <th>lag3</th>\n",
       "      <th>lag4</th>\n",
       "      <th>lag5</th>\n",
       "      <th>lag6</th>\n",
       "      <th>lag7</th>\n",
       "    </tr>\n",
       "    <tr>\n",
       "      <th>date</th>\n",
       "      <th></th>\n",
       "      <th></th>\n",
       "      <th></th>\n",
       "      <th></th>\n",
       "      <th></th>\n",
       "      <th></th>\n",
       "      <th></th>\n",
       "      <th></th>\n",
       "      <th></th>\n",
       "      <th></th>\n",
       "      <th></th>\n",
       "      <th></th>\n",
       "      <th></th>\n",
       "    </tr>\n",
       "  </thead>\n",
       "  <tbody>\n",
       "    <tr>\n",
       "      <th>2016-01-01</th>\n",
       "      <td>1401667</td>\n",
       "      <td>1</td>\n",
       "      <td>1</td>\n",
       "      <td>1</td>\n",
       "      <td>4</td>\n",
       "      <td>False</td>\n",
       "      <td>NaN</td>\n",
       "      <td>NaN</td>\n",
       "      <td>NaN</td>\n",
       "      <td>NaN</td>\n",
       "      <td>NaN</td>\n",
       "      <td>NaN</td>\n",
       "      <td>NaN</td>\n",
       "    </tr>\n",
       "    <tr>\n",
       "      <th>2016-01-02</th>\n",
       "      <td>1395136</td>\n",
       "      <td>1</td>\n",
       "      <td>2</td>\n",
       "      <td>1</td>\n",
       "      <td>5</td>\n",
       "      <td>True</td>\n",
       "      <td>1401667.0</td>\n",
       "      <td>NaN</td>\n",
       "      <td>NaN</td>\n",
       "      <td>NaN</td>\n",
       "      <td>NaN</td>\n",
       "      <td>NaN</td>\n",
       "      <td>NaN</td>\n",
       "    </tr>\n",
       "    <tr>\n",
       "      <th>2016-01-03</th>\n",
       "      <td>1455522</td>\n",
       "      <td>1</td>\n",
       "      <td>3</td>\n",
       "      <td>1</td>\n",
       "      <td>6</td>\n",
       "      <td>True</td>\n",
       "      <td>1395136.0</td>\n",
       "      <td>1401667.0</td>\n",
       "      <td>NaN</td>\n",
       "      <td>NaN</td>\n",
       "      <td>NaN</td>\n",
       "      <td>NaN</td>\n",
       "      <td>NaN</td>\n",
       "    </tr>\n",
       "    <tr>\n",
       "      <th>2016-01-04</th>\n",
       "      <td>1750373</td>\n",
       "      <td>1</td>\n",
       "      <td>4</td>\n",
       "      <td>1</td>\n",
       "      <td>0</td>\n",
       "      <td>False</td>\n",
       "      <td>1455522.0</td>\n",
       "      <td>1395136.0</td>\n",
       "      <td>1401667.0</td>\n",
       "      <td>NaN</td>\n",
       "      <td>NaN</td>\n",
       "      <td>NaN</td>\n",
       "      <td>NaN</td>\n",
       "    </tr>\n",
       "    <tr>\n",
       "      <th>2016-01-05</th>\n",
       "      <td>1787494</td>\n",
       "      <td>1</td>\n",
       "      <td>5</td>\n",
       "      <td>1</td>\n",
       "      <td>1</td>\n",
       "      <td>False</td>\n",
       "      <td>1750373.0</td>\n",
       "      <td>1455522.0</td>\n",
       "      <td>1395136.0</td>\n",
       "      <td>1401667.0</td>\n",
       "      <td>NaN</td>\n",
       "      <td>NaN</td>\n",
       "      <td>NaN</td>\n",
       "    </tr>\n",
       "  </tbody>\n",
       "</table>\n",
       "</div>"
      ],
      "text/plain": [
       "             visits month day quarter  dayofweek  weekend       lag1  \\\n",
       "date                                                                   \n",
       "2016-01-01  1401667     1   1       1          4    False        NaN   \n",
       "2016-01-02  1395136     1   2       1          5     True  1401667.0   \n",
       "2016-01-03  1455522     1   3       1          6     True  1395136.0   \n",
       "2016-01-04  1750373     1   4       1          0    False  1455522.0   \n",
       "2016-01-05  1787494     1   5       1          1    False  1750373.0   \n",
       "\n",
       "                 lag2       lag3       lag4  lag5  lag6  lag7  \n",
       "date                                                           \n",
       "2016-01-01        NaN        NaN        NaN   NaN   NaN   NaN  \n",
       "2016-01-02        NaN        NaN        NaN   NaN   NaN   NaN  \n",
       "2016-01-03  1401667.0        NaN        NaN   NaN   NaN   NaN  \n",
       "2016-01-04  1395136.0  1401667.0        NaN   NaN   NaN   NaN  \n",
       "2016-01-05  1455522.0  1395136.0  1401667.0   NaN   NaN   NaN  "
      ]
     },
     "execution_count": 18,
     "metadata": {},
     "output_type": "execute_result"
    }
   ],
   "source": [
    "data.head()"
   ]
  },
  {
   "cell_type": "code",
   "execution_count": 19,
   "metadata": {
    "ExecuteTime": {
     "end_time": "2019-11-05T00:44:36.464825Z",
     "start_time": "2019-11-05T00:44:36.432378Z"
    }
   },
   "outputs": [
    {
     "data": {
      "text/html": [
       "<div>\n",
       "<style scoped>\n",
       "    .dataframe tbody tr th:only-of-type {\n",
       "        vertical-align: middle;\n",
       "    }\n",
       "\n",
       "    .dataframe tbody tr th {\n",
       "        vertical-align: top;\n",
       "    }\n",
       "\n",
       "    .dataframe thead th {\n",
       "        text-align: right;\n",
       "    }\n",
       "</style>\n",
       "<table border=\"1\" class=\"dataframe\">\n",
       "  <thead>\n",
       "    <tr style=\"text-align: right;\">\n",
       "      <th></th>\n",
       "      <th>visits</th>\n",
       "      <th>month</th>\n",
       "      <th>day</th>\n",
       "      <th>quarter</th>\n",
       "      <th>dayofweek</th>\n",
       "      <th>weekend</th>\n",
       "      <th>lag1</th>\n",
       "      <th>lag2</th>\n",
       "      <th>lag3</th>\n",
       "      <th>lag4</th>\n",
       "      <th>lag5</th>\n",
       "      <th>lag6</th>\n",
       "      <th>lag7</th>\n",
       "    </tr>\n",
       "    <tr>\n",
       "      <th>date</th>\n",
       "      <th></th>\n",
       "      <th></th>\n",
       "      <th></th>\n",
       "      <th></th>\n",
       "      <th></th>\n",
       "      <th></th>\n",
       "      <th></th>\n",
       "      <th></th>\n",
       "      <th></th>\n",
       "      <th></th>\n",
       "      <th></th>\n",
       "      <th></th>\n",
       "      <th></th>\n",
       "    </tr>\n",
       "  </thead>\n",
       "  <tbody>\n",
       "    <tr>\n",
       "      <th>2016-01-08</th>\n",
       "      <td>1804425</td>\n",
       "      <td>1</td>\n",
       "      <td>8</td>\n",
       "      <td>1</td>\n",
       "      <td>4</td>\n",
       "      <td>False</td>\n",
       "      <td>1972186.0</td>\n",
       "      <td>1952324.0</td>\n",
       "      <td>1787494.0</td>\n",
       "      <td>1750373.0</td>\n",
       "      <td>1455522.0</td>\n",
       "      <td>1395136.0</td>\n",
       "      <td>1401667.0</td>\n",
       "    </tr>\n",
       "    <tr>\n",
       "      <th>2016-01-09</th>\n",
       "      <td>1483316</td>\n",
       "      <td>1</td>\n",
       "      <td>9</td>\n",
       "      <td>1</td>\n",
       "      <td>5</td>\n",
       "      <td>True</td>\n",
       "      <td>1804425.0</td>\n",
       "      <td>1972186.0</td>\n",
       "      <td>1952324.0</td>\n",
       "      <td>1787494.0</td>\n",
       "      <td>1750373.0</td>\n",
       "      <td>1455522.0</td>\n",
       "      <td>1395136.0</td>\n",
       "    </tr>\n",
       "    <tr>\n",
       "      <th>2016-01-10</th>\n",
       "      <td>1576497</td>\n",
       "      <td>1</td>\n",
       "      <td>10</td>\n",
       "      <td>1</td>\n",
       "      <td>6</td>\n",
       "      <td>True</td>\n",
       "      <td>1483316.0</td>\n",
       "      <td>1804425.0</td>\n",
       "      <td>1972186.0</td>\n",
       "      <td>1952324.0</td>\n",
       "      <td>1787494.0</td>\n",
       "      <td>1750373.0</td>\n",
       "      <td>1455522.0</td>\n",
       "    </tr>\n",
       "    <tr>\n",
       "      <th>2016-01-11</th>\n",
       "      <td>1959763</td>\n",
       "      <td>1</td>\n",
       "      <td>11</td>\n",
       "      <td>1</td>\n",
       "      <td>0</td>\n",
       "      <td>False</td>\n",
       "      <td>1576497.0</td>\n",
       "      <td>1483316.0</td>\n",
       "      <td>1804425.0</td>\n",
       "      <td>1972186.0</td>\n",
       "      <td>1952324.0</td>\n",
       "      <td>1787494.0</td>\n",
       "      <td>1750373.0</td>\n",
       "    </tr>\n",
       "    <tr>\n",
       "      <th>2016-01-12</th>\n",
       "      <td>1903329</td>\n",
       "      <td>1</td>\n",
       "      <td>12</td>\n",
       "      <td>1</td>\n",
       "      <td>1</td>\n",
       "      <td>False</td>\n",
       "      <td>1959763.0</td>\n",
       "      <td>1576497.0</td>\n",
       "      <td>1483316.0</td>\n",
       "      <td>1804425.0</td>\n",
       "      <td>1972186.0</td>\n",
       "      <td>1952324.0</td>\n",
       "      <td>1787494.0</td>\n",
       "    </tr>\n",
       "  </tbody>\n",
       "</table>\n",
       "</div>"
      ],
      "text/plain": [
       "             visits month day quarter  dayofweek  weekend       lag1  \\\n",
       "date                                                                   \n",
       "2016-01-08  1804425     1   8       1          4    False  1972186.0   \n",
       "2016-01-09  1483316     1   9       1          5     True  1804425.0   \n",
       "2016-01-10  1576497     1  10       1          6     True  1483316.0   \n",
       "2016-01-11  1959763     1  11       1          0    False  1576497.0   \n",
       "2016-01-12  1903329     1  12       1          1    False  1959763.0   \n",
       "\n",
       "                 lag2       lag3       lag4       lag5       lag6       lag7  \n",
       "date                                                                          \n",
       "2016-01-08  1952324.0  1787494.0  1750373.0  1455522.0  1395136.0  1401667.0  \n",
       "2016-01-09  1972186.0  1952324.0  1787494.0  1750373.0  1455522.0  1395136.0  \n",
       "2016-01-10  1804425.0  1972186.0  1952324.0  1787494.0  1750373.0  1455522.0  \n",
       "2016-01-11  1483316.0  1804425.0  1972186.0  1952324.0  1787494.0  1750373.0  \n",
       "2016-01-12  1576497.0  1483316.0  1804425.0  1972186.0  1952324.0  1787494.0  "
      ]
     },
     "execution_count": 19,
     "metadata": {},
     "output_type": "execute_result"
    }
   ],
   "source": [
    "data = data.dropna()\n",
    "data.head()"
   ]
  },
  {
   "cell_type": "markdown",
   "metadata": {},
   "source": [
    "# Add bias term"
   ]
  },
  {
   "cell_type": "code",
   "execution_count": 51,
   "metadata": {
    "ExecuteTime": {
     "end_time": "2019-11-05T01:18:27.951268Z",
     "start_time": "2019-11-05T01:18:27.932562Z"
    }
   },
   "outputs": [
    {
     "data": {
      "text/html": [
       "<div>\n",
       "<style scoped>\n",
       "    .dataframe tbody tr th:only-of-type {\n",
       "        vertical-align: middle;\n",
       "    }\n",
       "\n",
       "    .dataframe tbody tr th {\n",
       "        vertical-align: top;\n",
       "    }\n",
       "\n",
       "    .dataframe thead th {\n",
       "        text-align: right;\n",
       "    }\n",
       "</style>\n",
       "<table border=\"1\" class=\"dataframe\">\n",
       "  <thead>\n",
       "    <tr style=\"text-align: right;\">\n",
       "      <th></th>\n",
       "      <th>visits</th>\n",
       "      <th>month</th>\n",
       "      <th>day</th>\n",
       "      <th>quarter</th>\n",
       "      <th>dayofweek</th>\n",
       "      <th>weekend</th>\n",
       "      <th>lag1</th>\n",
       "      <th>lag2</th>\n",
       "      <th>lag3</th>\n",
       "      <th>lag4</th>\n",
       "      <th>lag5</th>\n",
       "      <th>lag6</th>\n",
       "      <th>lag7</th>\n",
       "      <th>bias</th>\n",
       "    </tr>\n",
       "    <tr>\n",
       "      <th>date</th>\n",
       "      <th></th>\n",
       "      <th></th>\n",
       "      <th></th>\n",
       "      <th></th>\n",
       "      <th></th>\n",
       "      <th></th>\n",
       "      <th></th>\n",
       "      <th></th>\n",
       "      <th></th>\n",
       "      <th></th>\n",
       "      <th></th>\n",
       "      <th></th>\n",
       "      <th></th>\n",
       "      <th></th>\n",
       "    </tr>\n",
       "  </thead>\n",
       "  <tbody>\n",
       "    <tr>\n",
       "      <th>2016-01-08</th>\n",
       "      <td>1804425</td>\n",
       "      <td>1</td>\n",
       "      <td>8</td>\n",
       "      <td>1</td>\n",
       "      <td>4</td>\n",
       "      <td>False</td>\n",
       "      <td>1972186.0</td>\n",
       "      <td>1952324.0</td>\n",
       "      <td>1787494.0</td>\n",
       "      <td>1750373.0</td>\n",
       "      <td>1455522.0</td>\n",
       "      <td>1395136.0</td>\n",
       "      <td>1401667.0</td>\n",
       "      <td>1</td>\n",
       "    </tr>\n",
       "    <tr>\n",
       "      <th>2016-01-09</th>\n",
       "      <td>1483316</td>\n",
       "      <td>1</td>\n",
       "      <td>9</td>\n",
       "      <td>1</td>\n",
       "      <td>5</td>\n",
       "      <td>True</td>\n",
       "      <td>1804425.0</td>\n",
       "      <td>1972186.0</td>\n",
       "      <td>1952324.0</td>\n",
       "      <td>1787494.0</td>\n",
       "      <td>1750373.0</td>\n",
       "      <td>1455522.0</td>\n",
       "      <td>1395136.0</td>\n",
       "      <td>1</td>\n",
       "    </tr>\n",
       "    <tr>\n",
       "      <th>2016-01-10</th>\n",
       "      <td>1576497</td>\n",
       "      <td>1</td>\n",
       "      <td>10</td>\n",
       "      <td>1</td>\n",
       "      <td>6</td>\n",
       "      <td>True</td>\n",
       "      <td>1483316.0</td>\n",
       "      <td>1804425.0</td>\n",
       "      <td>1972186.0</td>\n",
       "      <td>1952324.0</td>\n",
       "      <td>1787494.0</td>\n",
       "      <td>1750373.0</td>\n",
       "      <td>1455522.0</td>\n",
       "      <td>1</td>\n",
       "    </tr>\n",
       "    <tr>\n",
       "      <th>2016-01-11</th>\n",
       "      <td>1959763</td>\n",
       "      <td>1</td>\n",
       "      <td>11</td>\n",
       "      <td>1</td>\n",
       "      <td>0</td>\n",
       "      <td>False</td>\n",
       "      <td>1576497.0</td>\n",
       "      <td>1483316.0</td>\n",
       "      <td>1804425.0</td>\n",
       "      <td>1972186.0</td>\n",
       "      <td>1952324.0</td>\n",
       "      <td>1787494.0</td>\n",
       "      <td>1750373.0</td>\n",
       "      <td>1</td>\n",
       "    </tr>\n",
       "    <tr>\n",
       "      <th>2016-01-12</th>\n",
       "      <td>1903329</td>\n",
       "      <td>1</td>\n",
       "      <td>12</td>\n",
       "      <td>1</td>\n",
       "      <td>1</td>\n",
       "      <td>False</td>\n",
       "      <td>1959763.0</td>\n",
       "      <td>1576497.0</td>\n",
       "      <td>1483316.0</td>\n",
       "      <td>1804425.0</td>\n",
       "      <td>1972186.0</td>\n",
       "      <td>1952324.0</td>\n",
       "      <td>1787494.0</td>\n",
       "      <td>1</td>\n",
       "    </tr>\n",
       "  </tbody>\n",
       "</table>\n",
       "</div>"
      ],
      "text/plain": [
       "             visits month day quarter  dayofweek  weekend       lag1  \\\n",
       "date                                                                   \n",
       "2016-01-08  1804425     1   8       1          4    False  1972186.0   \n",
       "2016-01-09  1483316     1   9       1          5     True  1804425.0   \n",
       "2016-01-10  1576497     1  10       1          6     True  1483316.0   \n",
       "2016-01-11  1959763     1  11       1          0    False  1576497.0   \n",
       "2016-01-12  1903329     1  12       1          1    False  1959763.0   \n",
       "\n",
       "                 lag2       lag3       lag4       lag5       lag6       lag7  \\\n",
       "date                                                                           \n",
       "2016-01-08  1952324.0  1787494.0  1750373.0  1455522.0  1395136.0  1401667.0   \n",
       "2016-01-09  1972186.0  1952324.0  1787494.0  1750373.0  1455522.0  1395136.0   \n",
       "2016-01-10  1804425.0  1972186.0  1952324.0  1787494.0  1750373.0  1455522.0   \n",
       "2016-01-11  1483316.0  1804425.0  1972186.0  1952324.0  1787494.0  1750373.0   \n",
       "2016-01-12  1576497.0  1483316.0  1804425.0  1972186.0  1952324.0  1787494.0   \n",
       "\n",
       "            bias  \n",
       "date              \n",
       "2016-01-08     1  \n",
       "2016-01-09     1  \n",
       "2016-01-10     1  \n",
       "2016-01-11     1  \n",
       "2016-01-12     1  "
      ]
     },
     "execution_count": 51,
     "metadata": {},
     "output_type": "execute_result"
    }
   ],
   "source": [
    "data['bias'] = 1\n",
    "data.head()"
   ]
  },
  {
   "cell_type": "markdown",
   "metadata": {},
   "source": [
    "# Modelling"
   ]
  },
  {
   "cell_type": "markdown",
   "metadata": {},
   "source": [
    "# Train Test split"
   ]
  },
  {
   "cell_type": "code",
   "execution_count": 52,
   "metadata": {
    "ExecuteTime": {
     "end_time": "2019-11-05T01:18:33.986878Z",
     "start_time": "2019-11-05T01:18:33.971801Z"
    }
   },
   "outputs": [
    {
     "data": {
      "text/plain": [
       "(array([      1,       8,       1,       4,       0, 1972186, 1952324,\n",
       "        1787494, 1750373, 1455522, 1395136, 1401667,       1], dtype=int32),\n",
       " array([      9,      15,       3,       3,       0, 1728053, 1814001,\n",
       "        1731404, 1464487, 1408230, 1633931, 1758004,       1], dtype=int32),\n",
       " 1804425,\n",
       " 1729568,\n",
       " 1728053,\n",
       " 1175657)"
      ]
     },
     "execution_count": 52,
     "metadata": {},
     "output_type": "execute_result"
    }
   ],
   "source": [
    "frac = int(len(data)*0.7)\n",
    "\n",
    "Xtrain = data.drop('visits',1).iloc[:frac, :].astype(np.int32).to_numpy()\n",
    "Xtest = data.drop('visits',1).iloc[frac:, :].astype(np.int32).to_numpy()\n",
    "\n",
    "ytrain = data['visits'].iloc[:frac].to_numpy()\n",
    "ytest = data['visits'].iloc[frac:].to_numpy()\n",
    "\n",
    "Xtrain[0], Xtest[0], ytrain[0], ytest[0],ytrain[-1],ytest[-1]"
   ]
  },
  {
   "cell_type": "code",
   "execution_count": 53,
   "metadata": {
    "ExecuteTime": {
     "end_time": "2019-11-05T01:18:36.540454Z",
     "start_time": "2019-11-05T01:18:36.524430Z"
    }
   },
   "outputs": [
    {
     "data": {
      "text/html": [
       "<div>\n",
       "<style scoped>\n",
       "    .dataframe tbody tr th:only-of-type {\n",
       "        vertical-align: middle;\n",
       "    }\n",
       "\n",
       "    .dataframe tbody tr th {\n",
       "        vertical-align: top;\n",
       "    }\n",
       "\n",
       "    .dataframe thead th {\n",
       "        text-align: right;\n",
       "    }\n",
       "</style>\n",
       "<table border=\"1\" class=\"dataframe\">\n",
       "  <thead>\n",
       "    <tr style=\"text-align: right;\">\n",
       "      <th></th>\n",
       "      <th>visits</th>\n",
       "      <th>month</th>\n",
       "      <th>day</th>\n",
       "      <th>quarter</th>\n",
       "      <th>dayofweek</th>\n",
       "      <th>weekend</th>\n",
       "      <th>lag1</th>\n",
       "      <th>lag2</th>\n",
       "      <th>lag3</th>\n",
       "      <th>lag4</th>\n",
       "      <th>lag5</th>\n",
       "      <th>lag6</th>\n",
       "      <th>lag7</th>\n",
       "      <th>bias</th>\n",
       "    </tr>\n",
       "    <tr>\n",
       "      <th>date</th>\n",
       "      <th></th>\n",
       "      <th></th>\n",
       "      <th></th>\n",
       "      <th></th>\n",
       "      <th></th>\n",
       "      <th></th>\n",
       "      <th></th>\n",
       "      <th></th>\n",
       "      <th></th>\n",
       "      <th></th>\n",
       "      <th></th>\n",
       "      <th></th>\n",
       "      <th></th>\n",
       "      <th></th>\n",
       "    </tr>\n",
       "  </thead>\n",
       "  <tbody>\n",
       "    <tr>\n",
       "      <th>2016-01-08</th>\n",
       "      <td>1804425</td>\n",
       "      <td>1</td>\n",
       "      <td>8</td>\n",
       "      <td>1</td>\n",
       "      <td>4</td>\n",
       "      <td>False</td>\n",
       "      <td>1972186.0</td>\n",
       "      <td>1952324.0</td>\n",
       "      <td>1787494.0</td>\n",
       "      <td>1750373.0</td>\n",
       "      <td>1455522.0</td>\n",
       "      <td>1395136.0</td>\n",
       "      <td>1401667.0</td>\n",
       "      <td>1</td>\n",
       "    </tr>\n",
       "    <tr>\n",
       "      <th>2016-09-15</th>\n",
       "      <td>1729568</td>\n",
       "      <td>9</td>\n",
       "      <td>15</td>\n",
       "      <td>3</td>\n",
       "      <td>3</td>\n",
       "      <td>False</td>\n",
       "      <td>1728053.0</td>\n",
       "      <td>1814001.0</td>\n",
       "      <td>1731404.0</td>\n",
       "      <td>1464487.0</td>\n",
       "      <td>1408230.0</td>\n",
       "      <td>1633931.0</td>\n",
       "      <td>1758004.0</td>\n",
       "      <td>1</td>\n",
       "    </tr>\n",
       "    <tr>\n",
       "      <th>2016-09-16</th>\n",
       "      <td>1653645</td>\n",
       "      <td>9</td>\n",
       "      <td>16</td>\n",
       "      <td>3</td>\n",
       "      <td>4</td>\n",
       "      <td>False</td>\n",
       "      <td>1729568.0</td>\n",
       "      <td>1728053.0</td>\n",
       "      <td>1814001.0</td>\n",
       "      <td>1731404.0</td>\n",
       "      <td>1464487.0</td>\n",
       "      <td>1408230.0</td>\n",
       "      <td>1633931.0</td>\n",
       "      <td>1</td>\n",
       "    </tr>\n",
       "    <tr>\n",
       "      <th>2016-12-31</th>\n",
       "      <td>1175657</td>\n",
       "      <td>12</td>\n",
       "      <td>31</td>\n",
       "      <td>4</td>\n",
       "      <td>5</td>\n",
       "      <td>True</td>\n",
       "      <td>1397331.0</td>\n",
       "      <td>1455447.0</td>\n",
       "      <td>1399599.0</td>\n",
       "      <td>1481319.0</td>\n",
       "      <td>1358883.0</td>\n",
       "      <td>1030746.0</td>\n",
       "      <td>1088418.0</td>\n",
       "      <td>1</td>\n",
       "    </tr>\n",
       "  </tbody>\n",
       "</table>\n",
       "</div>"
      ],
      "text/plain": [
       "             visits month day quarter  dayofweek  weekend       lag1  \\\n",
       "date                                                                   \n",
       "2016-01-08  1804425     1   8       1          4    False  1972186.0   \n",
       "2016-09-15  1729568     9  15       3          3    False  1728053.0   \n",
       "2016-09-16  1653645     9  16       3          4    False  1729568.0   \n",
       "2016-12-31  1175657    12  31       4          5     True  1397331.0   \n",
       "\n",
       "                 lag2       lag3       lag4       lag5       lag6       lag7  \\\n",
       "date                                                                           \n",
       "2016-01-08  1952324.0  1787494.0  1750373.0  1455522.0  1395136.0  1401667.0   \n",
       "2016-09-15  1814001.0  1731404.0  1464487.0  1408230.0  1633931.0  1758004.0   \n",
       "2016-09-16  1728053.0  1814001.0  1731404.0  1464487.0  1408230.0  1633931.0   \n",
       "2016-12-31  1455447.0  1399599.0  1481319.0  1358883.0  1030746.0  1088418.0   \n",
       "\n",
       "            bias  \n",
       "date              \n",
       "2016-01-08     1  \n",
       "2016-09-15     1  \n",
       "2016-09-16     1  \n",
       "2016-12-31     1  "
      ]
     },
     "execution_count": 53,
     "metadata": {},
     "output_type": "execute_result"
    }
   ],
   "source": [
    "data.iloc[[0,frac,frac+1,-1],:]"
   ]
  },
  {
   "cell_type": "markdown",
   "metadata": {},
   "source": []
  },
  {
   "cell_type": "code",
   "execution_count": null,
   "metadata": {},
   "outputs": [],
   "source": [
    "ts = data['visits']"
   ]
  },
  {
   "cell_type": "code",
   "execution_count": null,
   "metadata": {},
   "outputs": [],
   "source": []
  },
  {
   "cell_type": "code",
   "execution_count": null,
   "metadata": {},
   "outputs": [],
   "source": []
  },
  {
   "cell_type": "markdown",
   "metadata": {},
   "source": [
    "## Modelling: Ensemble Regressors"
   ]
  },
  {
   "cell_type": "code",
   "execution_count": 54,
   "metadata": {
    "ExecuteTime": {
     "end_time": "2019-11-05T01:18:38.166182Z",
     "start_time": "2019-11-05T01:18:38.162873Z"
    }
   },
   "outputs": [],
   "source": [
    "from sklearn.ensemble import AdaBoostRegressor\n",
    "from sklearn.ensemble import BaggingRegressor\n",
    "from sklearn.ensemble import ExtraTreesRegressor\n",
    "from sklearn.ensemble import GradientBoostingRegressor"
   ]
  },
  {
   "cell_type": "code",
   "execution_count": 55,
   "metadata": {
    "ExecuteTime": {
     "end_time": "2019-11-05T01:18:38.863745Z",
     "start_time": "2019-11-05T01:18:38.859821Z"
    }
   },
   "outputs": [],
   "source": [
    "reg =AdaBoostRegressor(n_estimators = 5000, random_state = random_state, learning_rate=0.01)"
   ]
  },
  {
   "cell_type": "code",
   "execution_count": 56,
   "metadata": {
    "ExecuteTime": {
     "end_time": "2019-11-05T01:18:41.911273Z",
     "start_time": "2019-11-05T01:18:40.804492Z"
    }
   },
   "outputs": [
    {
     "data": {
      "text/plain": [
       "AdaBoostRegressor(base_estimator=None, learning_rate=0.01, loss='linear',\n",
       "                  n_estimators=5000, random_state=100)"
      ]
     },
     "execution_count": 56,
     "metadata": {},
     "output_type": "execute_result"
    }
   ],
   "source": [
    "reg.fit(Xtrain,ytrain)"
   ]
  },
  {
   "cell_type": "code",
   "execution_count": 57,
   "metadata": {
    "ExecuteTime": {
     "end_time": "2019-11-05T01:18:43.736700Z",
     "start_time": "2019-11-05T01:18:43.660350Z"
    }
   },
   "outputs": [],
   "source": [
    "ypreds = reg.predict(Xtest)"
   ]
  },
  {
   "cell_type": "code",
   "execution_count": 58,
   "metadata": {
    "ExecuteTime": {
     "end_time": "2019-11-05T01:18:44.457109Z",
     "start_time": "2019-11-05T01:18:44.452016Z"
    }
   },
   "outputs": [
    {
     "data": {
      "text/plain": [
       "array([1745540.32 , 1716665.386, 1660556.582, 1657822.064, 1832404.09 ])"
      ]
     },
     "execution_count": 58,
     "metadata": {},
     "output_type": "execute_result"
    }
   ],
   "source": [
    "ypreds[:5]"
   ]
  },
  {
   "cell_type": "code",
   "execution_count": 59,
   "metadata": {
    "ExecuteTime": {
     "end_time": "2019-11-05T01:18:45.200191Z",
     "start_time": "2019-11-05T01:18:45.195788Z"
    }
   },
   "outputs": [],
   "source": [
    "r2 = r2_score(ytest, ypreds)"
   ]
  },
  {
   "cell_type": "code",
   "execution_count": 60,
   "metadata": {
    "ExecuteTime": {
     "end_time": "2019-11-05T01:18:46.946373Z",
     "start_time": "2019-11-05T01:18:46.940965Z"
    }
   },
   "outputs": [
    {
     "data": {
      "text/plain": [
       "-0.17162008952590346"
      ]
     },
     "execution_count": 60,
     "metadata": {},
     "output_type": "execute_result"
    }
   ],
   "source": [
    "r2"
   ]
  },
  {
   "cell_type": "code",
   "execution_count": 44,
   "metadata": {
    "ExecuteTime": {
     "end_time": "2019-11-05T01:11:45.581736Z",
     "start_time": "2019-11-05T01:11:45.576884Z"
    }
   },
   "outputs": [
    {
     "data": {
      "text/plain": [
       "(108,)"
      ]
     },
     "execution_count": 44,
     "metadata": {},
     "output_type": "execute_result"
    }
   ],
   "source": [
    "ypreds.shape"
   ]
  },
  {
   "cell_type": "code",
   "execution_count": 45,
   "metadata": {
    "ExecuteTime": {
     "end_time": "2019-11-05T01:12:00.083596Z",
     "start_time": "2019-11-05T01:12:00.076596Z"
    }
   },
   "outputs": [
    {
     "data": {
      "text/plain": [
       "(108,)"
      ]
     },
     "execution_count": 45,
     "metadata": {},
     "output_type": "execute_result"
    }
   ],
   "source": [
    "ytest.shape"
   ]
  },
  {
   "cell_type": "code",
   "execution_count": null,
   "metadata": {},
   "outputs": [],
   "source": []
  }
 ],
 "metadata": {
  "kernelspec": {
   "display_name": "Python (dataSc)",
   "language": "python",
   "name": "datasc"
  },
  "language_info": {
   "codemirror_mode": {
    "name": "ipython",
    "version": 3
   },
   "file_extension": ".py",
   "mimetype": "text/x-python",
   "name": "python",
   "nbconvert_exporter": "python",
   "pygments_lexer": "ipython3",
   "version": "3.7.3"
  },
  "toc": {
   "base_numbering": 1,
   "nav_menu": {},
   "number_sections": true,
   "sideBar": true,
   "skip_h1_title": false,
   "title_cell": "Table of Contents",
   "title_sidebar": "Contents",
   "toc_cell": true,
   "toc_position": {},
   "toc_section_display": true,
   "toc_window_display": true
  }
 },
 "nbformat": 4,
 "nbformat_minor": 2
}
